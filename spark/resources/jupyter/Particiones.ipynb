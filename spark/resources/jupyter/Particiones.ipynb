{
 "cells": [
  {
   "cell_type": "code",
   "execution_count": 1,
   "id": "8794420f-a6c0-4fd0-8d3d-697400f2119c",
   "metadata": {},
   "outputs": [],
   "source": [
    "from pyspark.sql import SparkSession\n",
    "\n",
    "spark = SparkSession.builder.getOrCreate() # SparkSession de forma programativa\n",
    "sc = spark.sparkContext                    # SparkContext a partir de la sesión"
   ]
  },
  {
   "cell_type": "code",
   "execution_count": 4,
   "id": "8359ba17-7e12-4be2-9e93-3fb0e80b0a3a",
   "metadata": {},
   "outputs": [
    {
     "data": {
      "text/plain": [
       "4"
      ]
     },
     "execution_count": 4,
     "metadata": {},
     "output_type": "execute_result"
    }
   ],
   "source": [
    "rdd1 = sc.parallelize([1,1,2,2,3,3,4,5])\n",
    "rdd1.getNumPartitions()"
   ]
  },
  {
   "cell_type": "code",
   "execution_count": 5,
   "id": "8047a4de-c632-478b-9272-cae98915693d",
   "metadata": {},
   "outputs": [
    {
     "data": {
      "text/plain": [
       "2"
      ]
     },
     "execution_count": 5,
     "metadata": {},
     "output_type": "execute_result"
    }
   ],
   "source": [
    "rdd1 = sc.parallelize([1,1,2,2,3,3,4,5], 2)\n",
    "rdd1.getNumPartitions()"
   ]
  },
  {
   "cell_type": "code",
   "execution_count": 6,
   "id": "f6b98972-09da-4dbb-83fc-2a1f6603829f",
   "metadata": {},
   "outputs": [
    {
     "data": {
      "text/plain": [
       "2"
      ]
     },
     "execution_count": 6,
     "metadata": {},
     "output_type": "execute_result"
    }
   ],
   "source": [
    "rddE = sc.textFile(\"empleados.txt\")\n",
    "rddE.getNumPartitions()"
   ]
  },
  {
   "cell_type": "code",
   "execution_count": 7,
   "id": "6f5bc244-60f3-41cd-afb4-3d9b5a958117",
   "metadata": {},
   "outputs": [
    {
     "data": {
      "text/plain": [
       "3"
      ]
     },
     "execution_count": 7,
     "metadata": {},
     "output_type": "execute_result"
    }
   ],
   "source": [
    "rddE = sc.textFile(\"empleados.txt\", 3)\n",
    "rddE.getNumPartitions()"
   ]
  },
  {
   "cell_type": "code",
   "execution_count": 9,
   "id": "902bbce3-a755-4324-be10-bfe153163e79",
   "metadata": {},
   "outputs": [
    {
     "data": {
      "text/plain": [
       "[6, 15]"
      ]
     },
     "execution_count": 9,
     "metadata": {},
     "output_type": "execute_result"
    }
   ],
   "source": [
    "rdd = sc.parallelize([1,1,2,2,3,3,4,5], 2)\n",
    "def f(iterator): yield sum(iterator)\n",
    "resultadoRdd = rdd.mapPartitions(f)\n",
    "resultadoRdd.collect()"
   ]
  },
  {
   "cell_type": "code",
   "execution_count": 19,
   "id": "0dab13dd-6320-4799-8938-08f8eb33fed3",
   "metadata": {},
   "outputs": [],
   "source": [
    "resultadoRdd2 = rdd.mapPartitions(lambda iterator: [item for item in iterator])"
   ]
  },
  {
   "cell_type": "code",
   "execution_count": 20,
   "id": "f1cc36cf-9d28-4d5d-9b97-9fd6780b49c8",
   "metadata": {},
   "outputs": [
    {
     "data": {
      "text/plain": [
       "[1, 1, 2, 2, 3, 3, 4, 5]"
      ]
     },
     "execution_count": 20,
     "metadata": {},
     "output_type": "execute_result"
    }
   ],
   "source": [
    "resultadoRdd2.collect()"
   ]
  },
  {
   "cell_type": "code",
   "execution_count": 28,
   "id": "871e0148-f8bd-4256-b757-c9796a7a1ff0",
   "metadata": {},
   "outputs": [
    {
     "data": {
      "text/plain": [
       "[[1, 1, 2, 2], [3, 3, 4, 5]]"
      ]
     },
     "execution_count": 28,
     "metadata": {},
     "output_type": "execute_result"
    }
   ],
   "source": [
    "resultadoRdd2 = rdd.mapPartitions(lambda iterator: [list(iterator)])\n",
    "resultadoRdd2.collect()"
   ]
  },
  {
   "cell_type": "code",
   "execution_count": 22,
   "id": "8f138db4-9fc0-4470-96fa-44db8074d9cf",
   "metadata": {},
   "outputs": [
    {
     "data": {
      "text/plain": [
       "[1, 1, 2, 2, 3, 3, 4, 5]"
      ]
     },
     "execution_count": 22,
     "metadata": {},
     "output_type": "execute_result"
    }
   ],
   "source": [
    "resultadoRdd2 = rdd.mapPartitions(lambda iterator: [*iterator])\n",
    "resultadoRdd2.collect()"
   ]
  },
  {
   "cell_type": "code",
   "execution_count": 35,
   "id": "d634c123-1efb-49c5-a5c7-d9ef72e6f79e",
   "metadata": {},
   "outputs": [
    {
     "data": {
      "text/plain": [
       "[(0, [1, 1, 2, 2]), (1, [3, 3, 4, 5])]"
      ]
     },
     "execution_count": 35,
     "metadata": {},
     "output_type": "execute_result"
    }
   ],
   "source": [
    "def mpwi(indice, iterador):\n",
    "    return [(indice, list(iterador))]\n",
    "\n",
    "resultadoRdd = rdd.mapPartitionsWithIndex(mpwi)\n",
    "resultadoRdd.collect()"
   ]
  },
  {
   "cell_type": "code",
   "execution_count": 37,
   "id": "db358630-35f3-4e6c-bb01-8c40a57fa46f",
   "metadata": {},
   "outputs": [
    {
     "data": {
      "text/plain": [
       "3"
      ]
     },
     "execution_count": 37,
     "metadata": {},
     "output_type": "execute_result"
    }
   ],
   "source": [
    "rdd = sc.parallelize([1,1,2,2,3,3,4,5], 3)\n",
    "rdd.getNumPartitions() # 3"
   ]
  },
  {
   "cell_type": "code",
   "execution_count": 40,
   "id": "f79b7b02-a26a-428a-bd19-a557b3293815",
   "metadata": {},
   "outputs": [
    {
     "data": {
      "text/plain": [
       "1"
      ]
     },
     "execution_count": 40,
     "metadata": {},
     "output_type": "execute_result"
    }
   ],
   "source": [
    "rdd1p = rdd.coalesce(1)\n",
    "rdd1p.getNumPartitions() # 2"
   ]
  },
  {
   "cell_type": "code",
   "execution_count": null,
   "id": "acdedf48-f465-425e-ad36-dc9971865fc6",
   "metadata": {},
   "outputs": [],
   "source": []
  }
 ],
 "metadata": {
  "kernelspec": {
   "display_name": "Python 3 (ipykernel)",
   "language": "python",
   "name": "python3"
  },
  "language_info": {
   "codemirror_mode": {
    "name": "ipython",
    "version": 3
   },
   "file_extension": ".py",
   "mimetype": "text/x-python",
   "name": "python",
   "nbconvert_exporter": "python",
   "pygments_lexer": "ipython3",
   "version": "3.8.8"
  }
 },
 "nbformat": 4,
 "nbformat_minor": 5
}
