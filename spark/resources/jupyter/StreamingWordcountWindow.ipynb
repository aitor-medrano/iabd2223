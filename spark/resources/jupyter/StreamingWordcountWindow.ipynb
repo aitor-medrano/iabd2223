{
 "cells": [
  {
   "cell_type": "code",
   "execution_count": 1,
   "id": "00b3eb4a-07b0-4524-a6ca-686ab45c44e3",
   "metadata": {},
   "outputs": [],
   "source": [
    "from pyspark.sql import SparkSession\n",
    "spark = SparkSession \\\n",
    "        .builder \\\n",
    "        .appName(\"Streaming WordCount\") \\\n",
    "        .master(\"local[3]\") \\\n",
    "        .config(\"spark.streaming.stopGracefullyOnShutdown\", \"true\") \\\n",
    "        .config(\"spark.sql.shuffle.partitions\", 3) \\\n",
    "        .getOrCreate()"
   ]
  },
  {
   "cell_type": "code",
   "execution_count": 2,
   "id": "8384b007-3123-45b3-874c-ad9d559008ed",
   "metadata": {},
   "outputs": [
    {
     "data": {
      "text/html": [
       "\n",
       "            <div>\n",
       "                <p><b>SparkSession - hive</b></p>\n",
       "                \n",
       "        <div>\n",
       "            <p><b>SparkContext</b></p>\n",
       "\n",
       "            <p><a href=\"http://10.122.1.251:4040\">Spark UI</a></p>\n",
       "\n",
       "            <dl>\n",
       "              <dt>Version</dt>\n",
       "                <dd><code>v3.2.1</code></dd>\n",
       "              <dt>Master</dt>\n",
       "                <dd><code>local[*]</code></dd>\n",
       "              <dt>AppName</dt>\n",
       "                <dd><code>PySparkShell</code></dd>\n",
       "            </dl>\n",
       "        </div>\n",
       "        \n",
       "            </div>\n",
       "        "
      ],
      "text/plain": [
       "<pyspark.sql.session.SparkSession at 0x11812d880>"
      ]
     },
     "execution_count": 2,
     "metadata": {},
     "output_type": "execute_result"
    }
   ],
   "source": [
    "spark"
   ]
  },
  {
   "cell_type": "code",
   "execution_count": 3,
   "id": "66013c70-17b0-4884-af52-fd5fba1dda04",
   "metadata": {},
   "outputs": [
    {
     "name": "stderr",
     "output_type": "stream",
     "text": [
      "22/05/05 17:56:53 WARN TextSocketSourceProvider: The socket source should not be used for production applications! It does not support recovery.\n"
     ]
    }
   ],
   "source": [
    "# Creamos un flujo de escucha sobre netcat en localhost:9999\n",
    "lines_df = spark.readStream \\\n",
    "        .format(\"socket\") \\\n",
    "        .option(\"host\", \"localhost\") \\\n",
    "        .option(\"port\", \"9999\") \\\n",
    "        .option('includeTimestamp', 'true')\\\n",
    "        .load()"
   ]
  },
  {
   "cell_type": "code",
   "execution_count": 4,
   "id": "028234b5-eb0d-4fb2-9fa3-49a4c3a094b0",
   "metadata": {},
   "outputs": [],
   "source": [
    "# leemos las lineas y las pasamos a palabras, y para cada palabra, le añadimos su timestamp\n",
    "from pyspark.sql.functions import explode, split\n",
    "words_df = lines_df.select(\n",
    "    explode(split(lines_df.value, ' ')).alias('palabra'),\n",
    "    lines_df.timestamp)"
   ]
  },
  {
   "cell_type": "code",
   "execution_count": 5,
   "id": "88bd488d",
   "metadata": {},
   "outputs": [],
   "source": [
    "from pyspark.sql.functions import window\n",
    "windowedCounts = words_df.groupBy(\n",
    "    window(words_df.timestamp, \"2 minutes\", \"1 minute\"), words_df.palabra\n",
    ").count().orderBy('window')"
   ]
  },
  {
   "cell_type": "code",
   "execution_count": 6,
   "id": "c5e659cc-54d8-47b0-a47f-43e37f356ab2",
   "metadata": {},
   "outputs": [
    {
     "name": "stderr",
     "output_type": "stream",
     "text": [
      "22/05/05 17:57:00 WARN ResolveWriteToStream: Temporary checkpoint location created which is deleted normally when the query didn't fail: /private/var/folders/p3/9_2bsgf50ps_4hf29pt9bbc80000gn/T/temporary-1d40fad4-b664-4954-ac55-b9e64e1abb83. If it's required to delete it under any circumstances, please set spark.sql.streaming.forceDeleteTempCheckpointLocation to true. Important to know deleting temp checkpoint folder is best effort.\n",
      "22/05/05 17:57:00 WARN ResolveWriteToStream: spark.sql.adaptive.enabled is not supported in streaming DataFrames/Datasets and will be disabled.\n"
     ]
    }
   ],
   "source": [
    "word_count_query = windowedCounts.writeStream \\\n",
    "        .format(\"console\") \\\n",
    "        .outputMode(\"complete\") \\\n",
    "        .option('truncate', 'false')\\\n",
    "        .start()"
   ]
  },
  {
   "cell_type": "code",
   "execution_count": null,
   "id": "89262a16-841f-4c95-95a9-97e89244b7de",
   "metadata": {},
   "outputs": [
    {
     "name": "stderr",
     "output_type": "stream",
     "text": [
      "                                                                                \r"
     ]
    },
    {
     "name": "stdout",
     "output_type": "stream",
     "text": [
      "-------------------------------------------\n",
      "Batch: 0\n",
      "-------------------------------------------\n",
      "+------+-------+-----+\n",
      "|window|palabra|count|\n",
      "+------+-------+-----+\n",
      "+------+-------+-----+\n",
      "\n",
      "-------------------------------------------\n",
      "Batch: 1\n",
      "-------------------------------------------\n",
      "+------------------------------------------+-------+-----+\n",
      "|window                                    |palabra|count|\n",
      "+------------------------------------------+-------+-----+\n",
      "|{2022-05-05 17:56:00, 2022-05-05 17:58:00}|Mundo  |1    |\n",
      "|{2022-05-05 17:56:00, 2022-05-05 17:58:00}|Hola   |1    |\n",
      "|{2022-05-05 17:57:00, 2022-05-05 17:59:00}|Hola   |1    |\n",
      "|{2022-05-05 17:57:00, 2022-05-05 17:59:00}|Mundo  |1    |\n",
      "+------------------------------------------+-------+-----+\n",
      "\n",
      "-------------------------------------------\n",
      "Batch: 2\n",
      "-------------------------------------------\n",
      "+------------------------------------------+-------+-----+\n",
      "|window                                    |palabra|count|\n",
      "+------------------------------------------+-------+-----+\n",
      "|{2022-05-05 17:56:00, 2022-05-05 17:58:00}|Ochoa  |1    |\n",
      "|{2022-05-05 17:56:00, 2022-05-05 17:58:00}|Severo |1    |\n",
      "|{2022-05-05 17:56:00, 2022-05-05 17:58:00}|Mundo  |1    |\n",
      "|{2022-05-05 17:56:00, 2022-05-05 17:58:00}|Hola   |1    |\n",
      "|{2022-05-05 17:57:00, 2022-05-05 17:59:00}|Severo |1    |\n",
      "|{2022-05-05 17:57:00, 2022-05-05 17:59:00}|Hola   |1    |\n",
      "|{2022-05-05 17:57:00, 2022-05-05 17:59:00}|Ochoa  |1    |\n",
      "|{2022-05-05 17:57:00, 2022-05-05 17:59:00}|Mundo  |1    |\n",
      "+------------------------------------------+-------+-----+\n",
      "\n",
      "-------------------------------------------\n",
      "Batch: 3\n",
      "-------------------------------------------\n",
      "+------------------------------------------+-------+-----+\n",
      "|window                                    |palabra|count|\n",
      "+------------------------------------------+-------+-----+\n",
      "|{2022-05-05 17:56:00, 2022-05-05 17:58:00}|Ochoa  |2    |\n",
      "|{2022-05-05 17:56:00, 2022-05-05 17:58:00}|el     |1    |\n",
      "|{2022-05-05 17:56:00, 2022-05-05 17:58:00}|Severo |2    |\n",
      "|{2022-05-05 17:56:00, 2022-05-05 17:58:00}|Mundo  |2    |\n",
      "|{2022-05-05 17:56:00, 2022-05-05 17:58:00}|Hola   |2    |\n",
      "|{2022-05-05 17:56:00, 2022-05-05 17:58:00}|desde  |1    |\n",
      "|{2022-05-05 17:57:00, 2022-05-05 17:59:00}|el     |1    |\n",
      "|{2022-05-05 17:57:00, 2022-05-05 17:59:00}|Severo |2    |\n",
      "|{2022-05-05 17:57:00, 2022-05-05 17:59:00}|desde  |1    |\n",
      "|{2022-05-05 17:57:00, 2022-05-05 17:59:00}|Hola   |2    |\n",
      "|{2022-05-05 17:57:00, 2022-05-05 17:59:00}|Ochoa  |2    |\n",
      "|{2022-05-05 17:57:00, 2022-05-05 17:59:00}|Mundo  |2    |\n",
      "+------------------------------------------+-------+-----+\n",
      "\n",
      "-------------------------------------------\n",
      "Batch: 4\n",
      "-------------------------------------------\n",
      "+------------------------------------------+-------+-----+\n",
      "|window                                    |palabra|count|\n",
      "+------------------------------------------+-------+-----+\n",
      "|{2022-05-05 17:56:00, 2022-05-05 17:58:00}|Ochoa  |2    |\n",
      "|{2022-05-05 17:56:00, 2022-05-05 17:58:00}|el     |1    |\n",
      "|{2022-05-05 17:56:00, 2022-05-05 17:58:00}|Severo |2    |\n",
      "|{2022-05-05 17:56:00, 2022-05-05 17:58:00}|Mundo  |2    |\n",
      "|{2022-05-05 17:56:00, 2022-05-05 17:58:00}|Hola   |2    |\n",
      "|{2022-05-05 17:56:00, 2022-05-05 17:58:00}|desde  |1    |\n",
      "|{2022-05-05 17:57:00, 2022-05-05 17:59:00}|Segunda|1    |\n",
      "|{2022-05-05 17:57:00, 2022-05-05 17:59:00}|Severo |2    |\n",
      "|{2022-05-05 17:57:00, 2022-05-05 17:59:00}|desde  |1    |\n",
      "|{2022-05-05 17:57:00, 2022-05-05 17:59:00}|el     |1    |\n",
      "|{2022-05-05 17:57:00, 2022-05-05 17:59:00}|Hola   |2    |\n",
      "|{2022-05-05 17:57:00, 2022-05-05 17:59:00}|Ochoa  |2    |\n",
      "|{2022-05-05 17:57:00, 2022-05-05 17:59:00}|ventana|1    |\n",
      "|{2022-05-05 17:57:00, 2022-05-05 17:59:00}|Mundo  |2    |\n",
      "|{2022-05-05 17:58:00, 2022-05-05 18:00:00}|ventana|1    |\n",
      "|{2022-05-05 17:58:00, 2022-05-05 18:00:00}|Segunda|1    |\n",
      "+------------------------------------------+-------+-----+\n",
      "\n",
      "-------------------------------------------\n",
      "Batch: 5\n",
      "-------------------------------------------\n",
      "+------------------------------------------+-------+-----+\n",
      "|window                                    |palabra|count|\n",
      "+------------------------------------------+-------+-----+\n",
      "|{2022-05-05 17:56:00, 2022-05-05 17:58:00}|Ochoa  |2    |\n",
      "|{2022-05-05 17:56:00, 2022-05-05 17:58:00}|el     |1    |\n",
      "|{2022-05-05 17:56:00, 2022-05-05 17:58:00}|Severo |2    |\n",
      "|{2022-05-05 17:56:00, 2022-05-05 17:58:00}|Mundo  |2    |\n",
      "|{2022-05-05 17:56:00, 2022-05-05 17:58:00}|Hola   |2    |\n",
      "|{2022-05-05 17:56:00, 2022-05-05 17:58:00}|desde  |1    |\n",
      "|{2022-05-05 17:57:00, 2022-05-05 17:59:00}|Segunda|2    |\n",
      "|{2022-05-05 17:57:00, 2022-05-05 17:59:00}|Severo |2    |\n",
      "|{2022-05-05 17:57:00, 2022-05-05 17:59:00}|desde  |1    |\n",
      "|{2022-05-05 17:57:00, 2022-05-05 17:59:00}|el     |1    |\n",
      "|{2022-05-05 17:57:00, 2022-05-05 17:59:00}|Hola   |2    |\n",
      "|{2022-05-05 17:57:00, 2022-05-05 17:59:00}|Ochoa  |3    |\n",
      "|{2022-05-05 17:57:00, 2022-05-05 17:59:00}|ventana|2    |\n",
      "|{2022-05-05 17:57:00, 2022-05-05 17:59:00}|Mundo  |2    |\n",
      "|{2022-05-05 17:58:00, 2022-05-05 18:00:00}|ventana|2    |\n",
      "|{2022-05-05 17:58:00, 2022-05-05 18:00:00}|Ochoa  |1    |\n",
      "|{2022-05-05 17:58:00, 2022-05-05 18:00:00}|Segunda|2    |\n",
      "+------------------------------------------+-------+-----+\n",
      "\n"
     ]
    }
   ],
   "source": [
    "word_count_query.awaitTermination()"
   ]
  },
  {
   "cell_type": "code",
   "execution_count": null,
   "id": "a650e502-8612-4a4a-a843-b50cb472c566",
   "metadata": {},
   "outputs": [],
   "source": []
  },
  {
   "cell_type": "code",
   "execution_count": null,
   "id": "129af567",
   "metadata": {},
   "outputs": [],
   "source": [
    "word_count_query.stop()"
   ]
  },
  {
   "cell_type": "code",
   "execution_count": null,
   "id": "cbb24e35",
   "metadata": {},
   "outputs": [],
   "source": []
  }
 ],
 "metadata": {
  "kernelspec": {
   "display_name": "Python 3 (ipykernel)",
   "language": "python",
   "name": "python3"
  },
  "language_info": {
   "codemirror_mode": {
    "name": "ipython",
    "version": 3
   },
   "file_extension": ".py",
   "mimetype": "text/x-python",
   "name": "python",
   "nbconvert_exporter": "python",
   "pygments_lexer": "ipython3",
   "version": "3.9.12"
  }
 },
 "nbformat": 4,
 "nbformat_minor": 5
}
