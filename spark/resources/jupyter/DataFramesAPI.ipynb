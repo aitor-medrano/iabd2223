{
 "cells": [
  {
   "cell_type": "code",
   "execution_count": 1,
   "id": "f9ebea23",
   "metadata": {},
   "outputs": [
    {
     "name": "stderr",
     "output_type": "stream",
     "text": [
      "22/03/25 16:55:46 WARN NativeCodeLoader: Unable to load native-hadoop library for your platform... using builtin-java classes where applicable\n",
      "Using Spark's default log4j profile: org/apache/spark/log4j-defaults.properties\n",
      "Setting default log level to \"WARN\".\n",
      "To adjust logging level use sc.setLogLevel(newLevel). For SparkR, use setLogLevel(newLevel).\n",
      "[Stage 1:=============================>                             (1 + 1) / 2]\r"
     ]
    },
    {
     "name": "stdout",
     "output_type": "stream",
     "text": [
      "root\n",
      " |-- ProductID: integer (nullable = true)\n",
      " |-- Date: string (nullable = true)\n",
      " |-- Zip: string (nullable = true)\n",
      " |-- Units: integer (nullable = true)\n",
      " |-- Revenue: double (nullable = true)\n",
      " |-- Country: string (nullable = true)\n",
      "\n"
     ]
    },
    {
     "name": "stderr",
     "output_type": "stream",
     "text": [
      "                                                                                \r"
     ]
    }
   ],
   "source": [
    "from pyspark.sql import SparkSession\n",
    "\n",
    "spark = SparkSession.builder.appName(\"s8a-dataframes-api\").getOrCreate()\n",
    "\n",
    "# Lectura de CSV con el ; como separador de columnas y con encabezado\n",
    "df = spark.read.option(\"sep\",\";\").option(\"header\", \"true\").option(\"inferSchema\", \"true\").csv(\"pdi_sales_small.csv\")\n",
    "    \n",
    "df.printSchema()"
   ]
  },
  {
   "cell_type": "code",
   "execution_count": 2,
   "id": "d8cce6f6",
   "metadata": {},
   "outputs": [
    {
     "name": "stdout",
     "output_type": "stream",
     "text": [
      "+---------+---------+---------------+-----+-------+-------+\n",
      "|ProductID|     Date|            Zip|Units|Revenue|Country|\n",
      "+---------+---------+---------------+-----+-------+-------+\n",
      "|      725|1/15/1999|41540          |    1|  115.5|Germany|\n",
      "|      787| 6/6/2002|41540          |    1|  314.9|Germany|\n",
      "|      788| 6/6/2002|41540          |    1|  314.9|Germany|\n",
      "|      940|1/15/1999|22587          |    1|  687.7|Germany|\n",
      "|      396|1/15/1999|22587          |    1|  857.1|Germany|\n",
      "|      734|4/10/2003|22587          |    1|  330.7|Germany|\n",
      "|      769|2/15/1999|22587          |    1|  257.2|Germany|\n",
      "|      499|1/15/1999|12555          |    1|  846.3|Germany|\n",
      "|     2254|1/15/1999|40217          |    1|   57.7|Germany|\n",
      "|       31|5/31/2002|40217          |    1|  761.2|Germany|\n",
      "|      475|2/15/1999|13583          |    1|  970.2|Germany|\n",
      "|      510|1/15/1999|22337          |    1|  837.1|Germany|\n",
      "|      499| 6/5/2002|22337          |    1|  883.0|Germany|\n",
      "|      289|2/15/1999|13587          |    1|  866.0|Germany|\n",
      "|      702|2/15/1999|13587          |    1|  286.1|Germany|\n",
      "|      910|3/15/1999|13587          |    1|  414.7|Germany|\n",
      "|      901|2/15/1999|13587          |    2|  818.9|Germany|\n",
      "|      550|1/15/1999|22177          |    1|  404.0|Germany|\n",
      "|      559|1/15/1999|22177          |    1|  585.6|Germany|\n",
      "|      767| 6/7/2002|22177          |    1|  105.0|Germany|\n",
      "+---------+---------+---------------+-----+-------+-------+\n",
      "only showing top 20 rows\n",
      "\n"
     ]
    }
   ],
   "source": [
    "df.show()"
   ]
  },
  {
   "cell_type": "code",
   "execution_count": 3,
   "id": "ae89b501",
   "metadata": {},
   "outputs": [
    {
     "name": "stdout",
     "output_type": "stream",
     "text": [
      "root\n",
      " |-- ProductID: integer (nullable = true)\n",
      " |-- Date: date (nullable = true)\n",
      " |-- Zip: string (nullable = true)\n",
      " |-- Units: integer (nullable = true)\n",
      " |-- Revenue: double (nullable = true)\n",
      " |-- Country: string (nullable = true)\n",
      "\n"
     ]
    }
   ],
   "source": [
    "from pyspark.sql.functions import to_date\n",
    "df = df.withColumn(\"Units\", df.Units.cast(\"int\")).withColumn(\"Revenue\", df.Revenue.cast(\"double\"))\n",
    "df = df.withColumn(\"Date\", to_date(df.Date, \"M/d/yyy\"))\n",
    "df.printSchema()"
   ]
  },
  {
   "cell_type": "code",
   "execution_count": 4,
   "id": "505c5c75",
   "metadata": {},
   "outputs": [
    {
     "name": "stdout",
     "output_type": "stream",
     "text": [
      "+---------+----------+---------------+-----+-------+-------+\n",
      "|ProductID|      Date|            Zip|Units|Revenue|Country|\n",
      "+---------+----------+---------------+-----+-------+-------+\n",
      "|      725|1999-01-15|41540          |    1|  115.5|Germany|\n",
      "|      787|2002-06-06|41540          |    1|  314.9|Germany|\n",
      "|      788|2002-06-06|41540          |    1|  314.9|Germany|\n",
      "|      940|1999-01-15|22587          |    1|  687.7|Germany|\n",
      "|      396|1999-01-15|22587          |    1|  857.1|Germany|\n",
      "+---------+----------+---------------+-----+-------+-------+\n",
      "only showing top 5 rows\n",
      "\n"
     ]
    }
   ],
   "source": [
    "df.show(5)"
   ]
  },
  {
   "cell_type": "code",
   "execution_count": 5,
   "id": "6dbc427f",
   "metadata": {},
   "outputs": [
    {
     "name": "stdout",
     "output_type": "stream",
     "text": [
      "+---------+-------+\n",
      "|ProductID|Revenue|\n",
      "+---------+-------+\n",
      "|      725|  115.5|\n",
      "|      787|  314.9|\n",
      "|      788|  314.9|\n",
      "+---------+-------+\n",
      "only showing top 3 rows\n",
      "\n"
     ]
    }
   ],
   "source": [
    "df.select(\"ProductID\",\"Revenue\").show(3)"
   ]
  },
  {
   "cell_type": "code",
   "execution_count": 6,
   "id": "8628fa5d",
   "metadata": {},
   "outputs": [
    {
     "name": "stdout",
     "output_type": "stream",
     "text": [
      "+---------+-----------+\n",
      "|ProductID|VentasMas10|\n",
      "+---------+-----------+\n",
      "|      725|      125.5|\n",
      "|      787|      324.9|\n",
      "|      788|      324.9|\n",
      "+---------+-----------+\n",
      "only showing top 3 rows\n",
      "\n"
     ]
    }
   ],
   "source": [
    "df.select(df.ProductID,(df.Revenue+10).alias(\"VentasMas10\")).show(3)"
   ]
  },
  {
   "cell_type": "code",
   "execution_count": 7,
   "id": "8357fec2-1152-4d32-b81c-b7fb9e803103",
   "metadata": {},
   "outputs": [
    {
     "name": "stdout",
     "output_type": "stream",
     "text": [
      "+---------+----------+---------------+-----+-------+-------+------+\n",
      "|ProductID|      Date|            Zip|Units|Revenue|Country| total|\n",
      "+---------+----------+---------------+-----+-------+-------+------+\n",
      "|      725|1999-01-15|41540          |    1|  115.5|Germany| 115.5|\n",
      "|      787|2002-06-06|41540          |    1|  314.9|Germany| 314.9|\n",
      "|      788|2002-06-06|41540          |    1|  314.9|Germany| 314.9|\n",
      "|      940|1999-01-15|22587          |    1|  687.7|Germany| 687.7|\n",
      "|      396|1999-01-15|22587          |    1|  857.1|Germany| 857.1|\n",
      "|      734|2003-04-10|22587          |    1|  330.7|Germany| 330.7|\n",
      "|      769|1999-02-15|22587          |    1|  257.2|Germany| 257.2|\n",
      "|      499|1999-01-15|12555          |    1|  846.3|Germany| 846.3|\n",
      "|     2254|1999-01-15|40217          |    1|   57.7|Germany|  57.7|\n",
      "|       31|2002-05-31|40217          |    1|  761.2|Germany| 761.2|\n",
      "|      475|1999-02-15|13583          |    1|  970.2|Germany| 970.2|\n",
      "|      510|1999-01-15|22337          |    1|  837.1|Germany| 837.1|\n",
      "|      499|2002-06-05|22337          |    1|  883.0|Germany| 883.0|\n",
      "|      289|1999-02-15|13587          |    1|  866.0|Germany| 866.0|\n",
      "|      702|1999-02-15|13587          |    1|  286.1|Germany| 286.1|\n",
      "|      910|1999-03-15|13587          |    1|  414.7|Germany| 414.7|\n",
      "|      901|1999-02-15|13587          |    2|  818.9|Germany|1637.8|\n",
      "|      550|1999-01-15|22177          |    1|  404.0|Germany| 404.0|\n",
      "|      559|1999-01-15|22177          |    1|  585.6|Germany| 585.6|\n",
      "|      767|2002-06-07|22177          |    1|  105.0|Germany| 105.0|\n",
      "+---------+----------+---------------+-----+-------+-------+------+\n",
      "only showing top 20 rows\n",
      "\n"
     ]
    }
   ],
   "source": [
    "dfNuevo = df.withColumn(\"total\", df.Units * df.Revenue)\n",
    "dfNuevo.show()"
   ]
  },
  {
   "cell_type": "code",
   "execution_count": 8,
   "id": "e938740b-1817-400e-9605-0de492423cc5",
   "metadata": {},
   "outputs": [
    {
     "name": "stdout",
     "output_type": "stream",
     "text": [
      "+---------+----------+---------------+-----+-------+-------+------+\n",
      "|ProductID|      Date|            Zip|Units|Revenue|Country| total|\n",
      "+---------+----------+---------------+-----+-------+-------+------+\n",
      "|      725|1999-01-15|41540          |    1|  115.5|Germany| 115.5|\n",
      "|      787|2002-06-06|41540          |    1|  314.9|Germany| 314.9|\n",
      "|      788|2002-06-06|41540          |    1|  314.9|Germany| 314.9|\n",
      "|      940|1999-01-15|22587          |    1|  687.7|Germany| 687.7|\n",
      "|      396|1999-01-15|22587          |    1|  857.1|Germany| 857.1|\n",
      "|      734|2003-04-10|22587          |    1|  330.7|Germany| 330.7|\n",
      "|      769|1999-02-15|22587          |    1|  257.2|Germany| 257.2|\n",
      "|      499|1999-01-15|12555          |    1|  846.3|Germany| 846.3|\n",
      "|     2254|1999-01-15|40217          |    1|   57.7|Germany|  57.7|\n",
      "|       31|2002-05-31|40217          |    1|  761.2|Germany| 761.2|\n",
      "|      475|1999-02-15|13583          |    1|  970.2|Germany| 970.2|\n",
      "|      510|1999-01-15|22337          |    1|  837.1|Germany| 837.1|\n",
      "|      499|2002-06-05|22337          |    1|  883.0|Germany| 883.0|\n",
      "|      289|1999-02-15|13587          |    1|  866.0|Germany| 866.0|\n",
      "|      702|1999-02-15|13587          |    1|  286.1|Germany| 286.1|\n",
      "|      910|1999-03-15|13587          |    1|  414.7|Germany| 414.7|\n",
      "|      901|1999-02-15|13587          |    2|  818.9|Germany|1637.8|\n",
      "|      550|1999-01-15|22177          |    1|  404.0|Germany| 404.0|\n",
      "|      559|1999-01-15|22177          |    1|  585.6|Germany| 585.6|\n",
      "|      767|2002-06-07|22177          |    1|  105.0|Germany| 105.0|\n",
      "+---------+----------+---------------+-----+-------+-------+------+\n",
      "only showing top 20 rows\n",
      "\n"
     ]
    }
   ],
   "source": [
    "df.selectExpr(\"*\", \"Units * Revenue as total\").show()"
   ]
  },
  {
   "cell_type": "code",
   "execution_count": 9,
   "id": "d90d204b-e2ad-46fd-b56c-a71a4b08c01a",
   "metadata": {},
   "outputs": [
    {
     "name": "stderr",
     "output_type": "stream",
     "text": [
      "[Stage 9:===================================================>   (188 + 4) / 200]\r"
     ]
    },
    {
     "name": "stdout",
     "output_type": "stream",
     "text": [
      "+---------+------+\n",
      "|productos|paises|\n",
      "+---------+------+\n",
      "|      799|     5|\n",
      "+---------+------+\n",
      "\n"
     ]
    },
    {
     "name": "stderr",
     "output_type": "stream",
     "text": [
      "                                                                                \r"
     ]
    }
   ],
   "source": [
    "df.selectExpr(\"count(distinct(ProductID)) as productos\",\"count(distinct(Country)) as paises\").show()"
   ]
  },
  {
   "cell_type": "code",
   "execution_count": 93,
   "id": "4552929a",
   "metadata": {},
   "outputs": [
    {
     "name": "stdout",
     "output_type": "stream",
     "text": [
      "+---------+----------+---------------+\n",
      "|ProductID|      Date|            Zip|\n",
      "+---------+----------+---------------+\n",
      "|      725|1999-01-15|41540          |\n",
      "|      787|2002-06-06|41540          |\n",
      "|      788|2002-06-06|41540          |\n",
      "|      940|1999-01-15|22587          |\n",
      "|      396|1999-01-15|22587          |\n",
      "+---------+----------+---------------+\n",
      "only showing top 5 rows\n",
      "\n"
     ]
    }
   ],
   "source": [
    "df.select(\"ProductID\", \"Date\", \"Zip\").show(5)"
   ]
  },
  {
   "cell_type": "code",
   "execution_count": 96,
   "id": "a18c1d04",
   "metadata": {},
   "outputs": [
    {
     "name": "stdout",
     "output_type": "stream",
     "text": [
      "+---------+----------+---------------+\n",
      "|ProductID|      Date|            Zip|\n",
      "+---------+----------+---------------+\n",
      "|      725|1999-01-15|41540          |\n",
      "|      787|2002-06-06|41540          |\n",
      "|      788|2002-06-06|41540          |\n",
      "|      940|1999-01-15|22587          |\n",
      "|      396|1999-01-15|22587          |\n",
      "+---------+----------+---------------+\n",
      "only showing top 5 rows\n",
      "\n"
     ]
    }
   ],
   "source": [
    "df.drop(\"Units\", \"Revenue\", \"Country\").show(5)"
   ]
  },
  {
   "cell_type": "code",
   "execution_count": 91,
   "id": "8c8b6b79",
   "metadata": {},
   "outputs": [
    {
     "name": "stdout",
     "output_type": "stream",
     "text": [
      "+---------+----------+---------------+-----+-------+-------+\n",
      "|ProductID|      Date|     PostalCode|Units|Revenue|Country|\n",
      "+---------+----------+---------------+-----+-------+-------+\n",
      "|      725|1999-01-15|41540          |    1|  115.5|Germany|\n",
      "|      787|2002-06-06|41540          |    1|  314.9|Germany|\n",
      "|      788|2002-06-06|41540          |    1|  314.9|Germany|\n",
      "|      940|1999-01-15|22587          |    1|  687.7|Germany|\n",
      "|      396|1999-01-15|22587          |    1|  857.1|Germany|\n",
      "+---------+----------+---------------+-----+-------+-------+\n",
      "only showing top 5 rows\n",
      "\n"
     ]
    }
   ],
   "source": [
    "df.withColumnRenamed(\"Zip\", \"PostalCode\").show(5)"
   ]
  },
  {
   "cell_type": "markdown",
   "id": "d8e0d785",
   "metadata": {},
   "source": [
    "### Filtrando datos"
   ]
  },
  {
   "cell_type": "code",
   "execution_count": 33,
   "id": "8a52b3fb",
   "metadata": {},
   "outputs": [
    {
     "name": "stdout",
     "output_type": "stream",
     "text": [
      "+---------+----------+---------------+-----+-------+-------+\n",
      "|ProductID|      Date|            Zip|Units|Revenue|Country|\n",
      "+---------+----------+---------------+-----+-------+-------+\n",
      "|      725|1999-01-15|41540          |    1|  115.5|Germany|\n",
      "|      787|2002-06-06|41540          |    1|  314.9|Germany|\n",
      "|      788|2002-06-06|41540          |    1|  314.9|Germany|\n",
      "|      940|1999-01-15|22587          |    1|  687.7|Germany|\n",
      "|      396|1999-01-15|22587          |    1|  857.1|Germany|\n",
      "|      734|2003-04-10|22587          |    1|  330.7|Germany|\n",
      "|      769|1999-02-15|22587          |    1|  257.2|Germany|\n",
      "|      499|1999-01-15|12555          |    1|  846.3|Germany|\n",
      "|     2254|1999-01-15|40217          |    1|   57.7|Germany|\n",
      "|       31|2002-05-31|40217          |    1|  761.2|Germany|\n",
      "|      475|1999-02-15|13583          |    1|  970.2|Germany|\n",
      "|      510|1999-01-15|22337          |    1|  837.1|Germany|\n",
      "|      499|2002-06-05|22337          |    1|  883.0|Germany|\n",
      "|      289|1999-02-15|13587          |    1|  866.0|Germany|\n",
      "|      702|1999-02-15|13587          |    1|  286.1|Germany|\n",
      "|      910|1999-03-15|13587          |    1|  414.7|Germany|\n",
      "|      901|1999-02-15|13587          |    2|  818.9|Germany|\n",
      "|      550|1999-01-15|22177          |    1|  404.0|Germany|\n",
      "|      559|1999-01-15|22177          |    1|  585.6|Germany|\n",
      "|      767|2002-06-07|22177          |    1|  105.0|Germany|\n",
      "+---------+----------+---------------+-----+-------+-------+\n",
      "only showing top 20 rows\n",
      "\n"
     ]
    }
   ],
   "source": [
    "df.filter(df.Country==\"Germany\").show()"
   ]
  },
  {
   "cell_type": "code",
   "execution_count": 37,
   "id": "b6d8836c",
   "metadata": {},
   "outputs": [
    {
     "name": "stdout",
     "output_type": "stream",
     "text": [
      "+---------+----------+---------------+-----+-------+-------+\n",
      "|ProductID|      Date|            Zip|Units|Revenue|Country|\n",
      "+---------+----------+---------------+-----+-------+-------+\n",
      "|      495|1999-03-15|75213 CEDEX 16 |   77|43194.1| France|\n",
      "|     2091|1999-05-15|9739           |   24| 3652.7| Mexico|\n",
      "|     2091|1999-06-15|40213          |   41| 6240.1|Germany|\n",
      "|     2091|1999-10-15|40213          |   41| 6347.7|Germany|\n",
      "|     2091|1999-12-15|40213          |   23| 3560.9|Germany|\n",
      "+---------+----------+---------------+-----+-------+-------+\n",
      "\n"
     ]
    }
   ],
   "source": [
    "df.where(df.Units>20).show()"
   ]
  },
  {
   "cell_type": "code",
   "execution_count": 40,
   "id": "700eacf2",
   "metadata": {},
   "outputs": [
    {
     "name": "stdout",
     "output_type": "stream",
     "text": [
      "+---------+----------+---------------+-----+-------+-------+\n",
      "|ProductID|      Date|            Zip|Units|Revenue|Country|\n",
      "+---------+----------+---------------+-----+-------+-------+\n",
      "|     2091|1999-06-15|40213          |   41| 6240.1|Germany|\n",
      "|     2091|1999-10-15|40213          |   41| 6347.7|Germany|\n",
      "|     2091|1999-12-15|40213          |   23| 3560.9|Germany|\n",
      "+---------+----------+---------------+-----+-------+-------+\n",
      "\n"
     ]
    }
   ],
   "source": [
    "df.filter((df.Country==\"Germany\") & (df.Units>20)).show()"
   ]
  },
  {
   "cell_type": "code",
   "execution_count": 61,
   "id": "4ffc392b",
   "metadata": {},
   "outputs": [
    {
     "name": "stdout",
     "output_type": "stream",
     "text": [
      "+---------+----------+---------------+-----+-------+-------+\n",
      "|ProductID|      Date|            Zip|Units|Revenue|Country|\n",
      "+---------+----------+---------------+-----+-------+-------+\n",
      "|     2314|1999-05-15|46045          |    1|   13.9|Germany|\n",
      "|     1322|2000-01-06|75593 CEDEX 12 |    1|  254.5| France|\n",
      "+---------+----------+---------------+-----+-------+-------+\n",
      "\n"
     ]
    }
   ],
   "source": [
    "df.filter((df.ProductID==2314) | (df.ProductID==1322)).show()"
   ]
  },
  {
   "cell_type": "code",
   "execution_count": 64,
   "id": "eb78b784",
   "metadata": {},
   "outputs": [
    {
     "name": "stdout",
     "output_type": "stream",
     "text": [
      "+-------+\n",
      "|Country|\n",
      "+-------+\n",
      "|Germany|\n",
      "| France|\n",
      "| Mexico|\n",
      "| Canada|\n",
      "+-------+\n",
      "\n"
     ]
    }
   ],
   "source": [
    "df.select(\"Country\").distinct().show()"
   ]
  },
  {
   "cell_type": "code",
   "execution_count": 69,
   "id": "63f74ee1",
   "metadata": {},
   "outputs": [
    {
     "name": "stdout",
     "output_type": "stream",
     "text": [
      "+-------+\n",
      "|Country|\n",
      "+-------+\n",
      "|Germany|\n",
      "| France|\n",
      "| Mexico|\n",
      "| Canada|\n",
      "+-------+\n",
      "\n"
     ]
    }
   ],
   "source": [
    "df.dropDuplicates([\"Country\"]).select(\"Country\").show()"
   ]
  },
  {
   "cell_type": "markdown",
   "id": "a9338925",
   "metadata": {},
   "source": [
    "### Ordenando"
   ]
  },
  {
   "cell_type": "code",
   "execution_count": 11,
   "id": "411a8912",
   "metadata": {},
   "outputs": [
    {
     "name": "stderr",
     "output_type": "stream",
     "text": [
      "[Stage 12:=============================>                            (1 + 1) / 2]\r"
     ]
    },
    {
     "name": "stdout",
     "output_type": "stream",
     "text": [
      "+---------+-------+\n",
      "|ProductID|Revenue|\n",
      "+---------+-------+\n",
      "|     2314|   13.9|\n",
      "|     1974|   52.4|\n",
      "|     1975|   52.4|\n",
      "|     1974|   52.4|\n",
      "|     1974|   52.4|\n",
      "+---------+-------+\n",
      "only showing top 5 rows\n",
      "\n"
     ]
    },
    {
     "name": "stderr",
     "output_type": "stream",
     "text": [
      "                                                                                \r"
     ]
    }
   ],
   "source": [
    "df.select(\"ProductID\",\"Revenue\").sort(\"Revenue\").show(5)"
   ]
  },
  {
   "cell_type": "code",
   "execution_count": 12,
   "id": "352bc87a",
   "metadata": {},
   "outputs": [
    {
     "name": "stderr",
     "output_type": "stream",
     "text": [
      "[Stage 13:=============================>                            (1 + 1) / 2]\r"
     ]
    },
    {
     "name": "stdout",
     "output_type": "stream",
     "text": [
      "+---------+----------+---------------+-----+-------+-------+\n",
      "|ProductID|      Date|            Zip|Units|Revenue|Country|\n",
      "+---------+----------+---------------+-----+-------+-------+\n",
      "|      495|1999-03-15|75213 CEDEX 16 |   77|43194.1|France |\n",
      "|      495|2000-03-01|75391 CEDEX 08 |   18|10395.0|France |\n",
      "|      464|2003-06-11|75213 CEDEX 16 |   16|10075.8|France |\n",
      "|      464|2000-08-01|22397          |   17| 9817.5|Germany|\n",
      "|      495|2000-03-01|06175 CEDEX 2  |   16| 9240.0|France |\n",
      "+---------+----------+---------------+-----+-------+-------+\n",
      "only showing top 5 rows\n",
      "\n"
     ]
    },
    {
     "name": "stderr",
     "output_type": "stream",
     "text": [
      "                                                                                \r"
     ]
    }
   ],
   "source": [
    "df.sort(df.Revenue.desc()).show(5)"
   ]
  },
  {
   "cell_type": "code",
   "execution_count": 13,
   "id": "94ef70c4",
   "metadata": {},
   "outputs": [
    {
     "name": "stderr",
     "output_type": "stream",
     "text": [
      "[Stage 14:=============================>                            (1 + 1) / 2]\r"
     ]
    },
    {
     "name": "stdout",
     "output_type": "stream",
     "text": [
      "+---------+----------+---------------+-----+-------+-------+\n",
      "|ProductID|      Date|            Zip|Units|Revenue|Country|\n",
      "+---------+----------+---------------+-----+-------+-------+\n",
      "|      495|1999-03-15|75213 CEDEX 16 |   77|43194.1|France |\n",
      "|      495|2000-03-01|75391 CEDEX 08 |   18|10395.0|France |\n",
      "|      464|2003-06-11|75213 CEDEX 16 |   16|10075.8|France |\n",
      "|      464|2000-08-01|22397          |   17| 9817.5|Germany|\n",
      "|      495|2000-03-01|06175 CEDEX 2  |   16| 9240.0|France |\n",
      "+---------+----------+---------------+-----+-------+-------+\n",
      "only showing top 5 rows\n",
      "\n"
     ]
    },
    {
     "name": "stderr",
     "output_type": "stream",
     "text": [
      "                                                                                \r"
     ]
    }
   ],
   "source": [
    "df.sort([\"Revenue\",\"Units\"], ascending=[0,1]).show(5)"
   ]
  },
  {
   "cell_type": "code",
   "execution_count": 72,
   "id": "de71775a",
   "metadata": {},
   "outputs": [
    {
     "name": "stderr",
     "output_type": "stream",
     "text": [
      "[Stage 183:============================>                            (1 + 1) / 2]\r"
     ]
    },
    {
     "name": "stdout",
     "output_type": "stream",
     "text": [
      "+---------+----------+---------------+-----+-------+-------+\n",
      "|ProductID|      Date|            Zip|Units|Revenue|Country|\n",
      "+---------+----------+---------------+-----+-------+-------+\n",
      "|      495|1999-03-15|75213 CEDEX 16 |   77|43194.1| France|\n",
      "|      495|2000-03-01|75391 CEDEX 08 |   18|10395.0| France|\n",
      "|      464|2003-06-11|75213 CEDEX 16 |   16|10075.8| France|\n",
      "|      464|2000-08-01|22397          |   17| 9817.5|Germany|\n",
      "|      495|2000-03-01|06175 CEDEX 2  |   16| 9240.0| France|\n",
      "+---------+----------+---------------+-----+-------+-------+\n",
      "only showing top 5 rows\n",
      "\n"
     ]
    },
    {
     "name": "stderr",
     "output_type": "stream",
     "text": [
      "                                                                                \r"
     ]
    }
   ],
   "source": [
    "df.sort(df.Revenue.desc()).show(5)"
   ]
  },
  {
   "cell_type": "code",
   "execution_count": 77,
   "id": "a20873c9",
   "metadata": {},
   "outputs": [
    {
     "name": "stdout",
     "output_type": "stream",
     "text": [
      "+---------+----------+---------------+-----+-------+-------+\n",
      "|ProductID|      Date|            Zip|Units|Revenue|Country|\n",
      "+---------+----------+---------------+-----+-------+-------+\n",
      "|      495|1999-03-15|75213 CEDEX 16 |   77|43194.1| France|\n",
      "|      495|2000-03-01|75391 CEDEX 08 |   18|10395.0| France|\n",
      "|      464|2003-06-11|75213 CEDEX 16 |   16|10075.8| France|\n",
      "|      464|2000-08-01|22397          |   17| 9817.5|Germany|\n",
      "|      495|2000-03-01|06175 CEDEX 2  |   16| 9240.0| France|\n",
      "+---------+----------+---------------+-----+-------+-------+\n",
      "only showing top 5 rows\n",
      "\n"
     ]
    },
    {
     "name": "stderr",
     "output_type": "stream",
     "text": [
      "                                                                                \r"
     ]
    }
   ],
   "source": [
    "df.sort(\"Revenue\", ascending=False).show(5)"
   ]
  },
  {
   "cell_type": "code",
   "execution_count": 76,
   "id": "a4f65e37",
   "metadata": {},
   "outputs": [
    {
     "name": "stderr",
     "output_type": "stream",
     "text": [
      "[Stage 185:============================>                            (1 + 1) / 2]\r"
     ]
    },
    {
     "name": "stdout",
     "output_type": "stream",
     "text": [
      "+---------+----------+---------------+-----+-------+-------+\n",
      "|ProductID|      Date|            Zip|Units|Revenue|Country|\n",
      "+---------+----------+---------------+-----+-------+-------+\n",
      "|      495|1999-03-15|75213 CEDEX 16 |   77|43194.1| France|\n",
      "|      495|2000-03-01|75391 CEDEX 08 |   18|10395.0| France|\n",
      "|      464|2003-06-11|75213 CEDEX 16 |   16|10075.8| France|\n",
      "|      464|2000-08-01|22397          |   17| 9817.5|Germany|\n",
      "|      495|2000-03-01|06175 CEDEX 2  |   16| 9240.0| France|\n",
      "+---------+----------+---------------+-----+-------+-------+\n",
      "only showing top 5 rows\n",
      "\n"
     ]
    },
    {
     "name": "stderr",
     "output_type": "stream",
     "text": [
      "                                                                                \r"
     ]
    }
   ],
   "source": [
    "from pyspark.sql.functions import desc\n",
    "df.orderBy(desc(\"Revenue\")).show(5)"
   ]
  },
  {
   "cell_type": "code",
   "execution_count": 78,
   "id": "0b0b78f7",
   "metadata": {},
   "outputs": [
    {
     "name": "stderr",
     "output_type": "stream",
     "text": [
      "[Stage 187:============================>                            (1 + 1) / 2]\r"
     ]
    },
    {
     "name": "stdout",
     "output_type": "stream",
     "text": [
      "+---------+----------+---------------+-----+-------+-------+\n",
      "|ProductID|      Date|            Zip|Units|Revenue|Country|\n",
      "+---------+----------+---------------+-----+-------+-------+\n",
      "|      495|1999-03-15|75213 CEDEX 16 |   77|43194.1| France|\n",
      "|      495|2000-03-01|75391 CEDEX 08 |   18|10395.0| France|\n",
      "|      464|2003-06-11|75213 CEDEX 16 |   16|10075.8| France|\n",
      "|      464|2000-08-01|22397          |   17| 9817.5|Germany|\n",
      "|      495|2000-03-01|06175 CEDEX 2  |   16| 9240.0| France|\n",
      "+---------+----------+---------------+-----+-------+-------+\n",
      "only showing top 5 rows\n",
      "\n"
     ]
    },
    {
     "name": "stderr",
     "output_type": "stream",
     "text": [
      "                                                                                \r"
     ]
    }
   ],
   "source": [
    "df.sort([\"Revenue\",\"Units\"], ascending=[0,1]).show(5)"
   ]
  },
  {
   "cell_type": "code",
   "execution_count": 79,
   "id": "51936230",
   "metadata": {},
   "outputs": [
    {
     "name": "stderr",
     "output_type": "stream",
     "text": [
      "[Stage 188:============================>                            (1 + 1) / 2]\r"
     ]
    },
    {
     "name": "stdout",
     "output_type": "stream",
     "text": [
      "+---------+----------+---------------+-----+-------+-------+\n",
      "|ProductID|      Date|            Zip|Units|Revenue|Country|\n",
      "+---------+----------+---------------+-----+-------+-------+\n",
      "|      495|1999-03-15|75213 CEDEX 16 |   77|43194.1| France|\n",
      "|      495|2000-03-01|75391 CEDEX 08 |   18|10395.0| France|\n",
      "|      464|2003-06-11|75213 CEDEX 16 |   16|10075.8| France|\n",
      "|      464|2000-08-01|22397          |   17| 9817.5|Germany|\n",
      "|      495|2000-03-01|06175 CEDEX 2  |   16| 9240.0| France|\n",
      "+---------+----------+---------------+-----+-------+-------+\n",
      "only showing top 5 rows\n",
      "\n"
     ]
    },
    {
     "name": "stderr",
     "output_type": "stream",
     "text": [
      "                                                                                \r"
     ]
    }
   ],
   "source": [
    "df.sort(df.Revenue.desc(),df.Units.asc()).show(5)"
   ]
  },
  {
   "cell_type": "code",
   "execution_count": 80,
   "id": "889780ad",
   "metadata": {},
   "outputs": [
    {
     "name": "stdout",
     "output_type": "stream",
     "text": [
      "+---------+----------+---------------+-----+-------+-------+\n",
      "|ProductID|      Date|            Zip|Units|Revenue|Country|\n",
      "+---------+----------+---------------+-----+-------+-------+\n",
      "|      495|1999-03-15|75213 CEDEX 16 |   77|43194.1| France|\n",
      "|      495|2000-03-01|75391 CEDEX 08 |   18|10395.0| France|\n",
      "|      464|2003-06-11|75213 CEDEX 16 |   16|10075.8| France|\n",
      "|      464|2000-08-01|22397          |   17| 9817.5|Germany|\n",
      "|      495|2000-03-01|06175 CEDEX 2  |   16| 9240.0| France|\n",
      "+---------+----------+---------------+-----+-------+-------+\n",
      "\n"
     ]
    },
    {
     "name": "stderr",
     "output_type": "stream",
     "text": [
      "                                                                                \r"
     ]
    }
   ],
   "source": [
    "df.sort(df.Revenue.desc(),df.Units.asc()).limit(5).show()"
   ]
  },
  {
   "cell_type": "markdown",
   "id": "18a6a68b",
   "metadata": {},
   "source": [
    "### Insertando datos / Uniones"
   ]
  },
  {
   "cell_type": "code",
   "execution_count": 81,
   "id": "7204202d",
   "metadata": {},
   "outputs": [
    {
     "data": {
      "text/plain": [
       "120239"
      ]
     },
     "execution_count": 81,
     "metadata": {},
     "output_type": "execute_result"
    }
   ],
   "source": [
    "df.count()"
   ]
  },
  {
   "cell_type": "code",
   "execution_count": 84,
   "id": "7f218807",
   "metadata": {},
   "outputs": [],
   "source": [
    "nuevaVenta = [\n",
    "    (6666, \"2022-03-24\", \"03206\", 33, 3333.33, \"Spain\"),\n",
    "    (6666, \"2022-03-25\", \"03206\", 22, 2222.22, \"Spain\"),\n",
    "]\n",
    "nvDF = spark.createDataFrame(nuevaVenta)"
   ]
  },
  {
   "cell_type": "code",
   "execution_count": 90,
   "id": "61aa1942",
   "metadata": {},
   "outputs": [
    {
     "name": "stderr",
     "output_type": "stream",
     "text": [
      "                                                                                \r"
     ]
    },
    {
     "name": "stdout",
     "output_type": "stream",
     "text": [
      "+---------+----------+-----+-----+-------+-------+\n",
      "|ProductID|      Date|  Zip|Units|Revenue|Country|\n",
      "+---------+----------+-----+-----+-------+-------+\n",
      "|     6666|2022-03-24|03206|   33|3333.33|  Spain|\n",
      "|     6666|2022-03-25|03206|   22|2222.22|  Spain|\n",
      "+---------+----------+-----+-----+-------+-------+\n",
      "\n"
     ]
    }
   ],
   "source": [
    "dfUpdated = df.union(nvDF)\n",
    "dfUpdated.count()\n",
    "dfUpdated.filter(df.Country==\"Spain\").show()"
   ]
  },
  {
   "cell_type": "markdown",
   "id": "ee0ab7a9",
   "metadata": {},
   "source": [
    "### Muestras"
   ]
  },
  {
   "cell_type": "code",
   "execution_count": 100,
   "id": "f0dc6d07",
   "metadata": {},
   "outputs": [
    {
     "data": {
      "text/plain": [
       "120239"
      ]
     },
     "execution_count": 100,
     "metadata": {},
     "output_type": "execute_result"
    }
   ],
   "source": [
    "df.count()"
   ]
  },
  {
   "cell_type": "code",
   "execution_count": 99,
   "id": "99545bec",
   "metadata": {},
   "outputs": [
    {
     "data": {
      "text/plain": [
       "11876"
      ]
     },
     "execution_count": 99,
     "metadata": {},
     "output_type": "execute_result"
    }
   ],
   "source": [
    "df.sample(0.10).count()"
   ]
  },
  {
   "cell_type": "code",
   "execution_count": 102,
   "id": "bab7974e",
   "metadata": {},
   "outputs": [
    {
     "data": {
      "text/plain": [
       "11923"
      ]
     },
     "execution_count": 102,
     "metadata": {},
     "output_type": "execute_result"
    }
   ],
   "source": [
    "muestraConRepetidos = df.sample(True, 0.10)\n",
    "muestraConRepetidos.count()"
   ]
  },
  {
   "cell_type": "code",
   "execution_count": 104,
   "id": "27f58f05",
   "metadata": {},
   "outputs": [
    {
     "name": "stderr",
     "output_type": "stream",
     "text": [
      "                                                                                \r"
     ]
    },
    {
     "data": {
      "text/plain": [
       "96194"
      ]
     },
     "execution_count": 104,
     "metadata": {},
     "output_type": "execute_result"
    }
   ],
   "source": [
    "dfs = df.randomSplit([0.8, 0.2])\n",
    "dfEntrenamiento = dfs[0]\n",
    "dfPrueba = dfs[1]\n",
    "dfEntrenamiento.count()"
   ]
  },
  {
   "cell_type": "code",
   "execution_count": 105,
   "id": "333c418a",
   "metadata": {},
   "outputs": [
    {
     "name": "stderr",
     "output_type": "stream",
     "text": [
      "                                                                                \r"
     ]
    },
    {
     "data": {
      "text/plain": [
       "24045"
      ]
     },
     "execution_count": 105,
     "metadata": {},
     "output_type": "execute_result"
    }
   ],
   "source": [
    "dfPrueba.count()"
   ]
  },
  {
   "cell_type": "markdown",
   "id": "0785e09a",
   "metadata": {},
   "source": [
    "### Limpieza"
   ]
  },
  {
   "cell_type": "code",
   "execution_count": 153,
   "id": "a97a1ea3",
   "metadata": {},
   "outputs": [
    {
     "name": "stdout",
     "output_type": "stream",
     "text": [
      "+---------+----------+-----+-----+-------+-------+\n",
      "|ProductID|      Date|  Zip|Units|Revenue|Country|\n",
      "+---------+----------+-----+-----+-------+-------+\n",
      "|     6666|2022-03-22|03206|   33|3333.33|  Spain|\n",
      "|     6666|2022-03-22| null|   33|3333.33|  Spain|\n",
      "|     6666|2022-03-23|03206| null|2222.22|  Spain|\n",
      "|     6666|2022-03-24|03206| null|   null| Espain|\n",
      "|     null|      null| null| null|   null|   null|\n",
      "+---------+----------+-----+-----+-------+-------+\n",
      "\n"
     ]
    }
   ],
   "source": [
    "malasVentas = [\n",
    "    (6666, \"2022-03-22\", \"03206\", 33, 3333.33, \"Spain\"),\n",
    "    (6666, \"2022-03-22\", None, 33, 3333.33, \"Spain\"),\n",
    "    (6666, \"2022-03-23\", \"03206\", None, 2222.22, \"Spain\"),\n",
    "    (6666, \"2022-03-24\", \"03206\", None, None, \"Espain\"),\n",
    "    (None, None, None, None, None, None)\n",
    "]\n",
    "malDF = spark.createDataFrame(malasVentas, [\"ProductID\", \"Date\", \"Zip\", \"Units\", \"Revenue\" , \"Country\"])\n",
    "malDF.show()"
   ]
  },
  {
   "cell_type": "code",
   "execution_count": 154,
   "id": "545fd91d",
   "metadata": {},
   "outputs": [
    {
     "name": "stdout",
     "output_type": "stream",
     "text": [
      "+---------+----------+----+-----+-------+-------+\n",
      "|ProductID|      Date| Zip|Units|Revenue|Country|\n",
      "+---------+----------+----+-----+-------+-------+\n",
      "|     6666|2022-03-22|null|   33|3333.33|  Spain|\n",
      "|     null|      null|null| null|   null|   null|\n",
      "+---------+----------+----+-----+-------+-------+\n",
      "\n"
     ]
    }
   ],
   "source": [
    "malDF.filter(malDF.Zip.isNull()).show()"
   ]
  },
  {
   "cell_type": "code",
   "execution_count": 155,
   "id": "b15c7def",
   "metadata": {},
   "outputs": [
    {
     "name": "stdout",
     "output_type": "stream",
     "text": [
      "+---------+----------+-----+-----+-------+-------+\n",
      "|ProductID|      Date|  Zip|Units|Revenue|Country|\n",
      "+---------+----------+-----+-----+-------+-------+\n",
      "|     6666|2022-03-22|03206|   33|3333.33|  Spain|\n",
      "|     6666|2022-03-22| null|   33|3333.33|  Spain|\n",
      "|     6666|2022-03-23|03206| null|2222.22|  Spain|\n",
      "|     6666|2022-03-24|03206| null|   null| Espain|\n",
      "+---------+----------+-----+-----+-------+-------+\n",
      "\n"
     ]
    }
   ],
   "source": [
    "malDF.na.drop(\"all\").show()"
   ]
  },
  {
   "cell_type": "code",
   "execution_count": 156,
   "id": "2eef091e",
   "metadata": {},
   "outputs": [
    {
     "name": "stdout",
     "output_type": "stream",
     "text": [
      "+---------+----------+-----+-----+-------+-------+\n",
      "|ProductID|      Date|  Zip|Units|Revenue|Country|\n",
      "+---------+----------+-----+-----+-------+-------+\n",
      "|     6666|2022-03-22|03206|   33|3333.33|  Spain|\n",
      "|     6666|2022-03-23|03206| null|2222.22|  Spain|\n",
      "|     6666|2022-03-24|03206| null|   null| Espain|\n",
      "+---------+----------+-----+-----+-------+-------+\n",
      "\n"
     ]
    }
   ],
   "source": [
    "malDF.na.drop(subset=[\"Zip\"]).show()"
   ]
  },
  {
   "cell_type": "code",
   "execution_count": 157,
   "id": "99377959",
   "metadata": {},
   "outputs": [
    {
     "name": "stdout",
     "output_type": "stream",
     "text": [
      "+---------+----------+-----+-----+-------+-------+\n",
      "|ProductID|      Date|  Zip|Units|Revenue|Country|\n",
      "+---------+----------+-----+-----+-------+-------+\n",
      "|     6666|2022-03-22|03206|   33|3333.33|  Spain|\n",
      "|     6666|2022-03-22|99999|   33|3333.33|  Spain|\n",
      "|     6666|2022-03-23|03206| null|2222.22|  Spain|\n",
      "|     6666|2022-03-24|03206| null|   null| Espain|\n",
      "|     null|      null|99999| null|   null|   null|\n",
      "+---------+----------+-----+-----+-------+-------+\n",
      "\n"
     ]
    }
   ],
   "source": [
    "# Rellenamos los zips vacios por 99999\n",
    "malDF.na.fill(\"99999\", subset=[\"Zip\"]).show()"
   ]
  },
  {
   "cell_type": "code",
   "execution_count": 158,
   "id": "b22994c9",
   "metadata": {},
   "outputs": [
    {
     "name": "stdout",
     "output_type": "stream",
     "text": [
      "+---------+----------+-----+-----+-------+-------+\n",
      "|ProductID|      Date|  Zip|Units|Revenue|Country|\n",
      "+---------+----------+-----+-----+-------+-------+\n",
      "|     6666|2022-03-22|03206|   33|3333.33|  Spain|\n",
      "|     6666|2022-03-22| null|   33|3333.33|  Spain|\n",
      "|     6666|2022-03-23|03206| null|2222.22|  Spain|\n",
      "|     6666|2022-03-24|03206| null|   null|  Spain|\n",
      "|     null|      null| null| null|   null|   null|\n",
      "+---------+----------+-----+-----+-------+-------+\n",
      "\n"
     ]
    }
   ],
   "source": [
    "malDF.na.replace(\"Espain\", \"Spain\").show()"
   ]
  },
  {
   "cell_type": "markdown",
   "id": "00e863db",
   "metadata": {},
   "source": [
    "### Agrupaciones"
   ]
  },
  {
   "cell_type": "code",
   "execution_count": null,
   "id": "97faf27b",
   "metadata": {},
   "outputs": [],
   "source": []
  },
  {
   "cell_type": "code",
   "execution_count": null,
   "id": "b7e30e93",
   "metadata": {},
   "outputs": [],
   "source": []
  },
  {
   "cell_type": "code",
   "execution_count": 14,
   "id": "8d4f5d15",
   "metadata": {},
   "outputs": [
    {
     "name": "stderr",
     "output_type": "stream",
     "text": [
      "                                                                                \r"
     ]
    },
    {
     "name": "stdout",
     "output_type": "stream",
     "text": [
      "+-------+-----+\n",
      "|Country|count|\n",
      "+-------+-----+\n",
      "|Germany|30059|\n",
      "| France|    1|\n",
      "|France |30059|\n",
      "|Canada |30060|\n",
      "|Mexico |30060|\n",
      "+-------+-----+\n",
      "\n"
     ]
    }
   ],
   "source": [
    "df.groupBy(\"Country\").count().show()"
   ]
  },
  {
   "cell_type": "code",
   "execution_count": 15,
   "id": "98d9c669",
   "metadata": {},
   "outputs": [
    {
     "name": "stderr",
     "output_type": "stream",
     "text": [
      "                                                                                \r"
     ]
    },
    {
     "name": "stdout",
     "output_type": "stream",
     "text": [
      "+-------+-----+\n",
      "|Country|count|\n",
      "+-------+-----+\n",
      "|Germany|30059|\n",
      "| France|30060|\n",
      "| Mexico|30060|\n",
      "| Canada|30060|\n",
      "+-------+-----+\n",
      "\n"
     ]
    }
   ],
   "source": [
    "# Corregimos el error de \" France\"\n",
    "from pyspark.sql.functions import trim\n",
    "df = df.withColumn(\"Country\", trim(df.Country))\n",
    "df.groupBy(\"Country\").count().show()"
   ]
  },
  {
   "cell_type": "code",
   "execution_count": 16,
   "id": "2f45c0f5",
   "metadata": {},
   "outputs": [
    {
     "name": "stderr",
     "output_type": "stream",
     "text": [
      "                                                                                \r"
     ]
    },
    {
     "name": "stdout",
     "output_type": "stream",
     "text": [
      "+-------+------------------+\n",
      "|Country|      avg(Revenue)|\n",
      "+-------+------------------+\n",
      "|Germany| 498.4237665923521|\n",
      "| France| 402.1271490352905|\n",
      "| Mexico| 379.0618330007039|\n",
      "| Canada|387.31251497012323|\n",
      "+-------+------------------+\n",
      "\n"
     ]
    }
   ],
   "source": [
    "df.groupBy(\"Country\").avg(\"Revenue\").show()"
   ]
  },
  {
   "cell_type": "code",
   "execution_count": 17,
   "id": "1b27e1de",
   "metadata": {},
   "outputs": [
    {
     "name": "stdout",
     "output_type": "stream",
     "text": [
      "+-------+----------+\n",
      "|Country|sum(Units)|\n",
      "+-------+----------+\n",
      "|Germany|     31746|\n",
      "| France|     31739|\n",
      "| Mexico|     31095|\n",
      "| Canada|     31148|\n",
      "+-------+----------+\n",
      "\n"
     ]
    }
   ],
   "source": [
    "df.groupBy(\"Country\").sum(\"Units\").show()"
   ]
  },
  {
   "cell_type": "code",
   "execution_count": 18,
   "id": "aed02025",
   "metadata": {},
   "outputs": [
    {
     "name": "stderr",
     "output_type": "stream",
     "text": [
      "                                                                                \r"
     ]
    },
    {
     "name": "stdout",
     "output_type": "stream",
     "text": [
      "+-------+------------------+----------+\n",
      "|Country|      avg(Revenue)|sum(Units)|\n",
      "+-------+------------------+----------+\n",
      "|Germany| 498.4237665923521|     31746|\n",
      "| France| 402.1271490352905|     31739|\n",
      "| Mexico| 379.0618330007039|     31095|\n",
      "| Canada|387.31251497012323|     31148|\n",
      "+-------+------------------+----------+\n",
      "\n"
     ]
    }
   ],
   "source": [
    "# Varuas agregaciones a la vez\n",
    "df.groupBy(\"Country\").agg({\"Units\":\"sum\", \"Revenue\":\"avg\"}).show()"
   ]
  },
  {
   "cell_type": "code",
   "execution_count": 19,
   "id": "2ac36368",
   "metadata": {},
   "outputs": [
    {
     "name": "stderr",
     "output_type": "stream",
     "text": [
      "[Stage 65:>                                                         (0 + 1) / 1]\r"
     ]
    },
    {
     "name": "stdout",
     "output_type": "stream",
     "text": [
      "+---------+----------+---------------+-----+-------+-------+\n",
      "|ProductID|      Date|            Zip|Units|Revenue|Country|\n",
      "+---------+----------+---------------+-----+-------+-------+\n",
      "|      495|1999-03-15|75213 CEDEX 16 |   77|43194.1| France|\n",
      "|     2091|1999-06-15|40213          |   41| 6240.1|Germany|\n",
      "|     2091|1999-10-15|40213          |   41| 6347.7|Germany|\n",
      "+---------+----------+---------------+-----+-------+-------+\n",
      "\n"
     ]
    },
    {
     "name": "stderr",
     "output_type": "stream",
     "text": [
      "                                                                                \r"
     ]
    }
   ],
   "source": [
    "#Filter\n",
    "dfMas40 = df.filter(df.Units > 40)\n",
    "dfMas40.show()"
   ]
  },
  {
   "cell_type": "code",
   "execution_count": 20,
   "id": "29a60ff0",
   "metadata": {},
   "outputs": [
    {
     "name": "stdout",
     "output_type": "stream",
     "text": [
      "+---------+----------+---------------+-----+-------+-------+\n",
      "|ProductID|      Date|            Zip|Units|Revenue|Country|\n",
      "+---------+----------+---------------+-----+-------+-------+\n",
      "|      396|2000-03-01|H1B            |    1|  865.7| Canada|\n",
      "|      413|2000-03-01|R3G            |    1| 1181.0| Canada|\n",
      "|      413|2000-03-01|M5N            |    1| 1181.0| Canada|\n",
      "|      475|2000-03-01|M5R            |    1|  978.1| Canada|\n",
      "|      606|2000-03-01|M4V            |    1|  314.7| Canada|\n",
      "|      663|2000-03-01|H1B            |    1|  771.8| Canada|\n",
      "|      681|2000-03-01|L5N            |    1|  648.6| Canada|\n",
      "|      413|2000-03-01|L5V            |    1| 1181.0| Canada|\n",
      "|      513|2000-03-01|L5N            |    1|  451.4| Canada|\n",
      "|      574|2000-03-01|R3H            |    1|  839.7| Canada|\n",
      "|      596|2000-03-01|H1B            |    1|  752.3| Canada|\n",
      "|      604|2000-03-01|M5X            |    1|  461.7| Canada|\n",
      "|      609|2000-03-01|M5S            |    1|  802.2| Canada|\n",
      "|      559|2000-03-01|R3G            |    1|  590.4| Canada|\n",
      "|      565|2000-03-01|L5R            |    1|  839.7| Canada|\n",
      "|      676|2000-03-01|L5N            |    1|  808.2| Canada|\n",
      "|      676|2000-03-01|M5P            |    1|  808.2| Canada|\n",
      "|      574|2000-03-01|M6H            |    1|  839.7| Canada|\n",
      "|      631|2000-03-01|M4V            |    1|  346.2| Canada|\n",
      "|      631|2000-03-01|M5X            |    1|  346.2| Canada|\n",
      "+---------+----------+---------------+-----+-------+-------+\n",
      "only showing top 20 rows\n",
      "\n"
     ]
    }
   ],
   "source": [
    "df.filter(df.Date == \"2000-03-01\").show()"
   ]
  },
  {
   "cell_type": "code",
   "execution_count": 21,
   "id": "0235d41c",
   "metadata": {},
   "outputs": [
    {
     "name": "stdout",
     "output_type": "stream",
     "text": [
      "+---------+----------+---------------+-----+-------+-------+\n",
      "|ProductID|      Date|            Zip|Units|Revenue|Country|\n",
      "+---------+----------+---------------+-----+-------+-------+\n",
      "|      495|2000-03-01|75391 CEDEX 08 |   18|10395.0| France|\n",
      "|      495|2000-03-01|06175 CEDEX 2  |   16| 9240.0| France|\n",
      "+---------+----------+---------------+-----+-------+-------+\n",
      "\n"
     ]
    }
   ],
   "source": [
    "df.filter((df.Date == \"2000-03-01\") & (df.Units > 10)).show()"
   ]
  },
  {
   "cell_type": "code",
   "execution_count": 22,
   "id": "007fafcb",
   "metadata": {},
   "outputs": [
    {
     "name": "stdout",
     "output_type": "stream",
     "text": [
      "+---------+----------+---------------+-----+-------+-------+\n",
      "|ProductID|      Date|            Zip|Units|Revenue|Country|\n",
      "+---------+----------+---------------+-----+-------+-------+\n",
      "|      725|1999-01-15|41540          |    1|  115.5|Germany|\n",
      "|      787|2002-06-06|41540          |    1|  314.9|Germany|\n",
      "|      788|2002-06-06|41540          |    1|  314.9|Germany|\n",
      "|      940|1999-01-15|22587          |    1|  687.7|Germany|\n",
      "|      396|1999-01-15|22587          |    1|  857.1|Germany|\n",
      "|      734|2003-04-10|22587          |    1|  330.7|Germany|\n",
      "|      769|1999-02-15|22587          |    1|  257.2|Germany|\n",
      "|      499|1999-01-15|12555          |    1|  846.3|Germany|\n",
      "|     2254|1999-01-15|40217          |    1|   57.7|Germany|\n",
      "|       31|2002-05-31|40217          |    1|  761.2|Germany|\n",
      "|      475|1999-02-15|13583          |    1|  970.2|Germany|\n",
      "|      510|1999-01-15|22337          |    1|  837.1|Germany|\n",
      "|      499|2002-06-05|22337          |    1|  883.0|Germany|\n",
      "|      289|1999-02-15|13587          |    1|  866.0|Germany|\n",
      "|      702|1999-02-15|13587          |    1|  286.1|Germany|\n",
      "|      910|1999-03-15|13587          |    1|  414.7|Germany|\n",
      "|      901|1999-02-15|13587          |    2|  818.9|Germany|\n",
      "|      550|1999-01-15|22177          |    1|  404.0|Germany|\n",
      "|      559|1999-01-15|22177          |    1|  585.6|Germany|\n",
      "|      767|2002-06-07|22177          |    1|  105.0|Germany|\n",
      "+---------+----------+---------------+-----+-------+-------+\n",
      "only showing top 20 rows\n",
      "\n"
     ]
    }
   ],
   "source": [
    "df.filter((df.Country == \"Germany\") | (df.Country == \"France\")).show()"
   ]
  },
  {
   "cell_type": "markdown",
   "id": "bc66dad8",
   "metadata": {},
   "source": [
    "## Conjuntos"
   ]
  },
  {
   "cell_type": "code",
   "execution_count": 23,
   "id": "484292b9",
   "metadata": {},
   "outputs": [
    {
     "name": "stderr",
     "output_type": "stream",
     "text": [
      "                                                                                \r"
     ]
    },
    {
     "name": "stdout",
     "output_type": "stream",
     "text": [
      "+-------+\n",
      "|Country|\n",
      "+-------+\n",
      "|Germany|\n",
      "| France|\n",
      "+-------+\n",
      "\n"
     ]
    }
   ],
   "source": [
    "dfFrance = df.filter(df.Country == \"France\")\n",
    "dfGermany = df.filter(df.Country == \"Germany\")\n",
    "dfFB = dfFrance.unionAll(dfGermany)\n",
    "dfFB.select(\"Country\").distinct().show()"
   ]
  },
  {
   "cell_type": "code",
   "execution_count": 24,
   "id": "acd4320a",
   "metadata": {},
   "outputs": [
    {
     "name": "stderr",
     "output_type": "stream",
     "text": [
      "                                                                                \r"
     ]
    },
    {
     "name": "stdout",
     "output_type": "stream",
     "text": [
      "+-------+\n",
      "|Country|\n",
      "+-------+\n",
      "|Germany|\n",
      "| Mexico|\n",
      "| Canada|\n",
      "+-------+\n",
      "\n"
     ]
    }
   ],
   "source": [
    "dfSinFrance = df.exceptAll(dfFrance)\n",
    "dfSinFrance.select(\"Country\").distinct().show()"
   ]
  },
  {
   "cell_type": "code",
   "execution_count": 25,
   "id": "cc01185b",
   "metadata": {},
   "outputs": [
    {
     "name": "stderr",
     "output_type": "stream",
     "text": [
      "                                                                                \r"
     ]
    },
    {
     "name": "stdout",
     "output_type": "stream",
     "text": [
      "+---------+----------+---------------+-----+-------+-------+\n",
      "|ProductID|      Date|            Zip|Units|Revenue|Country|\n",
      "+---------+----------+---------------+-----+-------+-------+\n",
      "|      495|1999-03-15|75213 CEDEX 16 |   77|43194.1| France|\n",
      "+---------+----------+---------------+-----+-------+-------+\n",
      "\n"
     ]
    }
   ],
   "source": [
    "dfMas40France = dfMas40.intersect(dfFrance)\n",
    "dfMas40France.show()"
   ]
  },
  {
   "cell_type": "markdown",
   "id": "32cd5d06",
   "metadata": {},
   "source": [
    "## Reduciendo"
   ]
  },
  {
   "cell_type": "code",
   "execution_count": 26,
   "id": "51a261e8",
   "metadata": {},
   "outputs": [
    {
     "name": "stdout",
     "output_type": "stream",
     "text": [
      "+---------+----------+---------------+-----+-------+-------+\n",
      "|ProductID|      Date|            Zip|Units|Revenue|Country|\n",
      "+---------+----------+---------------+-----+-------+-------+\n",
      "|      725|1999-01-15|41540          |    1|  115.5|Germany|\n",
      "|      787|2002-06-06|41540          |    1|  314.9|Germany|\n",
      "|      788|2002-06-06|41540          |    1|  314.9|Germany|\n",
      "|      940|1999-01-15|22587          |    1|  687.7|Germany|\n",
      "|      396|1999-01-15|22587          |    1|  857.1|Germany|\n",
      "|      734|2003-04-10|22587          |    1|  330.7|Germany|\n",
      "|      769|1999-02-15|22587          |    1|  257.2|Germany|\n",
      "|      499|1999-01-15|12555          |    1|  846.3|Germany|\n",
      "|     2254|1999-01-15|40217          |    1|   57.7|Germany|\n",
      "|       31|2002-05-31|40217          |    1|  761.2|Germany|\n",
      "+---------+----------+---------------+-----+-------+-------+\n",
      "\n"
     ]
    }
   ],
   "source": [
    "# Nos quedamos solo con 10\n",
    "dfPrimeros10 = df.limit(10)\n",
    "dfPrimeros10.show()"
   ]
  },
  {
   "cell_type": "code",
   "execution_count": 27,
   "id": "d7dc6247",
   "metadata": {},
   "outputs": [
    {
     "name": "stdout",
     "output_type": "stream",
     "text": [
      "+---------+----------+-----+-------+-------+\n",
      "|ProductID|      Date|Units|Revenue|Country|\n",
      "+---------+----------+-----+-------+-------+\n",
      "|      725|1999-01-15|    1|  115.5|Germany|\n",
      "|      787|2002-06-06|    1|  314.9|Germany|\n",
      "|      788|2002-06-06|    1|  314.9|Germany|\n",
      "|      940|1999-01-15|    1|  687.7|Germany|\n",
      "|      396|1999-01-15|    1|  857.1|Germany|\n",
      "|      734|2003-04-10|    1|  330.7|Germany|\n",
      "|      769|1999-02-15|    1|  257.2|Germany|\n",
      "|      499|1999-01-15|    1|  846.3|Germany|\n",
      "|     2254|1999-01-15|    1|   57.7|Germany|\n",
      "|       31|2002-05-31|    1|  761.2|Germany|\n",
      "+---------+----------+-----+-------+-------+\n",
      "\n"
     ]
    }
   ],
   "source": [
    "dfPrimeros10sinZip = dfPrimeros10.drop(\"Zip\")\n",
    "dfPrimeros10sinZip.show()"
   ]
  },
  {
   "cell_type": "code",
   "execution_count": 28,
   "id": "42d9b16b",
   "metadata": {},
   "outputs": [
    {
     "data": {
      "text/plain": [
       "120239"
      ]
     },
     "execution_count": 28,
     "metadata": {},
     "output_type": "execute_result"
    }
   ],
   "source": [
    "df.count()"
   ]
  },
  {
   "cell_type": "code",
   "execution_count": 29,
   "id": "d3724c94",
   "metadata": {},
   "outputs": [
    {
     "data": {
      "text/plain": [
       "120239"
      ]
     },
     "execution_count": 29,
     "metadata": {},
     "output_type": "execute_result"
    }
   ],
   "source": [
    "dfSinDuplicados = df.dropDuplicates()\n",
    "df.count()"
   ]
  },
  {
   "cell_type": "code",
   "execution_count": 30,
   "id": "0baa3083",
   "metadata": {},
   "outputs": [
    {
     "name": "stderr",
     "output_type": "stream",
     "text": [
      "                                                                                \r"
     ]
    },
    {
     "data": {
      "text/plain": [
       "799"
      ]
     },
     "execution_count": 30,
     "metadata": {},
     "output_type": "execute_result"
    }
   ],
   "source": [
    "dfSinProductosRepetidos = df.dropDuplicates([\"ProductID\"])\n",
    "dfSinProductosRepetidos.count()"
   ]
  },
  {
   "cell_type": "code",
   "execution_count": null,
   "id": "9fd5f312",
   "metadata": {},
   "outputs": [],
   "source": []
  },
  {
   "cell_type": "code",
   "execution_count": null,
   "id": "4e3afba9-9efc-47bb-9d66-16f8ed76bc74",
   "metadata": {},
   "outputs": [],
   "source": []
  },
  {
   "cell_type": "code",
   "execution_count": null,
   "id": "87b2da6b-d4c7-4325-bafe-22784548bead",
   "metadata": {},
   "outputs": [],
   "source": []
  }
 ],
 "metadata": {
  "kernelspec": {
   "display_name": "Python 3 (ipykernel)",
   "language": "python",
   "name": "python3"
  },
  "language_info": {
   "codemirror_mode": {
    "name": "ipython",
    "version": 3
   },
   "file_extension": ".py",
   "mimetype": "text/x-python",
   "name": "python",
   "nbconvert_exporter": "python",
   "pygments_lexer": "ipython3",
   "version": "3.10.8"
  }
 },
 "nbformat": 4,
 "nbformat_minor": 5
}
