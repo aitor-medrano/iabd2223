{
 "cells": [
  {
   "cell_type": "markdown",
   "metadata": {
    "id": "a1UoZCmc0K4i"
   },
   "source": [
    "# Instalación Spark en Google Colab\n",
    "\n",
    "Primero hemos de instalar Java como prerrequisito"
   ]
  },
  {
   "cell_type": "code",
   "execution_count": 1,
   "metadata": {
    "executionInfo": {
     "elapsed": 15308,
     "status": "ok",
     "timestamp": 1647873161418,
     "user": {
      "displayName": "Aitor Medrano",
      "photoUrl": "https://lh3.googleusercontent.com/a-/AOh14Gia0IIlV-dK_fTVG5vCrlGgokpng0v9DjVrx2V2aQ=s64",
      "userId": "09774478713879625897"
     },
     "user_tz": -60
    },
    "id": "GdcLXkAWz-cA"
   },
   "outputs": [],
   "source": [
    "!apt-get install openjdk-8-jdk-headless -qq > /dev/null"
   ]
  },
  {
   "cell_type": "markdown",
   "metadata": {
    "id": "7ph8I0ue0W0v"
   },
   "source": [
    "El siguiente paso es descargar y configurar Spark:"
   ]
  },
  {
   "cell_type": "code",
   "execution_count": 10,
   "metadata": {
    "executionInfo": {
     "elapsed": 11925,
     "status": "ok",
     "timestamp": 1647873309955,
     "user": {
      "displayName": "Aitor Medrano",
      "photoUrl": "https://lh3.googleusercontent.com/a-/AOh14Gia0IIlV-dK_fTVG5vCrlGgokpng0v9DjVrx2V2aQ=s64",
      "userId": "09774478713879625897"
     },
     "user_tz": -60
    },
    "id": "1BVXsPiK0R_g"
   },
   "outputs": [],
   "source": [
    "!wget -q https://downloads.apache.org/spark/spark-3.2.1/spark-3.2.1-bin-hadoop3.2.tgz"
   ]
  },
  {
   "cell_type": "code",
   "execution_count": null,
   "metadata": {
    "id": "IYcenQir37yi"
   },
   "outputs": [],
   "source": [
    "!tar xvf spark-3.2.1-bin-hadoop3.2.tgz"
   ]
  },
  {
   "cell_type": "markdown",
   "metadata": {
    "id": "GaABCrsq8Y_v"
   },
   "source": [
    "Instalamos pyspark para trabajar mediante Python"
   ]
  },
  {
   "cell_type": "code",
   "execution_count": 14,
   "metadata": {
    "colab": {
     "base_uri": "https://localhost:8080/"
    },
    "executionInfo": {
     "elapsed": 54555,
     "status": "ok",
     "timestamp": 1647873433677,
     "user": {
      "displayName": "Aitor Medrano",
      "photoUrl": "https://lh3.googleusercontent.com/a-/AOh14Gia0IIlV-dK_fTVG5vCrlGgokpng0v9DjVrx2V2aQ=s64",
      "userId": "09774478713879625897"
     },
     "user_tz": -60
    },
    "id": "uGEKP7nq39p3",
    "outputId": "7f464154-5791-45bd-b532-fb23ceb844d3"
   },
   "outputs": [
    {
     "name": "stdout",
     "output_type": "stream",
     "text": [
      "\u001b[K     |████████████████████████████████| 281.4 MB 30 kB/s \n",
      "\u001b[K     |████████████████████████████████| 198 kB 54.9 MB/s \n",
      "\u001b[?25h  Building wheel for pyspark (setup.py) ... \u001b[?25l\u001b[?25hdone\n"
     ]
    }
   ],
   "source": [
    "# instalar pyspark\n",
    "!pip install -q pyspark"
   ]
  },
  {
   "cell_type": "markdown",
   "metadata": {
    "id": "WFLWwnSw0vkP"
   },
   "source": [
    "Configuramos las variables de entorno"
   ]
  },
  {
   "cell_type": "code",
   "execution_count": 15,
   "metadata": {
    "executionInfo": {
     "elapsed": 259,
     "status": "ok",
     "timestamp": 1647873439870,
     "user": {
      "displayName": "Aitor Medrano",
      "photoUrl": "https://lh3.googleusercontent.com/a-/AOh14Gia0IIlV-dK_fTVG5vCrlGgokpng0v9DjVrx2V2aQ=s64",
      "userId": "09774478713879625897"
     },
     "user_tz": -60
    },
    "id": "UHsqVUvA0bw4"
   },
   "outputs": [],
   "source": [
    "# Variables de Entorno\n",
    "import os\n",
    "os.environ[\"JAVA_HOME\"] = \"/usr/lib/jvm/java-8-openjdk-amd64\"\n",
    "os.environ[\"SPARK_HOME\"] = f\"/content/spark-3.2.1-bin-hadoop3.2\""
   ]
  },
  {
   "cell_type": "markdown",
   "metadata": {
    "id": "SYjExxWj07sw"
   },
   "source": [
    "Cargamos las librerías"
   ]
  },
  {
   "cell_type": "code",
   "execution_count": 18,
   "metadata": {
    "colab": {
     "base_uri": "https://localhost:8080/",
     "height": 219
    },
    "executionInfo": {
     "elapsed": 355,
     "status": "ok",
     "timestamp": 1647873464580,
     "user": {
      "displayName": "Aitor Medrano",
      "photoUrl": "https://lh3.googleusercontent.com/a-/AOh14Gia0IIlV-dK_fTVG5vCrlGgokpng0v9DjVrx2V2aQ=s64",
      "userId": "09774478713879625897"
     },
     "user_tz": -60
    },
    "id": "DCPzREpO063f",
    "outputId": "3c078298-1312-4c04-a742-770fd01620ac"
   },
   "outputs": [
    {
     "data": {
      "text/html": [
       "\n",
       "            <div>\n",
       "                <p><b>SparkSession - in-memory</b></p>\n",
       "                \n",
       "        <div>\n",
       "            <p><b>SparkContext</b></p>\n",
       "\n",
       "            <p><a href=\"http://75a567bb052d:4040\">Spark UI</a></p>\n",
       "\n",
       "            <dl>\n",
       "              <dt>Version</dt>\n",
       "                <dd><code>v3.2.1</code></dd>\n",
       "              <dt>Master</dt>\n",
       "                <dd><code>local[*]</code></dd>\n",
       "              <dt>AppName</dt>\n",
       "                <dd><code>Test_spark</code></dd>\n",
       "            </dl>\n",
       "        </div>\n",
       "        \n",
       "            </div>\n",
       "        "
      ],
      "text/plain": [
       "<pyspark.sql.session.SparkSession at 0x7fc622f1ac50>"
      ]
     },
     "execution_count": 18,
     "metadata": {},
     "output_type": "execute_result"
    }
   ],
   "source": [
    "# Cargar Pyspark\n",
    "from pyspark.sql import SparkSession\n",
    "spark = SparkSession.builder.appName(\"s8a\").master(\"local[*]\").getOrCreate()\n",
    "spark"
   ]
  },
  {
   "cell_type": "markdown",
   "metadata": {
    "id": "_UBo_UH88fGm"
   },
   "source": [
    "Y ya podemos empezar a desarrollar mediante Python en Spark"
   ]
  },
  {
   "cell_type": "code",
   "execution_count": 20,
   "metadata": {
    "colab": {
     "base_uri": "https://localhost:8080/"
    },
    "executionInfo": {
     "elapsed": 5803,
     "status": "ok",
     "timestamp": 1647873558596,
     "user": {
      "displayName": "Aitor Medrano",
      "photoUrl": "https://lh3.googleusercontent.com/a-/AOh14Gia0IIlV-dK_fTVG5vCrlGgokpng0v9DjVrx2V2aQ=s64",
      "userId": "09774478713879625897"
     },
     "user_tz": -60
    },
    "id": "XufkwBXE1JGY",
    "outputId": "80459f4a-4b1a-4953-fb6e-2dd1ec8c2faf"
   },
   "outputs": [
    {
     "data": {
      "text/plain": [
       "5050"
      ]
     },
     "execution_count": 20,
     "metadata": {},
     "output_type": "execute_result"
    }
   ],
   "source": [
    "# Ejemplo RDD\n",
    "# Suma de los 100 primeros números\n",
    "sc = spark.sparkContext\n",
    "rdd = sc.parallelize(range(100 + 1))\n",
    "rdd.sum()"
   ]
  },
  {
   "cell_type": "code",
   "execution_count": 21,
   "metadata": {
    "colab": {
     "base_uri": "https://localhost:8080/"
    },
    "executionInfo": {
     "elapsed": 8204,
     "status": "ok",
     "timestamp": 1647873653408,
     "user": {
      "displayName": "Aitor Medrano",
      "photoUrl": "https://lh3.googleusercontent.com/a-/AOh14Gia0IIlV-dK_fTVG5vCrlGgokpng0v9DjVrx2V2aQ=s64",
      "userId": "09774478713879625897"
     },
     "user_tz": -60
    },
    "id": "-67bbNff6rk3",
    "outputId": "d49c584f-7329-421b-bbae-3d3216d5c06e"
   },
   "outputs": [
    {
     "data": {
      "text/plain": [
       "584"
      ]
     },
     "execution_count": 21,
     "metadata": {},
     "output_type": "execute_result"
    }
   ],
   "source": [
    "# Ejemplo DataFrame\n",
    "!wget -q https://gist.githubusercontent.com/jsdario/6d6c69398cb0c73111e49f1218960f79/raw/8d4fc4548d437e2a7203a5aeeace5477f598827d/el_quijote.txt\n",
    "\n",
    "quijoteTxt = spark.read.text(\"el_quijote.txt\")\n",
    "quijoteTxt.count()  # número de filas del DataFrame - 2186\n",
    "quijoteTxt.first()  # primera fila - Row(value='DON QUIJOTE DE LA MANCHA')\n",
    "# Transformamos un DataFrame en otro nuevo\n",
    "lineasConQuijote = quijoteTxt.filter(quijoteTxt.value.contains(\"Quijote\"))  # DataFrame con las líneas que contiene la palabra Quijote\n",
    "lineasConQuijote.count()  # cantidad de líneas con la palabra Quijote - 584\n",
    "# Las transformaciones se pueden encadenar\n",
    "quijoteTxt.filter(quijoteTxt.value.contains(\"Quijote\")).count()     # idem - 584\n"
   ]
  },
  {
   "cell_type": "code",
   "execution_count": 22,
   "metadata": {
    "colab": {
     "base_uri": "https://localhost:8080/"
    },
    "executionInfo": {
     "elapsed": 1555,
     "status": "ok",
     "timestamp": 1647873770277,
     "user": {
      "displayName": "Aitor Medrano",
      "photoUrl": "https://lh3.googleusercontent.com/a-/AOh14Gia0IIlV-dK_fTVG5vCrlGgokpng0v9DjVrx2V2aQ=s64",
      "userId": "09774478713879625897"
     },
     "user_tz": -60
    },
    "id": "cu5HZYZ37FhI",
    "outputId": "69971227-9d32-4f5d-e439-c91c2e890d24"
   },
   "outputs": [
    {
     "name": "stdout",
     "output_type": "stream",
     "text": [
      "root\n",
      " |-- longitude: double (nullable = true)\n",
      " |-- latitude: double (nullable = true)\n",
      " |-- housing_median_age: double (nullable = true)\n",
      " |-- total_rooms: double (nullable = true)\n",
      " |-- total_bedrooms: double (nullable = true)\n",
      " |-- population: double (nullable = true)\n",
      " |-- households: double (nullable = true)\n",
      " |-- median_income: double (nullable = true)\n",
      " |-- median_house_value: double (nullable = true)\n",
      "\n"
     ]
    }
   ],
   "source": [
    "# Ejemplo datos Collab\n",
    "archivo = './sample_data/california_housing_train.csv'\n",
    "dfSpark = spark.read.csv(archivo, inferSchema=True, header=True)\n",
    "\n",
    "# imprimir tipo de archivo\n",
    "dfSpark.printSchema()"
   ]
  },
  {
   "cell_type": "code",
   "execution_count": 25,
   "metadata": {
    "colab": {
     "base_uri": "https://localhost:8080/"
    },
    "executionInfo": {
     "elapsed": 852,
     "status": "ok",
     "timestamp": 1647873821210,
     "user": {
      "displayName": "Aitor Medrano",
      "photoUrl": "https://lh3.googleusercontent.com/a-/AOh14Gia0IIlV-dK_fTVG5vCrlGgokpng0v9DjVrx2V2aQ=s64",
      "userId": "09774478713879625897"
     },
     "user_tz": -60
    },
    "id": "4hKcApQM7jq3",
    "outputId": "1be694ef-5058-41f1-89f3-99f9bafd303b"
   },
   "outputs": [
    {
     "name": "stdout",
     "output_type": "stream",
     "text": [
      "+-------+-------------------+------------------+------------------+-----------------+-----------------+------------------+-----------------+------------------+------------------+\n",
      "|summary|          longitude|          latitude|housing_median_age|      total_rooms|   total_bedrooms|        population|       households|     median_income|median_house_value|\n",
      "+-------+-------------------+------------------+------------------+-----------------+-----------------+------------------+-----------------+------------------+------------------+\n",
      "|  count|              17000|             17000|             17000|            17000|            17000|             17000|            17000|             17000|             17000|\n",
      "|   mean|-119.56210823529375|  35.6252247058827| 28.58935294117647|2643.664411764706|539.4108235294118|1429.5739411764705|501.2219411764706| 3.883578100000021|207300.91235294117|\n",
      "| stddev| 2.0051664084260357|2.1373397946570867|12.586936981660406|2179.947071452777|421.4994515798648| 1147.852959159527|384.5208408559016|1.9081565183791036|115983.76438720895|\n",
      "|    min|            -124.35|             32.54|               1.0|              2.0|              1.0|               3.0|              1.0|            0.4999|           14999.0|\n",
      "|    max|            -114.31|             41.95|              52.0|          37937.0|           6445.0|           35682.0|           6082.0|           15.0001|          500001.0|\n",
      "+-------+-------------------+------------------+------------------+-----------------+-----------------+------------------+-----------------+------------------+------------------+\n",
      "\n"
     ]
    }
   ],
   "source": [
    "dfSpark.describe().show()"
   ]
  },
  {
   "cell_type": "code",
   "execution_count": null,
   "metadata": {
    "id": "t8r6fQZU7m_f"
   },
   "outputs": [],
   "source": []
  }
 ],
 "metadata": {
  "colab": {
   "authorship_tag": "ABX9TyPt3AgpMsE+ZX8cODLHxR4g",
   "collapsed_sections": [],
   "history_visible": true,
   "name": "PuestaEnMarchaSpark.ipynb",
   "provenance": []
  },
  "kernelspec": {
   "display_name": "Python 3 (ipykernel)",
   "language": "python",
   "name": "python3"
  },
  "language_info": {
   "codemirror_mode": {
    "name": "ipython",
    "version": 3
   },
   "file_extension": ".py",
   "mimetype": "text/x-python",
   "name": "python",
   "nbconvert_exporter": "python",
   "pygments_lexer": "ipython3",
   "version": "3.10.8"
  }
 },
 "nbformat": 4,
 "nbformat_minor": 4
}
