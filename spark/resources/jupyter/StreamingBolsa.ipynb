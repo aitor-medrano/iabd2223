{
 "cells": [
  {
   "cell_type": "code",
   "execution_count": 1,
   "id": "99fb821d-d99c-43dc-8678-00220aed70e2",
   "metadata": {},
   "outputs": [],
   "source": [
    "from pyspark.sql import SparkSession\n",
    "spark = SparkSession \\\n",
    "        .builder \\\n",
    "        .appName(\"Streaming de Ficheros\") \\\n",
    "        .master(\"local[2]\") \\\n",
    "        .config(\"spark.streaming.stopGracefullyOnShutdown\", \"true\") \\\n",
    "        .config(\"spark.sql.shuffle.partitions\", 3) \\\n",
    "        .getOrCreate()"
   ]
  },
  {
   "cell_type": "code",
   "execution_count": 2,
   "id": "973d45e3-6716-4be4-bff1-be1c33ecba86",
   "metadata": {},
   "outputs": [
    {
     "data": {
      "text/html": [
       "\n",
       "            <div>\n",
       "                <p><b>SparkSession - in-memory</b></p>\n",
       "                \n",
       "        <div>\n",
       "            <p><b>SparkContext</b></p>\n",
       "\n",
       "            <p><a href=\"http://58281c9c7ffb:4040\">Spark UI</a></p>\n",
       "\n",
       "            <dl>\n",
       "              <dt>Version</dt>\n",
       "                <dd><code>v3.2.1</code></dd>\n",
       "              <dt>Master</dt>\n",
       "                <dd><code>local[2]</code></dd>\n",
       "              <dt>AppName</dt>\n",
       "                <dd><code>Streaming de Ficheros</code></dd>\n",
       "            </dl>\n",
       "        </div>\n",
       "        \n",
       "            </div>\n",
       "        "
      ],
      "text/plain": [
       "<pyspark.sql.session.SparkSession at 0x7ffbdebaab20>"
      ]
     },
     "execution_count": 2,
     "metadata": {},
     "output_type": "execute_result"
    }
   ],
   "source": [
    "spark"
   ]
  },
  {
   "cell_type": "code",
   "execution_count": 3,
   "id": "3c42be65-4b24-4a40-9564-cc01ee608ab8",
   "metadata": {},
   "outputs": [],
   "source": [
    "from pyspark.sql.types import StructType, StructField, StringType, IntegerType\n",
    "bolsaSchema = StructType([\n",
    "    StructField(\"CreatedTime\", StringType()),\n",
    "    StructField(\"Type\", StringType()),\n",
    "    StructField(\"Amount\", IntegerType()),\n",
    "    StructField(\"BrokerCode\", StringType())\n",
    "])"
   ]
  },
  {
   "cell_type": "code",
   "execution_count": 4,
   "id": "2802b47b-a61e-449d-b2e2-291c3e0cd379",
   "metadata": {},
   "outputs": [],
   "source": [
    "rawDF = spark.readStream \\\n",
    "        .format(\"json\") \\\n",
    "        .option(\"path\", \"entrada\") \\\n",
    "        .option(\"maxFilesPerTrigger\", 1) \\\n",
    "        .schema(bolsaSchema) \\\n",
    "        .load()"
   ]
  },
  {
   "cell_type": "code",
   "execution_count": 5,
   "id": "e043ade3-ef3e-4aa9-a92d-8a8f17c662c2",
   "metadata": {},
   "outputs": [
    {
     "name": "stdout",
     "output_type": "stream",
     "text": [
      "root\n",
      " |-- CreatedTime: string (nullable = true)\n",
      " |-- Type: string (nullable = true)\n",
      " |-- Amount: integer (nullable = true)\n",
      " |-- BrokerCode: string (nullable = true)\n",
      "\n"
     ]
    }
   ],
   "source": [
    "rawDF.printSchema()"
   ]
  },
  {
   "cell_type": "code",
   "execution_count": 6,
   "id": "ee8d1b36-e946-4968-8e0e-9f7d761404ad",
   "metadata": {},
   "outputs": [
    {
     "name": "stdout",
     "output_type": "stream",
     "text": [
      "root\n",
      " |-- CreatedTime: timestamp (nullable = true)\n",
      " |-- Type: string (nullable = true)\n",
      " |-- Amount: integer (nullable = true)\n",
      " |-- BrokerCode: string (nullable = true)\n",
      " |-- Compras: integer (nullable = true)\n",
      " |-- Ventas: integer (nullable = true)\n",
      "\n"
     ]
    }
   ],
   "source": [
    "from pyspark.sql.functions import col, to_timestamp, expr\n",
    "accionesDF = rawDF.withColumn(\"CreatedTime\", to_timestamp(col(\"CreatedTime\"), \"yyyy-MM-dd HH:mm:ss\")) \\\n",
    "    .withColumn(\"Compras\", expr(\"case when Type == 'BUY' then Amount else 0 end\")) \\\n",
    "    .withColumn(\"Ventas\", expr(\"case when Type == 'SELL' then Amount else 0 end\"))\n",
    "\n",
    "accionesDF.printSchema()"
   ]
  },
  {
   "cell_type": "code",
   "execution_count": 84,
   "id": "683f63b3-dd61-48a6-bc68-11179b81c948",
   "metadata": {},
   "outputs": [],
   "source": [
    "# accionesDF.show()"
   ]
  },
  {
   "cell_type": "code",
   "execution_count": 16,
   "id": "5d7a5959-a2c7-44f6-8898-91f37ebb7e08",
   "metadata": {},
   "outputs": [],
   "source": [
    "from pyspark.sql.functions import window, sum\n",
    "windowDF = accionesDF \\\n",
    "    .withWatermark(\"CreatedTime\", \"10 minutes\") \\\n",
    "    .groupBy(  # col(\"BrokerCode\"),\n",
    "         window(col(\"CreatedTime\"), \"15 minutes\")) \\\n",
    "    .agg(sum(\"Compras\").alias(\"Compras\"),\n",
    "         sum(\"Ventas\").alias(\"Ventas\"))\n",
    "\n",
    "salidaDF = windowDF.select(\"window.start\", \"window.end\", \"Compras\", \"Ventas\")"
   ]
  },
  {
   "cell_type": "code",
   "execution_count": 15,
   "id": "d7fd8a26-a654-4bef-a6c5-578c0a4ce362",
   "metadata": {},
   "outputs": [],
   "source": [
    "#bolsaWriterQuery = salidaDF.writeStream \\\n",
    "#        .option(\"checkpointLocation\", \"chk-point-dir\") \\\n",
    "#        .toTable(\"bolsaT\")"
   ]
  },
  {
   "cell_type": "code",
   "execution_count": 71,
   "id": "e0838ca7-434c-4e3d-90af-50408637544c",
   "metadata": {},
   "outputs": [
    {
     "name": "stdout",
     "output_type": "stream",
     "text": [
      "+-----+---+-------+------+\n",
      "|start|end|Compras|Ventas|\n",
      "+-----+---+-------+------+\n",
      "+-----+---+-------+------+\n",
      "\n"
     ]
    }
   ],
   "source": [
    "#spark.read.table(\"bolsaT\").show()"
   ]
  },
  {
   "cell_type": "code",
   "execution_count": 73,
   "id": "75d5a668-d702-49d9-83e0-4355e5941ce0",
   "metadata": {},
   "outputs": [],
   "source": [
    "#consulta = spark.sql(\"select * from bolsaT\")\n",
    "#consulta.show(3)"
   ]
  },
  {
   "cell_type": "code",
   "execution_count": 17,
   "id": "a2cf0532-4e14-4bfb-b165-a92b03dd01c8",
   "metadata": {},
   "outputs": [],
   "source": [
    "bolsaWriterQuery = salidaDF.writeStream \\\n",
    "    .format(\"parquet\") \\\n",
    "    .queryName(\"BolsaWQuery\") \\\n",
    "    .outputMode(\"append\") \\\n",
    "    .option(\"path\", \"salida\") \\\n",
    "    .option(\"checkpointLocation\", \"chk-point-dir\") \\\n",
    "    .trigger(processingTime=\"1 minute\") \\\n",
    "    .start()"
   ]
  },
  {
   "cell_type": "code",
   "execution_count": 32,
   "id": "5290dc4c-7352-4e94-ae4c-9af8a18e98c5",
   "metadata": {},
   "outputs": [],
   "source": [
    "rawBolsaDF = spark.read \\\n",
    "        .format(\"parquet\") \\\n",
    "        .option(\"path\", \"salida\") \\\n",
    "        .load()"
   ]
  },
  {
   "cell_type": "code",
   "execution_count": 33,
   "id": "fa357709-860e-48dd-a01c-4a22ad806672",
   "metadata": {},
   "outputs": [
    {
     "name": "stdout",
     "output_type": "stream",
     "text": [
      "+-------------------+-------------------+-------+------+\n",
      "|              start|                end|Compras|Ventas|\n",
      "+-------------------+-------------------+-------+------+\n",
      "|2022-05-09 10:00:00|2022-05-09 10:15:00|   2400|     0|\n",
      "|2022-05-09 10:15:00|2022-05-09 10:30:00|   2400|  1200|\n",
      "|2022-05-09 10:45:00|2022-05-09 11:00:00|      0|  2100|\n",
      "|2022-05-09 10:30:00|2022-05-09 10:45:00|   2700|     0|\n",
      "+-------------------+-------------------+-------+------+\n",
      "\n"
     ]
    }
   ],
   "source": [
    "rawBolsaDF.show()"
   ]
  },
  {
   "cell_type": "code",
   "execution_count": 37,
   "id": "21fcc40f-e242-44f9-a174-bb2c2d082893",
   "metadata": {},
   "outputs": [
    {
     "name": "stdout",
     "output_type": "stream",
     "text": [
      "+-------------------+-------------------+-------+------+----+\n",
      "|start              |end                |Compras|Ventas|Neto|\n",
      "+-------------------+-------------------+-------+------+----+\n",
      "|2022-05-09 10:00:00|2022-05-09 10:15:00|2400   |0     |2400|\n",
      "|2022-05-09 10:15:00|2022-05-09 10:30:00|4800   |1200  |3600|\n",
      "|2022-05-09 10:30:00|2022-05-09 10:45:00|7500   |1200  |6300|\n",
      "|2022-05-09 10:45:00|2022-05-09 11:00:00|7500   |3300  |4200|\n",
      "+-------------------+-------------------+-------+------+----+\n",
      "\n"
     ]
    }
   ],
   "source": [
    "from pyspark.sql import Window\n",
    "ventanaTotal = Window.orderBy(\"end\") \\\n",
    "    .rowsBetween(Window.unboundedPreceding, Window.currentRow)\n",
    "\n",
    "salidaDF = rawBolsaDF \\\n",
    "    .withColumn(\"Compras\", sum(\"Compras\").over(ventanaTotal)) \\\n",
    "    .withColumn(\"Ventas\", sum(\"Ventas\").over(ventanaTotal)) \\\n",
    "    .withColumn(\"Neto\", expr(\"Compras - Ventas\"))\n",
    "\n",
    "salidaDF.show(truncate=False)"
   ]
  },
  {
   "cell_type": "code",
   "execution_count": null,
   "id": "4708e9c7-c231-4b5e-9f03-32222441f7b8",
   "metadata": {},
   "outputs": [],
   "source": []
  }
 ],
 "metadata": {
  "kernelspec": {
   "display_name": "Python 3 (ipykernel)",
   "language": "python",
   "name": "python3"
  },
  "language_info": {
   "codemirror_mode": {
    "name": "ipython",
    "version": 3
   },
   "file_extension": ".py",
   "mimetype": "text/x-python",
   "name": "python",
   "nbconvert_exporter": "python",
   "pygments_lexer": "ipython3",
   "version": "3.9.10"
  }
 },
 "nbformat": 4,
 "nbformat_minor": 5
}
