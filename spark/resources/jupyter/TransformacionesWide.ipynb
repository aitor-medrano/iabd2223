{
 "cells": [
  {
   "cell_type": "code",
   "execution_count": 2,
   "id": "dd92dd7e-511a-42fd-b2d0-2c22d7ec91b8",
   "metadata": {},
   "outputs": [],
   "source": [
    "from pyspark.sql import SparkSession\n",
    "\n",
    "spark = SparkSession.builder.getOrCreate() # SparkSession de forma programativa\n",
    "sc = spark.sparkContext                    # SparkContext a partir de la sesión"
   ]
  },
  {
   "cell_type": "code",
   "execution_count": 6,
   "id": "202d137f-d585-4ad7-9eb9-0fee55747487",
   "metadata": {},
   "outputs": [
    {
     "data": {
      "text/plain": [
       "120240"
      ]
     },
     "execution_count": 6,
     "metadata": {},
     "output_type": "execute_result"
    }
   ],
   "source": [
    "rdd = sc.textFile(\"pdi_sales_small.csv\")\n",
    "rdd.count()"
   ]
  },
  {
   "cell_type": "code",
   "execution_count": 7,
   "id": "a6afa50e-21e4-40be-b6fa-335f1b931421",
   "metadata": {},
   "outputs": [
    {
     "data": {
      "text/plain": [
       "[('Country', <pyspark.resultiterable.ResultIterable at 0x7f3c142de610>),\n",
       " ('Canada ', <pyspark.resultiterable.ResultIterable at 0x7f3bd054f610>),\n",
       " ('France ', <pyspark.resultiterable.ResultIterable at 0x7f3c143d43d0>),\n",
       " ('France', <pyspark.resultiterable.ResultIterable at 0x7f3c18069a30>),\n",
       " ('Germany', <pyspark.resultiterable.ResultIterable at 0x7f3c18069a90>),\n",
       " ('Mexico ', <pyspark.resultiterable.ResultIterable at 0x7f3c18093670>)]"
      ]
     },
     "execution_count": 7,
     "metadata": {},
     "output_type": "execute_result"
    }
   ],
   "source": [
    "ventas = rdd.map(lambda x: [x.split(\";\")[-1], x.split(\";\")])\n",
    "paisesAgrupados = ventas.groupByKey()\n",
    "paisesAgrupados.collect()"
   ]
  },
  {
   "cell_type": "code",
   "execution_count": null,
   "id": "099495f8-2111-4b5d-b985-ec60f630572d",
   "metadata": {},
   "outputs": [],
   "source": []
  },
  {
   "cell_type": "code",
   "execution_count": null,
   "id": "71156532-5239-42e0-926d-9976addcadd2",
   "metadata": {},
   "outputs": [],
   "source": []
  },
  {
   "cell_type": "code",
   "execution_count": 9,
   "id": "6b575b88-72f1-484d-b5ab-3c1b4e11fba0",
   "metadata": {},
   "outputs": [],
   "source": [
    "rdd = sc.textFile(\"pdi_sales_small.csv\")\n",
    "# Recogemos el país y las unidades de las ventas\n",
    "parPais1 = rdd.map(lambda x: (x.split(\";\")[-1].strip(), 1))\n",
    "#parPais1.collect()"
   ]
  },
  {
   "cell_type": "code",
   "execution_count": 12,
   "id": "75f7d46b-9a81-41a8-b2c4-0cfccfc6c210",
   "metadata": {},
   "outputs": [],
   "source": [
    "header = parPais1.first()\n",
    "parPais1SinHeader = parPais1.filter(lambda linea: linea != header)\n",
    "#parPais1SinHeader.collect()"
   ]
  },
  {
   "cell_type": "code",
   "execution_count": 14,
   "id": "63dad69a-0028-41d5-aa8a-77a6caf8b86e",
   "metadata": {},
   "outputs": [
    {
     "data": {
      "text/plain": [
       "[('Mexico', 30060), ('France', 30060), ('Germany', 30059), ('Canada', 30060)]"
      ]
     },
     "execution_count": 14,
     "metadata": {},
     "output_type": "execute_result"
    }
   ],
   "source": [
    "paisesTotal = parPais1SinHeader.reduceByKey(lambda a,b: a+b)\n",
    "paisesTotal.collect()"
   ]
  },
  {
   "cell_type": "code",
   "execution_count": null,
   "id": "33982309-eecd-4244-b79f-a4179e0f3c7d",
   "metadata": {},
   "outputs": [],
   "source": [
    "\n"
   ]
  },
  {
   "cell_type": "code",
   "execution_count": 19,
   "id": "3735dbd9-c96b-409b-87cd-49c65b644183",
   "metadata": {},
   "outputs": [
    {
     "data": {
      "text/plain": [
       "[('Mexico', 31095), ('France', 31739), ('Germany', 31746), ('Canada', 31148)]"
      ]
     },
     "execution_count": 19,
     "metadata": {},
     "output_type": "execute_result"
    }
   ],
   "source": [
    "paisesUnidades = rdd.map(lambda x: (x.split(\";\")[-1].strip(), x.split(\";\")[3]))\n",
    "# Le quitamos el encabezado\n",
    "header = paisesUnidades.first()\n",
    "paisesUnidadesSinHeader = paisesUnidades.filter(lambda linea: linea != header)\n",
    "# Pasamos las unidades a un número entero\n",
    "paisesUnidadesInt = paisesUnidadesSinHeader.map(lambda x: (x[0], int(x[1])))\n",
    "# Reducimos por el pais y sumamos las unidades\n",
    "paisesTotalUnidades = paisesUnidadesInt.reduceByKey(lambda a,b: a+b)\n",
    "paisesTotalUnidades.collect()"
   ]
  },
  {
   "cell_type": "code",
   "execution_count": null,
   "id": "5d6c6c61-ab6f-46d7-829e-d40528754451",
   "metadata": {},
   "outputs": [],
   "source": []
  }
 ],
 "metadata": {
  "kernelspec": {
   "display_name": "Python 3 (ipykernel)",
   "language": "python",
   "name": "python3"
  },
  "language_info": {
   "codemirror_mode": {
    "name": "ipython",
    "version": 3
   },
   "file_extension": ".py",
   "mimetype": "text/x-python",
   "name": "python",
   "nbconvert_exporter": "python",
   "pygments_lexer": "ipython3",
   "version": "3.9.10"
  }
 },
 "nbformat": 4,
 "nbformat_minor": 5
}
