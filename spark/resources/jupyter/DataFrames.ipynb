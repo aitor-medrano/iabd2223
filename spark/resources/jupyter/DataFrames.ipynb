{
 "cells": [
  {
   "cell_type": "code",
   "execution_count": 1,
   "id": "6db646f8",
   "metadata": {},
   "outputs": [],
   "source": [
    "from pyspark.sql import SparkSession\n",
    "\n",
    "spark = SparkSession.builder.getOrCreate() # SparkSession de forma programativa"
   ]
  },
  {
   "cell_type": "code",
   "execution_count": 2,
   "id": "e90d4d7d",
   "metadata": {},
   "outputs": [
    {
     "data": {
      "text/html": [
       "\n",
       "            <div>\n",
       "                <p><b>SparkSession - in-memory</b></p>\n",
       "                \n",
       "        <div>\n",
       "            <p><b>SparkContext</b></p>\n",
       "\n",
       "            <p><a href=\"http://d747fe4a9742:4040\">Spark UI</a></p>\n",
       "\n",
       "            <dl>\n",
       "              <dt>Version</dt>\n",
       "                <dd><code>v3.3.1</code></dd>\n",
       "              <dt>Master</dt>\n",
       "                <dd><code>local[*]</code></dd>\n",
       "              <dt>AppName</dt>\n",
       "                <dd><code>pyspark-shell</code></dd>\n",
       "            </dl>\n",
       "        </div>\n",
       "        \n",
       "            </div>\n",
       "        "
      ],
      "text/plain": [
       "<pyspark.sql.session.SparkSession at 0xffff51da2500>"
      ]
     },
     "execution_count": 2,
     "metadata": {},
     "output_type": "execute_result"
    }
   ],
   "source": [
    "spark"
   ]
  },
  {
   "cell_type": "code",
   "execution_count": 3,
   "id": "a8868208",
   "metadata": {},
   "outputs": [
    {
     "name": "stderr",
     "output_type": "stream",
     "text": [
      "                                                                                \r"
     ]
    },
    {
     "data": {
      "text/plain": [
       "[('Aitor', 182), ('Pedro', 178), ('Marina', 161)]"
      ]
     },
     "execution_count": 3,
     "metadata": {},
     "output_type": "execute_result"
    }
   ],
   "source": [
    "datos = [(\"Aitor\", 182), (\"Pedro\", 178), (\"Marina\", 161)]\n",
    "rdd = spark.sparkContext.parallelize(datos)\n",
    "rdd.collect()"
   ]
  },
  {
   "cell_type": "code",
   "execution_count": 4,
   "id": "0d860702",
   "metadata": {},
   "outputs": [
    {
     "name": "stderr",
     "output_type": "stream",
     "text": [
      "                                                                                \r"
     ]
    },
    {
     "name": "stdout",
     "output_type": "stream",
     "text": [
      "root\n",
      " |-- _1: string (nullable = true)\n",
      " |-- _2: long (nullable = true)\n",
      "\n"
     ]
    }
   ],
   "source": [
    "dfRDD = rdd.toDF()\n",
    "dfRDD.printSchema()"
   ]
  },
  {
   "cell_type": "code",
   "execution_count": 5,
   "id": "e81ca3cf",
   "metadata": {},
   "outputs": [
    {
     "name": "stdout",
     "output_type": "stream",
     "text": [
      "root\n",
      " |-- nombre: string (nullable = true)\n",
      " |-- altura: long (nullable = true)\n",
      "\n"
     ]
    }
   ],
   "source": [
    "columnas = [\"nombre\",\"altura\"]\n",
    "dfRDD = rdd.toDF(columnas)\n",
    "dfRDD.printSchema()"
   ]
  },
  {
   "cell_type": "code",
   "execution_count": 6,
   "id": "36078132",
   "metadata": {},
   "outputs": [
    {
     "name": "stdout",
     "output_type": "stream",
     "text": [
      "+------+------+\n",
      "|nombre|altura|\n",
      "+------+------+\n",
      "| Aitor|   182|\n",
      "| Pedro|   178|\n",
      "|Marina|   161|\n",
      "+------+------+\n",
      "\n"
     ]
    }
   ],
   "source": [
    "dfRDD.show()"
   ]
  },
  {
   "cell_type": "code",
   "execution_count": 7,
   "id": "68a72dca",
   "metadata": {},
   "outputs": [
    {
     "name": "stdout",
     "output_type": "stream",
     "text": [
      "root\n",
      " |-- nombre: string (nullable = true)\n",
      " |-- altura: long (nullable = true)\n",
      "\n"
     ]
    }
   ],
   "source": [
    "# También podemos crear un DF desde SparkSession\n",
    "dfDesdeDatos = spark.createDataFrame(datos).toDF(*columnas)\n",
    "dfDesdeDatos.printSchema()"
   ]
  },
  {
   "cell_type": "code",
   "execution_count": 4,
   "id": "797d602f",
   "metadata": {},
   "outputs": [
    {
     "name": "stdout",
     "output_type": "stream",
     "text": [
      "+-----+-----------+--------------------+-----+-----+\n",
      "|  _id|       city|                 loc|  pop|state|\n",
      "+-----+-----------+--------------------+-----+-----+\n",
      "|01001|     AGAWAM|[-72.622739, 42.0...|15338|   MA|\n",
      "|01002|    CUSHMAN|[-72.51565, 42.37...|36963|   MA|\n",
      "|01005|      BARRE|[-72.108354, 42.4...| 4546|   MA|\n",
      "|01007|BELCHERTOWN|[-72.410953, 42.2...|10579|   MA|\n",
      "|01008|  BLANDFORD|[-72.936114, 42.1...| 1240|   MA|\n",
      "+-----+-----------+--------------------+-----+-----+\n",
      "only showing top 5 rows\n",
      "\n"
     ]
    }
   ],
   "source": [
    "dfCiudades = spark.read.json(\"../zips.json\")\n",
    "dfCiudades.show(5)"
   ]
  },
  {
   "cell_type": "code",
   "execution_count": 15,
   "id": "7dc25955",
   "metadata": {},
   "outputs": [],
   "source": [
    "clientes = [\n",
    "    (\"Aitor\", \"Medrano\", \"Elche\", 3000),\n",
    "    (\"Pedro\", \"Casas\", \"Elche\", 4000),\n",
    "    (\"Laura\", \"García\", \"Elche\", 5000), \n",
    "    (\"Miguel\", \"Ruiz\", \"Torrellano\", 6000),\n",
    "    (\"Isabel\", \"Guillén\", \"Alicante\", 7000)\n",
    "]"
   ]
  },
  {
   "cell_type": "code",
   "execution_count": 16,
   "id": "1ccbe37a-77e9-43b4-8cd5-c2ec6c1bbef6",
   "metadata": {},
   "outputs": [],
   "source": [
    "columnas = [\"nombre\",\"apellidos\", \"ciudad\", \"sueldo\"]"
   ]
  },
  {
   "cell_type": "code",
   "execution_count": 21,
   "id": "ff950891-7341-490d-90ff-06ac1dedf7a7",
   "metadata": {},
   "outputs": [
    {
     "name": "stdout",
     "output_type": "stream",
     "text": [
      "root\n",
      " |-- nombre: string (nullable = true)\n",
      " |-- apellidos: string (nullable = true)\n",
      " |-- ciudad: string (nullable = true)\n",
      " |-- sueldo: long (nullable = true)\n",
      "\n"
     ]
    }
   ],
   "source": [
    "df = spark.createDataFrame(clientes, columnas)\n",
    "df.printSchema()"
   ]
  },
  {
   "cell_type": "code",
   "execution_count": 22,
   "id": "a5c96932-a923-4db2-b565-dac9352b2121",
   "metadata": {},
   "outputs": [
    {
     "name": "stdout",
     "output_type": "stream",
     "text": [
      "+------+---------+------+------+\n",
      "|nombre|apellidos|ciudad|sueldo|\n",
      "+------+---------+------+------+\n",
      "| Aitor|  Medrano| Elche|  3000|\n",
      "| Pedro|    Casas| Elche|  4000|\n",
      "+------+---------+------+------+\n",
      "only showing top 2 rows\n",
      "\n"
     ]
    }
   ],
   "source": [
    "df.show(2)"
   ]
  },
  {
   "cell_type": "code",
   "execution_count": 23,
   "id": "3828763b-f574-44a0-8a0e-1a080f17df1d",
   "metadata": {},
   "outputs": [
    {
     "name": "stdout",
     "output_type": "stream",
     "text": [
      "-RECORD 0------------\n",
      " nombre    | Aitor   \n",
      " apellidos | Medrano \n",
      " ciudad    | Elche   \n",
      " sueldo    | 3000    \n",
      "-RECORD 1------------\n",
      " nombre    | Pedro   \n",
      " apellidos | Casas   \n",
      " ciudad    | Elche   \n",
      " sueldo    | 4000    \n",
      "-RECORD 2------------\n",
      " nombre    | Laura   \n",
      " apellidos | García  \n",
      " ciudad    | Elche   \n",
      " sueldo    | 5000    \n",
      "only showing top 3 rows\n",
      "\n"
     ]
    }
   ],
   "source": [
    "df.show(3, vertical=True)"
   ]
  },
  {
   "cell_type": "code",
   "execution_count": 25,
   "id": "67c8c0e9-f2e0-42f0-ae8d-37e685c900cd",
   "metadata": {},
   "outputs": [
    {
     "name": "stdout",
     "output_type": "stream",
     "text": [
      "+------+---------+----------+------+\n",
      "|nombre|apellidos|ciudad    |sueldo|\n",
      "+------+---------+----------+------+\n",
      "|Aitor |Medrano  |Elche     |3000  |\n",
      "|Pedro |Casas    |Elche     |4000  |\n",
      "|Laura |García   |Elche     |5000  |\n",
      "|Miguel|Ruiz     |Torrellano|6000  |\n",
      "|Isabel|Guillén  |Alicante  |7000  |\n",
      "+------+---------+----------+------+\n",
      "\n"
     ]
    }
   ],
   "source": [
    "df.show(truncate=False)"
   ]
  },
  {
   "cell_type": "code",
   "execution_count": 26,
   "id": "4126ec01-8c21-4952-b544-385daa1e1ece",
   "metadata": {},
   "outputs": [
    {
     "ename": "AnalysisException",
     "evalue": " Failed to find data source: avro. Avro is built-in but external data source module since Spark 2.4. Please deploy the application as per the deployment section of \"Apache Avro Data Source Guide\".        ",
     "output_type": "error",
     "traceback": [
      "\u001b[0;31m---------------------------------------------------------------------------\u001b[0m",
      "\u001b[0;31mAnalysisException\u001b[0m                         Traceback (most recent call last)",
      "Cell \u001b[0;32mIn[26], line 1\u001b[0m\n\u001b[0;32m----> 1\u001b[0m \u001b[43mdf\u001b[49m\u001b[38;5;241;43m.\u001b[39;49m\u001b[43mwrite\u001b[49m\u001b[38;5;241;43m.\u001b[39;49m\u001b[43mformat\u001b[49m\u001b[43m(\u001b[49m\u001b[38;5;124;43m\"\u001b[39;49m\u001b[38;5;124;43mavro\u001b[39;49m\u001b[38;5;124;43m\"\u001b[39;49m\u001b[43m)\u001b[49m\u001b[38;5;241;43m.\u001b[39;49m\u001b[43msave\u001b[49m\u001b[43m(\u001b[49m\u001b[38;5;124;43m\"\u001b[39;49m\u001b[38;5;124;43mclientes.avro\u001b[39;49m\u001b[38;5;124;43m\"\u001b[39;49m\u001b[43m)\u001b[49m\n",
      "File \u001b[0;32m/usr/local/spark/python/pyspark/sql/readwriter.py:968\u001b[0m, in \u001b[0;36mDataFrameWriter.save\u001b[0;34m(self, path, format, mode, partitionBy, **options)\u001b[0m\n\u001b[1;32m    966\u001b[0m     \u001b[38;5;28mself\u001b[39m\u001b[38;5;241m.\u001b[39m_jwrite\u001b[38;5;241m.\u001b[39msave()\n\u001b[1;32m    967\u001b[0m \u001b[38;5;28;01melse\u001b[39;00m:\n\u001b[0;32m--> 968\u001b[0m     \u001b[38;5;28;43mself\u001b[39;49m\u001b[38;5;241;43m.\u001b[39;49m\u001b[43m_jwrite\u001b[49m\u001b[38;5;241;43m.\u001b[39;49m\u001b[43msave\u001b[49m\u001b[43m(\u001b[49m\u001b[43mpath\u001b[49m\u001b[43m)\u001b[49m\n",
      "File \u001b[0;32m/usr/local/spark/python/lib/py4j-0.10.9.5-src.zip/py4j/java_gateway.py:1321\u001b[0m, in \u001b[0;36mJavaMember.__call__\u001b[0;34m(self, *args)\u001b[0m\n\u001b[1;32m   1315\u001b[0m command \u001b[38;5;241m=\u001b[39m proto\u001b[38;5;241m.\u001b[39mCALL_COMMAND_NAME \u001b[38;5;241m+\u001b[39m\\\n\u001b[1;32m   1316\u001b[0m     \u001b[38;5;28mself\u001b[39m\u001b[38;5;241m.\u001b[39mcommand_header \u001b[38;5;241m+\u001b[39m\\\n\u001b[1;32m   1317\u001b[0m     args_command \u001b[38;5;241m+\u001b[39m\\\n\u001b[1;32m   1318\u001b[0m     proto\u001b[38;5;241m.\u001b[39mEND_COMMAND_PART\n\u001b[1;32m   1320\u001b[0m answer \u001b[38;5;241m=\u001b[39m \u001b[38;5;28mself\u001b[39m\u001b[38;5;241m.\u001b[39mgateway_client\u001b[38;5;241m.\u001b[39msend_command(command)\n\u001b[0;32m-> 1321\u001b[0m return_value \u001b[38;5;241m=\u001b[39m \u001b[43mget_return_value\u001b[49m\u001b[43m(\u001b[49m\n\u001b[1;32m   1322\u001b[0m \u001b[43m    \u001b[49m\u001b[43manswer\u001b[49m\u001b[43m,\u001b[49m\u001b[43m \u001b[49m\u001b[38;5;28;43mself\u001b[39;49m\u001b[38;5;241;43m.\u001b[39;49m\u001b[43mgateway_client\u001b[49m\u001b[43m,\u001b[49m\u001b[43m \u001b[49m\u001b[38;5;28;43mself\u001b[39;49m\u001b[38;5;241;43m.\u001b[39;49m\u001b[43mtarget_id\u001b[49m\u001b[43m,\u001b[49m\u001b[43m \u001b[49m\u001b[38;5;28;43mself\u001b[39;49m\u001b[38;5;241;43m.\u001b[39;49m\u001b[43mname\u001b[49m\u001b[43m)\u001b[49m\n\u001b[1;32m   1324\u001b[0m \u001b[38;5;28;01mfor\u001b[39;00m temp_arg \u001b[38;5;129;01min\u001b[39;00m temp_args:\n\u001b[1;32m   1325\u001b[0m     temp_arg\u001b[38;5;241m.\u001b[39m_detach()\n",
      "File \u001b[0;32m/usr/local/spark/python/pyspark/sql/utils.py:196\u001b[0m, in \u001b[0;36mcapture_sql_exception.<locals>.deco\u001b[0;34m(*a, **kw)\u001b[0m\n\u001b[1;32m    192\u001b[0m converted \u001b[38;5;241m=\u001b[39m convert_exception(e\u001b[38;5;241m.\u001b[39mjava_exception)\n\u001b[1;32m    193\u001b[0m \u001b[38;5;28;01mif\u001b[39;00m \u001b[38;5;129;01mnot\u001b[39;00m \u001b[38;5;28misinstance\u001b[39m(converted, UnknownException):\n\u001b[1;32m    194\u001b[0m     \u001b[38;5;66;03m# Hide where the exception came from that shows a non-Pythonic\u001b[39;00m\n\u001b[1;32m    195\u001b[0m     \u001b[38;5;66;03m# JVM exception message.\u001b[39;00m\n\u001b[0;32m--> 196\u001b[0m     \u001b[38;5;28;01mraise\u001b[39;00m converted \u001b[38;5;28;01mfrom\u001b[39;00m \u001b[38;5;28mNone\u001b[39m\n\u001b[1;32m    197\u001b[0m \u001b[38;5;28;01melse\u001b[39;00m:\n\u001b[1;32m    198\u001b[0m     \u001b[38;5;28;01mraise\u001b[39;00m\n",
      "\u001b[0;31mAnalysisException\u001b[0m:  Failed to find data source: avro. Avro is built-in but external data source module since Spark 2.4. Please deploy the application as per the deployment section of \"Apache Avro Data Source Guide\".        "
     ]
    }
   ],
   "source": [
    "df.write.format(\"avro\").save(\"clientes.avro\")"
   ]
  },
  {
   "cell_type": "code",
   "execution_count": 10,
   "id": "19ad3ebd",
   "metadata": {},
   "outputs": [],
   "source": [
    "from pyspark.sql.types import StructType, StructField, StringType, IntegerType\n",
    "esquema = StructType([\n",
    "    StructField(\"nombre\", StringType(), False),\n",
    "    StructField(\"apellidos\", StringType(), False),\n",
    "    StructField(\"ciudad\", StringType(), True),\n",
    "    StructField(\"sueldo\", IntegerType(), False)\n",
    "])"
   ]
  },
  {
   "cell_type": "code",
   "execution_count": 11,
   "id": "6be42b3e",
   "metadata": {},
   "outputs": [
    {
     "name": "stdout",
     "output_type": "stream",
     "text": [
      "root\n",
      " |-- nombre: string (nullable = false)\n",
      " |-- apellidos: string (nullable = false)\n",
      " |-- ciudad: string (nullable = true)\n",
      " |-- sueldo: integer (nullable = false)\n",
      "\n"
     ]
    }
   ],
   "source": [
    "df = spark.createDataFrame(data=clientes, schema=esquema)\n",
    "df.printSchema()"
   ]
  },
  {
   "cell_type": "code",
   "execution_count": 12,
   "id": "a8eb3e55",
   "metadata": {},
   "outputs": [
    {
     "name": "stdout",
     "output_type": "stream",
     "text": [
      "+------+---------+----------+------+\n",
      "|nombre|apellidos|ciudad    |sueldo|\n",
      "+------+---------+----------+------+\n",
      "|Aitor |Medrano  |Elche     |3000  |\n",
      "|Pedro |Casas    |Elche     |4000  |\n",
      "|Laura |García   |Elche     |5000  |\n",
      "|Miguel|Ruiz     |Torrellano|6000  |\n",
      "|Isabel|Guillén  |Alicante  |7000  |\n",
      "+------+---------+----------+------+\n",
      "\n"
     ]
    }
   ],
   "source": [
    "df.show(truncate=False)"
   ]
  },
  {
   "cell_type": "code",
   "execution_count": 13,
   "id": "c3b8f826",
   "metadata": {},
   "outputs": [
    {
     "data": {
      "text/plain": [
       "['nombre', 'apellidos', 'ciudad', 'sueldo']"
      ]
     },
     "execution_count": 13,
     "metadata": {},
     "output_type": "execute_result"
    }
   ],
   "source": [
    "df.columns"
   ]
  },
  {
   "cell_type": "code",
   "execution_count": 14,
   "id": "adbbd0b4",
   "metadata": {},
   "outputs": [
    {
     "data": {
      "text/plain": [
       "[('nombre', 'string'),\n",
       " ('apellidos', 'string'),\n",
       " ('ciudad', 'string'),\n",
       " ('sueldo', 'int')]"
      ]
     },
     "execution_count": 14,
     "metadata": {},
     "output_type": "execute_result"
    }
   ],
   "source": [
    "df.dtypes"
   ]
  },
  {
   "cell_type": "code",
   "execution_count": 15,
   "id": "e708d744",
   "metadata": {},
   "outputs": [
    {
     "data": {
      "text/plain": [
       "StructType(List(StructField(nombre,StringType,false),StructField(apellidos,StringType,false),StructField(ciudad,StringType,true),StructField(sueldo,IntegerType,false)))"
      ]
     },
     "execution_count": 15,
     "metadata": {},
     "output_type": "execute_result"
    }
   ],
   "source": [
    "df.schema"
   ]
  },
  {
   "cell_type": "code",
   "execution_count": 16,
   "id": "67b0f72b",
   "metadata": {},
   "outputs": [
    {
     "name": "stdout",
     "output_type": "stream",
     "text": [
      "+------+---------+------+------+\n",
      "|nombre|apellidos|ciudad|sueldo|\n",
      "+------+---------+------+------+\n",
      "| Aitor|  Medrano| Elche|  3000|\n",
      "| Pedro|    Casas| Elche|  4000|\n",
      "+------+---------+------+------+\n",
      "only showing top 2 rows\n",
      "\n"
     ]
    }
   ],
   "source": [
    "df.show(2)"
   ]
  },
  {
   "cell_type": "code",
   "execution_count": 17,
   "id": "137e9153",
   "metadata": {},
   "outputs": [
    {
     "name": "stdout",
     "output_type": "stream",
     "text": [
      "+------+---------+----------+------+\n",
      "|nombre|apellidos|ciudad    |sueldo|\n",
      "+------+---------+----------+------+\n",
      "|Aitor |Medrano  |Elche     |3000  |\n",
      "|Pedro |Casas    |Elche     |4000  |\n",
      "|Laura |García   |Elche     |5000  |\n",
      "|Miguel|Ruiz     |Torrellano|6000  |\n",
      "|Isabel|Guillén  |Alicante  |7000  |\n",
      "+------+---------+----------+------+\n",
      "\n"
     ]
    }
   ],
   "source": [
    "df.show(truncate=False)"
   ]
  },
  {
   "cell_type": "code",
   "execution_count": 18,
   "id": "ef130aaf",
   "metadata": {},
   "outputs": [
    {
     "name": "stdout",
     "output_type": "stream",
     "text": [
      "-RECORD 0------------\n",
      " nombre    | Aitor   \n",
      " apellidos | Medrano \n",
      " ciudad    | Elche   \n",
      " sueldo    | 3000    \n",
      "-RECORD 1------------\n",
      " nombre    | Pedro   \n",
      " apellidos | Casas   \n",
      " ciudad    | Elche   \n",
      " sueldo    | 4000    \n",
      "-RECORD 2------------\n",
      " nombre    | Laura   \n",
      " apellidos | García  \n",
      " ciudad    | Elche   \n",
      " sueldo    | 5000    \n",
      "only showing top 3 rows\n",
      "\n"
     ]
    }
   ],
   "source": [
    "df.show(3, vertical=True)"
   ]
  },
  {
   "cell_type": "code",
   "execution_count": 19,
   "id": "da340921",
   "metadata": {},
   "outputs": [
    {
     "data": {
      "text/plain": [
       "Row(nombre='Aitor', apellidos='Medrano', ciudad='Elche', sueldo=3000)"
      ]
     },
     "execution_count": 19,
     "metadata": {},
     "output_type": "execute_result"
    }
   ],
   "source": [
    "df.head()"
   ]
  },
  {
   "cell_type": "code",
   "execution_count": 20,
   "id": "3392e3e5",
   "metadata": {},
   "outputs": [
    {
     "data": {
      "text/plain": [
       "Row(nombre='Aitor', apellidos='Medrano', ciudad='Elche', sueldo=3000)"
      ]
     },
     "execution_count": 20,
     "metadata": {},
     "output_type": "execute_result"
    }
   ],
   "source": [
    "df.first()"
   ]
  },
  {
   "cell_type": "code",
   "execution_count": 21,
   "id": "ebd8a8de",
   "metadata": {},
   "outputs": [
    {
     "data": {
      "text/plain": [
       "[Row(nombre='Aitor', apellidos='Medrano', ciudad='Elche', sueldo=3000),\n",
       " Row(nombre='Pedro', apellidos='Casas', ciudad='Elche', sueldo=4000),\n",
       " Row(nombre='Laura', apellidos='García', ciudad='Elche', sueldo=5000)]"
      ]
     },
     "execution_count": 21,
     "metadata": {},
     "output_type": "execute_result"
    }
   ],
   "source": [
    "df.head(3)"
   ]
  },
  {
   "cell_type": "code",
   "execution_count": 22,
   "id": "e4f03d87",
   "metadata": {},
   "outputs": [
    {
     "data": {
      "text/plain": [
       "5"
      ]
     },
     "execution_count": 22,
     "metadata": {},
     "output_type": "execute_result"
    }
   ],
   "source": [
    "df.count()"
   ]
  },
  {
   "cell_type": "code",
   "execution_count": 38,
   "id": "58b8dfc0",
   "metadata": {},
   "outputs": [
    {
     "data": {
      "text/plain": [
       "'Aitor'"
      ]
     },
     "execution_count": 38,
     "metadata": {},
     "output_type": "execute_result"
    }
   ],
   "source": [
    "df.head()[0]"
   ]
  },
  {
   "cell_type": "code",
   "execution_count": 43,
   "id": "d9c95ad8",
   "metadata": {},
   "outputs": [
    {
     "data": {
      "text/plain": [
       "'Aitor'"
      ]
     },
     "execution_count": 43,
     "metadata": {},
     "output_type": "execute_result"
    }
   ],
   "source": [
    "df.head()[\"nombre\"]"
   ]
  },
  {
   "cell_type": "code",
   "execution_count": 50,
   "id": "6fa195a0",
   "metadata": {},
   "outputs": [
    {
     "data": {
      "text/plain": [
       "'Aitor'"
      ]
     },
     "execution_count": 50,
     "metadata": {},
     "output_type": "execute_result"
    }
   ],
   "source": [
    "df.collect()[0][0]"
   ]
  },
  {
   "cell_type": "code",
   "execution_count": 24,
   "id": "e0d0fa8c",
   "metadata": {},
   "outputs": [
    {
     "name": "stderr",
     "output_type": "stream",
     "text": [
      "[Stage 25:===========================================>              (3 + 1) / 4]\r"
     ]
    },
    {
     "name": "stdout",
     "output_type": "stream",
     "text": [
      "+-------+------+---------+----------+------------------+\n",
      "|summary|nombre|apellidos|    ciudad|            sueldo|\n",
      "+-------+------+---------+----------+------------------+\n",
      "|  count|     5|        5|         5|                 5|\n",
      "|   mean|  null|     null|      null|            5000.0|\n",
      "| stddev|  null|     null|      null|1581.1388300841897|\n",
      "|    min| Aitor|    Casas|  Alicante|              3000|\n",
      "|    max| Pedro|     Ruiz|Torrellano|              7000|\n",
      "+-------+------+---------+----------+------------------+\n",
      "\n"
     ]
    },
    {
     "name": "stderr",
     "output_type": "stream",
     "text": [
      "                                                                                \r"
     ]
    }
   ],
   "source": [
    "df.describe().show()"
   ]
  },
  {
   "cell_type": "code",
   "execution_count": 25,
   "id": "95acd6b1",
   "metadata": {},
   "outputs": [
    {
     "data": {
      "text/plain": [
       "[Row(nombre='Aitor', apellidos='Medrano', ciudad='Elche', sueldo=3000),\n",
       " Row(nombre='Pedro', apellidos='Casas', ciudad='Elche', sueldo=4000),\n",
       " Row(nombre='Laura', apellidos='García', ciudad='Elche', sueldo=5000),\n",
       " Row(nombre='Miguel', apellidos='Ruiz', ciudad='Torrellano', sueldo=6000),\n",
       " Row(nombre='Isabel', apellidos='Guillén', ciudad='Alicante', sueldo=7000)]"
      ]
     },
     "execution_count": 25,
     "metadata": {},
     "output_type": "execute_result"
    }
   ],
   "source": [
    "df.collect()"
   ]
  },
  {
   "cell_type": "code",
   "execution_count": 26,
   "id": "e9ecc881",
   "metadata": {},
   "outputs": [
    {
     "data": {
      "text/plain": [
       "[Row(nombre='Aitor', apellidos='Medrano', ciudad='Elche', sueldo=3000),\n",
       " Row(nombre='Pedro', apellidos='Casas', ciudad='Elche', sueldo=4000)]"
      ]
     },
     "execution_count": 26,
     "metadata": {},
     "output_type": "execute_result"
    }
   ],
   "source": [
    "df.take(2)"
   ]
  },
  {
   "cell_type": "code",
   "execution_count": 27,
   "id": "393a519e",
   "metadata": {},
   "outputs": [
    {
     "name": "stdout",
     "output_type": "stream",
     "text": [
      "+------+---------+----------+------+--------------+\n",
      "|nombre|apellidos|    ciudad|sueldo|nombreCompleto|\n",
      "+------+---------+----------+------+--------------+\n",
      "| Aitor|  Medrano|     Elche|  3000| Aitor Medrano|\n",
      "| Pedro|    Casas|     Elche|  4000|   Pedro Casas|\n",
      "| Laura|   García|     Elche|  5000|  Laura García|\n",
      "|Miguel|     Ruiz|Torrellano|  6000|   Miguel Ruiz|\n",
      "|Isabel|  Guillén|  Alicante|  7000|Isabel Guillén|\n",
      "+------+---------+----------+------+--------------+\n",
      "\n"
     ]
    }
   ],
   "source": [
    "from pyspark.sql.functions import concat_ws, col\n",
    "dfNuevo = df.withColumn(\"nombreCompleto\", concat_ws(\" \", col(\"nombre\"), col(\"apellidos\")) )\n",
    "dfNuevo.show()"
   ]
  },
  {
   "cell_type": "code",
   "execution_count": 28,
   "id": "7e5135ff",
   "metadata": {},
   "outputs": [
    {
     "name": "stdout",
     "output_type": "stream",
     "text": [
      "+------+---------+------+------+\n",
      "|nombre|apellidos|ciudad|sueldo|\n",
      "+------+---------+------+------+\n",
      "| Aitor|  Medrano| Elche|  3000|\n",
      "| Pedro|    Casas| Elche|  4000|\n",
      "| Laura|   García| Elche|  5000|\n",
      "+------+---------+------+------+\n",
      "\n"
     ]
    }
   ],
   "source": [
    "df.filter(df.ciudad==\"Elche\").show()"
   ]
  },
  {
   "cell_type": "code",
   "execution_count": 29,
   "id": "4ff9a377",
   "metadata": {},
   "outputs": [
    {
     "name": "stdout",
     "output_type": "stream",
     "text": [
      "+------+---------+----------+------+\n",
      "|nombre|apellidos|    ciudad|sueldo|\n",
      "+------+---------+----------+------+\n",
      "|Miguel|     Ruiz|Torrellano|  6000|\n",
      "|Isabel|  Guillén|  Alicante|  7000|\n",
      "+------+---------+----------+------+\n",
      "\n"
     ]
    }
   ],
   "source": [
    "df.where(df.sueldo>5500).show()"
   ]
  },
  {
   "cell_type": "code",
   "execution_count": 30,
   "id": "e8a47d17",
   "metadata": {},
   "outputs": [
    {
     "name": "stdout",
     "output_type": "stream",
     "text": [
      "+------+---------+\n",
      "|nombre|apellidos|\n",
      "+------+---------+\n",
      "| Aitor|  Medrano|\n",
      "| Pedro|    Casas|\n",
      "| Laura|   García|\n",
      "|Miguel|     Ruiz|\n",
      "|Isabel|  Guillén|\n",
      "+------+---------+\n",
      "\n"
     ]
    }
   ],
   "source": [
    "df.select(\"nombre\", \"apellidos\").show()"
   ]
  },
  {
   "cell_type": "code",
   "execution_count": 31,
   "id": "cbb248ef",
   "metadata": {},
   "outputs": [
    {
     "name": "stdout",
     "output_type": "stream",
     "text": [
      "+------+---------+\n",
      "|nombre|apellidos|\n",
      "+------+---------+\n",
      "| Aitor|  Medrano|\n",
      "| Pedro|    Casas|\n",
      "| Laura|   García|\n",
      "|Miguel|     Ruiz|\n",
      "|Isabel|  Guillén|\n",
      "+------+---------+\n",
      "\n"
     ]
    }
   ],
   "source": [
    "df.select(df.nombre, df.apellidos).show()"
   ]
  },
  {
   "cell_type": "code",
   "execution_count": 32,
   "id": "6c95d289",
   "metadata": {},
   "outputs": [
    {
     "name": "stdout",
     "output_type": "stream",
     "text": [
      "+------+---------+\n",
      "|nombre|apellidos|\n",
      "+------+---------+\n",
      "| Aitor|  Medrano|\n",
      "| Pedro|    Casas|\n",
      "| Laura|   García|\n",
      "|Miguel|     Ruiz|\n",
      "|Isabel|  Guillén|\n",
      "+------+---------+\n",
      "\n"
     ]
    }
   ],
   "source": [
    "df.select(col(\"nombre\"), col(\"apellidos\")).show()"
   ]
  },
  {
   "cell_type": "code",
   "execution_count": 33,
   "id": "efb0b70f",
   "metadata": {},
   "outputs": [
    {
     "name": "stdout",
     "output_type": "stream",
     "text": [
      "+------+---------+\n",
      "|nombre|apellidos|\n",
      "+------+---------+\n",
      "| Aitor|  Medrano|\n",
      "| Pedro|    Casas|\n",
      "| Laura|   García|\n",
      "|Miguel|     Ruiz|\n",
      "|Isabel|  Guillén|\n",
      "+------+---------+\n",
      "\n"
     ]
    }
   ],
   "source": [
    "df.select(df[\"nombre\"], df[\"apellidos\"]).show()"
   ]
  },
  {
   "cell_type": "code",
   "execution_count": 34,
   "id": "2c451c11",
   "metadata": {},
   "outputs": [
    {
     "name": "stdout",
     "output_type": "stream",
     "text": [
      "+--------------+------+------------------+\n",
      "|nombreCompleto|sueldo|       nuevoSueldo|\n",
      "+--------------+------+------------------+\n",
      "| Aitor Medrano|  3000|3300.0000000000005|\n",
      "|   Pedro Casas|  4000|            4400.0|\n",
      "|  Laura García|  5000|            5500.0|\n",
      "|   Miguel Ruiz|  6000| 6600.000000000001|\n",
      "|Isabel Guillén|  7000| 7700.000000000001|\n",
      "+--------------+------+------------------+\n",
      "\n"
     ]
    }
   ],
   "source": [
    "df.select(concat_ws(\" \", col(\"nombre\"), col(\"apellidos\")).alias(\"nombreCompleto\"),\n",
    "          \"sueldo\",\n",
    "          (col(\"sueldo\")*1.1).alias(\"nuevoSueldo\")).show() "
   ]
  },
  {
   "cell_type": "code",
   "execution_count": 35,
   "id": "0e2be2a2",
   "metadata": {},
   "outputs": [
    {
     "name": "stdout",
     "output_type": "stream",
     "text": [
      "+--------------+------+-----------+\n",
      "|nombreCompleto|sueldo|nuevoSueldo|\n",
      "+--------------+------+-----------+\n",
      "| Aitor Medrano|  3000|     3300.0|\n",
      "|   Pedro Casas|  4000|     4400.0|\n",
      "|  Laura García|  5000|     5500.0|\n",
      "|   Miguel Ruiz|  6000|     6600.0|\n",
      "|Isabel Guillén|  7000|     7700.0|\n",
      "+--------------+------+-----------+\n",
      "\n"
     ]
    }
   ],
   "source": [
    "from pyspark.sql.functions import expr\n",
    "df.select(concat_ws(\" \", col(\"nombre\"), col(\"apellidos\")).alias(\"nombreCompleto\"),\n",
    "          \"sueldo\",\n",
    "          expr(\"sueldo*1.1\").alias(\"nuevoSueldo\")).show() "
   ]
  },
  {
   "cell_type": "code",
   "execution_count": 36,
   "id": "2f8c4504",
   "metadata": {},
   "outputs": [
    {
     "name": "stdout",
     "output_type": "stream",
     "text": [
      "+------+---------+------+------+\n",
      "|nombre|apellidos|ciudad|sueldo|\n",
      "+------+---------+------+------+\n",
      "| Laura|   García| Elche|  5000|\n",
      "+------+---------+------+------+\n",
      "\n"
     ]
    }
   ],
   "source": [
    "df.filter((df.ciudad==\"Elche\") & (df.sueldo > 4000)).show()"
   ]
  },
  {
   "cell_type": "code",
   "execution_count": 37,
   "id": "d3fc2d0d",
   "metadata": {},
   "outputs": [
    {
     "name": "stdout",
     "output_type": "stream",
     "text": [
      "+------+---------+----------+------+\n",
      "|nombre|apellidos|    ciudad|sueldo|\n",
      "+------+---------+----------+------+\n",
      "|Miguel|     Ruiz|Torrellano|  6000|\n",
      "|Isabel|  Guillén|  Alicante|  7000|\n",
      "+------+---------+----------+------+\n",
      "\n"
     ]
    }
   ],
   "source": [
    "df.filter((df.ciudad==\"Torrellano\") | (df.ciudad==\"Alicante\")).show()"
   ]
  },
  {
   "cell_type": "code",
   "execution_count": null,
   "id": "89e5faa1",
   "metadata": {},
   "outputs": [],
   "source": []
  },
  {
   "cell_type": "code",
   "execution_count": null,
   "id": "5a47936e",
   "metadata": {},
   "outputs": [],
   "source": []
  },
  {
   "cell_type": "code",
   "execution_count": null,
   "id": "99103494",
   "metadata": {},
   "outputs": [],
   "source": []
  },
  {
   "cell_type": "code",
   "execution_count": null,
   "id": "499d393f",
   "metadata": {},
   "outputs": [],
   "source": []
  },
  {
   "cell_type": "code",
   "execution_count": null,
   "id": "dc11565e",
   "metadata": {},
   "outputs": [],
   "source": []
  },
  {
   "cell_type": "code",
   "execution_count": null,
   "id": "0f159f02",
   "metadata": {},
   "outputs": [],
   "source": []
  },
  {
   "cell_type": "code",
   "execution_count": null,
   "id": "95761580",
   "metadata": {},
   "outputs": [],
   "source": []
  },
  {
   "cell_type": "code",
   "execution_count": null,
   "id": "2e45c16e",
   "metadata": {},
   "outputs": [],
   "source": []
  },
  {
   "cell_type": "code",
   "execution_count": null,
   "id": "5d3165f7",
   "metadata": {},
   "outputs": [],
   "source": []
  },
  {
   "cell_type": "code",
   "execution_count": null,
   "id": "b17eaedb",
   "metadata": {},
   "outputs": [],
   "source": []
  },
  {
   "cell_type": "code",
   "execution_count": null,
   "id": "8c2f3ddf",
   "metadata": {},
   "outputs": [],
   "source": []
  },
  {
   "cell_type": "code",
   "execution_count": null,
   "id": "ef91b8fb",
   "metadata": {},
   "outputs": [],
   "source": []
  }
 ],
 "metadata": {
  "kernelspec": {
   "display_name": "Python 3 (ipykernel)",
   "language": "python",
   "name": "python3"
  },
  "language_info": {
   "codemirror_mode": {
    "name": "ipython",
    "version": 3
   },
   "file_extension": ".py",
   "mimetype": "text/x-python",
   "name": "python",
   "nbconvert_exporter": "python",
   "pygments_lexer": "ipython3",
   "version": "3.10.8"
  }
 },
 "nbformat": 4,
 "nbformat_minor": 5
}
