{
 "cells": [
  {
   "cell_type": "code",
   "execution_count": 3,
   "id": "7e5cb297-f873-49d4-bbde-53fe33199baf",
   "metadata": {},
   "outputs": [],
   "source": [
    "from pyspark.sql import SparkSession\n",
    "\n",
    "spark = SparkSession.builder.getOrCreate() # SparkSession de forma programativa\n",
    "sc = spark.sparkContext                    # SparkContext a partir de la sesión\n",
    "\n",
    "rdd = sc.parallelize(range(100 + 1))"
   ]
  },
  {
   "cell_type": "code",
   "execution_count": 4,
   "id": "43759ff9-0f78-4d16-b1a8-30e26ebf86f8",
   "metadata": {},
   "outputs": [
    {
     "data": {
      "text/plain": [
       "[0, 1, 2]"
      ]
     },
     "execution_count": 4,
     "metadata": {},
     "output_type": "execute_result"
    }
   ],
   "source": [
    "rdd.take(3)"
   ]
  },
  {
   "cell_type": "code",
   "execution_count": 9,
   "id": "05c7b48e-83ba-498b-8971-3deba442dd39",
   "metadata": {},
   "outputs": [],
   "source": [
    "miRDD = sc.parallelize([1,2,3,4,5,6,7,8,9])\n",
    "lista  = ['Hola', 'Adiós', 'Hasta luego']\n",
    "listaRDD = sc.parallelize(lista)"
   ]
  },
  {
   "cell_type": "code",
   "execution_count": 10,
   "id": "c2a4ab5f-c009-4b61-8509-950c28e66232",
   "metadata": {},
   "outputs": [
    {
     "data": {
      "text/plain": [
       "[1, 2, 3]"
      ]
     },
     "execution_count": 10,
     "metadata": {},
     "output_type": "execute_result"
    }
   ],
   "source": [
    "miRDD.take(3)"
   ]
  },
  {
   "cell_type": "code",
   "execution_count": 33,
   "id": "87b24592-2b91-4272-b35a-ee9acac1df06",
   "metadata": {},
   "outputs": [
    {
     "data": {
      "text/plain": [
       "['Hola', 'Adiós']"
      ]
     },
     "execution_count": 33,
     "metadata": {},
     "output_type": "execute_result"
    }
   ],
   "source": [
    "listaRDD.take(2)"
   ]
  },
  {
   "cell_type": "code",
   "execution_count": 34,
   "id": "d05b1700-59ed-4c3c-acc7-16a94614c929",
   "metadata": {},
   "outputs": [
    {
     "data": {
      "text/plain": [
       "[4, 5, 7, 8, 9]"
      ]
     },
     "execution_count": 34,
     "metadata": {},
     "output_type": "execute_result"
    }
   ],
   "source": [
    "miRDDmuestra = miRDD.sample(False, 0.5)\n",
    "miRDDmuestra.collect()"
   ]
  },
  {
   "cell_type": "code",
   "execution_count": 39,
   "id": "36fdf470-cc7d-4267-be04-a452358996f5",
   "metadata": {},
   "outputs": [
    {
     "data": {
      "text/plain": [
       "[7, 5, 4, 9, 2]"
      ]
     },
     "execution_count": 39,
     "metadata": {},
     "output_type": "execute_result"
    }
   ],
   "source": [
    "miRDDmuestraT = miRDD.takeSample(False, 5)\n",
    "miRDDmuestraT"
   ]
  },
  {
   "cell_type": "code",
   "execution_count": 41,
   "id": "05b81300-c8b6-4327-a62e-94a4f8e037e6",
   "metadata": {},
   "outputs": [
    {
     "data": {
      "text/plain": [
       "[9, 8, 7]"
      ]
     },
     "execution_count": 41,
     "metadata": {},
     "output_type": "execute_result"
    }
   ],
   "source": [
    "miRDD.top(3)"
   ]
  },
  {
   "cell_type": "code",
   "execution_count": 46,
   "id": "68ed8e68-7e68-4dc6-a188-9746c26f5963",
   "metadata": {},
   "outputs": [],
   "source": [
    "miRDD.foreach(print)"
   ]
  },
  {
   "cell_type": "code",
   "execution_count": 47,
   "id": "9e03213f-402c-4eef-be62-265454db558b",
   "metadata": {},
   "outputs": [
    {
     "data": {
      "text/plain": [
       "[1, 2, 3, 4, 5, 6, 7, 8, 9]"
      ]
     },
     "execution_count": 47,
     "metadata": {},
     "output_type": "execute_result"
    }
   ],
   "source": [
    "miRDD.collect()"
   ]
  },
  {
   "cell_type": "code",
   "execution_count": 48,
   "id": "cf181c99-b2a8-4bdb-90ff-5822b2b4e8bd",
   "metadata": {},
   "outputs": [
    {
     "data": {
      "text/plain": [
       "[1, 2, 3]"
      ]
     },
     "execution_count": 48,
     "metadata": {},
     "output_type": "execute_result"
    }
   ],
   "source": [
    "miRDD.takeOrdered(3)"
   ]
  },
  {
   "cell_type": "code",
   "execution_count": 50,
   "id": "d5334b70-4656-4038-98a8-be44a66ac0b8",
   "metadata": {},
   "outputs": [
    {
     "data": {
      "text/plain": [
       "[9, 8, 7]"
      ]
     },
     "execution_count": 50,
     "metadata": {},
     "output_type": "execute_result"
    }
   ],
   "source": [
    "miRDD.takeOrdered(3, lambda x: -x)    # [9, 8, 7]"
   ]
  },
  {
   "cell_type": "code",
   "execution_count": null,
   "id": "6228f82f-28ca-47fa-b6e6-499fb8f026f0",
   "metadata": {},
   "outputs": [],
   "source": []
  }
 ],
 "metadata": {
  "kernelspec": {
   "display_name": "Python 3 (ipykernel)",
   "language": "python",
   "name": "python3"
  },
  "language_info": {
   "codemirror_mode": {
    "name": "ipython",
    "version": 3
   },
   "file_extension": ".py",
   "mimetype": "text/x-python",
   "name": "python",
   "nbconvert_exporter": "python",
   "pygments_lexer": "ipython3",
   "version": "3.9.10"
  }
 },
 "nbformat": 4,
 "nbformat_minor": 5
}
