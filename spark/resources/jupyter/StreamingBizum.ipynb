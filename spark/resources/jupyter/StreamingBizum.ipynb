{
 "cells": [
  {
   "cell_type": "code",
   "execution_count": 3,
   "id": "80ee0553-1b06-40ef-baf5-08d257d90e1b",
   "metadata": {},
   "outputs": [],
   "source": [
    "from pyspark.sql import SparkSession\n",
    "spark = SparkSession \\\n",
    "        .builder \\\n",
    "        .appName(\"Streaming de Ficheros\") \\\n",
    "        .master(\"local[2]\") \\\n",
    "        .config(\"spark.streaming.stopGracefullyOnShutdown\", \"true\") \\\n",
    "        .config(\"spark.sql.shuffle.partitions\", 3) \\\n",
    "        .getOrCreate()"
   ]
  },
  {
   "cell_type": "code",
   "execution_count": 4,
   "id": "02d85bc1-b8b5-4abd-b32b-24a1e5850d92",
   "metadata": {},
   "outputs": [],
   "source": [
    "from pyspark.sql.types import StructType, StructField, StringType, LongType, DoubleType, IntegerType, ArrayType\n",
    "esquema = StructType([\n",
    "    StructField(\"Nombre\", StringType()),\n",
    "    StructField(\"Cantidad\", IntegerType()),\n",
    "    StructField(\"Concepto\", StringType())\n",
    "])"
   ]
  },
  {
   "cell_type": "code",
   "execution_count": 6,
   "id": "70cc0c7f-aeac-4aba-845d-89f146c96fd2",
   "metadata": {},
   "outputs": [],
   "source": [
    "bizumsDF = spark.readStream.option(\"sep\",\";\").schema(esquema).csv(\"bizums/recibidos\")"
   ]
  },
  {
   "cell_type": "code",
   "execution_count": 7,
   "id": "bcf2ebb5-b729-4d91-9d0c-7ab87b27ca42",
   "metadata": {},
   "outputs": [],
   "source": [
    "mayorDF = bizumsDF.groupBy(\"Nombre\", \"Concepto\").agg({\"Cantidad\":\"max\"})"
   ]
  },
  {
   "cell_type": "code",
   "execution_count": 8,
   "id": "87506b89-95b1-45e3-bd04-5829680c6a81",
   "metadata": {},
   "outputs": [
    {
     "name": "stdout",
     "output_type": "stream",
     "text": [
      "root\n",
      " |-- Nombre: string (nullable = true)\n",
      " |-- Concepto: string (nullable = true)\n",
      " |-- max(Cantidad): integer (nullable = true)\n",
      "\n"
     ]
    }
   ],
   "source": [
    "mayorDF.printSchema()"
   ]
  },
  {
   "cell_type": "code",
   "execution_count": 9,
   "id": "f4d2fea3-4476-4fa3-bef8-595c2a112afb",
   "metadata": {},
   "outputs": [],
   "source": [
    "# Mostramos las palabras por consola (sink)\n",
    "bizumQuery = mayorDF.writeStream \\\n",
    "        .format(\"console\") \\\n",
    "        .outputMode(\"complete\") \\\n",
    "        .start()"
   ]
  },
  {
   "cell_type": "code",
   "execution_count": null,
   "id": "8d574fa2-8cff-46d7-b762-988d83e29012",
   "metadata": {},
   "outputs": [],
   "source": [
    "bizumQuery.awaitTermination()"
   ]
  },
  {
   "cell_type": "code",
   "execution_count": null,
   "id": "41ca5a4e-c6b5-4272-b115-f426b186d34b",
   "metadata": {},
   "outputs": [],
   "source": []
  }
 ],
 "metadata": {
  "kernelspec": {
   "display_name": "Python 3",
   "language": "python",
   "name": "python3"
  },
  "language_info": {
   "codemirror_mode": {
    "name": "ipython",
    "version": 3
   },
   "file_extension": ".py",
   "mimetype": "text/x-python",
   "name": "python",
   "nbconvert_exporter": "python",
   "pygments_lexer": "ipython3",
   "version": "3.8.10"
  }
 },
 "nbformat": 4,
 "nbformat_minor": 5
}
