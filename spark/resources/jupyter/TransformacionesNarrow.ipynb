{
 "cells": [
  {
   "cell_type": "code",
   "execution_count": 1,
   "id": "f753092b-0afa-40e1-9ffd-cffd5a582a52",
   "metadata": {},
   "outputs": [],
   "source": [
    "from pyspark.sql import SparkSession\n",
    "\n",
    "spark = SparkSession.builder.getOrCreate() # SparkSession de forma programativa\n",
    "sc = spark.sparkContext                    # SparkContext a partir de la sesión"
   ]
  },
  {
   "cell_type": "code",
   "execution_count": 2,
   "id": "82313c44-53e8-4fd0-800f-c26be272a80d",
   "metadata": {},
   "outputs": [
    {
     "data": {
      "text/plain": [
       "[2, 4]"
      ]
     },
     "execution_count": 2,
     "metadata": {},
     "output_type": "execute_result"
    }
   ],
   "source": [
    "rdd = sc.parallelize([1,2,3,4,5])\n",
    "resultRDD = rdd.filter(lambda x: x%2==0)\n",
    "resultRDD.collect() "
   ]
  },
  {
   "cell_type": "code",
   "execution_count": 3,
   "id": "3f937220-f825-4eab-8c3f-9a805e80d554",
   "metadata": {},
   "outputs": [
    {
     "data": {
      "text/plain": [
       "[1, 2, 3, 4, 5, 6, 7, 8]"
      ]
     },
     "execution_count": 3,
     "metadata": {},
     "output_type": "execute_result"
    }
   ],
   "source": [
    "rdd1 = sc.parallelize([1,2,3,4])\n",
    "rdd2 = sc.parallelize([5,6,7,8])\n",
    "resultRDD = rdd1.union(rdd2)\n",
    "resultRDD.collect()     # [2, 4]"
   ]
  },
  {
   "cell_type": "code",
   "execution_count": 4,
   "id": "d08ee76b-e1e5-4581-b752-e2ec32e0e486",
   "metadata": {},
   "outputs": [
    {
     "data": {
      "text/plain": [
       "[3, 4]"
      ]
     },
     "execution_count": 4,
     "metadata": {},
     "output_type": "execute_result"
    }
   ],
   "source": [
    "rdd1 = sc.parallelize([1,2,3,4])\n",
    "rdd2 = sc.parallelize([3,4,5,6])\n",
    "resultRDD = rdd1.intersection(rdd2)\n",
    "resultRDD.collect()     # [1, 2, 3, 4, 5, 6, 7, 8]"
   ]
  },
  {
   "cell_type": "code",
   "execution_count": 13,
   "id": "3c2cd568-11e7-45c3-a09e-2b3e8aa67d85",
   "metadata": {},
   "outputs": [
    {
     "data": {
      "text/plain": [
       "[1, 2]"
      ]
     },
     "execution_count": 13,
     "metadata": {},
     "output_type": "execute_result"
    }
   ],
   "source": [
    "rdd1 = sc.parallelize([1,2,3,4])\n",
    "rdd2 = sc.parallelize([3,4,5,6])\n",
    "resultRDD = rdd1.subtract(rdd2)\n",
    "resultRDD.collect()     # [1, 2, 3, 4, 5, 6, 7, 8]"
   ]
  },
  {
   "cell_type": "code",
   "execution_count": 18,
   "id": "e21aa271-7c42-4b72-8eaa-f0b77f75a076",
   "metadata": {},
   "outputs": [
    {
     "data": {
      "text/plain": [
       "[1, 2, 5, 6]"
      ]
     },
     "execution_count": 18,
     "metadata": {},
     "output_type": "execute_result"
    }
   ],
   "source": [
    "rddA = sc.parallelize([1,2,3,4])\n",
    "rddB = sc.parallelize([3,4,5,6])\n",
    "resultRDD = rddA.subtract(rddB).union(rddB.subtract(rddA))\n",
    "resultRDD.collect()     # [1, 2, 5, 6]"
   ]
  },
  {
   "cell_type": "code",
   "execution_count": 16,
   "id": "6b21cad6-990d-4dfb-8562-1347b4a597b8",
   "metadata": {},
   "outputs": [
    {
     "data": {
      "text/plain": [
       "[1, 2, 5, 6]"
      ]
     },
     "execution_count": 16,
     "metadata": {},
     "output_type": "execute_result"
    }
   ],
   "source": [
    "resultRDD = rddA.union(rddB).subtract(rddB.intersection(rddA))\n",
    "resultRDD.collect()     # [1, 2, 5, 6]"
   ]
  },
  {
   "cell_type": "code",
   "execution_count": 17,
   "id": "e24eac95-77cd-4d27-942d-431fec3299e1",
   "metadata": {},
   "outputs": [
    {
     "data": {
      "text/plain": [
       "['Michael|Montreal,Toronto|Male,30|DB:80|Product:Developer\\x04Lead',\n",
       " 'Will|Montreal|Male,35|Perl:85|Product:Lead,Test:Lead']"
      ]
     },
     "execution_count": 17,
     "metadata": {},
     "output_type": "execute_result"
    }
   ],
   "source": [
    "rdd = sc.textFile(\"empleados.txt\") \n",
    "hombres = rdd.filter(lambda x: x.split(\"|\")[2].split(\",\")[0] == \"Male\")\n",
    "hombres.collect()"
   ]
  },
  {
   "cell_type": "code",
   "execution_count": 11,
   "id": "84c4b2b8-bc9e-46a2-bde5-072796e0a015",
   "metadata": {},
   "outputs": [
    {
     "data": {
      "text/plain": [
       "['Michael',\n",
       " 'Montreal,Toronto',\n",
       " 'Male,30',\n",
       " 'DB:80',\n",
       " 'Product:Developer\\x04Lead',\n",
       " 'Will',\n",
       " 'Montreal',\n",
       " 'Male,35',\n",
       " 'Perl:85',\n",
       " 'Product:Lead,Test:Lead',\n",
       " 'Shelley',\n",
       " 'New York',\n",
       " 'Female,27',\n",
       " 'Python:80',\n",
       " 'Test:Lead,COE:Architect',\n",
       " 'Lucy',\n",
       " 'Vancouver',\n",
       " 'Female,57',\n",
       " 'Sales:89,HR:94',\n",
       " 'Sales:Lead']"
      ]
     },
     "execution_count": 11,
     "metadata": {},
     "output_type": "execute_result"
    }
   ],
   "source": [
    "resultFM = rdd.flatMap(lambda x: x.split(\"|\"))\n",
    "resultFM.collect()"
   ]
  },
  {
   "cell_type": "code",
   "execution_count": 6,
   "id": "85e57408-9070-446a-9ff0-cf4d19281bd0",
   "metadata": {},
   "outputs": [
    {
     "data": {
      "text/plain": [
       "[4, 1, 5, 2, 3]"
      ]
     },
     "execution_count": 6,
     "metadata": {},
     "output_type": "execute_result"
    }
   ],
   "source": [
    "rdd = sc.parallelize([1,1,2,2,3,4,5])\n",
    "resultRDD = rdd.distinct()\n",
    "resultRDD.collect()     # [2, 4] "
   ]
  },
  {
   "cell_type": "code",
   "execution_count": 8,
   "id": "df0b2290-01b0-4e04-8f49-8a2abfbdc310",
   "metadata": {},
   "outputs": [
    {
     "data": {
      "text/plain": [
       "[2, 4, 3, 9, 4, 16, 5, 25, 6, 36, 7, 49, 8, 64, 9, 81, 10, 100]"
      ]
     },
     "execution_count": 8,
     "metadata": {},
     "output_type": "execute_result"
    }
   ],
   "source": [
    "# Transformaciones anidadas\n",
    "rdd10 = sc.parallelize(range(10+1))\n",
    "rddPares = rdd10.map(lambda x: (x, x**2)).filter(lambda x: (x[0] != x[1])).flatMap(lambda x: x)\n",
    "rddPares.collect()"
   ]
  },
  {
   "cell_type": "code",
   "execution_count": null,
   "id": "b45e9f5e-85b6-454d-8f21-83554abb9d81",
   "metadata": {},
   "outputs": [],
   "source": []
  }
 ],
 "metadata": {
  "kernelspec": {
   "display_name": "Python 3 (ipykernel)",
   "language": "python",
   "name": "python3"
  },
  "language_info": {
   "codemirror_mode": {
    "name": "ipython",
    "version": 3
   },
   "file_extension": ".py",
   "mimetype": "text/x-python",
   "name": "python",
   "nbconvert_exporter": "python",
   "pygments_lexer": "ipython3",
   "version": "3.9.10"
  }
 },
 "nbformat": 4,
 "nbformat_minor": 5
}
