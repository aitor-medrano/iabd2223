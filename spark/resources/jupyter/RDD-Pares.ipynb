{
 "cells": [
  {
   "cell_type": "code",
   "execution_count": 1,
   "id": "7e5cb297-f873-49d4-bbde-53fe33199baf",
   "metadata": {},
   "outputs": [
    {
     "name": "stderr",
     "output_type": "stream",
     "text": [
      "22/03/17 18:00:10 WARN Utils: Your hostname, MacBook-Air-de-Aitor.local resolves to a loopback address: 127.0.0.1; using 192.168.102.138 instead (on interface en0)\n",
      "22/03/17 18:00:10 WARN Utils: Set SPARK_LOCAL_IP if you need to bind to another address\n",
      "22/03/17 18:00:11 WARN NativeCodeLoader: Unable to load native-hadoop library for your platform... using builtin-java classes where applicable\n",
      "Using Spark's default log4j profile: org/apache/spark/log4j-defaults.properties\n",
      "Setting default log level to \"WARN\".\n",
      "To adjust logging level use sc.setLogLevel(newLevel). For SparkR, use setLogLevel(newLevel).\n"
     ]
    }
   ],
   "source": [
    "from pyspark.sql import SparkSession\n",
    "\n",
    "spark = SparkSession.builder.getOrCreate() # SparkSession de forma programativa\n",
    "sc = spark.sparkContext                    # SparkContext a partir de la sesión"
   ]
  },
  {
   "cell_type": "code",
   "execution_count": 2,
   "id": "fea025f3-375f-4000-9c9a-b81b9983e16c",
   "metadata": {},
   "outputs": [
    {
     "name": "stderr",
     "output_type": "stream",
     "text": [
      "                                                                                \r"
     ]
    },
    {
     "data": {
      "text/plain": [
       "[('Hola', 4), ('Adiós', 5), ('Hasta luego', 11)]"
      ]
     },
     "execution_count": 2,
     "metadata": {},
     "output_type": "execute_result"
    }
   ],
   "source": [
    "lista  = ['Hola', 'Adiós', 'Hasta luego']\n",
    "rddMap = sc.parallelize(lista).map(lambda x: (x, len(x)))\n",
    "rddMap.collect()"
   ]
  },
  {
   "cell_type": "code",
   "execution_count": 3,
   "id": "8fbc8ddc-087f-409e-a393-e20ecc532b80",
   "metadata": {},
   "outputs": [
    {
     "data": {
      "text/plain": [
       "[('H', 'Hola'), ('A', 'Adiós'), ('H', 'Hasta luego')]"
      ]
     },
     "execution_count": 3,
     "metadata": {},
     "output_type": "execute_result"
    }
   ],
   "source": [
    "rddKeyBy = sc.parallelize(lista).keyBy(lambda x: x[0])\n",
    "rddKeyBy.collect()"
   ]
  },
  {
   "cell_type": "code",
   "execution_count": 4,
   "id": "e159ca91-4da6-43b6-b33b-6ceb63c17a53",
   "metadata": {},
   "outputs": [
    {
     "data": {
      "text/plain": [
       "[('P', 'Perro'),\n",
       " ('G', 'Gato'),\n",
       " ('L', 'Loro'),\n",
       " ('P', 'Pez'),\n",
       " ('L', 'León'),\n",
       " ('T', 'Tortuga'),\n",
       " ('G', 'Gallina')]"
      ]
     },
     "execution_count": 4,
     "metadata": {},
     "output_type": "execute_result"
    }
   ],
   "source": [
    "animales = \"Perro Gato Loro Pez León Tortuga Gallina\"\n",
    "animalesLista = animales.split(\" \")\n",
    "rdd1 = sc.parallelize(animalesLista)\n",
    "rdd2 = rdd1.keyBy(lambda x: x[0])\n",
    "rdd2.collect()"
   ]
  },
  {
   "cell_type": "code",
   "execution_count": 5,
   "id": "027a25d1-ea87-40ba-9119-54c6abed67c9",
   "metadata": {},
   "outputs": [
    {
     "data": {
      "text/plain": [
       "[(0, 'Perro'),\n",
       " (1, 'Gato'),\n",
       " (2, 'Loro'),\n",
       " (3, 'Pez'),\n",
       " (4, 'León'),\n",
       " (5, 'Tortuga'),\n",
       " (6, 'Gallina')]"
      ]
     },
     "execution_count": 5,
     "metadata": {},
     "output_type": "execute_result"
    }
   ],
   "source": [
    "rdd3 = sc.parallelize(zip(range(len(animalesLista)), animalesLista))\n",
    "rdd3.collect()"
   ]
  },
  {
   "cell_type": "code",
   "execution_count": 6,
   "id": "4b71ec0f-d5d6-42cf-b9fa-e406116a5c20",
   "metadata": {},
   "outputs": [
    {
     "data": {
      "text/plain": [
       "[(100, 'Perro'),\n",
       " (101, 'Gato'),\n",
       " (102, 'Loro'),\n",
       " (103, 'Pez'),\n",
       " (104, 'León'),\n",
       " (105, 'Tortuga'),\n",
       " (106, 'Gallina')]"
      ]
     },
     "execution_count": 6,
     "metadata": {},
     "output_type": "execute_result"
    }
   ],
   "source": [
    "rdd4 = sc.parallelize(zip(range(100,100+len(animalesLista)), animalesLista))\n",
    "rdd4.collect()"
   ]
  },
  {
   "cell_type": "code",
   "execution_count": 7,
   "id": "0df89c15-e57c-4755-894a-09d74a323697",
   "metadata": {},
   "outputs": [
    {
     "name": "stderr",
     "output_type": "stream",
     "text": [
      "                                                                                \r"
     ]
    },
    {
     "data": {
      "text/plain": [
       "[('pan', 4),\n",
       " ('leche', 4),\n",
       " ('cereales', 3),\n",
       " ('filetes', 5),\n",
       " ('agua', 2.5),\n",
       " ('azúcar', 1)]"
      ]
     },
     "execution_count": 7,
     "metadata": {},
     "output_type": "execute_result"
    }
   ],
   "source": [
    "lista = [('pan',3), ('agua',2), ('azúcar',1), ('leche',2), ('pan',1), ('cereales',3), ('agua',0.5), ('leche',2), ('filetes',5)]\n",
    "rdd = sc.parallelize(lista)\n",
    "rdd1 = rdd.reduceByKey(lambda x,y: x+y)\n",
    "rdd1.collect()"
   ]
  },
  {
   "cell_type": "code",
   "execution_count": 8,
   "id": "0d395d79-346d-4b8b-a52b-a0be814cacad",
   "metadata": {},
   "outputs": [
    {
     "data": {
      "text/plain": [
       "[('pan', 3),\n",
       " ('leche', 2),\n",
       " ('cereales', 3),\n",
       " ('filetes', 5),\n",
       " ('agua', 2),\n",
       " ('azúcar', 1)]"
      ]
     },
     "execution_count": 8,
     "metadata": {},
     "output_type": "execute_result"
    }
   ],
   "source": [
    "rdd2 = rdd.reduceByKey(lambda x,y: max(x,y))\n",
    "rdd2.collect()"
   ]
  },
  {
   "cell_type": "code",
   "execution_count": 9,
   "id": "00224b73-a246-4e41-aa59-b57a89681140",
   "metadata": {},
   "outputs": [
    {
     "data": {
      "text/plain": [
       "[('pan', 3),\n",
       " ('agua', 2),\n",
       " ('azúcar', 1),\n",
       " ('leche', 2),\n",
       " ('pan', 4),\n",
       " ('pan', 1),\n",
       " ('cereales', 3),\n",
       " ('agua', 0.5),\n",
       " ('leche', 2),\n",
       " ('filetes', 5),\n",
       " ('filetes', 2),\n",
       " ('cereales', 1)]"
      ]
     },
     "execution_count": 9,
     "metadata": {},
     "output_type": "execute_result"
    }
   ],
   "source": [
    "dia1 = [('pan',3), ('agua',2), ('azúcar',1), ('leche',2), ('pan',4)]\n",
    "dia2 = [('pan',1), ('cereales',3), ('agua',0.5), ('leche',2), ('filetes',5)]\n",
    "dia3 = [('filetes',2), ('cereales',1)]\n",
    "rdd = sc.parallelize(dia1).union(sc.parallelize(dia2)).union(sc.parallelize(dia3))\n",
    "rdd.collect()"
   ]
  },
  {
   "cell_type": "code",
   "execution_count": 10,
   "id": "93c8bc68-e5c4-4805-8395-0069bde54a73",
   "metadata": {},
   "outputs": [
    {
     "data": {
      "text/plain": [
       "[('leche', <pyspark.resultiterable.ResultIterable at 0x7fa858c865b0>),\n",
       " ('agua', <pyspark.resultiterable.ResultIterable at 0x7fa858c7ca30>),\n",
       " ('pan', <pyspark.resultiterable.ResultIterable at 0x7fa858c7cdf0>),\n",
       " ('cereales', <pyspark.resultiterable.ResultIterable at 0x7fa858c7c6d0>),\n",
       " ('filetes', <pyspark.resultiterable.ResultIterable at 0x7fa858c7c0a0>),\n",
       " ('azúcar', <pyspark.resultiterable.ResultIterable at 0x7fa858c7c1f0>)]"
      ]
     },
     "execution_count": 10,
     "metadata": {},
     "output_type": "execute_result"
    }
   ],
   "source": [
    "rdd1=rdd.groupByKey()\n",
    "rdd1.collect()"
   ]
  },
  {
   "cell_type": "code",
   "execution_count": 11,
   "id": "4181558e-dc61-4d5c-8ce8-33be56da2032",
   "metadata": {},
   "outputs": [
    {
     "data": {
      "text/plain": [
       "[('leche', [2, 2]),\n",
       " ('agua', [2, 0.5]),\n",
       " ('pan', [3, 4, 1]),\n",
       " ('cereales', [3, 1]),\n",
       " ('filetes', [5, 2]),\n",
       " ('azúcar', [1])]"
      ]
     },
     "execution_count": 11,
     "metadata": {},
     "output_type": "execute_result"
    }
   ],
   "source": [
    "rdd1a = [(x,list(y)) for x,y in rdd1.collect()]\n",
    "rdd1a\n",
    "# rdd1a ya no es un RDD, es una lista que se ha cargado en el driver"
   ]
  },
  {
   "cell_type": "code",
   "execution_count": 12,
   "id": "cc141bb5-e901-4980-b8d7-8fbaa29c73d6",
   "metadata": {},
   "outputs": [
    {
     "data": {
      "text/plain": [
       "[('leche', [2, 2]),\n",
       " ('agua', [2, 0.5]),\n",
       " ('pan', [3, 4, 1]),\n",
       " ('cereales', [3, 1]),\n",
       " ('filetes', [5, 2]),\n",
       " ('azúcar', [1])]"
      ]
     },
     "execution_count": 12,
     "metadata": {},
     "output_type": "execute_result"
    }
   ],
   "source": [
    "rdd1b = rdd1.map(lambda x: (x[0], list(x[1])))\n",
    "rdd1b.collect()\n",
    "#rdd1b sigue siendo un RDD"
   ]
  },
  {
   "cell_type": "code",
   "execution_count": 13,
   "id": "0ef66ff7-0dd9-4b07-9160-f5cb34d06fa2",
   "metadata": {},
   "outputs": [],
   "source": [
    "rdd2 = rdd1.map(lambda x: (x[0], sum(x[1])/len(x[1])))"
   ]
  },
  {
   "cell_type": "code",
   "execution_count": 14,
   "id": "ccdf7871-a46e-406c-bd6d-4a8e277068f1",
   "metadata": {},
   "outputs": [
    {
     "data": {
      "text/plain": [
       "[('leche', 2.0),\n",
       " ('agua', 1.25),\n",
       " ('pan', 2.6666666666666665),\n",
       " ('cereales', 2.0),\n",
       " ('filetes', 3.5),\n",
       " ('azúcar', 1.0)]"
      ]
     },
     "execution_count": 14,
     "metadata": {},
     "output_type": "execute_result"
    }
   ],
   "source": [
    "rdd2.collect()"
   ]
  },
  {
   "cell_type": "code",
   "execution_count": 15,
   "id": "44da9f4d-1a1e-4209-817a-35475685cc96",
   "metadata": {},
   "outputs": [],
   "source": [
    "dia1rdd = sc.parallelize(dia1)\n",
    "dia2rdd = sc.parallelize(dia2)\n",
    "rdd12 = dia1rdd.cogroup(dia2rdd)"
   ]
  },
  {
   "cell_type": "code",
   "execution_count": 16,
   "id": "0363714f-b178-4f3d-9322-47539b2ab79a",
   "metadata": {},
   "outputs": [
    {
     "data": {
      "text/plain": [
       "[('agua',\n",
       "  (<pyspark.resultiterable.ResultIterable at 0x7fa858c95520>,\n",
       "   <pyspark.resultiterable.ResultIterable at 0x7fa858c9dd00>)),\n",
       " ('pan',\n",
       "  (<pyspark.resultiterable.ResultIterable at 0x7fa858c9dd60>,\n",
       "   <pyspark.resultiterable.ResultIterable at 0x7fa858c9ddf0>)),\n",
       " ('leche',\n",
       "  (<pyspark.resultiterable.ResultIterable at 0x7fa858c9de50>,\n",
       "   <pyspark.resultiterable.ResultIterable at 0x7fa858c9deb0>)),\n",
       " ('cereales',\n",
       "  (<pyspark.resultiterable.ResultIterable at 0x7fa858c9df10>,\n",
       "   <pyspark.resultiterable.ResultIterable at 0x7fa858c9df70>)),\n",
       " ('filetes',\n",
       "  (<pyspark.resultiterable.ResultIterable at 0x7fa858c9dfd0>,\n",
       "   <pyspark.resultiterable.ResultIterable at 0x7fa858ca8070>)),\n",
       " ('azúcar',\n",
       "  (<pyspark.resultiterable.ResultIterable at 0x7fa858ca8100>,\n",
       "   <pyspark.resultiterable.ResultIterable at 0x7fa858ca8130>))]"
      ]
     },
     "execution_count": 16,
     "metadata": {},
     "output_type": "execute_result"
    }
   ],
   "source": [
    "rdd12.collect()"
   ]
  },
  {
   "cell_type": "code",
   "execution_count": 24,
   "id": "a19f8e62-e395-4715-987d-a24b6c226c35",
   "metadata": {},
   "outputs": [],
   "source": [
    "listaTuplas = [('a',1),('z',3),('b',4),('c',3),('a',4)]\n",
    "rddTuplas= sc.parallelize(listaTuplas)"
   ]
  },
  {
   "cell_type": "code",
   "execution_count": 25,
   "id": "1f43ead6",
   "metadata": {},
   "outputs": [
    {
     "data": {
      "text/plain": [
       "['a', 'z', 'b', 'c', 'a']"
      ]
     },
     "execution_count": 25,
     "metadata": {},
     "output_type": "execute_result"
    }
   ],
   "source": [
    "claves = rddTuplas.keys()\n",
    "claves.collect()"
   ]
  },
  {
   "cell_type": "code",
   "execution_count": 28,
   "id": "b6355f17",
   "metadata": {},
   "outputs": [
    {
     "data": {
      "text/plain": [
       "[1, 3, 4, 3, 4]"
      ]
     },
     "execution_count": 28,
     "metadata": {},
     "output_type": "execute_result"
    }
   ],
   "source": [
    "valores = rddTuplas.values()\n",
    "valores.collect()"
   ]
  },
  {
   "cell_type": "code",
   "execution_count": 31,
   "id": "fff7fa41",
   "metadata": {},
   "outputs": [
    {
     "data": {
      "text/plain": [
       "[('a', (1, 2)), ('z', (3, 6)), ('b', (4, 8)), ('c', (3, 6)), ('a', (4, 8))]"
      ]
     },
     "execution_count": 31,
     "metadata": {},
     "output_type": "execute_result"
    }
   ],
   "source": [
    "rddMapValues = rddTuplas.mapValues(lambda x: (x,x*2))\n",
    "rddMapValues.collect()"
   ]
  },
  {
   "cell_type": "code",
   "execution_count": 34,
   "id": "5b7983fb",
   "metadata": {},
   "outputs": [
    {
     "data": {
      "text/plain": [
       "[('a', 1),\n",
       " ('a', 2),\n",
       " ('z', 3),\n",
       " ('z', 6),\n",
       " ('b', 4),\n",
       " ('b', 8),\n",
       " ('c', 3),\n",
       " ('c', 6),\n",
       " ('a', 4),\n",
       " ('a', 8)]"
      ]
     },
     "execution_count": 34,
     "metadata": {},
     "output_type": "execute_result"
    }
   ],
   "source": [
    "rddFMV = rddTuplas.flatMapValues(lambda x: (x,x*2))\n",
    "rddFMV.collect()"
   ]
  },
  {
   "cell_type": "code",
   "execution_count": 35,
   "id": "b98991c9",
   "metadata": {},
   "outputs": [
    {
     "data": {
      "text/plain": [
       "[('a', 'x'), ('a', 'y'), ('a', 'z'), ('b', 'p'), ('b', 'r')]"
      ]
     },
     "execution_count": 35,
     "metadata": {},
     "output_type": "execute_result"
    }
   ],
   "source": [
    "rddFM = sc.parallelize([(\"a\", [\"x\", \"y\", \"z\"]), (\"b\", [\"p\", \"r\"])])\n",
    "rddFM.flatMapValues(lambda x:x).collect()\n",
    "# en cada clave, crea un nuevo par para cada valor"
   ]
  },
  {
   "cell_type": "code",
   "execution_count": null,
   "id": "90033d21",
   "metadata": {},
   "outputs": [],
   "source": []
  }
 ],
 "metadata": {
  "kernelspec": {
   "display_name": "Python 3 (ipykernel)",
   "language": "python",
   "name": "python3"
  },
  "language_info": {
   "codemirror_mode": {
    "name": "ipython",
    "version": 3
   },
   "file_extension": ".py",
   "mimetype": "text/x-python",
   "name": "python",
   "nbconvert_exporter": "python",
   "pygments_lexer": "ipython3",
   "version": "3.9.10"
  }
 },
 "nbformat": 4,
 "nbformat_minor": 5
}
