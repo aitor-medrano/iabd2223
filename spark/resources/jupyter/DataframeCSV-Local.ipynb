{
 "cells": [
  {
   "cell_type": "code",
   "execution_count": 2,
   "metadata": {},
   "outputs": [
    {
     "name": "stdout",
     "output_type": "stream",
     "text": [
      "root\n",
      " |-- ProductID: string (nullable = true)\n",
      " |-- Date: string (nullable = true)\n",
      " |-- Zip: string (nullable = true)\n",
      " |-- Units: string (nullable = true)\n",
      " |-- Revenue: string (nullable = true)\n",
      " |-- Country: string (nullable = true)\n",
      "\n"
     ]
    }
   ],
   "source": [
    "from pyspark.sql import SparkSession\n",
    "\n",
    "spark = SparkSession.builder.getOrCreate()\n",
    "\n",
    "df = spark.read.option(\"delimiter\",\";\").option(\"header\", \"true\").csv(\"pdi_sales.csv\")\n",
    "\n",
    "df.printSchema()"
   ]
  },
  {
   "cell_type": "code",
   "execution_count": 3,
   "metadata": {},
   "outputs": [
    {
     "name": "stdout",
     "output_type": "stream",
     "text": [
      "+---------+---------+---------------+-----+-------+-------+\n",
      "|ProductID|     Date|            Zip|Units|Revenue|Country|\n",
      "+---------+---------+---------------+-----+-------+-------+\n",
      "|      725|1/15/1999|41540          |    1|  115.5|Germany|\n",
      "|      787| 6/6/2002|41540          |    1|  314.9|Germany|\n",
      "|      788| 6/6/2002|41540          |    1|  314.9|Germany|\n",
      "|      940|1/15/1999|22587          |    1|  687.7|Germany|\n",
      "|      396|1/15/1999|22587          |    1|  857.1|Germany|\n",
      "|      734|4/10/2003|22587          |    1|  330.7|Germany|\n",
      "|      769|2/15/1999|22587          |    1|  257.2|Germany|\n",
      "|      499|1/15/1999|12555          |    1|  846.3|Germany|\n",
      "|     2254|1/15/1999|40217          |    1|   57.7|Germany|\n",
      "|       31|5/31/2002|40217          |    1|  761.2|Germany|\n",
      "|      475|2/15/1999|13583          |    1|  970.2|Germany|\n",
      "|      510|1/15/1999|22337          |    1|  837.1|Germany|\n",
      "|      499| 6/5/2002|22337          |    1|    883|Germany|\n",
      "|      289|2/15/1999|13587          |    1|    866|Germany|\n",
      "|      702|2/15/1999|13587          |    1|  286.1|Germany|\n",
      "|      910|3/15/1999|13587          |    1|  414.7|Germany|\n",
      "|      901|2/15/1999|13587          |    2|  818.9|Germany|\n",
      "|      550|1/15/1999|22177          |    1|    404|Germany|\n",
      "|      559|1/15/1999|22177          |    1|  585.6|Germany|\n",
      "|      767| 6/7/2002|22177          |    1|    105|Germany|\n",
      "+---------+---------+---------------+-----+-------+-------+\n",
      "only showing top 20 rows\n",
      "\n"
     ]
    }
   ],
   "source": [
    "df.show()"
   ]
  },
  {
   "cell_type": "code",
   "execution_count": 4,
   "metadata": {},
   "outputs": [],
   "source": [
    "df.write.json(\"pdi_sales_json\")"
   ]
  }
 ],
 "metadata": {
  "kernelspec": {
   "display_name": "Python 3 (ipykernel)",
   "language": "python",
   "name": "python3"
  },
  "language_info": {
   "codemirror_mode": {
    "name": "ipython",
    "version": 3
   },
   "file_extension": ".py",
   "mimetype": "text/x-python",
   "name": "python",
   "nbconvert_exporter": "python",
   "pygments_lexer": "ipython3",
   "version": "3.10.8"
  }
 },
 "nbformat": 4,
 "nbformat_minor": 4
}
