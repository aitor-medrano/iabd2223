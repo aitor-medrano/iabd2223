{
 "cells": [
  {
   "cell_type": "code",
   "execution_count": 2,
   "id": "a083072b",
   "metadata": {},
   "outputs": [
    {
     "name": "stdout",
     "output_type": "stream",
     "text": [
      "root\n",
      " |-- year: integer (nullable = true)\n",
      " |-- movie: string (nullable = true)\n",
      " |-- movie_id: string (nullable = true)\n",
      " |-- certificate: string (nullable = true)\n",
      " |-- duration: integer (nullable = true)\n",
      " |-- genre: string (nullable = true)\n",
      " |-- rate: double (nullable = true)\n",
      " |-- metascore: integer (nullable = true)\n",
      " |-- synopsis: string (nullable = true)\n",
      " |-- votes: string (nullable = true)\n",
      " |-- gross: string (nullable = true)\n",
      " |-- release_date: string (nullable = true)\n",
      " |-- user_reviews: string (nullable = true)\n",
      " |-- critic_reviews: string (nullable = true)\n",
      " |-- popularity: string (nullable = true)\n",
      " |-- awards_wins: string (nullable = true)\n",
      " |-- awards_nominations: integer (nullable = true)\n",
      " |-- Oscar_Best_Picture_won: string (nullable = true)\n",
      " |-- Oscar_Best_Picture_nominated: string (nullable = true)\n",
      " |-- Oscar_Best_Director_won: string (nullable = true)\n",
      " |-- Oscar_Best_Director_nominated: string (nullable = true)\n",
      " |-- Oscar_Best_Actor_won: string (nullable = true)\n",
      " |-- Oscar_Best_Actor_nominated: string (nullable = true)\n",
      " |-- Oscar_Best_Actress_won: string (nullable = true)\n",
      " |-- Oscar_Best_Actress_nominated: string (nullable = true)\n",
      " |-- Oscar_Best_Supporting_Actor_won: string (nullable = true)\n",
      " |-- Oscar_Best_Supporting_Actor_nominated: string (nullable = true)\n",
      " |-- Oscar_Best_Supporting_Actress_won: string (nullable = true)\n",
      " |-- Oscar_Best_Supporting_Actress_nominated: string (nullable = true)\n",
      " |-- Oscar_Best_AdaScreen_won: string (nullable = true)\n",
      " |-- Oscar_Best_AdaScreen_nominated: string (nullable = true)\n",
      " |-- Oscar_Best_OriScreen_won: string (nullable = true)\n",
      " |-- Oscar_Best_OriScreen_nominated: string (nullable = true)\n",
      " |-- Oscar_nominated: string (nullable = true)\n",
      " |-- Oscar_nominated_categories: string (nullable = true)\n",
      " |-- Golden_Globes_won: string (nullable = true)\n",
      " |-- Golden_Globes_won_categories: string (nullable = true)\n",
      " |-- Golden_Globes_nominated: string (nullable = true)\n",
      " |-- Golden_Globes_nominated_categories: string (nullable = true)\n",
      " |-- BAFTA_won: string (nullable = true)\n",
      " |-- BAFTA_won_categories: string (nullable = true)\n",
      " |-- BAFTA_nominated: string (nullable = true)\n",
      " |-- BAFTA_nominated_categories: string (nullable = true)\n",
      " |-- Screen_Actors_Guild_won: string (nullable = true)\n",
      " |-- Screen_Actors_Guild_won_categories: string (nullable = true)\n",
      " |-- Screen_Actors_Guild_nominated: string (nullable = true)\n",
      " |-- Screen_Actors_Guild_nominated_categories: string (nullable = true)\n",
      " |-- Critics_Choice_won: string (nullable = true)\n",
      " |-- Critics_Choice_won_categories: string (nullable = true)\n",
      " |-- Critics_Choice_nominated: string (nullable = true)\n",
      " |-- Critics_Choice_nominated_categories: string (nullable = true)\n",
      " |-- Directors_Guild_won: string (nullable = true)\n",
      " |-- Directors_Guild_won_categories: string (nullable = true)\n",
      " |-- Directors_Guild_nominated: string (nullable = true)\n",
      " |-- Directors_Guild_nominated_categories: string (nullable = true)\n",
      " |-- Producers_Guild_won: integer (nullable = true)\n",
      " |-- Producers_Guild_won_categories: string (nullable = true)\n",
      " |-- Producers_Guild_nominated: string (nullable = true)\n",
      " |-- Producers_Guild_nominated_categories: string (nullable = true)\n",
      " |-- Art_Directors_Guild_won: string (nullable = true)\n",
      " |-- Art_Directors_Guild_won_categories: string (nullable = true)\n",
      " |-- Art_Directors_Guild_nominated: string (nullable = true)\n",
      " |-- Art_Directors_Guild_nominated_categories: string (nullable = true)\n",
      " |-- Writers_Guild_won: string (nullable = true)\n",
      " |-- Writers_Guild_won_categories: string (nullable = true)\n",
      " |-- Writers_Guild_nominated: string (nullable = true)\n",
      " |-- Writers_Guild_nominated_categories: string (nullable = true)\n",
      " |-- Costume_Designers_Guild_won: string (nullable = true)\n",
      " |-- Costume_Designers_Guild_won_categories: string (nullable = true)\n",
      " |-- Costume_Designers_Guild_nominated: string (nullable = true)\n",
      " |-- Costume_Designers_Guild_nominated_categories: string (nullable = true)\n",
      " |-- Online_Film_Television_Association_won: string (nullable = true)\n",
      " |-- Online_Film_Television_Association_won_categories: string (nullable = true)\n",
      " |-- Online_Film_Television_Association_nominated: string (nullable = true)\n",
      " |-- Online_Film_Television_Association_nominated_categories: string (nullable = true)\n",
      " |-- Online_Film_Critics_Society_won: string (nullable = true)\n",
      " |-- Online_Film_Critics_Society_won_categories: string (nullable = true)\n",
      " |-- Online_Film_Critics_Society_nominated: string (nullable = true)\n",
      " |-- Online_Film_Critics_Society_nominated_categories: string (nullable = true)\n",
      " |-- People_Choice_won: string (nullable = true)\n",
      " |-- People_Choice_won_categories: string (nullable = true)\n",
      " |-- People_Choice_nominated: string (nullable = true)\n",
      " |-- People_Choice_nominated_categories: string (nullable = true)\n",
      " |-- London_Critics_Circle_Film_won: string (nullable = true)\n",
      " |-- London_Critics_Circle_Film_won_categories: string (nullable = true)\n",
      " |-- London_Critics_Circle_Film_nominated: string (nullable = true)\n",
      " |-- London_Critics_Circle_Film_nominated_categories: string (nullable = true)\n",
      " |-- American_Cinema_Editors_won: string (nullable = true)\n",
      " |-- American_Cinema_Editors_won_categories: string (nullable = true)\n",
      " |-- American_Cinema_Editors_nominated: string (nullable = true)\n",
      " |-- American_Cinema_Editors_nominated_categories: string (nullable = true)\n",
      " |-- Hollywood_Film_won: string (nullable = true)\n",
      " |-- Hollywood_Film_won_categories: string (nullable = true)\n",
      " |-- Hollywood_Film_nominated: string (nullable = true)\n",
      " |-- Hollywood_Film_nominated_categories: string (nullable = true)\n",
      " |-- Austin_Film_Critics_Association_won: string (nullable = true)\n",
      " |-- Austin_Film_Critics_Association_won_categories: string (nullable = true)\n",
      " |-- Austin_Film_Critics_Association_nominated: integer (nullable = true)\n",
      " |-- Austin_Film_Critics_Association_nominated_categories: string (nullable = true)\n",
      " |-- Denver_Film_Critics_Society_won: string (nullable = true)\n",
      " |-- Denver_Film_Critics_Society_won_categories: string (nullable = true)\n",
      " |-- Denver_Film_Critics_Society_nominated: string (nullable = true)\n",
      " |-- Denver_Film_Critics_Society_nominated_categories: string (nullable = true)\n",
      " |-- Boston_Society_of_Film_Critics_won: string (nullable = true)\n",
      " |-- Boston_Society_of_Film_Critics_won_categories: string (nullable = true)\n",
      " |-- Boston_Society_of_Film_Critics_nominated: string (nullable = true)\n",
      " |-- Boston_Society_of_Film_Critics_nominated_categories: string (nullable = true)\n",
      " |-- New_York_Film_Critics_Circle_won: string (nullable = true)\n",
      " |-- New_York_Film_Critics_Circle_won_categories: string (nullable = true)\n",
      " |-- New_York_Film_Critics_Circle_nominated: string (nullable = true)\n",
      " |-- New_York_Film_Critics_Circle_nominated_categories: string (nullable = true)\n",
      " |-- Los_Angeles_Film_Critics_Association_won: string (nullable = true)\n",
      " |-- Los_Angeles_Film_Critics_Association_won_categories: string (nullable = true)\n",
      " |-- Los_Angeles_Film_Critics_Association_nominated: integer (nullable = true)\n",
      " |-- Los_Angeles_Film_Critics_Association_nominated_categories: string (nullable = true)\n",
      " |-- release_date.year: string (nullable = true)\n",
      " |-- release_date.month: integer (nullable = true)\n",
      " |-- release_date.day-of-month: string (nullable = true)\n",
      " |-- release_date.day-of-week: integer (nullable = true)\n",
      "\n"
     ]
    }
   ],
   "source": [
    "from pyspark.sql import SparkSession\n",
    "\n",
    "spark = SparkSession.builder.appName(\"s8a-dataframes-sql\").getOrCreate()\n",
    "\n",
    "# Lectura de CSV con el ; como separador de columnas y con encabezado\n",
    "df = spark.read.option(\"sep\",\",\").option(\"header\", \"true\").option(\"inferSchema\", \"true\").csv(\"oscars2022.csv\")\n",
    "    \n",
    "df.printSchema()"
   ]
  },
  {
   "cell_type": "code",
   "execution_count": 3,
   "id": "ead39d93",
   "metadata": {},
   "outputs": [
    {
     "data": {
      "text/plain": [
       "1345"
      ]
     },
     "execution_count": 3,
     "metadata": {},
     "output_type": "execute_result"
    }
   ],
   "source": [
    "df.count()"
   ]
  },
  {
   "cell_type": "code",
   "execution_count": 8,
   "id": "b7f23970",
   "metadata": {},
   "outputs": [
    {
     "name": "stdout",
     "output_type": "stream",
     "text": [
      "+-------+------------------+------------------+\n",
      "|summary|              year|          duration|\n",
      "+-------+------------------+------------------+\n",
      "|  count|              1345|              1345|\n",
      "|   mean|2009.4899628252788|113.04312267657993|\n",
      "| stddev| 5.882284901997132| 26.09725256482206|\n",
      "|    min|              2000|                 6|\n",
      "|    max|              2020|               224|\n",
      "+-------+------------------+------------------+\n",
      "\n"
     ]
    }
   ],
   "source": [
    "df.describe(\"year\", \"duration\").show()"
   ]
  },
  {
   "cell_type": "code",
   "execution_count": 11,
   "id": "d9770390",
   "metadata": {},
   "outputs": [
    {
     "data": {
      "text/plain": [
       "24"
      ]
     },
     "execution_count": 11,
     "metadata": {},
     "output_type": "execute_result"
    }
   ],
   "source": [
    "df.select(\"movie_id\", \"movie\").where(\"duration < 20\").count()"
   ]
  },
  {
   "cell_type": "code",
   "execution_count": 15,
   "id": "d347bb78",
   "metadata": {},
   "outputs": [
    {
     "data": {
      "text/plain": [
       "1299"
      ]
     },
     "execution_count": 15,
     "metadata": {},
     "output_type": "execute_result"
    }
   ],
   "source": [
    "dfSinCortos = df.select(\"*\").where(\"duration > 70\")\n",
    "dfSinCortos.count()"
   ]
  },
  {
   "cell_type": "code",
   "execution_count": 17,
   "id": "83b24d10",
   "metadata": {},
   "outputs": [
    {
     "name": "stdout",
     "output_type": "stream",
     "text": [
      "+-------------------------+\n",
      "|genre                    |\n",
      "+-------------------------+\n",
      "|Adventure|Sci-Fi|Thriller|\n",
      "|Comedy|Horror|Thriller   |\n",
      "|Adventure|Mystery|Sci-Fi |\n",
      "|Action|Adventure|Drama   |\n",
      "|Drama|History            |\n",
      "|Biography|Drama|Histor   |\n",
      "|Adventure|Fantasy        |\n",
      "|Drama|Sport              |\n",
      "|Documentary|Short        |\n",
      "|Animation|Short|Drama    |\n",
      "|Animation|Drama          |\n",
      "|Crime|Drama|Thriller     |\n",
      "|Mystery|Sci-Fi|Thriller  |\n",
      "|Crime|Thriller           |\n",
      "|Comedy|Family|Music      |\n",
      "|Action|Sci-Fi            |\n",
      "|Action|Crime|Mystery     |\n",
      "|Animation|Short|Adventure|\n",
      "|Comedy|Fantasy|Romance   |\n",
      "|Action|Adventure|Fantasy |\n",
      "+-------------------------+\n",
      "only showing top 20 rows\n",
      "\n"
     ]
    }
   ],
   "source": [
    "df.select(\"genre\").distinct().show(truncate=False)"
   ]
  },
  {
   "cell_type": "code",
   "execution_count": 19,
   "id": "871aa250",
   "metadata": {},
   "outputs": [
    {
     "data": {
      "text/plain": [
       "1"
      ]
     },
     "execution_count": 19,
     "metadata": {},
     "output_type": "execute_result"
    }
   ],
   "source": [
    "df.rdd.getNumPartitions()"
   ]
  },
  {
   "cell_type": "code",
   "execution_count": null,
   "id": "f75c5802",
   "metadata": {},
   "outputs": [],
   "source": []
  }
 ],
 "metadata": {
  "kernelspec": {
   "display_name": "Python 3 (ipykernel)",
   "language": "python",
   "name": "python3"
  },
  "language_info": {
   "codemirror_mode": {
    "name": "ipython",
    "version": 3
   },
   "file_extension": ".py",
   "mimetype": "text/x-python",
   "name": "python",
   "nbconvert_exporter": "python",
   "pygments_lexer": "ipython3",
   "version": "3.9.10"
  }
 },
 "nbformat": 4,
 "nbformat_minor": 5
}
