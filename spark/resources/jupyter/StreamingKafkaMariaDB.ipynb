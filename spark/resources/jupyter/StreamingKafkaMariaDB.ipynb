{
 "cells": [
  {
   "cell_type": "code",
   "execution_count": 2,
   "id": "a64bc23b-9c93-47ac-91ff-e796d6a20837",
   "metadata": {},
   "outputs": [],
   "source": [
    "spark = SparkSession \\\n",
    "    .builder \\\n",
    "    .master(\"local[3]\") \\\n",
    "    .appName(\"s8a Kafka join MariaDB\") \\\n",
    "    .config(\"spark.streaming.stopGracefullyOnShutdown\", \"true\") \\\n",
    "    .config(\"spark.sql.shuffle.partitions\", 2) \\\n",
    "    .getOrCreate()"
   ]
  },
  {
   "cell_type": "code",
   "execution_count": null,
   "id": "9969538b-2e54-4b1d-bf0d-89108dfdcdc3",
   "metadata": {},
   "outputs": [],
   "source": []
  },
  {
   "cell_type": "code",
   "execution_count": 3,
   "id": "12f377f1-3468-4074-af39-291aa3b2ba8f",
   "metadata": {},
   "outputs": [],
   "source": [
    "from pyspark.sql.types import StructType, StructField, StringType\n",
    "kafkaSchema = StructType([\n",
    "    StructField(\"login_id\", StringType()),\n",
    "    StructField(\"login_time\", StringType())\n",
    "])"
   ]
  },
  {
   "cell_type": "code",
   "execution_count": 4,
   "id": "69ea939f-0bdc-46a8-8db2-3e4b39ebf8b4",
   "metadata": {},
   "outputs": [],
   "source": [
    "kafkaDF = spark \\\n",
    "    .readStream \\\n",
    "    .format(\"kafka\") \\\n",
    "    .option(\"kafka.bootstrap.servers\", \"iabd-virtualbox:9092\") \\\n",
    "    .option(\"subscribe\", \"usuariosk\") \\\n",
    "    .option(\"startingOffsets\", \"earliest\") \\\n",
    "    .load()"
   ]
  },
  {
   "cell_type": "code",
   "execution_count": 5,
   "id": "316ed637-072d-44ba-b4e5-4ad3b1d5422b",
   "metadata": {},
   "outputs": [],
   "source": [
    "from pyspark.sql.functions import from_json, col, to_timestamp\n",
    "# Pasamos el value de Kafka a string y luego a JSON\n",
    "valueDF = kafkaDF.select(from_json(col(\"value\").cast(\"string\"), kafkaSchema).alias(\"value\"))"
   ]
  },
  {
   "cell_type": "code",
   "execution_count": 6,
   "id": "31756b8c-aac4-4348-9615-97dbfb43954e",
   "metadata": {},
   "outputs": [],
   "source": [
    "# Cast del campo login_time a tipo fecha\n",
    "loginDF = valueDF.select(\"value.*\") \\\n",
    "    .withColumn(\"login_time\", to_timestamp(col(\"login_time\"), \"yyyy-MM-dd HH:mm:ss\"))"
   ]
  },
  {
   "cell_type": "code",
   "execution_count": 7,
   "id": "b9a5b15b-fc3b-439d-b12c-d4502cbb9d1f",
   "metadata": {},
   "outputs": [],
   "source": [
    "jdbcDF = spark.read \\\n",
    "    .format(\"jdbc\") \\\n",
    "    .option(\"driver\", \"com.mysql.jdbc.Driver\") \\\n",
    "    .option(\"url\", \"jdbc:mysql://localhost\") \\\n",
    "    .option(\"dbtable\", \"spark.usuarios\") \\\n",
    "    .option(\"user\", \"iabd\") \\\n",
    "    .option(\"password\", \"iabd\") \\\n",
    "    .load()"
   ]
  },
  {
   "cell_type": "code",
   "execution_count": 8,
   "id": "229939e7-913b-4297-b709-60e2998c9ae4",
   "metadata": {},
   "outputs": [
    {
     "name": "stdout",
     "output_type": "stream",
     "text": [
      "+---+--------------+-------------------+\n",
      "| id|        nombre|        ultimoLogin|\n",
      "+---+--------------+-------------------+\n",
      "|  1| Aitor Medrano|2022-05-16 13:36:58|\n",
      "|  2|   Pedro Casas|2022-05-16 13:36:58|\n",
      "|  3|  Laura García|2022-05-16 13:36:58|\n",
      "|  4|Mª Josep Vidal|2022-05-16 13:36:58|\n",
      "+---+--------------+-------------------+\n",
      "\n"
     ]
    }
   ],
   "source": [
    "jdbcDF.show()"
   ]
  },
  {
   "cell_type": "code",
   "execution_count": 10,
   "id": "3f0e01c5-83a1-4b68-b3dd-5a912e8d6911",
   "metadata": {},
   "outputs": [
    {
     "name": "stdout",
     "output_type": "stream",
     "text": [
      "root\n",
      " |-- login_time: timestamp (nullable = true)\n",
      " |-- id: decimal(20,0) (nullable = true)\n",
      " |-- nombre: string (nullable = true)\n",
      " |-- ultimoLogin: timestamp (nullable = true)\n",
      "\n"
     ]
    }
   ],
   "source": [
    "joinExpr = loginDF.login_id == jdbcDF.id\n",
    "joinType = \"inner\"\n",
    "\n",
    "joinDF = loginDF.join(jdbcDF, joinExpr, joinType) \\\n",
    "    .drop(loginDF.login_id)\n",
    "joinDF.printSchema()"
   ]
  },
  {
   "cell_type": "code",
   "execution_count": 13,
   "id": "52d447c7-d2da-448e-9189-b79309bb8e70",
   "metadata": {},
   "outputs": [
    {
     "name": "stdout",
     "output_type": "stream",
     "text": [
      "root\n",
      " |-- id: decimal(20,0) (nullable = true)\n",
      " |-- nombre: string (nullable = true)\n",
      " |-- ultimoLogin: timestamp (nullable = true)\n",
      " |-- login_time: timestamp (nullable = true)\n",
      "\n"
     ]
    }
   ],
   "source": [
    "resultadoDF = joinDF.select(col(\"id\"), col(\"nombre\"),\n",
    "    col(\"ultimoLogin\"), col(\"login_time\"))\n",
    "resultadoDF.printSchema()"
   ]
  },
  {
   "cell_type": "code",
   "execution_count": 16,
   "id": "b18dcf44-b4b3-4a1f-900f-5f402be93cd1",
   "metadata": {},
   "outputs": [],
   "source": [
    "queryWriter = resultadoDF.writeStream \\\n",
    "    .format(\"console\") \\\n",
    "    .outputMode(\"update\") \\\n",
    "    .option(\"checkpointLocation\", \"chk-point-dir\") \\\n",
    "    .trigger(processingTime=\"1 minute\") \\\n",
    "    .start()"
   ]
  },
  {
   "cell_type": "code",
   "execution_count": null,
   "id": "cffcf1b9-3067-4ec8-b63c-579c1e791af2",
   "metadata": {},
   "outputs": [],
   "source": [
    "queryWriter.awaitTermination()"
   ]
  },
  {
   "cell_type": "code",
   "execution_count": null,
   "id": "4a1c1ad4-e828-4dcc-a63c-fda2e547b876",
   "metadata": {},
   "outputs": [],
   "source": []
  }
 ],
 "metadata": {
  "kernelspec": {
   "display_name": "Python 3 (ipykernel)",
   "language": "python",
   "name": "python3"
  },
  "language_info": {
   "codemirror_mode": {
    "name": "ipython",
    "version": 3
   },
   "file_extension": ".py",
   "mimetype": "text/x-python",
   "name": "python",
   "nbconvert_exporter": "python",
   "pygments_lexer": "ipython3",
   "version": "3.10.8"
  }
 },
 "nbformat": 4,
 "nbformat_minor": 5
}
