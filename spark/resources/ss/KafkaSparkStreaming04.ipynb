{
 "cells": [
  {
   "cell_type": "code",
   "execution_count": 1,
   "id": "924be291-5c74-4098-9acc-6b9f21847db5",
   "metadata": {},
   "outputs": [],
   "source": [
    "from pyspark.sql import SparkSession\n",
    "sparks = SparkSession \\\n",
    "        .builder \\\n",
    "        .appName(\"Kafka Streaming Sink\") \\\n",
    "        .master(\"local[3]\") \\\n",
    "        .getOrCreate()"
   ]
  },
  {
   "cell_type": "code",
   "execution_count": null,
   "id": "97081aa2-b7f3-42a5-a4c1-8f01377b2979",
   "metadata": {},
   "outputs": [],
   "source": [
    "spark"
   ]
  },
  {
   "cell_type": "code",
   "execution_count": 1,
   "id": "b35db768-863a-4e9f-a1f8-7a16d984f2bd",
   "metadata": {},
   "outputs": [],
   "source": [
    "kafkaDFS = sparks.readStream \\\n",
    "        .format(\"kafka\") \\\n",
    "        .option(\"kafka.bootstrap.servers\", \"iabd-virtualbox:9092\") \\\n",
    "        .option(\"subscribe\", \"facturas\") \\\n",
    "        .option(\"startingOffsets\", \"earliest\") \\\n",
    "        .load()"
   ]
  },
  {
   "cell_type": "code",
   "execution_count": 3,
   "id": "6652abb8-734a-46f9-9f7c-5ffe27cbf3a7",
   "metadata": {},
   "outputs": [],
   "source": [
    "from pyspark.sql.types import StructType, StructField, StringType, LongType, DoubleType, IntegerType, ArrayType\n",
    "esquema = StructType([\n",
    "    StructField(\"InvoiceNumber\", StringType()),\n",
    "    StructField(\"CreatedTime\", LongType()),\n",
    "    StructField(\"StoreID\", StringType()),\n",
    "    StructField(\"PosID\", StringType()),\n",
    "    StructField(\"CashierID\", StringType()),\n",
    "    StructField(\"CustomerType\", StringType()),\n",
    "    StructField(\"CustomerCardNo\", StringType()),\n",
    "    StructField(\"TotalAmount\", DoubleType()),\n",
    "    StructField(\"NumberOfItems\", IntegerType()),\n",
    "    StructField(\"PaymentMethod\", StringType()),\n",
    "    StructField(\"CGST\", DoubleType()),\n",
    "    StructField(\"SGST\", DoubleType()),\n",
    "    StructField(\"CESS\", DoubleType()),\n",
    "    StructField(\"DeliveryType\", StringType()),\n",
    "    StructField(\"DeliveryAddress\", StructType([\n",
    "        StructField(\"AddressLine\", StringType()),\n",
    "        StructField(\"City\", StringType()),\n",
    "        StructField(\"State\", StringType()),\n",
    "        StructField(\"PinCode\", StringType()),\n",
    "        StructField(\"ContactNumber\", StringType())\n",
    "    ])),\n",
    "    StructField(\"InvoiceLineItems\", ArrayType(StructType([\n",
    "        StructField(\"ItemCode\", StringType()),\n",
    "        StructField(\"ItemDescription\", StringType()),\n",
    "        StructField(\"ItemPrice\", DoubleType()),\n",
    "        StructField(\"ItemQty\", IntegerType()),\n",
    "        StructField(\"TotalValue\", DoubleType())\n",
    "    ]))),\n",
    "])"
   ]
  },
  {
   "cell_type": "code",
   "execution_count": 4,
   "id": "8cd4a48b-4a88-46c4-9465-869cfac0ac5f",
   "metadata": {},
   "outputs": [],
   "source": [
    "from pyspark.sql.functions import from_json, col, expr\n",
    "valueDF = kafkaDFS.select(from_json(col(\"value\").cast(\"string\"), esquema).alias(\"value\"))\n",
    "\n",
    "notificationDF = valueDF.select(\"value.InvoiceNumber\", \"value.CustomerCardNo\", \"value.TotalAmount\") \\\n",
    "    .withColumn(\"LoyaltyPoints\", expr(\"TotalAmount * 0.2\"))\n",
    "\n",
    "# Transformamos las cuatro columnas en lo que espera Kafka, un par de (key, value)\n",
    "kafkaTargetDF = notificationDF.selectExpr(\"InvoiceNumber as key\",\n",
    "        \"\"\"to_json(named_struct(\n",
    "        'CustomerCardNo', CustomerCardNo,\n",
    "        'TotalAmount', TotalAmount,\n",
    "        'EarnedLoyaltyPoints', TotalAmount * 0.2)) as value\"\"\")"
   ]
  },
  {
   "cell_type": "code",
   "execution_count": null,
   "id": "9898120f-098e-4392-89a6-adfe1af15972",
   "metadata": {},
   "outputs": [],
   "source": [
    "notificacionWriterQuery = kafkaTargetDF \\\n",
    "    .writeStream \\\n",
    "    .queryName(\"Notificaciones Writer\") \\\n",
    "    .format(\"kafka\") \\\n",
    "    .option(\"kafka.bootstrap.servers\", \"iabd-virtualbox:9092\") \\\n",
    "    .option(\"topic\", \"notificaciones\") \\\n",
    "    .outputMode(\"append\") \\\n",
    "    .option(\"checkpointLocation\", \"chk-point-dir-04\") \\\n",
    "    .start()\n",
    "\n",
    "notificacionWriterQuery.awaitTermination()\n"
   ]
  }
 ],
 "metadata": {
  "kernelspec": {
   "display_name": "Python 3",
   "language": "python",
   "name": "python3"
  },
  "language_info": {
   "codemirror_mode": {
    "name": "ipython",
    "version": 3
   },
   "file_extension": ".py",
   "mimetype": "text/x-python",
   "name": "python",
   "nbconvert_exporter": "python",
   "pygments_lexer": "ipython3",
   "version": "3.8.10"
  }
 },
 "nbformat": 4,
 "nbformat_minor": 5
}
