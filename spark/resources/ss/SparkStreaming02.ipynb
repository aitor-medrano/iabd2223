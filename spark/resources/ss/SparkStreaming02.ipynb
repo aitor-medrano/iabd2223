{
 "cells": [
  {
   "cell_type": "code",
   "execution_count": 1,
   "id": "c3fb4b02-b94f-4dbf-ab0e-689de5cd58f2",
   "metadata": {},
   "outputs": [
    {
     "name": "stdout",
     "output_type": "stream",
     "text": [
      "root\n",
      " |-- CESS: double (nullable = true)\n",
      " |-- CGST: double (nullable = true)\n",
      " |-- CashierID: string (nullable = true)\n",
      " |-- CreatedTime: long (nullable = true)\n",
      " |-- CustomerCardNo: string (nullable = true)\n",
      " |-- CustomerType: string (nullable = true)\n",
      " |-- DeliveryAddress: struct (nullable = true)\n",
      " |    |-- AddressLine: string (nullable = true)\n",
      " |    |-- City: string (nullable = true)\n",
      " |    |-- ContactNumber: string (nullable = true)\n",
      " |    |-- PinCode: string (nullable = true)\n",
      " |    |-- State: string (nullable = true)\n",
      " |-- DeliveryType: string (nullable = true)\n",
      " |-- InvoiceLineItems: array (nullable = true)\n",
      " |    |-- element: struct (containsNull = true)\n",
      " |    |    |-- ItemCode: string (nullable = true)\n",
      " |    |    |-- ItemDescription: string (nullable = true)\n",
      " |    |    |-- ItemPrice: double (nullable = true)\n",
      " |    |    |-- ItemQty: long (nullable = true)\n",
      " |    |    |-- TotalValue: double (nullable = true)\n",
      " |-- InvoiceNumber: string (nullable = true)\n",
      " |-- NumberOfItems: long (nullable = true)\n",
      " |-- PaymentMethod: string (nullable = true)\n",
      " |-- PosID: string (nullable = true)\n",
      " |-- SGST: double (nullable = true)\n",
      " |-- StoreID: string (nullable = true)\n",
      " |-- TaxableAmount: double (nullable = true)\n",
      " |-- TotalAmount: double (nullable = true)\n",
      "\n"
     ]
    }
   ],
   "source": [
    "from pyspark.sql import SparkSession\n",
    "spark = SparkSession \\\n",
    "        .builder \\\n",
    "        .appName(\"Streaming de Ficheros\") \\\n",
    "        .master(\"local[2]\") \\\n",
    "        .config(\"spark.streaming.stopGracefullyOnShutdown\", \"true\") \\\n",
    "        .config(\"spark.sql.shuffle.partitions\", 3) \\\n",
    "        .config(\"spark.sql.streaming.schemaInference\", \"true\") \\\n",
    "        .getOrCreate()\n",
    "\n",
    "raw_df = spark.readStream \\\n",
    "        .format(\"json\") \\\n",
    "        .option(\"path\", \"entrada\") \\\n",
    "        .load()\n",
    "\n",
    "raw_df.printSchema()\n",
    "# root\n",
    "#  |-- CESS: double (nullable = true)\n",
    "#  |-- CGST: double (nullable = true)\n",
    "#  |-- CashierID: string (nullable = true)\n",
    "#  |-- CreatedTime: long (nullable = true)\n",
    "#  |-- CustomerCardNo: string (nullable = true)\n",
    "#  |-- CustomerType: string (nullable = true)\n",
    "#  |-- DeliveryAddress: struct (nullable = true)\n",
    "#  |    |-- AddressLine: string (nullable = true)\n",
    "#  |    |-- City: string (nullable = true)\n",
    "#  |    |-- ContactNumber: string (nullable = true)\n",
    "#  |    |-- PinCode: string (nullable = true)\n",
    "#  |    |-- State: string (nullable = true)\n",
    "#  |-- DeliveryType: string (nullable = true)\n",
    "#  |-- InvoiceLineItems: array (nullable = true)\n",
    "#  |    |-- element: struct (containsNull = true)\n",
    "#  |    |    |-- ItemCode: string (nullable = true)\n",
    "#  |    |    |-- ItemDescription: string (nullable = true)\n",
    "#  |    |    |-- ItemPrice: double (nullable = true)\n",
    "#  |    |    |-- ItemQty: long (nullable = true)\n",
    "#  |    |    |-- TotalValue: double (nullable = true)\n",
    "#  |-- InvoiceNumber: string (nullable = true)\n",
    "#  |-- NumberOfItems: long (nullable = true)\n",
    "#  |-- PaymentMethod: string (nullable = true)\n",
    "#  |-- PosID: string (nullable = true)\n",
    "#  |-- SGST: double (nullable = true)\n",
    "#  |-- StoreID: string (nullable = true)\n",
    "#  |-- TaxableAmount: double (nullable = true)\n",
    "#  |-- TotalAmount: double (nullable = true)\n"
   ]
  },
  {
   "cell_type": "code",
   "execution_count": 2,
   "id": "8846e3b6-cc3d-4eb3-836c-2053f93ab397",
   "metadata": {},
   "outputs": [
    {
     "data": {
      "text/html": [
       "\n",
       "            <div>\n",
       "                <p><b>SparkSession - hive</b></p>\n",
       "                \n",
       "        <div>\n",
       "            <p><b>SparkContext</b></p>\n",
       "\n",
       "            <p><a href=\"http://10.0.2.15:4040\">Spark UI</a></p>\n",
       "\n",
       "            <dl>\n",
       "              <dt>Version</dt>\n",
       "                <dd><code>v3.3.1</code></dd>\n",
       "              <dt>Master</dt>\n",
       "                <dd><code>local[*]</code></dd>\n",
       "              <dt>AppName</dt>\n",
       "                <dd><code>PySparkShell</code></dd>\n",
       "            </dl>\n",
       "        </div>\n",
       "        \n",
       "            </div>\n",
       "        "
      ],
      "text/plain": [
       "<pyspark.sql.session.SparkSession at 0x7f46950912b0>"
      ]
     },
     "execution_count": 2,
     "metadata": {},
     "output_type": "execute_result"
    }
   ],
   "source": [
    "spark"
   ]
  },
  {
   "cell_type": "code",
   "execution_count": 3,
   "id": "055a2843-a431-49cd-80f7-7f0283058bb5",
   "metadata": {},
   "outputs": [
    {
     "name": "stdout",
     "output_type": "stream",
     "text": [
      "root\n",
      " |-- InvoiceNumber: string (nullable = true)\n",
      " |-- CreatedTime: long (nullable = true)\n",
      " |-- StoreID: string (nullable = true)\n",
      " |-- PosID: string (nullable = true)\n",
      " |-- CustomerType: string (nullable = true)\n",
      " |-- PaymentMethod: string (nullable = true)\n",
      " |-- DeliveryType: string (nullable = true)\n",
      " |-- LineItem: struct (nullable = true)\n",
      " |    |-- ItemCode: string (nullable = true)\n",
      " |    |-- ItemDescription: string (nullable = true)\n",
      " |    |-- ItemPrice: double (nullable = true)\n",
      " |    |-- ItemQty: long (nullable = true)\n",
      " |    |-- TotalValue: double (nullable = true)\n",
      "\n"
     ]
    }
   ],
   "source": [
    "explode_df = raw_df.selectExpr(\"InvoiceNumber\", \"CreatedTime\", \"StoreID\",\n",
    "                                 \"PosID\", \"CustomerType\",\n",
    "                                 \"PaymentMethod\", \"DeliveryType\",\n",
    "                                 \"explode(InvoiceLineItems) as LineItem\")\n",
    "explode_df.printSchema()\n",
    "# root\n",
    "#  |-- InvoiceNumber: string (nullable = true)\n",
    "#  |-- CreatedTime: long (nullable = true)\n",
    "#  |-- StoreID: string (nullable = true)\n",
    "#  |-- PosID: string (nullable = true)\n",
    "#  |-- CustomerType: string (nullable = true)\n",
    "#  |-- PaymentMethod: string (nullable = true)\n",
    "#  |-- DeliveryType: string (nullable = true)\n",
    "#  |-- LineItem: struct (nullable = true)\n",
    "#  |    |-- ItemCode: string (nullable = true)\n",
    "#  |    |-- ItemDescription: string (nullable = true)\n",
    "#  |    |-- ItemPrice: double (nullable = true)\n",
    "#  |    |-- ItemQty: long (nullable = true)\n",
    "#  |    |-- TotalValue: double (nullable = true)\n"
   ]
  },
  {
   "cell_type": "code",
   "execution_count": 4,
   "id": "f99f4b46-3024-44de-9d74-c92357342c46",
   "metadata": {},
   "outputs": [
    {
     "name": "stdout",
     "output_type": "stream",
     "text": [
      "root\n",
      " |-- InvoiceNumber: string (nullable = true)\n",
      " |-- CreatedTime: long (nullable = true)\n",
      " |-- StoreID: string (nullable = true)\n",
      " |-- PosID: string (nullable = true)\n",
      " |-- CustomerType: string (nullable = true)\n",
      " |-- PaymentMethod: string (nullable = true)\n",
      " |-- DeliveryType: string (nullable = true)\n",
      " |-- ItemCode: string (nullable = true)\n",
      " |-- ItemDescription: string (nullable = true)\n",
      " |-- ItemPrice: double (nullable = true)\n",
      " |-- ItemQty: long (nullable = true)\n",
      " |-- TotalValue: double (nullable = true)\n",
      "\n"
     ]
    }
   ],
   "source": [
    "from pyspark.sql.functions import expr\n",
    "limpio_df = explode_df \\\n",
    "    .withColumn(\"ItemCode\", expr(\"LineItem.ItemCode\")) \\\n",
    "    .withColumn(\"ItemDescription\", expr(\"LineItem.ItemDescription\")) \\\n",
    "    .withColumn(\"ItemPrice\", expr(\"LineItem.ItemPrice\")) \\\n",
    "    .withColumn(\"ItemQty\", expr(\"LineItem.ItemQty\")) \\\n",
    "    .withColumn(\"TotalValue\", expr(\"LineItem.TotalValue\")) \\\n",
    "    .drop(\"LineItem\")\n",
    "limpio_df.printSchema()\n",
    "# root\n",
    "#  |-- InvoiceNumber: string (nullable = true)\n",
    "#  |-- CreatedTime: long (nullable = true)\n",
    "#  |-- StoreID: string (nullable = true)\n",
    "#  |-- PosID: string (nullable = true)\n",
    "#  |-- CustomerType: string (nullable = true)\n",
    "#  |-- PaymentMethod: string (nullable = true)\n",
    "#  |-- DeliveryType: string (nullable = true)\n",
    "#  |-- ItemCode: string (nullable = true)\n",
    "#  |-- ItemDescription: string (nullable = true)\n",
    "#  |-- ItemPrice: double (nullable = true)\n",
    "#  |-- ItemQty: long (nullable = true)\n",
    "#  |-- TotalValue: double (nullable = true)\n"
   ]
  },
  {
   "cell_type": "code",
   "execution_count": 5,
   "id": "567c1a0b-624b-4b87-9062-08c546eaaa20",
   "metadata": {},
   "outputs": [],
   "source": [
    "facturaWriterQuery = limpio_df.writeStream \\\n",
    "    .format(\"json\") \\\n",
    "    .queryName(\"Facturas Writer\") \\\n",
    "    .outputMode(\"append\") \\\n",
    "    .option(\"path\", \"salida\") \\\n",
    "    .option(\"checkpointLocation\", \"chk-point-dir-caso2\") \\\n",
    "    .trigger(processingTime=\"1 minute\") \\\n",
    "    .start()\n"
   ]
  },
  {
   "cell_type": "code",
   "execution_count": null,
   "id": "61e8b214-0df1-492d-9d8f-4e59221648f5",
   "metadata": {},
   "outputs": [],
   "source": [
    "facturaWriterQuery.awaitTermination()"
   ]
  },
  {
   "cell_type": "code",
   "execution_count": null,
   "id": "948751b5-e046-4900-b834-b5ffb0922618",
   "metadata": {},
   "outputs": [],
   "source": [
    "facturaWriterQuery.explain()"
   ]
  },
  {
   "cell_type": "code",
   "execution_count": null,
   "id": "bea57a3d-82e9-49ca-90b1-9572d5152449",
   "metadata": {},
   "outputs": [],
   "source": []
  },
  {
   "cell_type": "code",
   "execution_count": null,
   "id": "1c34319c-d9b7-4699-9faa-1b357c6ca27b",
   "metadata": {},
   "outputs": [],
   "source": []
  }
 ],
 "metadata": {
  "kernelspec": {
   "display_name": "Python 3",
   "language": "python",
   "name": "python3"
  },
  "language_info": {
   "codemirror_mode": {
    "name": "ipython",
    "version": 3
   },
   "file_extension": ".py",
   "mimetype": "text/x-python",
   "name": "python",
   "nbconvert_exporter": "python",
   "pygments_lexer": "ipython3",
   "version": "3.8.10"
  },
  "toc-autonumbering": true,
  "toc-showcode": true
 },
 "nbformat": 4,
 "nbformat_minor": 5
}
