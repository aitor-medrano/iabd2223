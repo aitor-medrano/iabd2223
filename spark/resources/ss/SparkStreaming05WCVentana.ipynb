{
 "cells": [
  {
   "cell_type": "code",
   "execution_count": 1,
   "id": "d1889ed8-f8b4-4ae8-9cc8-afb289b881f8",
   "metadata": {},
   "outputs": [],
   "source": [
    "from pyspark.sql import SparkSession\n",
    "spark = SparkSession \\\n",
    "        .builder \\\n",
    "        .appName(\"Streaming Window IABD WordCount\") \\\n",
    "        .master(\"local[2]\") \\\n",
    "        .config(\"spark.streaming.stopGracefullyOnShutdown\", \"true\") \\\n",
    "        .config(\"spark.sql.shuffle.partitions\", 3) \\\n",
    "        .getOrCreate()"
   ]
  },
  {
   "cell_type": "code",
   "execution_count": 2,
   "id": "068bcd04-da69-4473-9218-7548735dab27",
   "metadata": {},
   "outputs": [
    {
     "data": {
      "text/html": [
       "\n",
       "            <div>\n",
       "                <p><b>SparkSession - hive</b></p>\n",
       "                \n",
       "        <div>\n",
       "            <p><b>SparkContext</b></p>\n",
       "\n",
       "            <p><a href=\"http://10.0.2.15:4043\">Spark UI</a></p>\n",
       "\n",
       "            <dl>\n",
       "              <dt>Version</dt>\n",
       "                <dd><code>v3.3.1</code></dd>\n",
       "              <dt>Master</dt>\n",
       "                <dd><code>local[*]</code></dd>\n",
       "              <dt>AppName</dt>\n",
       "                <dd><code>PySparkShell</code></dd>\n",
       "            </dl>\n",
       "        </div>\n",
       "        \n",
       "            </div>\n",
       "        "
      ],
      "text/plain": [
       "<pyspark.sql.session.SparkSession at 0x7fb88f20b2b0>"
      ]
     },
     "execution_count": 2,
     "metadata": {},
     "output_type": "execute_result"
    }
   ],
   "source": [
    "spark"
   ]
  },
  {
   "cell_type": "code",
   "execution_count": 3,
   "id": "984583f8-e542-4185-b7af-4dc2a87d23de",
   "metadata": {},
   "outputs": [],
   "source": [
    "# incluimos el timestamp\n",
    "dfLineas = spark.readStream \\\n",
    "    .format(\"socket\") \\\n",
    "    .option(\"host\", \"localhost\") \\\n",
    "    .option(\"port\", \"9999\") \\\n",
    "    .option('includeTimestamp', 'true')\\\n",
    "    .load()"
   ]
  },
  {
   "cell_type": "code",
   "execution_count": 4,
   "id": "01b5d2b3-495c-4cbe-aa59-d75ae2234334",
   "metadata": {},
   "outputs": [
    {
     "name": "stdout",
     "output_type": "stream",
     "text": [
      "root\n",
      " |-- value: string (nullable = true)\n",
      " |-- timestamp: timestamp (nullable = true)\n",
      "\n"
     ]
    }
   ],
   "source": [
    "dfLineas.printSchema()"
   ]
  },
  {
   "cell_type": "code",
   "execution_count": 5,
   "id": "f4930842-d5f7-4e68-8dd0-381a0671bf7a",
   "metadata": {},
   "outputs": [],
   "source": [
    "# Separamos las palabras y cogemos también el timestamp\n",
    "from pyspark.sql.functions import explode, split\n",
    "dfPalabras = dfLineas.select(\n",
    "    explode(split(dfLineas.value, ' ')).alias('palabra'),\n",
    "    dfLineas.timestamp)"
   ]
  },
  {
   "cell_type": "code",
   "execution_count": 6,
   "id": "2543b6bf-c330-4e09-9b17-d7a3e62e7f49",
   "metadata": {},
   "outputs": [],
   "source": [
    "from pyspark.sql.functions import window\n",
    "windowedCounts = dfPalabras.groupBy(\n",
    "    window(dfPalabras.timestamp, \"3 minutes\", \"1 minute\"), dfPalabras.palabra\n",
    ").count().orderBy('window')"
   ]
  },
  {
   "cell_type": "code",
   "execution_count": 7,
   "id": "846d2a51-9d42-45d6-846c-d5882b5776e9",
   "metadata": {},
   "outputs": [],
   "source": [
    "palabrasQuery = windowedCounts.writeStream \\\n",
    "    .format(\"console\") \\\n",
    "    .outputMode(\"complete\") \\\n",
    "    .option('truncate', 'false')\\\n",
    "    .start()"
   ]
  },
  {
   "cell_type": "code",
   "execution_count": null,
   "id": "c7c86fdd-0e43-45d6-a978-1bbd5ec1e524",
   "metadata": {},
   "outputs": [],
   "source": []
  }
 ],
 "metadata": {
  "kernelspec": {
   "display_name": "Python 3",
   "language": "python",
   "name": "python3"
  },
  "language_info": {
   "codemirror_mode": {
    "name": "ipython",
    "version": 3
   },
   "file_extension": ".py",
   "mimetype": "text/x-python",
   "name": "python",
   "nbconvert_exporter": "python",
   "pygments_lexer": "ipython3",
   "version": "3.8.10"
  }
 },
 "nbformat": 4,
 "nbformat_minor": 5
}
