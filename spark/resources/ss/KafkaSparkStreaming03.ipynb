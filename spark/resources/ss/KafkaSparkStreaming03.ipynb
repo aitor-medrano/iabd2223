{
 "cells": [
  {
   "cell_type": "code",
   "execution_count": 1,
   "id": "216f7a32-e338-456d-b37c-b3be7b691338",
   "metadata": {},
   "outputs": [],
   "source": [
    "from pyspark.sql import SparkSession\n",
    "spark = SparkSession \\\n",
    "        .builder \\\n",
    "        .appName(\"Kafka Streaming\") \\\n",
    "        .master(\"local[3]\") \\\n",
    "        .getOrCreate()\n",
    "\n",
    "kafkaDF = spark.readStream \\\n",
    "        .format(\"kafka\") \\\n",
    "        .option(\"kafka.bootstrap.servers\", \"iabd-virtualbox:9092\") \\\n",
    "        .option(\"subscribe\", \"facturas\") \\\n",
    "        .option(\"startingOffsets\", \"earliest\") \\\n",
    "        .load()"
   ]
  },
  {
   "cell_type": "code",
   "execution_count": 2,
   "id": "740fdba8-26ff-4360-8c9c-d17298a59c25",
   "metadata": {},
   "outputs": [
    {
     "name": "stdout",
     "output_type": "stream",
     "text": [
      "root\n",
      " |-- key: binary (nullable = true)\n",
      " |-- value: binary (nullable = true)\n",
      " |-- topic: string (nullable = true)\n",
      " |-- partition: integer (nullable = true)\n",
      " |-- offset: long (nullable = true)\n",
      " |-- timestamp: timestamp (nullable = true)\n",
      " |-- timestampType: integer (nullable = true)\n",
      "\n"
     ]
    }
   ],
   "source": [
    "kafkaDF.printSchema()"
   ]
  },
  {
   "cell_type": "code",
   "execution_count": 3,
   "id": "270fedbd-f5c9-4c58-8424-cf24058d8773",
   "metadata": {},
   "outputs": [],
   "source": [
    "from pyspark.sql.types import StructType, StructField, StringType, LongType, DoubleType, IntegerType, ArrayType\n",
    "esquema = StructType([\n",
    "    StructField(\"InvoiceNumber\", StringType()),\n",
    "    StructField(\"CreatedTime\", LongType()),\n",
    "    StructField(\"StoreID\", StringType()),\n",
    "    StructField(\"PosID\", StringType()),\n",
    "    StructField(\"CashierID\", StringType()),\n",
    "    StructField(\"CustomerType\", StringType()),\n",
    "    StructField(\"CustomerCardNo\", StringType()),\n",
    "    StructField(\"TotalAmount\", DoubleType()),\n",
    "    StructField(\"NumberOfItems\", IntegerType()),\n",
    "    StructField(\"PaymentMethod\", StringType()),\n",
    "    StructField(\"CGST\", DoubleType()),\n",
    "    StructField(\"SGST\", DoubleType()),\n",
    "    StructField(\"CESS\", DoubleType()),\n",
    "    StructField(\"DeliveryType\", StringType()),\n",
    "    StructField(\"DeliveryAddress\", StructType([\n",
    "        StructField(\"AddressLine\", StringType()),\n",
    "        StructField(\"City\", StringType()),\n",
    "        StructField(\"State\", StringType()),\n",
    "        StructField(\"PinCode\", StringType()),\n",
    "        StructField(\"ContactNumber\", StringType())\n",
    "    ])),\n",
    "    StructField(\"InvoiceLineItems\", ArrayType(StructType([\n",
    "        StructField(\"ItemCode\", StringType()),\n",
    "        StructField(\"ItemDescription\", StringType()),\n",
    "        StructField(\"ItemPrice\", DoubleType()),\n",
    "        StructField(\"ItemQty\", IntegerType()),\n",
    "        StructField(\"TotalValue\", DoubleType())\n",
    "    ]))),\n",
    "])"
   ]
  },
  {
   "cell_type": "code",
   "execution_count": 4,
   "id": "bc47ac70-69c4-4dcf-b05e-57c469373bd0",
   "metadata": {},
   "outputs": [
    {
     "name": "stdout",
     "output_type": "stream",
     "text": [
      "root\n",
      " |-- value: struct (nullable = true)\n",
      " |    |-- InvoiceNumber: string (nullable = true)\n",
      " |    |-- CreatedTime: long (nullable = true)\n",
      " |    |-- StoreID: string (nullable = true)\n",
      " |    |-- PosID: string (nullable = true)\n",
      " |    |-- CashierID: string (nullable = true)\n",
      " |    |-- CustomerType: string (nullable = true)\n",
      " |    |-- CustomerCardNo: string (nullable = true)\n",
      " |    |-- TotalAmount: double (nullable = true)\n",
      " |    |-- NumberOfItems: integer (nullable = true)\n",
      " |    |-- PaymentMethod: string (nullable = true)\n",
      " |    |-- CGST: double (nullable = true)\n",
      " |    |-- SGST: double (nullable = true)\n",
      " |    |-- CESS: double (nullable = true)\n",
      " |    |-- DeliveryType: string (nullable = true)\n",
      " |    |-- DeliveryAddress: struct (nullable = true)\n",
      " |    |    |-- AddressLine: string (nullable = true)\n",
      " |    |    |-- City: string (nullable = true)\n",
      " |    |    |-- State: string (nullable = true)\n",
      " |    |    |-- PinCode: string (nullable = true)\n",
      " |    |    |-- ContactNumber: string (nullable = true)\n",
      " |    |-- InvoiceLineItems: array (nullable = true)\n",
      " |    |    |-- element: struct (containsNull = true)\n",
      " |    |    |    |-- ItemCode: string (nullable = true)\n",
      " |    |    |    |-- ItemDescription: string (nullable = true)\n",
      " |    |    |    |-- ItemPrice: double (nullable = true)\n",
      " |    |    |    |-- ItemQty: integer (nullable = true)\n",
      " |    |    |    |-- TotalValue: double (nullable = true)\n",
      "\n"
     ]
    }
   ],
   "source": [
    "from pyspark.sql.functions import from_json, col\n",
    "valueDF = kafkaDF.select(from_json(col(\"value\").cast(\"string\"), esquema).alias(\"value\"))\n",
    "valueDF.printSchema()"
   ]
  },
  {
   "cell_type": "code",
   "execution_count": 5,
   "id": "3bc7587a-ff03-4d9b-b9e9-3ae6c3f75dae",
   "metadata": {},
   "outputs": [],
   "source": [
    "from pyspark.sql.functions import expr\n",
    "\n",
    "explodeDF = valueDF.selectExpr(\"value.InvoiceNumber\", \"value.CreatedTime\",\n",
    "    \"value.StoreID\", \"value.PosID\", \"value.CustomerType\",\n",
    "    \"value.PaymentMethod\", \"value.DeliveryType\", \"value.DeliveryAddress.City\",\n",
    "    \"value.DeliveryAddress.State\", \"value.DeliveryAddress.PinCode\",\n",
    "    \"explode(value.InvoiceLineItems) as LineItem\")\n",
    "\n",
    "limpioDF = explodeDF \\\n",
    "    .withColumn(\"ItemCode\", expr(\"LineItem.ItemCode\")) \\\n",
    "    .withColumn(\"ItemDescription\", expr(\"LineItem.ItemDescription\")) \\\n",
    "    .withColumn(\"ItemPrice\", expr(\"LineItem.ItemPrice\")) \\\n",
    "    .withColumn(\"ItemQty\", expr(\"LineItem.ItemQty\")) \\\n",
    "    .withColumn(\"TotalValue\", expr(\"LineItem.TotalValue\")) \\\n",
    "    .drop(\"LineItem\")"
   ]
  },
  {
   "cell_type": "code",
   "execution_count": null,
   "id": "9938e5c5-9f73-4be9-9810-f3eb3542ee40",
   "metadata": {},
   "outputs": [],
   "source": [
    "facturaWriterQuery  = limpioDF.writeStream \\\n",
    "    .format(\"json\") \\\n",
    "    .queryName(\"Facturas Kafka Writer\") \\\n",
    "    .outputMode(\"append\") \\\n",
    "    .option(\"path\", \"salida\") \\\n",
    "    .option(\"checkpointLocation\", \"chk-point-dir-03\") \\\n",
    "    .trigger(processingTime=\"1 minute\") \\\n",
    "    .start()\n",
    "\n",
    "facturaWriterQuery.awaitTermination()"
   ]
  },
  {
   "cell_type": "code",
   "execution_count": null,
   "id": "d82ab197-5be4-440a-99d0-12eb5ab8736d",
   "metadata": {},
   "outputs": [],
   "source": []
  }
 ],
 "metadata": {
  "kernelspec": {
   "display_name": "Python 3",
   "language": "python",
   "name": "python3"
  },
  "language_info": {
   "codemirror_mode": {
    "name": "ipython",
    "version": 3
   },
   "file_extension": ".py",
   "mimetype": "text/x-python",
   "name": "python",
   "nbconvert_exporter": "python",
   "pygments_lexer": "ipython3",
   "version": "3.8.10"
  }
 },
 "nbformat": 4,
 "nbformat_minor": 5
}
