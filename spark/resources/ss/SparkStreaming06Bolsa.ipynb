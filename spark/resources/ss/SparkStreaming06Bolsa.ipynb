{
 "cells": [
  {
   "cell_type": "code",
   "execution_count": 1,
   "id": "97325489-8e77-4a09-85cd-94b7c9f3696b",
   "metadata": {},
   "outputs": [],
   "source": [
    "from pyspark.sql import SparkSession\n",
    "spark = SparkSession \\\n",
    "        .builder \\\n",
    "        .appName(\"Bolsa Streaming IABD\") \\\n",
    "        .master(\"local[2]\") \\\n",
    "        .config(\"spark.streaming.stopGracefullyOnShutdown\", \"true\") \\\n",
    "        .config(\"spark.sql.shuffle.partitions\", 3) \\\n",
    "        .getOrCreate()"
   ]
  },
  {
   "cell_type": "code",
   "execution_count": 2,
   "id": "2f4893b3-f8bb-440b-a0a1-0ed2268482fc",
   "metadata": {},
   "outputs": [],
   "source": [
    "# Definimos el esquema de los datos de entrada\n",
    "from pyspark.sql.types import StructType, StructField, StringType, IntegerType\n",
    "bolsaSchema = StructType([\n",
    "    StructField(\"CreatedTime\", StringType()),\n",
    "    StructField(\"Type\", StringType()),\n",
    "    StructField(\"Amount\", IntegerType()),\n",
    "    StructField(\"BrokerCode\", StringType())\n",
    "])"
   ]
  },
  {
   "cell_type": "code",
   "execution_count": 4,
   "id": "f7565dc3-d2bc-41b0-9c5e-2d4d5f768e0a",
   "metadata": {},
   "outputs": [],
   "source": [
    "# Configuramos la lectura de fichero en formato JSON\n",
    "rawDF = spark.readStream \\\n",
    "        .format(\"json\") \\\n",
    "        .option(\"path\", \"entrada\") \\\n",
    "        .option(\"maxFilesPerTrigger\", 1) \\\n",
    "        .schema(bolsaSchema) \\\n",
    "        .load()"
   ]
  },
  {
   "cell_type": "code",
   "execution_count": 5,
   "id": "3f4c0cad-64be-47f8-ab4d-56cad3dafc54",
   "metadata": {},
   "outputs": [
    {
     "name": "stdout",
     "output_type": "stream",
     "text": [
      "root\n",
      " |-- CreatedTime: string (nullable = true)\n",
      " |-- Type: string (nullable = true)\n",
      " |-- Amount: integer (nullable = true)\n",
      " |-- BrokerCode: string (nullable = true)\n",
      "\n"
     ]
    }
   ],
   "source": [
    "rawDF.printSchema()\n",
    "# root\n",
    "#  |-- CreatedTime: string (nullable = true)\n",
    "#  |-- Type: string (nullable = true)\n",
    "#  |-- Amount: integer (nullable = true)\n",
    "#  |-- BrokerCode: string (nullable = true)"
   ]
  },
  {
   "cell_type": "code",
   "execution_count": 6,
   "id": "aa808efd-34ed-4317-9a9b-72d0ab70d27f",
   "metadata": {},
   "outputs": [
    {
     "name": "stdout",
     "output_type": "stream",
     "text": [
      "root\n",
      " |-- CreatedTime: timestamp (nullable = true)\n",
      " |-- Type: string (nullable = true)\n",
      " |-- Amount: integer (nullable = true)\n",
      " |-- BrokerCode: string (nullable = true)\n",
      " |-- Compras: integer (nullable = true)\n",
      " |-- Ventas: integer (nullable = true)\n",
      "\n"
     ]
    }
   ],
   "source": [
    "from pyspark.sql.functions import to_timestamp, col, expr\n",
    "accionesDF = rawDF.withColumn(\"CreatedTime\", to_timestamp(col(\"CreatedTime\"), \"yyyy-MM-dd HH:mm:ss\")) \\\n",
    "    .withColumn(\"Compras\", expr(\"case when Type == 'BUY' then Amount else 0 end\")) \\\n",
    "    .withColumn(\"Ventas\", expr(\"case when Type == 'SELL' then Amount else 0 end\"))\n",
    "\n",
    "accionesDF.printSchema()\n",
    "# root\n",
    "#  |-- CreatedTime: timestamp (nullable = true)\n",
    "#  |-- Type: string (nullable = true)\n",
    "#  |-- Amount: integer (nullable = true)\n",
    "#  |-- BrokerCode: string (nullable = true)\n",
    "#  |-- Compras: integer (nullable = true)\n",
    "#  |-- Ventas: integer (nullable = true)"
   ]
  },
  {
   "cell_type": "code",
   "execution_count": null,
   "id": "28e4acb6-1cc9-4add-90dd-a24949299fda",
   "metadata": {},
   "outputs": [],
   "source": [
    "from pyspark.sql.functions import window, sum\n",
    "windowDF = accionesDF \\\n",
    "    .groupBy(  # col(\"BrokerCode\"),\n",
    "         window(col(\"CreatedTime\"), \"15 minutes\")) \\\n",
    "    .agg(sum(\"Compras\").alias(\"Compras\"),\n",
    "         sum(\"Ventas\").alias(\"Ventas\"))\n",
    "\n",
    "salidaDF = windowDF.select(\"window.start\", \"window.end\", \"Compras\", \"Ventas\")"
   ]
  },
  {
   "cell_type": "code",
   "execution_count": null,
   "id": "55e73a82-e7d0-4825-b428-37773cd48317",
   "metadata": {},
   "outputs": [],
   "source": [
    "bolsaWriterQuery = salidaDF.writeStream \\\n",
    "    .format(\"console\") \\\n",
    "    .outputMode(\"complete\") \\\n",
    "    .start()\n",
    "\n",
    "bolsaWriterQuery.awaitTermination()"
   ]
  }
 ],
 "metadata": {
  "kernelspec": {
   "display_name": "Python 3",
   "language": "python",
   "name": "python3"
  },
  "language_info": {
   "codemirror_mode": {
    "name": "ipython",
    "version": 3
   },
   "file_extension": ".py",
   "mimetype": "text/x-python",
   "name": "python",
   "nbconvert_exporter": "python",
   "pygments_lexer": "ipython3",
   "version": "3.8.10"
  }
 },
 "nbformat": 4,
 "nbformat_minor": 5
}
