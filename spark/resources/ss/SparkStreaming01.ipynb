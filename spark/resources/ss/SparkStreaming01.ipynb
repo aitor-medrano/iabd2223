{
 "cells": [
  {
   "cell_type": "code",
   "execution_count": 9,
   "id": "323bbeab-14bb-40b9-bf1e-befb6883fc7a",
   "metadata": {},
   "outputs": [],
   "source": [
    "from pyspark.sql import SparkSession\n",
    "spark = SparkSession \\\n",
    "        .builder \\\n",
    "        .appName(\"Streaming IABD WordCount\") \\\n",
    "        .master(\"local[2]\") \\\n",
    "        .config(\"spark.streaming.stopGracefullyOnShutdown\", \"true\") \\\n",
    "        .config(\"spark.sql.shuffle.partitions\", 3) \\\n",
    "        .getOrCreate()"
   ]
  },
  {
   "cell_type": "code",
   "execution_count": 10,
   "id": "b4f9e352-bd92-473d-a4af-ae275518369d",
   "metadata": {},
   "outputs": [
    {
     "data": {
      "text/html": [
       "\n",
       "            <div>\n",
       "                <p><b>SparkSession - hive</b></p>\n",
       "                \n",
       "        <div>\n",
       "            <p><b>SparkContext</b></p>\n",
       "\n",
       "            <p><a href=\"http://10.0.2.15:4040\">Spark UI</a></p>\n",
       "\n",
       "            <dl>\n",
       "              <dt>Version</dt>\n",
       "                <dd><code>v3.3.1</code></dd>\n",
       "              <dt>Master</dt>\n",
       "                <dd><code>local[*]</code></dd>\n",
       "              <dt>AppName</dt>\n",
       "                <dd><code>PySparkShell</code></dd>\n",
       "            </dl>\n",
       "        </div>\n",
       "        \n",
       "            </div>\n",
       "        "
      ],
      "text/plain": [
       "<pyspark.sql.session.SparkSession at 0x7f8869f182b0>"
      ]
     },
     "execution_count": 10,
     "metadata": {},
     "output_type": "execute_result"
    }
   ],
   "source": [
    "spark"
   ]
  },
  {
   "cell_type": "code",
   "execution_count": 11,
   "id": "c62cca07-3ab7-420a-9a50-7e8b424d5c23",
   "metadata": {},
   "outputs": [],
   "source": [
    "# Creamos un flujo de escucha sobre netcat en localhost:9999\n",
    "# En Spark Streaming, la lectura se realiza mediante readStream\n",
    "lineasDF = spark.readStream \\\n",
    "        .format(\"socket\") \\\n",
    "        .option(\"host\", \"localhost\") \\\n",
    "        .option(\"port\", \"9999\") \\\n",
    "        .load()"
   ]
  },
  {
   "cell_type": "code",
   "execution_count": 12,
   "id": "20fe35f3-7c47-409a-bf13-7215b701a541",
   "metadata": {},
   "outputs": [],
   "source": [
    "# Leemos las líneas y las pasamos a palabras.\n",
    "# Sobre ellas, realizamos la agrupación count (transformación)\n",
    "from pyspark.sql.functions import explode, split\n",
    "palabrasDF = lineasDF.select(explode(split(lineasDF.value, ' ')).alias('palabra'))\n",
    "cantidadDF = palabrasDF.groupBy(\"palabra\").count()"
   ]
  },
  {
   "cell_type": "code",
   "execution_count": 14,
   "id": "2128e6c5-2a2f-4185-b2f8-f57179a528b9",
   "metadata": {},
   "outputs": [],
   "source": [
    "# Mostramos las palabras por consola (sink)\n",
    "# En Spark Streaming, la persistencia se realiza mediante writeStream\n",
    "#  y en vez de realizar un save, ahora utilizamos start\n",
    "wordCountQuery = cantidadDF.writeStream \\\n",
    "        .queryName(\"Caso1WordCount\") \\\n",
    "        .format(\"console\") \\\n",
    "        .outputMode(\"complete\") \\\n",
    "        .start()"
   ]
  },
  {
   "cell_type": "code",
   "execution_count": null,
   "id": "61e02e55-4e0d-43e6-b8e1-19554a884bc6",
   "metadata": {},
   "outputs": [],
   "source": [
    "# dejamos Spark a la escucha\n",
    "wordCountQuery.awaitTermination()"
   ]
  },
  {
   "cell_type": "code",
   "execution_count": null,
   "id": "2971345e-93e5-4514-8308-ac23bb47e093",
   "metadata": {},
   "outputs": [],
   "source": []
  }
 ],
 "metadata": {
  "kernelspec": {
   "display_name": "Python 3",
   "language": "python",
   "name": "python3"
  },
  "language_info": {
   "codemirror_mode": {
    "name": "ipython",
    "version": 3
   },
   "file_extension": ".py",
   "mimetype": "text/x-python",
   "name": "python",
   "nbconvert_exporter": "python",
   "pygments_lexer": "ipython3",
   "version": "3.8.10"
  }
 },
 "nbformat": 4,
 "nbformat_minor": 5
}
