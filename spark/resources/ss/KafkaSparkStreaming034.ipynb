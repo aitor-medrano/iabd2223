{
 "cells": [
  {
   "cell_type": "code",
   "execution_count": 1,
   "id": "924be291-5c74-4098-9acc-6b9f21847db5",
   "metadata": {},
   "outputs": [],
   "source": [
    "from pyspark.sql import SparkSession\n",
    "sparks = SparkSession \\\n",
    "        .builder \\\n",
    "        .appName(\"Kafka Streaming Sink\") \\\n",
    "        .master(\"local[3]\") \\\n",
    "        .getOrCreate()"
   ]
  },
  {
   "cell_type": "code",
   "execution_count": 2,
   "id": "97081aa2-b7f3-42a5-a4c1-8f01377b2979",
   "metadata": {},
   "outputs": [
    {
     "data": {
      "text/html": [
       "\n",
       "            <div>\n",
       "                <p><b>SparkSession - hive</b></p>\n",
       "                \n",
       "        <div>\n",
       "            <p><b>SparkContext</b></p>\n",
       "\n",
       "            <p><a href=\"http://10.0.2.15:4043\">Spark UI</a></p>\n",
       "\n",
       "            <dl>\n",
       "              <dt>Version</dt>\n",
       "                <dd><code>v3.3.1</code></dd>\n",
       "              <dt>Master</dt>\n",
       "                <dd><code>local[*]</code></dd>\n",
       "              <dt>AppName</dt>\n",
       "                <dd><code>PySparkShell</code></dd>\n",
       "            </dl>\n",
       "        </div>\n",
       "        \n",
       "            </div>\n",
       "        "
      ],
      "text/plain": [
       "<pyspark.sql.session.SparkSession at 0x7fbaf73a93d0>"
      ]
     },
     "execution_count": 2,
     "metadata": {},
     "output_type": "execute_result"
    }
   ],
   "source": [
    "spark"
   ]
  },
  {
   "cell_type": "code",
   "execution_count": 3,
   "id": "b35db768-863a-4e9f-a1f8-7a16d984f2bd",
   "metadata": {},
   "outputs": [],
   "source": [
    "kafkaDFS = sparks.readStream \\\n",
    "        .format(\"kafka\") \\\n",
    "        .option(\"kafka.bootstrap.servers\", \"iabd-virtualbox:9092\") \\\n",
    "        .option(\"subscribe\", \"facturas\") \\\n",
    "        .option(\"startingOffsets\", \"earliest\") \\\n",
    "        .load()"
   ]
  },
  {
   "cell_type": "code",
   "execution_count": 4,
   "id": "6652abb8-734a-46f9-9f7c-5ffe27cbf3a7",
   "metadata": {},
   "outputs": [],
   "source": [
    "from pyspark.sql.types import StructType, StructField, StringType, LongType, DoubleType, IntegerType, ArrayType\n",
    "esquema = StructType([\n",
    "    StructField(\"InvoiceNumber\", StringType()),\n",
    "    StructField(\"CreatedTime\", LongType()),\n",
    "    StructField(\"StoreID\", StringType()),\n",
    "    StructField(\"PosID\", StringType()),\n",
    "    StructField(\"CashierID\", StringType()),\n",
    "    StructField(\"CustomerType\", StringType()),\n",
    "    StructField(\"CustomerCardNo\", StringType()),\n",
    "    StructField(\"TotalAmount\", DoubleType()),\n",
    "    StructField(\"NumberOfItems\", IntegerType()),\n",
    "    StructField(\"PaymentMethod\", StringType()),\n",
    "    StructField(\"CGST\", DoubleType()),\n",
    "    StructField(\"SGST\", DoubleType()),\n",
    "    StructField(\"CESS\", DoubleType()),\n",
    "    StructField(\"DeliveryType\", StringType()),\n",
    "    StructField(\"DeliveryAddress\", StructType([\n",
    "        StructField(\"AddressLine\", StringType()),\n",
    "        StructField(\"City\", StringType()),\n",
    "        StructField(\"State\", StringType()),\n",
    "        StructField(\"PinCode\", StringType()),\n",
    "        StructField(\"ContactNumber\", StringType())\n",
    "    ])),\n",
    "    StructField(\"InvoiceLineItems\", ArrayType(StructType([\n",
    "        StructField(\"ItemCode\", StringType()),\n",
    "        StructField(\"ItemDescription\", StringType()),\n",
    "        StructField(\"ItemPrice\", DoubleType()),\n",
    "        StructField(\"ItemQty\", IntegerType()),\n",
    "        StructField(\"TotalValue\", DoubleType())\n",
    "    ]))),\n",
    "])"
   ]
  },
  {
   "cell_type": "markdown",
   "id": "d24182a2-4a80-4c94-8bf7-917399dd666a",
   "metadata": {
    "tags": []
   },
   "source": [
    "### Gestionamos las facturas - caso 03"
   ]
  },
  {
   "cell_type": "code",
   "execution_count": 6,
   "id": "3eca5460-41e3-4f0d-b296-bd952dbfae5a",
   "metadata": {},
   "outputs": [
    {
     "name": "stdout",
     "output_type": "stream",
     "text": [
      "root\n",
      " |-- value: struct (nullable = true)\n",
      " |    |-- InvoiceNumber: string (nullable = true)\n",
      " |    |-- CreatedTime: long (nullable = true)\n",
      " |    |-- StoreID: string (nullable = true)\n",
      " |    |-- PosID: string (nullable = true)\n",
      " |    |-- CashierID: string (nullable = true)\n",
      " |    |-- CustomerType: string (nullable = true)\n",
      " |    |-- CustomerCardNo: string (nullable = true)\n",
      " |    |-- TotalAmount: double (nullable = true)\n",
      " |    |-- NumberOfItems: integer (nullable = true)\n",
      " |    |-- PaymentMethod: string (nullable = true)\n",
      " |    |-- CGST: double (nullable = true)\n",
      " |    |-- SGST: double (nullable = true)\n",
      " |    |-- CESS: double (nullable = true)\n",
      " |    |-- DeliveryType: string (nullable = true)\n",
      " |    |-- DeliveryAddress: struct (nullable = true)\n",
      " |    |    |-- AddressLine: string (nullable = true)\n",
      " |    |    |-- City: string (nullable = true)\n",
      " |    |    |-- State: string (nullable = true)\n",
      " |    |    |-- PinCode: string (nullable = true)\n",
      " |    |    |-- ContactNumber: string (nullable = true)\n",
      " |    |-- InvoiceLineItems: array (nullable = true)\n",
      " |    |    |-- element: struct (containsNull = true)\n",
      " |    |    |    |-- ItemCode: string (nullable = true)\n",
      " |    |    |    |-- ItemDescription: string (nullable = true)\n",
      " |    |    |    |-- ItemPrice: double (nullable = true)\n",
      " |    |    |    |-- ItemQty: integer (nullable = true)\n",
      " |    |    |    |-- TotalValue: double (nullable = true)\n",
      "\n"
     ]
    }
   ],
   "source": [
    "from pyspark.sql.functions import from_json, col\n",
    "valueDF = kafkaDFS.select(from_json(col(\"value\").cast(\"string\"), esquema).alias(\"value\"))\n",
    "valueDF.printSchema()"
   ]
  },
  {
   "cell_type": "code",
   "execution_count": 7,
   "id": "8ef3d69c-8d6f-492c-855e-0563d2e5c4f4",
   "metadata": {},
   "outputs": [],
   "source": [
    "from pyspark.sql.functions import expr\n",
    "\n",
    "explodeDF = valueDF.selectExpr(\"value.InvoiceNumber\", \"value.CreatedTime\",\n",
    "    \"value.StoreID\", \"value.PosID\", \"value.CustomerType\",\n",
    "    \"value.PaymentMethod\", \"value.DeliveryType\", \"value.DeliveryAddress.City\",\n",
    "    \"value.DeliveryAddress.State\", \"value.DeliveryAddress.PinCode\",\n",
    "    \"explode(value.InvoiceLineItems) as LineItem\")\n",
    "\n",
    "limpioDF = explodeDF \\\n",
    "    .withColumn(\"ItemCode\", expr(\"LineItem.ItemCode\")) \\\n",
    "    .withColumn(\"ItemDescription\", expr(\"LineItem.ItemDescription\")) \\\n",
    "    .withColumn(\"ItemPrice\", expr(\"LineItem.ItemPrice\")) \\\n",
    "    .withColumn(\"ItemQty\", expr(\"LineItem.ItemQty\")) \\\n",
    "    .withColumn(\"TotalValue\", expr(\"LineItem.TotalValue\")) \\\n",
    "    .drop(\"LineItem\")"
   ]
  },
  {
   "cell_type": "code",
   "execution_count": 8,
   "id": "f06b8a62-2b77-4f9e-94c7-27d91457c927",
   "metadata": {},
   "outputs": [],
   "source": [
    "facturaWriterQuery  = limpioDF.writeStream \\\n",
    "    .format(\"json\") \\\n",
    "    .queryName(\"Facturas Kafka Writer\") \\\n",
    "    .outputMode(\"append\") \\\n",
    "    .option(\"path\", \"salida\") \\\n",
    "    .option(\"checkpointLocation\", \"chk-point-dir-03\") \\\n",
    "    .trigger(processingTime=\"1 minute\") \\\n",
    "    .start()"
   ]
  },
  {
   "cell_type": "markdown",
   "id": "20c3ea6c-ed91-4d43-b34b-4a4ff9d145a3",
   "metadata": {
    "tags": []
   },
   "source": [
    "### Gestionamos las notificaciones - caso 04"
   ]
  },
  {
   "cell_type": "code",
   "execution_count": 9,
   "id": "8cd4a48b-4a88-46c4-9465-869cfac0ac5f",
   "metadata": {},
   "outputs": [],
   "source": [
    "from pyspark.sql.functions import from_json, col, expr\n",
    "valueDF = kafkaDFS.select(from_json(col(\"value\").cast(\"string\"), esquema).alias(\"value\"))\n",
    "\n",
    "notificationDF = valueDF.select(\"value.InvoiceNumber\", \"value.CustomerCardNo\", \"value.TotalAmount\") \\\n",
    "    .withColumn(\"LoyaltyPoints\", expr(\"TotalAmount * 0.2\"))\n",
    "\n",
    "# Transformamos las cuatro columnas en lo que espera Kafka, un par de (key, value)\n",
    "kafkaTargetDF = notificationDF.selectExpr(\"InvoiceNumber as key\",\n",
    "        \"\"\"to_json(named_struct(\n",
    "        'CustomerCardNo', CustomerCardNo,\n",
    "        'TotalAmount', TotalAmount,\n",
    "        'EarnedLoyaltyPoints', TotalAmount * 0.2)) as value\"\"\")"
   ]
  },
  {
   "cell_type": "code",
   "execution_count": 10,
   "id": "8883dddc-9ffa-4927-bd5e-3fb0ab036ebf",
   "metadata": {},
   "outputs": [],
   "source": [
    "notificacionWriterQuery = kafkaTargetDF \\\n",
    "    .writeStream \\\n",
    "    .queryName(\"Notificaciones Writer\") \\\n",
    "    .format(\"kafka\") \\\n",
    "    .option(\"kafka.bootstrap.servers\", \"iabd-virtualbox:9092\") \\\n",
    "    .option(\"topic\", \"notificaciones\") \\\n",
    "    .outputMode(\"append\") \\\n",
    "    .option(\"checkpointLocation\", \"chk-point-dir-034\") \\\n",
    "    .start()"
   ]
  },
  {
   "cell_type": "markdown",
   "id": "c1772d40-9e7b-4fb7-930f-996cabe6de79",
   "metadata": {},
   "source": [
    "### Lanzamos todas las querys y quedamos a la espera"
   ]
  },
  {
   "cell_type": "code",
   "execution_count": null,
   "id": "4fa86d10-91cc-44de-a6f5-87b1d1ca3dbc",
   "metadata": {},
   "outputs": [],
   "source": [
    "sparks.streams.awaitAnyTermination()"
   ]
  },
  {
   "cell_type": "code",
   "execution_count": null,
   "id": "ef085613-db8f-4ab6-83a2-0de92165dfea",
   "metadata": {},
   "outputs": [],
   "source": []
  }
 ],
 "metadata": {
  "kernelspec": {
   "display_name": "Python 3",
   "language": "python",
   "name": "python3"
  },
  "language_info": {
   "codemirror_mode": {
    "name": "ipython",
    "version": 3
   },
   "file_extension": ".py",
   "mimetype": "text/x-python",
   "name": "python",
   "nbconvert_exporter": "python",
   "pygments_lexer": "ipython3",
   "version": "3.8.10"
  }
 },
 "nbformat": 4,
 "nbformat_minor": 5
}
