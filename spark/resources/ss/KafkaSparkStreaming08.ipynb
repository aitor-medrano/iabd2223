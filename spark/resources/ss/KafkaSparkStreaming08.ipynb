{
 "cells": [
  {
   "cell_type": "code",
   "execution_count": 1,
   "id": "10aaf61c-973a-4dd3-a2fd-876de7607a3c",
   "metadata": {},
   "outputs": [],
   "source": [
    "spark = SparkSession \\\n",
    "    .builder \\\n",
    "    .master(\"local[3]\") \\\n",
    "    .appName(\"IABD Kafka join MariaDB\") \\\n",
    "    .config(\"spark.streaming.stopGracefullyOnShutdown\", \"true\") \\\n",
    "    .config(\"spark.sql.shuffle.partitions\", 2) \\\n",
    "    .getOrCreate()"
   ]
  },
  {
   "cell_type": "code",
   "execution_count": 2,
   "id": "a5db9a66-94a0-4b78-91fd-bb4ce07efe0c",
   "metadata": {},
   "outputs": [],
   "source": [
    "from pyspark.sql.types import StructType, StructField, StringType\n",
    "kafkaSchema = StructType([\n",
    "    StructField(\"login_id\", StringType()),\n",
    "    StructField(\"login_time\", StringType())\n",
    "])"
   ]
  },
  {
   "cell_type": "code",
   "execution_count": 3,
   "id": "f6983ccd-f140-45eb-bf52-58b4ae18c9bb",
   "metadata": {},
   "outputs": [],
   "source": [
    "kafkaDF = spark \\\n",
    "    .readStream \\\n",
    "    .format(\"kafka\") \\\n",
    "    .option(\"kafka.bootstrap.servers\", \"iabd-virtualbox:9092\") \\\n",
    "    .option(\"subscribe\", \"usuariosk\") \\\n",
    "    .option(\"startingOffsets\", \"earliest\") \\\n",
    "    .load()"
   ]
  },
  {
   "cell_type": "code",
   "execution_count": 4,
   "id": "79113a78-7c67-4ac3-bc2e-ac985eff98c7",
   "metadata": {},
   "outputs": [],
   "source": [
    "from pyspark.sql.functions import from_json, col\n",
    "\n",
    "# Pasamos el value de Kafka a string y luego a JSON\n",
    "valueDF = kafkaDF.select(from_json(col(\"value\").cast(\"string\"), kafkaSchema).alias(\"value\"))"
   ]
  },
  {
   "cell_type": "code",
   "execution_count": 5,
   "id": "4a3a6680-3b33-49dc-9995-7da15a138041",
   "metadata": {},
   "outputs": [],
   "source": [
    "from pyspark.sql.functions import to_timestamp\n",
    "\n",
    "# Cast del campo login_time a tipo fecha\n",
    "loginDF = valueDF.select(\"value.*\") \\\n",
    "    .withColumn(\"login_time\", to_timestamp(col(\"login_time\"), \"yyyy-MM-dd HH:mm:ss\"))"
   ]
  },
  {
   "cell_type": "code",
   "execution_count": 6,
   "id": "b08c65fa-3930-4566-ba4a-2ea79d4345bc",
   "metadata": {},
   "outputs": [],
   "source": [
    "jdbcDF = spark.read \\\n",
    "    .format(\"jdbc\") \\\n",
    "    .option(\"driver\", \"com.mysql.cj.jdbc.Driver\") \\\n",
    "    .option(\"url\", \"jdbc:mysql://localhost\") \\\n",
    "    .option(\"dbtable\", \"spark.usuarios\") \\\n",
    "    .option(\"user\", \"iabd\") \\\n",
    "    .option(\"password\", \"iabd\") \\\n",
    "    .load()"
   ]
  },
  {
   "cell_type": "code",
   "execution_count": 7,
   "id": "bf128594-33a3-42a7-bb0e-d9ea6002ec7d",
   "metadata": {},
   "outputs": [
    {
     "name": "stdout",
     "output_type": "stream",
     "text": [
      "root\n",
      " |-- id: decimal(20,0) (nullable = true)\n",
      " |-- nombre: string (nullable = true)\n",
      " |-- ultimoLogin: timestamp (nullable = true)\n",
      "\n"
     ]
    }
   ],
   "source": [
    "jdbcDF.printSchema()"
   ]
  },
  {
   "cell_type": "code",
   "execution_count": 8,
   "id": "65ac3f06-736a-4847-935c-e874842b7e4e",
   "metadata": {},
   "outputs": [],
   "source": [
    "joinExpr = loginDF.login_id == jdbcDF.id\n",
    "joinType = \"inner\""
   ]
  },
  {
   "cell_type": "code",
   "execution_count": 9,
   "id": "920db474-514f-4a55-87a1-3a073bd3b7ec",
   "metadata": {},
   "outputs": [
    {
     "name": "stdout",
     "output_type": "stream",
     "text": [
      "root\n",
      " |-- login_time: timestamp (nullable = true)\n",
      " |-- id: decimal(20,0) (nullable = true)\n",
      " |-- nombre: string (nullable = true)\n",
      " |-- ultimoLogin: timestamp (nullable = true)\n",
      "\n"
     ]
    }
   ],
   "source": [
    "joinDF = loginDF.join(jdbcDF, joinExpr, joinType) \\\n",
    "    .drop(loginDF.login_id)\n",
    "joinDF.printSchema()\n",
    "# root\n",
    "#  |-- login_time: timestamp (nullable = true)\n",
    "#  |-- id: decimal(20,0) (nullable = true)\n",
    "#  |-- nombre: string (nullable = true)\n",
    "#  |-- ultimoLogin: timestamp (nullable = true)"
   ]
  },
  {
   "cell_type": "code",
   "execution_count": 10,
   "id": "f6944d17-1b98-48cd-ad80-ea9557863fb4",
   "metadata": {},
   "outputs": [
    {
     "name": "stdout",
     "output_type": "stream",
     "text": [
      "root\n",
      " |-- id: decimal(20,0) (nullable = true)\n",
      " |-- nombre: string (nullable = true)\n",
      " |-- login_time: timestamp (nullable = true)\n",
      " |-- ultimoLogin: timestamp (nullable = true)\n",
      "\n"
     ]
    }
   ],
   "source": [
    "resultadoDF = joinDF.select(col(\"id\"), col(\"nombre\"), col(\"login_time\"), col(\"ultimoLogin\"))\n",
    "resultadoDF = resultadoDF.filter(col(\"ultimoLogin\") < col(\"login_time\"))\n",
    "resultadoDF.printSchema()"
   ]
  },
  {
   "cell_type": "code",
   "execution_count": 11,
   "id": "447552ff-3e8c-4826-af7e-c8dfb59b28fa",
   "metadata": {},
   "outputs": [],
   "source": [
    "queryWriter = resultadoDF.writeStream \\\n",
    "    .format(\"console\") \\\n",
    "    .outputMode(\"update\") \\\n",
    "    .option(\"checkpointLocation\", \"chk-point-dir-05\") \\\n",
    "    .trigger(processingTime=\"1 minute\") \\\n",
    "    .start()"
   ]
  },
  {
   "cell_type": "code",
   "execution_count": null,
   "id": "bb2a83b2-b3b7-4fc8-8fc9-b2db7d5813e8",
   "metadata": {},
   "outputs": [],
   "source": [
    "queryWriter.awaitTermination()"
   ]
  },
  {
   "cell_type": "code",
   "execution_count": null,
   "id": "d7d57597-2e92-4bc8-89b8-6e027a1b0ef3",
   "metadata": {},
   "outputs": [],
   "source": [
    "def guardarMysql = (batch_df, batch_id):\n",
    "    val url = \"\"\"jdbc:mysql://localhost:3306/training\"\"\"\n",
    "    batch_df\n",
    "        .withColumn(\"batchId\", lit(batchId)) \\\n",
    "        .write.format(\"jdbc\") \\\n",
    "        .option(\"driver\", \"com.mysql.cj.jdbc.Driver\") \\\n",
    "        .option(\"url\", \"jdbc:mysql://localhost\") \\\n",
    "        .option(\"dbtable\", \"spark.usuarios\") \\\n",
    "        .option(\"user\", \"iabd\") \\\n",
    "        .option(\"password\", \"iabd\") \\\n",
    "        .mode(\"append\")\n",
    "        .save()\n",
    "        "
   ]
  },
  {
   "cell_type": "code",
   "execution_count": null,
   "id": "d5314b03-8280-464f-9c4c-e9587d4fb691",
   "metadata": {},
   "outputs": [],
   "source": [
    "queryWriter = resultadoDF.writeStream \\\n",
    "  .outputMode(\"append\") \\\n",
    "  .foreachBatch(guardarMysql) \\\n",
    "  .start()\n",
    "\n",
    "queryWriter.awaitTermination()"
   ]
  }
 ],
 "metadata": {
  "kernelspec": {
   "display_name": "Python 3",
   "language": "python",
   "name": "python3"
  },
  "language_info": {
   "codemirror_mode": {
    "name": "ipython",
    "version": 3
   },
   "file_extension": ".py",
   "mimetype": "text/x-python",
   "name": "python",
   "nbconvert_exporter": "python",
   "pygments_lexer": "ipython3",
   "version": "3.8.10"
  }
 },
 "nbformat": 4,
 "nbformat_minor": 5
}
