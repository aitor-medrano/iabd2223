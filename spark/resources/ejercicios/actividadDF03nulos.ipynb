{
 "cells": [
  {
   "cell_type": "code",
   "execution_count": 59,
   "id": "fc66b7f3",
   "metadata": {},
   "outputs": [
    {
     "name": "stdout",
     "output_type": "stream",
     "text": [
      "root\n",
      " |-- Nombre: string (nullable = true)\n",
      " |-- Ventas: integer (nullable = true)\n",
      " |-- Euros: integer (nullable = true)\n",
      " |-- Ciudad: string (nullable = true)\n",
      " |-- Identificador: string (nullable = true)\n",
      "\n"
     ]
    }
   ],
   "source": [
    "from pyspark.sql import SparkSession\n",
    "\n",
    "spark = SparkSession.builder.appName(\"s8a-dataframes-actividades\").getOrCreate()\n",
    "\n",
    "df = spark.read.option(\"header\", \"true\").option(\"inferSchema\", \"true\").csv(\"../VentasNulos.csv\")\n",
    "    \n",
    "df.printSchema()"
   ]
  },
  {
   "cell_type": "code",
   "execution_count": 60,
   "id": "3f9ebb7a",
   "metadata": {},
   "outputs": [
    {
     "name": "stdout",
     "output_type": "stream",
     "text": [
      "+------+------+-----+-----------+-------------+\n",
      "|Nombre|Ventas|Euros|     Ciudad|Identificador|\n",
      "+------+------+-----+-----------+-------------+\n",
      "|  Pepe|     4|  200|      Elche|          X21|\n",
      "|Andreu|     8| null|       null|         null|\n",
      "|  Juan|  null| null|       null|          C54|\n",
      "| Pedro|     1|   30|   Valencia|          R23|\n",
      "| María|  null|  300| Torrellano|         null|\n",
      "|Marina|     3|  350|       Aspe|          V55|\n",
      "|  null|    10|  500|Crevillente|          AMV|\n",
      "|   Ana|    10| 2300|   Alicante|          B89|\n",
      "| Jorge|     8| null|       null|          T19|\n",
      "+------+------+-----+-----------+-------------+\n",
      "\n"
     ]
    }
   ],
   "source": [
    "df = df.na.drop(\"all\")\n",
    "df.show()"
   ]
  },
  {
   "cell_type": "code",
   "execution_count": 52,
   "id": "5c485a6d",
   "metadata": {},
   "outputs": [
    {
     "name": "stdout",
     "output_type": "stream",
     "text": [
      "+--------+------+-----+-----------+-------------+\n",
      "|  Nombre|Ventas|Euros|     Ciudad|Identificador|\n",
      "+--------+------+-----+-----------+-------------+\n",
      "|    Pepe|     4|  200|      Elche|          X21|\n",
      "|  Andreu|     8| null|       null|         null|\n",
      "|    Juan|  null| null|       null|          C54|\n",
      "|   Pedro|     1|   30|   Valencia|          R23|\n",
      "|   María|  null|  300| Torrellano|         null|\n",
      "|  Marina|     3|  350|       Aspe|          V55|\n",
      "|Empleado|    10|  500|Crevillente|          AMV|\n",
      "|     Ana|    10| 2300|   Alicante|          B89|\n",
      "|Empleado|  null| null|       null|         null|\n",
      "|   Jorge|     8| null|       null|          T19|\n",
      "+--------+------+-----+-----------+-------------+\n",
      "\n"
     ]
    }
   ],
   "source": [
    "df = df.na.fill(\"Empleado\",[\"Nombre\"])\n",
    "df.show()"
   ]
  },
  {
   "cell_type": "code",
   "execution_count": 53,
   "id": "7c699d6e",
   "metadata": {},
   "outputs": [],
   "source": [
    "valor = df.groupBy().avg('Ventas')\n",
    "media = valor.first()[0]"
   ]
  },
  {
   "cell_type": "code",
   "execution_count": 54,
   "id": "5791e170",
   "metadata": {},
   "outputs": [
    {
     "data": {
      "text/plain": [
       "pyspark.sql.dataframe.DataFrame"
      ]
     },
     "execution_count": 54,
     "metadata": {},
     "output_type": "execute_result"
    }
   ],
   "source": [
    "type(valor)"
   ]
  },
  {
   "cell_type": "code",
   "execution_count": 55,
   "id": "cfe99c7e",
   "metadata": {},
   "outputs": [
    {
     "name": "stdout",
     "output_type": "stream",
     "text": [
      "+--------+------+-----+-----------+-------------+\n",
      "|  Nombre|Ventas|Euros|     Ciudad|Identificador|\n",
      "+--------+------+-----+-----------+-------------+\n",
      "|    Pepe|     4|  200|      Elche|          X21|\n",
      "|  Andreu|     8| null|       null|         null|\n",
      "|    Juan|     6| null|       null|          C54|\n",
      "|   Pedro|     1|   30|   Valencia|          R23|\n",
      "|   María|     6|  300| Torrellano|         null|\n",
      "|  Marina|     3|  350|       Aspe|          V55|\n",
      "|Empleado|    10|  500|Crevillente|          AMV|\n",
      "|     Ana|    10| 2300|   Alicante|          B89|\n",
      "|Empleado|     6| null|       null|         null|\n",
      "|   Jorge|     8| null|       null|          T19|\n",
      "+--------+------+-----+-----------+-------------+\n",
      "\n"
     ]
    }
   ],
   "source": [
    "# Las ventas nulas por la media de las ventas de los compañeros(redondeado a entero)\n",
    "from pyspark.sql.functions import avg, col\n",
    "df = df.fillna({\"Ventas\" : media})\n",
    "df.show()"
   ]
  },
  {
   "cell_type": "code",
   "execution_count": 56,
   "id": "98dda972",
   "metadata": {},
   "outputs": [
    {
     "data": {
      "text/plain": [
       "30"
      ]
     },
     "execution_count": 56,
     "metadata": {},
     "output_type": "execute_result"
    }
   ],
   "source": [
    "# Los euros nulos por el valor del compañero que menos € ha ganado\n",
    "valor = df.groupBy().min('Euros')\n",
    "menor = valor.first()[0]\n",
    "menor"
   ]
  },
  {
   "cell_type": "code",
   "execution_count": 57,
   "id": "6adb9372",
   "metadata": {},
   "outputs": [
    {
     "name": "stdout",
     "output_type": "stream",
     "text": [
      "+--------+------+-----+-----------+-------------+\n",
      "|  Nombre|Ventas|Euros|     Ciudad|Identificador|\n",
      "+--------+------+-----+-----------+-------------+\n",
      "|    Pepe|     4|  200|      Elche|          X21|\n",
      "|  Andreu|     8|   30|       null|         null|\n",
      "|    Juan|     6|   30|       null|          C54|\n",
      "|   Pedro|     1|   30|   Valencia|          R23|\n",
      "|   María|     6|  300| Torrellano|         null|\n",
      "|  Marina|     3|  350|       Aspe|          V55|\n",
      "|Empleado|    10|  500|Crevillente|          AMV|\n",
      "|     Ana|    10| 2300|   Alicante|          B89|\n",
      "|Empleado|     6|   30|       null|         null|\n",
      "|   Jorge|     8|   30|       null|          T19|\n",
      "+--------+------+-----+-----------+-------------+\n",
      "\n"
     ]
    }
   ],
   "source": [
    "df = df.fillna({\"Euros\" : menor})\n",
    "df.show()"
   ]
  },
  {
   "cell_type": "code",
   "execution_count": 58,
   "id": "ac7dd1d2",
   "metadata": {},
   "outputs": [
    {
     "name": "stdout",
     "output_type": "stream",
     "text": [
      "+--------+------+-----+-----------+-------------+\n",
      "|  Nombre|Ventas|Euros|     Ciudad|Identificador|\n",
      "+--------+------+-----+-----------+-------------+\n",
      "|    Pepe|     4|  200|      Elche|          X21|\n",
      "|  Andreu|     8|   30|       C.V.|          XYZ|\n",
      "|    Juan|     6|   30|       C.V.|          C54|\n",
      "|   Pedro|     1|   30|   Valencia|          R23|\n",
      "|   María|     6|  300| Torrellano|          XYZ|\n",
      "|  Marina|     3|  350|       Aspe|          V55|\n",
      "|Empleado|    10|  500|Crevillente|          AMV|\n",
      "|     Ana|    10| 2300|   Alicante|          B89|\n",
      "|Empleado|     6|   30|       C.V.|          XYZ|\n",
      "|   Jorge|     8|   30|       C.V.|          T19|\n",
      "+--------+------+-----+-----------+-------------+\n",
      "\n"
     ]
    }
   ],
   "source": [
    "df = df.fillna({\"Ciudad\": \"C.V.\", \"Identificador\": \"XYZ\"})\n",
    "df.show()"
   ]
  },
  {
   "cell_type": "code",
   "execution_count": null,
   "id": "13d525bf",
   "metadata": {},
   "outputs": [],
   "source": []
  },
  {
   "cell_type": "code",
   "execution_count": null,
   "id": "c1d4fe7d",
   "metadata": {},
   "outputs": [],
   "source": []
  },
  {
   "cell_type": "code",
   "execution_count": null,
   "id": "ab1cca61",
   "metadata": {},
   "outputs": [],
   "source": []
  }
 ],
 "metadata": {
  "kernelspec": {
   "display_name": "Python 3",
   "language": "python",
   "name": "python3"
  },
  "language_info": {
   "codemirror_mode": {
    "name": "ipython",
    "version": 3
   },
   "file_extension": ".py",
   "mimetype": "text/x-python",
   "name": "python",
   "nbconvert_exporter": "python",
   "pygments_lexer": "ipython3",
   "version": "3.11.1 (main, Dec 23 2022, 09:28:24) [Clang 14.0.0 (clang-1400.0.29.202)]"
  },
  "vscode": {
   "interpreter": {
    "hash": "5c7b89af1651d0b8571dde13640ecdccf7d5a6204171d6ab33e7c296e100e08a"
   }
  }
 },
 "nbformat": 4,
 "nbformat_minor": 5
}
