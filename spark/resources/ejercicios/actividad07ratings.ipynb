{
 "cells": [
  {
   "cell_type": "markdown",
   "id": "3cb82841",
   "metadata": {},
   "source": [
    "En una red social sobre cine, tenemos un fichero ratings.txt compuesta por el código de la película, el código del usuario, la calificación asignada y el timestamp de la votación con el siguiente formato:\n",
    "\n",
    "\n",
    "1::1193::5::978300760\n",
    "1::661::3::978302109\n",
    "1::914::3::978301968\n",
    "\n",
    "Se pide crear dos script en Python, así como los comandos necesarios para ejecutarlos (mediante spark-submit) para:\n",
    "\n",
    "Obtener para cada película, la nota media de todas sus votaciones.\n",
    "Películas cuya nota media sea superior a 3."
   ]
  },
  {
   "cell_type": "code",
   "execution_count": 3,
   "id": "3d6e3fd2",
   "metadata": {},
   "outputs": [],
   "source": [
    "from pyspark.sql import SparkSession\n",
    "\n",
    "spark = SparkSession.builder.getOrCreate() \n",
    "sc = spark.sparkContext\n",
    "sc.setLogLevel(\"ERROR\")"
   ]
  },
  {
   "cell_type": "code",
   "execution_count": 4,
   "id": "6ab053dc",
   "metadata": {},
   "outputs": [
    {
     "name": "stderr",
     "output_type": "stream",
     "text": [
      "                                                                                \r"
     ]
    },
    {
     "data": {
      "text/plain": [
       "['1::1193::5::978300760',\n",
       " '1::661::3::978302109',\n",
       " '1::914::3::978301968',\n",
       " '1::3408::4::978300275',\n",
       " '1::2355::5::978824291']"
      ]
     },
     "execution_count": 4,
     "metadata": {},
     "output_type": "execute_result"
    }
   ],
   "source": [
    "rdd = sc.textFile('../ratings.txt')\n",
    "rdd.take(5)"
   ]
  },
  {
   "cell_type": "code",
   "execution_count": 5,
   "id": "43c2c521",
   "metadata": {},
   "outputs": [
    {
     "name": "stderr",
     "output_type": "stream",
     "text": [
      "                                                                                \r"
     ]
    },
    {
     "data": {
      "text/plain": [
       "655982"
      ]
     },
     "execution_count": 5,
     "metadata": {},
     "output_type": "execute_result"
    }
   ],
   "source": [
    "# Obtener para cada película, la nota media de todas sus votaciones.\n",
    "rddRatings = rdd.map(lambda x: x.split('::')).map(lambda x: (x[0], (int(x[2]), 1)))\n",
    "rddRatings.count()"
   ]
  },
  {
   "cell_type": "code",
   "execution_count": 6,
   "id": "7ab2f3d6",
   "metadata": {},
   "outputs": [
    {
     "name": "stderr",
     "output_type": "stream",
     "text": [
      "/usr/local/Cellar/apache-spark/3.2.1/libexec/python/lib/pyspark.zip/pyspark/shuffle.py:60: UserWarning: Please install psutil to have better support with spilling\n",
      "/usr/local/Cellar/apache-spark/3.2.1/libexec/python/lib/pyspark.zip/pyspark/shuffle.py:60: UserWarning: Please install psutil to have better support with spilling\n",
      "                                                                                \r"
     ]
    },
    {
     "data": {
      "text/plain": [
       "[('1', (222, 53)),\n",
       " ('4', (88, 21)),\n",
       " ('8', (540, 139)),\n",
       " ('9', (396, 106)),\n",
       " ('10', (1650, 401))]"
      ]
     },
     "execution_count": 6,
     "metadata": {},
     "output_type": "execute_result"
    }
   ],
   "source": [
    "rddSuma = rddRatings.reduceByKey(lambda a,b: (a[0]+b[0], a[1]+b[1]))\n",
    "rddSuma.take(5)"
   ]
  },
  {
   "cell_type": "code",
   "execution_count": 9,
   "id": "486b3a5c",
   "metadata": {},
   "outputs": [
    {
     "data": {
      "text/plain": [
       "[('1', 4.188679245283019), ('4', 4.190476190476191), ('8', 3.884892086330935)]"
      ]
     },
     "execution_count": 9,
     "metadata": {},
     "output_type": "execute_result"
    }
   ],
   "source": [
    "rddMedia = rddSuma.map(lambda x: (x[0], x[1][0]/x[1][1]))\n",
    "rddMedia.take(3)"
   ]
  },
  {
   "cell_type": "code",
   "execution_count": 10,
   "id": "69303175",
   "metadata": {},
   "outputs": [
    {
     "data": {
      "text/plain": [
       "[('1', 4.188679245283019), ('4', 4.190476190476191), ('8', 3.884892086330935)]"
      ]
     },
     "execution_count": 10,
     "metadata": {},
     "output_type": "execute_result"
    }
   ],
   "source": [
    "rddMediaMV = rddSuma.mapValues(lambda x: x[0]/x[1])\n",
    "rddMediaMV.take(3)"
   ]
  }
 ],
 "metadata": {
  "kernelspec": {
   "display_name": "Python 3 (ipykernel)",
   "language": "python",
   "name": "python3"
  },
  "language_info": {
   "codemirror_mode": {
    "name": "ipython",
    "version": 3
   },
   "file_extension": ".py",
   "mimetype": "text/x-python",
   "name": "python",
   "nbconvert_exporter": "python",
   "pygments_lexer": "ipython3",
   "version": "3.9.12"
  }
 },
 "nbformat": 4,
 "nbformat_minor": 5
}
