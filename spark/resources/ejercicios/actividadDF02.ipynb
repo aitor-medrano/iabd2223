{
 "cells": [
  {
   "cell_type": "code",
   "execution_count": 7,
   "id": "d10c4065",
   "metadata": {},
   "outputs": [
    {
     "name": "stdout",
     "output_type": "stream",
     "text": [
      "root\n",
      " |-- _c0: string (nullable = true)\n",
      " |-- _c1: string (nullable = true)\n",
      " |-- _c2: integer (nullable = true)\n",
      "\n"
     ]
    }
   ],
   "source": [
    "from pyspark.sql import SparkSession\n",
    "\n",
    "spark = SparkSession.builder.appName(\"s8a-dataframes-actividades\").getOrCreate()\n",
    "\n",
    "df = spark.read.option(\"sep\", \"\\t\").option(\"inferSchema\", \"true\").csv(\"../movies.tsv\")\n",
    "    \n",
    "df.printSchema()"
   ]
  },
  {
   "cell_type": "code",
   "execution_count": 8,
   "id": "f15ee069",
   "metadata": {},
   "outputs": [
    {
     "name": "stdout",
     "output_type": "stream",
     "text": [
      "+-----------------+--------------------+----+\n",
      "|              _c0|                 _c1| _c2|\n",
      "+-----------------+--------------------+----+\n",
      "|McClure, Marc (I)|       Freaky Friday|2003|\n",
      "|McClure, Marc (I)|        Coach Carter|2005|\n",
      "|McClure, Marc (I)|         Superman II|1980|\n",
      "|McClure, Marc (I)|           Apollo 13|1995|\n",
      "|McClure, Marc (I)|            Superman|1978|\n",
      "|McClure, Marc (I)|  Back to the Future|1985|\n",
      "|McClure, Marc (I)|Back to the Futur...|1990|\n",
      "|Cooper, Chris (I)|  Me, Myself & Irene|2000|\n",
      "|Cooper, Chris (I)|         October Sky|1999|\n",
      "|Cooper, Chris (I)|              Capote|2005|\n",
      "+-----------------+--------------------+----+\n",
      "only showing top 10 rows\n",
      "\n"
     ]
    }
   ],
   "source": [
    "df.show(10)"
   ]
  },
  {
   "cell_type": "code",
   "execution_count": 45,
   "id": "98a0bbe7",
   "metadata": {},
   "outputs": [],
   "source": [
    "from pyspark.sql import SparkSession\n",
    "from pyspark.sql.types import StructType, StructField, StringType, IntegerType\n",
    "\n",
    "esquema = StructType([\n",
    "    StructField(\"interprete\", StringType(), False),\n",
    "    StructField(\"pelicula\", StringType(), False),\n",
    "    StructField(\"anyo\", IntegerType(), False)\n",
    "])"
   ]
  },
  {
   "cell_type": "code",
   "execution_count": 46,
   "id": "5e25c964",
   "metadata": {},
   "outputs": [
    {
     "name": "stdout",
     "output_type": "stream",
     "text": [
      "root\n",
      " |-- interprete: string (nullable = true)\n",
      " |-- pelicula: string (nullable = true)\n",
      " |-- anyo: integer (nullable = true)\n",
      "\n"
     ]
    }
   ],
   "source": [
    "# Lectura de CSV con el ; como separador de columnas y con encabezado\n",
    "df = spark.read.option(\"sep\", \"\\t\").schema(esquema).csv(\"../movies.tsv\")\n",
    "    \n",
    "df.printSchema()"
   ]
  },
  {
   "cell_type": "code",
   "execution_count": 47,
   "id": "6b1c36cf",
   "metadata": {},
   "outputs": [
    {
     "name": "stdout",
     "output_type": "stream",
     "text": [
      "+-----------------+--------------------+----+\n",
      "|       interprete|            pelicula|anyo|\n",
      "+-----------------+--------------------+----+\n",
      "|McClure, Marc (I)|       Freaky Friday|2003|\n",
      "|McClure, Marc (I)|        Coach Carter|2005|\n",
      "|McClure, Marc (I)|         Superman II|1980|\n",
      "|McClure, Marc (I)|           Apollo 13|1995|\n",
      "|McClure, Marc (I)|            Superman|1978|\n",
      "|McClure, Marc (I)|  Back to the Future|1985|\n",
      "|McClure, Marc (I)|Back to the Futur...|1990|\n",
      "|Cooper, Chris (I)|  Me, Myself & Irene|2000|\n",
      "|Cooper, Chris (I)|         October Sky|1999|\n",
      "|Cooper, Chris (I)|              Capote|2005|\n",
      "+-----------------+--------------------+----+\n",
      "only showing top 10 rows\n",
      "\n"
     ]
    }
   ],
   "source": [
    "df.show(10)"
   ]
  },
  {
   "cell_type": "code",
   "execution_count": 48,
   "id": "2d7c2d0d",
   "metadata": {},
   "outputs": [
    {
     "name": "stderr",
     "output_type": "stream",
     "text": [
      "\r\n",
      "[Stage 71:>                                                         (0 + 1) / 1]\r"
     ]
    },
    {
     "name": "stdout",
     "output_type": "stream",
     "text": [
      "+-------+------------------+--------------------+------------------+\n",
      "|summary|        interprete|            pelicula|              anyo|\n",
      "+-------+------------------+--------------------+------------------+\n",
      "|  count|             31393|               31393|             31393|\n",
      "|   mean|              null|  312.61538461538464|2002.7964514382188|\n",
      "| stddev|              null|   485.7043414390151| 6.377135379933117|\n",
      "|    min|   Aaron, Caroline|'Crocodile' Dunde...|              1961|\n",
      "|    max|von Sydow, Max (I)|                 xXx|              2012|\n",
      "+-------+------------------+--------------------+------------------+\n",
      "\n"
     ]
    },
    {
     "name": "stderr",
     "output_type": "stream",
     "text": [
      "\r\n",
      "                                                                                \r"
     ]
    }
   ],
   "source": [
    "df.describe().show()"
   ]
  },
  {
   "cell_type": "code",
   "execution_count": 49,
   "id": "4a243bea",
   "metadata": {},
   "outputs": [
    {
     "name": "stdout",
     "output_type": "stream",
     "text": [
      "+------------------------+\n",
      "|count(DISTINCT pelicula)|\n",
      "+------------------------+\n",
      "|                    1409|\n",
      "+------------------------+\n",
      "\n"
     ]
    }
   ],
   "source": [
    "from pyspark.sql.functions import count_distinct\n",
    "df.select(count_distinct(\"pelicula\")).show()"
   ]
  },
  {
   "cell_type": "code",
   "execution_count": 51,
   "id": "3078678e",
   "metadata": {},
   "outputs": [],
   "source": [
    "# actores de la película Superman\n",
    "dfS1 = df.where(df.pelicula == \"Superman\").select(\"interprete\")\n",
    "dfS2 = df.where(df.pelicula == \"Superman II\").select(\"interprete\")"
   ]
  },
  {
   "cell_type": "code",
   "execution_count": 52,
   "id": "8f099913",
   "metadata": {},
   "outputs": [
    {
     "name": "stdout",
     "output_type": "stream",
     "text": [
      "+------------------+\n",
      "|        interprete|\n",
      "+------------------+\n",
      "|  O'Halloran, Jack|\n",
      "|   Tucker, Burnell|\n",
      "|  Hollis, John (I)|\n",
      "|       Beatty, Ned|\n",
      "|    Stamp, Terence|\n",
      "|Ratzenberger, John|\n",
      "|     Hackman, Gene|\n",
      "|    Fielder, Harry|\n",
      "|  Perrine, Valerie|\n",
      "| McClure, Marc (I)|\n",
      "|   Donner, Richard|\n",
      "+------------------+\n",
      "\n"
     ]
    }
   ],
   "source": [
    "# interpretes que aparecen en Superman y Superman II\n",
    "dfS1_2 = dfS1.intersect(dfS2)\n",
    "dfS1_2.show()"
   ]
  },
  {
   "cell_type": "code",
   "execution_count": 59,
   "id": "45e461b5",
   "metadata": {},
   "outputs": [
    {
     "name": "stdout",
     "output_type": "stream",
     "text": [
      "+-------------------+--------+\n",
      "|         interprete|cantidad|\n",
      "+-------------------+--------+\n",
      "|Williams, Robin (I)|      22|\n",
      "|  Murphy, Eddie (I)|      21|\n",
      "|      Harnell, Jess|      31|\n",
      "|   Wilson, Owen (I)|      23|\n",
      "|        Damon, Matt|      27|\n",
      "|     Travolta, John|      20|\n",
      "|       Stiller, Ben|      21|\n",
      "|      Diaz, Cameron|      21|\n",
      "|      Willis, Bruce|      27|\n",
      "|   Tatasciore, Fred|      38|\n",
      "|      Simmons, J.K.|      20|\n",
      "|Freeman, Morgan (I)|      22|\n",
      "|         Hanks, Tom|      25|\n",
      "|    Hoffman, Dustin|      21|\n",
      "|   Farmer, Bill (I)|      20|\n",
      "|        Cruise, Tom|      23|\n",
      "| Jackson, Samuel L.|      32|\n",
      "|      Welker, Frank|      38|\n",
      "|    Newman, Laraine|      20|\n",
      "|    Clooney, George|      20|\n",
      "+-------------------+--------+\n",
      "only showing top 20 rows\n",
      "\n"
     ]
    }
   ],
   "source": [
    "from pyspark.sql.functions import col\n",
    "df.groupBy(\"interprete\").agg(count(\"pelicula\").alias(\"cantidad\")).filter(col(\"cantidad\") >= 20).show()"
   ]
  },
  {
   "cell_type": "code",
   "execution_count": 60,
   "id": "79d7d44e",
   "metadata": {},
   "outputs": [
    {
     "name": "stdout",
     "output_type": "stream",
     "text": [
      "+-----------------+-----+\n",
      "|       interprete|count|\n",
      "+-----------------+-----+\n",
      "|Murphy, Eddie (I)|   21|\n",
      "+-----------------+-----+\n",
      "\n"
     ]
    }
   ],
   "source": [
    "from pyspark.sql.functions import col\n",
    "df.groupBy(\"interprete\").count().where(df.interprete == \"Murphy, Eddie (I)\").show()"
   ]
  },
  {
   "cell_type": "code",
   "execution_count": 66,
   "id": "82b19fc3",
   "metadata": {},
   "outputs": [
    {
     "name": "stdout",
     "output_type": "stream",
     "text": [
      "+--------------------+-----+\n",
      "|            pelicula|count|\n",
      "+--------------------+-----+\n",
      "|Close Encounters ...|    9|\n",
      "|       The Godfather|   12|\n",
      "|One Hundred and O...|    2|\n",
      "|        The Exorcist|    5|\n",
      "|      Apocalypse Now|   13|\n",
      "|     The Jungle Book|    2|\n",
      "|                Jaws|    5|\n",
      "|   Kramer vs. Kramer|    6|\n",
      "|            Superman|   24|\n",
      "|              Jaws 2|    1|\n",
      "|           Star Wars|   25|\n",
      "|      Operación Ogro|    1|\n",
      "|Saturday Night Fever|    6|\n",
      "|              Grease|    5|\n",
      "|           Moonraker|   11|\n",
      "|               Alien|    6|\n",
      "+--------------------+-----+\n",
      "\n"
     ]
    }
   ],
   "source": [
    "df.filter(df.anyo < 1980).groupBy(\"pelicula\").count().show()"
   ]
  },
  {
   "cell_type": "code",
   "execution_count": 70,
   "id": "f33565e5",
   "metadata": {},
   "outputs": [
    {
     "name": "stdout",
     "output_type": "stream",
     "text": [
      "+----+-----+\n",
      "|anyo|count|\n",
      "+----+-----+\n",
      "|2006| 2078|\n",
      "|2004| 2005|\n",
      "|2007| 1986|\n",
      "|2005| 1960|\n",
      "|2011| 1926|\n",
      "+----+-----+\n",
      "only showing top 5 rows\n",
      "\n"
     ]
    }
   ],
   "source": [
    "from pyspark.sql.functions import col\n",
    "df.groupBy(\"anyo\").count().orderBy(\"count\", ascending=False).show(5)"
   ]
  },
  {
   "cell_type": "code",
   "execution_count": null,
   "id": "171ae311",
   "metadata": {},
   "outputs": [],
   "source": []
  },
  {
   "cell_type": "code",
   "execution_count": null,
   "id": "6ba540d8",
   "metadata": {},
   "outputs": [],
   "source": []
  }
 ],
 "metadata": {
  "kernelspec": {
   "display_name": "Python 3",
   "language": "python",
   "name": "python3"
  },
  "language_info": {
   "codemirror_mode": {
    "name": "ipython",
    "version": 3
   },
   "file_extension": ".py",
   "mimetype": "text/x-python",
   "name": "python",
   "nbconvert_exporter": "python",
   "pygments_lexer": "ipython3",
   "version": "3.11.1 (main, Dec 23 2022, 09:28:24) [Clang 14.0.0 (clang-1400.0.29.202)]"
  },
  "vscode": {
   "interpreter": {
    "hash": "5c7b89af1651d0b8571dde13640ecdccf7d5a6204171d6ab33e7c296e100e08a"
   }
  }
 },
 "nbformat": 4,
 "nbformat_minor": 5
}
