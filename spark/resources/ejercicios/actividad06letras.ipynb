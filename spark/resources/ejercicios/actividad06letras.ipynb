{
 "cells": [
  {
   "cell_type": "markdown",
   "id": "3cb82841",
   "metadata": {},
   "source": [
    "6. Dada una lista de vocales similar a `vocales = ['a','e','i','o','u']`\n",
    "\n",
    "    1. Une todas las letras en un único valor dando como resultado `A-E-I-O-U`\n",
    "    2. Sabiendo que la `a` suma `1`, la `e` suma `2`, la `i` suma `3`, la `o` suma `4` y la `u` suma `5`, y que cualquier consonante resta `1`...\n",
    "\n",
    "Dada la lista `'a','x','r','e','i','i','a','m','p''o','u','y','r'`, suma el total de cada partición y además que por cada partición, se sumen 10 extra."
   ]
  },
  {
   "cell_type": "code",
   "execution_count": 1,
   "id": "3d6e3fd2",
   "metadata": {},
   "outputs": [],
   "source": [
    "from pyspark.sql import SparkSession\n",
    "\n",
    "spark = SparkSession.builder.getOrCreate() \n",
    "sc = spark.sparkContext"
   ]
  },
  {
   "cell_type": "code",
   "execution_count": 2,
   "id": "a5e62b8d",
   "metadata": {},
   "outputs": [
    {
     "name": "stderr",
     "output_type": "stream",
     "text": [
      "                                                                                \r"
     ]
    },
    {
     "data": {
      "text/plain": [
       "'A-E-I-O-U'"
      ]
     },
     "execution_count": 2,
     "metadata": {},
     "output_type": "execute_result"
    }
   ],
   "source": [
    "vocales = ['a','e','i','o','u']\n",
    "rdd = sc.parallelize(vocales)\n",
    "rddConcat = rdd.reduce(lambda x,y: x.upper() + \"-\" + y.upper())\n",
    "rddConcat"
   ]
  },
  {
   "cell_type": "code",
   "execution_count": 3,
   "id": "bb4ea6d9",
   "metadata": {},
   "outputs": [
    {
     "data": {
      "text/plain": [
       "['a', 'e', 'i', 'o', 'u']"
      ]
     },
     "execution_count": 3,
     "metadata": {},
     "output_type": "execute_result"
    }
   ],
   "source": [
    "rdd.collect()"
   ]
  },
  {
   "cell_type": "code",
   "execution_count": 4,
   "id": "21ee0335",
   "metadata": {},
   "outputs": [
    {
     "data": {
      "text/plain": [
       "['a', 'x', 'r']"
      ]
     },
     "execution_count": 4,
     "metadata": {},
     "output_type": "execute_result"
    }
   ],
   "source": [
    "letras = ['a','x','r','e','i','i','a','m','p''o','u','y','r']\n",
    "rdd = sc.parallelize(letras)\n",
    "rdd.take(3)"
   ]
  },
  {
   "cell_type": "code",
   "execution_count": null,
   "id": "d1378ac9",
   "metadata": {},
   "outputs": [],
   "source": []
  }
 ],
 "metadata": {
  "kernelspec": {
   "display_name": "Python 3 (ipykernel)",
   "language": "python",
   "name": "python3"
  },
  "language_info": {
   "codemirror_mode": {
    "name": "ipython",
    "version": 3
   },
   "file_extension": ".py",
   "mimetype": "text/x-python",
   "name": "python",
   "nbconvert_exporter": "python",
   "pygments_lexer": "ipython3",
   "version": "3.9.12"
  }
 },
 "nbformat": 4,
 "nbformat_minor": 5
}
