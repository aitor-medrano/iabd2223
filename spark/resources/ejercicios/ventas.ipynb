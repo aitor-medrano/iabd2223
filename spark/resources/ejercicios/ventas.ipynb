{
 "cells": [
  {
   "cell_type": "code",
   "execution_count": 9,
   "id": "cc9cc318",
   "metadata": {},
   "outputs": [],
   "source": [
    "from pyspark.sql import SparkSession\n",
    "\n",
    "spark = SparkSession.builder.appName(\"s8a-analitica-ventas\").getOrCreate()"
   ]
  },
  {
   "cell_type": "code",
   "execution_count": 10,
   "id": "a676d101",
   "metadata": {},
   "outputs": [],
   "source": [
    "from pyspark.sql.types import StructType, StructField, StringType, IntegerType, DoubleType\n",
    "esquema = StructType([\n",
    "    StructField(\"Order ID\", IntegerType(), False),\n",
    "    StructField(\"Product\", StringType(), False),\n",
    "    StructField(\"Quantity Ordered\", IntegerType(), True),\n",
    "    StructField(\"Price Each\", DoubleType(), False),\n",
    "    StructField(\"Order Date\", StringType(), False),\n",
    "    StructField(\"Purchase Address\", StringType(), False)\n",
    "])"
   ]
  },
  {
   "cell_type": "code",
   "execution_count": 11,
   "id": "39799a51",
   "metadata": {},
   "outputs": [
    {
     "name": "stdout",
     "output_type": "stream",
     "text": [
      "root\n",
      " |-- Order ID: integer (nullable = true)\n",
      " |-- Product: string (nullable = true)\n",
      " |-- Quantity Ordered: integer (nullable = true)\n",
      " |-- Price Each: double (nullable = true)\n",
      " |-- Order Date: string (nullable = true)\n",
      " |-- Purchase Address: string (nullable = true)\n",
      "\n"
     ]
    }
   ],
   "source": [
    "# Mucho más rapido leerlo con el esquema\n",
    "df = spark.read.option(\"sep\",\",\").option(\"header\", \"true\").schema(esquema).csv(\"salesdata/*.csv\")\n",
    "    \n",
    "df.printSchema()"
   ]
  },
  {
   "cell_type": "code",
   "execution_count": 12,
   "id": "0075ecfc",
   "metadata": {},
   "outputs": [
    {
     "data": {
      "text/plain": [
       "186850"
      ]
     },
     "execution_count": 12,
     "metadata": {},
     "output_type": "execute_result"
    }
   ],
   "source": [
    "df.count()"
   ]
  },
  {
   "cell_type": "code",
   "execution_count": 13,
   "id": "557d5d02",
   "metadata": {},
   "outputs": [
    {
     "name": "stdout",
     "output_type": "stream",
     "text": [
      "root\n",
      " |-- Order ID: integer (nullable = true)\n",
      " |-- Product: string (nullable = true)\n",
      " |-- Quantity Ordered: integer (nullable = true)\n",
      " |-- Price Each: double (nullable = true)\n",
      " |-- Order Date: string (nullable = true)\n",
      " |-- Purchase Address: string (nullable = true)\n",
      "\n"
     ]
    }
   ],
   "source": [
    "# Mucho más rapido leerlo con el esquema\n",
    "df = spark.read.option(\"sep\",\",\").option(\"header\", \"true\").schema(esquema).csv(\"../salesdata.zip\")\n",
    "    \n",
    "df.printSchema()"
   ]
  },
  {
   "cell_type": "code",
   "execution_count": 14,
   "id": "f707741c",
   "metadata": {},
   "outputs": [
    {
     "data": {
      "text/plain": [
       "19229"
      ]
     },
     "execution_count": 14,
     "metadata": {},
     "output_type": "execute_result"
    }
   ],
   "source": [
    "df.count()"
   ]
  },
  {
   "cell_type": "code",
   "execution_count": 15,
   "id": "210f790f",
   "metadata": {},
   "outputs": [
    {
     "name": "stderr",
     "output_type": "stream",
     "text": [
      "22/04/20 13:23:49 WARN CSVHeaderChecker: Number of column in CSV header is not equal to number of fields in the schema:\n",
      " Header length: 1, schema size: 6\n",
      "CSV file: file:///Users/aitormedrano/OneDrive%20-%20Conselleria%20d'Educació/2122/bigdata/bigdata2122/docs/recursos/spark/salesdata.zip\n",
      "                                                                                \r"
     ]
    },
    {
     "name": "stdout",
     "output_type": "stream",
     "text": [
      "+-------+-----------------+--------------------+----------------+----------+--------------------+--------------------+\n",
      "|summary|         Order ID|             Product|Quantity Ordered|Price Each|          Order Date|    Purchase Address|\n",
      "+-------+-----------------+--------------------+----------------+----------+--------------------+--------------------+\n",
      "|  count|               11|                6209|               1|         0|                 217|                  64|\n",
      "|   mean|              9.0|   4.333333333333333|             3.0|      null|                null|                null|\n",
      "| stddev|11.16243700990066|  2.0816659994661326|            null|      null|                null|                null|\n",
      "|    min|                0|                   \u0000|               3|      null|              \u0000$:��C|\u00025��\u0005i`؅'|\\�V=�7�...|\n",
      "|    max|               34|�󪨈L�\u0003��I��\u0010�����...|               3|      null|������D��y��n��.�...|�����\u0017�}&��\u0011��J(�...|\n",
      "+-------+-----------------+--------------------+----------------+----------+--------------------+--------------------+\n",
      "\n"
     ]
    }
   ],
   "source": [
    "df.describe().show()"
   ]
  },
  {
   "cell_type": "code",
   "execution_count": 53,
   "id": "0afa3bbd",
   "metadata": {},
   "outputs": [],
   "source": [
    "# Limpieza de datos\n",
    "\n",
    "\n",
    "# Quitar nulos\n",
    "\n",
    "# Quitar encabezados"
   ]
  },
  {
   "cell_type": "code",
   "execution_count": 54,
   "id": "f3d072cf",
   "metadata": {},
   "outputs": [],
   "source": [
    "#Renombrar campos\n",
    "ventas = df.withColumnRenamed(\"Order ID\", \"OrderID\").withColumnRenamed(\"Quantity Ordered\", \"Quantity\").withColumnRenamed(\"Price Each\", \"Price\")\n",
    "ventas = ventas.withColumnRenamed(\"Order Date\", \"OrderDate\").withColumnRenamed(\"Purchase Address\", \"OrderAddress\")"
   ]
  },
  {
   "cell_type": "code",
   "execution_count": 55,
   "id": "19c29051",
   "metadata": {},
   "outputs": [
    {
     "name": "stdout",
     "output_type": "stream",
     "text": [
      "+-------+-------+--------+-----+----------+----------------+\n",
      "|OrderID|Product|Quantity|Price| OrderDate|    OrderAddress|\n",
      "+-------+-------+--------+-----+----------+----------------+\n",
      "|   null|Product|    null| null|Order Date|Purchase Address|\n",
      "|   null|   null|    null| null|      null|            null|\n",
      "|   null|   null|    null| null|      null|            null|\n",
      "|   null|   null|    null| null|      null|            null|\n",
      "|   null|Product|    null| null|Order Date|Purchase Address|\n",
      "|   null|Product|    null| null|Order Date|Purchase Address|\n",
      "|   null|   null|    null| null|      null|            null|\n",
      "|   null|   null|    null| null|      null|            null|\n",
      "|   null|   null|    null| null|      null|            null|\n",
      "|   null|   null|    null| null|      null|            null|\n",
      "|   null|Product|    null| null|Order Date|Purchase Address|\n",
      "|   null|   null|    null| null|      null|            null|\n",
      "|   null|   null|    null| null|      null|            null|\n",
      "|   null|   null|    null| null|      null|            null|\n",
      "|   null|   null|    null| null|      null|            null|\n",
      "|   null|   null|    null| null|      null|            null|\n",
      "|   null|Product|    null| null|Order Date|Purchase Address|\n",
      "|   null|   null|    null| null|      null|            null|\n",
      "|   null|Product|    null| null|Order Date|Purchase Address|\n",
      "|   null|Product|    null| null|Order Date|Purchase Address|\n",
      "+-------+-------+--------+-----+----------+----------------+\n",
      "only showing top 20 rows\n",
      "\n"
     ]
    }
   ],
   "source": [
    "# Comprobamos si tenemos campos nulos\n",
    "from pyspark.sql.functions import col\n",
    "ventas.filter(col(\"OrderID\").isNull()).show()"
   ]
  },
  {
   "cell_type": "code",
   "execution_count": 56,
   "id": "ce654ac5",
   "metadata": {},
   "outputs": [
    {
     "name": "stdout",
     "output_type": "stream",
     "text": [
      "+-------+-------+--------+-----+---------+------------+\n",
      "|OrderID|Product|Quantity|Price|OrderDate|OrderAddress|\n",
      "+-------+-------+--------+-----+---------+------------+\n",
      "+-------+-------+--------+-----+---------+------------+\n",
      "\n"
     ]
    }
   ],
   "source": [
    "# Quitar nulos\n",
    "ventasSinNulos = ventas.na.drop(\"any\")\n",
    "# Comprobamos\n",
    "ventasSinNulos.filter(col(\"OrderID\").isNull()).show()"
   ]
  },
  {
   "cell_type": "code",
   "execution_count": 57,
   "id": "72c18d25",
   "metadata": {},
   "outputs": [
    {
     "name": "stdout",
     "output_type": "stream",
     "text": [
      "+-------+-------+--------+-----+---------+------------+\n",
      "|OrderID|Product|Quantity|Price|OrderDate|OrderAddress|\n",
      "+-------+-------+--------+-----+---------+------------+\n",
      "+-------+-------+--------+-----+---------+------------+\n",
      "\n"
     ]
    },
    {
     "name": "stderr",
     "output_type": "stream",
     "text": [
      "                                                                                \r"
     ]
    }
   ],
   "source": [
    "# Comprobamos las cabeceras\n",
    "encabezados = ventasSinNulos.filter((col(\"OrderID\") == \"Order ID\") | (col(\"Product\") == \"Product\"))\n",
    "encabezados.show()"
   ]
  },
  {
   "cell_type": "code",
   "execution_count": 58,
   "id": "40b7a725",
   "metadata": {},
   "outputs": [
    {
     "name": "stdout",
     "output_type": "stream",
     "text": [
      "+-----------------------------------------+\n",
      "|OrderAddress                             |\n",
      "+-----------------------------------------+\n",
      "|136 Church St, New York City, NY 10001   |\n",
      "|562 2nd St, New York City, NY 10001      |\n",
      "|277 Main St, New York City, NY 10001     |\n",
      "|410 6th St, San Francisco, CA 94016      |\n",
      "|43 Hill St, Atlanta, GA 30301            |\n",
      "|200 Jefferson St, New York City, NY 10001|\n",
      "|928 12th St, Portland, OR 97035          |\n",
      "|813 Hickory St, Dallas, TX 75001         |\n",
      "|718 Wilson St, Dallas, TX 75001          |\n",
      "|77 7th St, Dallas, TX 75001              |\n",
      "+-----------------------------------------+\n",
      "only showing top 10 rows\n",
      "\n"
     ]
    }
   ],
   "source": [
    "# Obtener la ciudad y el estado\n",
    "ventasSinNulos.select(\"OrderAddress\").show(10,False)"
   ]
  },
  {
   "cell_type": "code",
   "execution_count": 59,
   "id": "19c4e51e",
   "metadata": {},
   "outputs": [
    {
     "name": "stdout",
     "output_type": "stream",
     "text": [
      "+-------+--------------------+--------+------+--------------+--------------------+-------------+-----+\n",
      "|OrderID|             Product|Quantity| Price|     OrderDate|        OrderAddress|         City|State|\n",
      "+-------+--------------------+--------+------+--------------+--------------------+-------------+-----+\n",
      "| 295665|  Macbook Pro Laptop|       1|1700.0|12/30/19 00:01|136 Church St, Ne...|New York City|   NY|\n",
      "| 295666|  LG Washing Machine|       1| 600.0|12/29/19 07:03|562 2nd St, New Y...|New York City|   NY|\n",
      "| 295667|USB-C Charging Cable|       1| 11.95|12/12/19 18:21|277 Main St, New ...|New York City|   NY|\n",
      "| 295668|    27in FHD Monitor|       1|149.99|12/22/19 15:13|410 6th St, San F...|San Francisco|   CA|\n",
      "| 295669|USB-C Charging Cable|       1| 11.95|12/18/19 12:38|43 Hill St, Atlan...|      Atlanta|   GA|\n",
      "| 295670|AA Batteries (4-p...|       1|  3.84|12/31/19 22:58|200 Jefferson St,...|New York City|   NY|\n",
      "| 295671|USB-C Charging Cable|       1| 11.95|12/16/19 15:10|928 12th St, Port...|     Portland|   OR|\n",
      "| 295672|USB-C Charging Cable|       2| 11.95|12/13/19 09:29|813 Hickory St, D...|       Dallas|   TX|\n",
      "| 295673|Bose SoundSport H...|       1| 99.99|12/15/19 23:26|718 Wilson St, Da...|       Dallas|   TX|\n",
      "| 295674|AAA Batteries (4-...|       4|  2.99|12/28/19 11:51|77 7th St, Dallas...|       Dallas|   TX|\n",
      "| 295675|USB-C Charging Cable|       2| 11.95|12/13/19 13:52|594 1st St, San F...|San Francisco|   CA|\n",
      "| 295676|     ThinkPad Laptop|       1|999.99|12/28/19 17:19|410 Lincoln St, L...|  Los Angeles|   CA|\n",
      "| 295677|AA Batteries (4-p...|       2|  3.84|12/20/19 19:19|866 Pine St, Bost...|       Boston|   MA|\n",
      "| 295678|AAA Batteries (4-...|       2|  2.99|12/06/19 09:38|187 Lincoln St, D...|       Dallas|   TX|\n",
      "| 295679|USB-C Charging Cable|       1| 11.95|12/25/19 09:39|902 2nd St, Dalla...|       Dallas|   TX|\n",
      "| 295680|Lightning Chargin...|       1| 14.95|12/01/19 14:30|338 Main St, Aust...|       Austin|   TX|\n",
      "| 295681|        Google Phone|       1| 600.0|12/25/19 12:37|79 Elm St, Boston...|       Boston|   MA|\n",
      "| 295681|USB-C Charging Cable|       1| 11.95|12/25/19 12:37|79 Elm St, Boston...|       Boston|   MA|\n",
      "| 295681|Bose SoundSport H...|       1| 99.99|12/25/19 12:37|79 Elm St, Boston...|       Boston|   MA|\n",
      "| 295681|    Wired Headphones|       1| 11.99|12/25/19 12:37|79 Elm St, Boston...|       Boston|   MA|\n",
      "+-------+--------------------+--------+------+--------------+--------------------+-------------+-----+\n",
      "only showing top 20 rows\n",
      "\n"
     ]
    }
   ],
   "source": [
    "# Si separamos por comas, la ciudad es la de en medio, y el estado las dos letras mayúculas de la tercera\n",
    "from pyspark.sql.functions import split, trim\n",
    "ventasCiudad = ventasSinNulos.withColumn(\"City\", trim(split(col(\"OrderAddress\"), \",\")[1]))\n",
    "ventasEstado = ventasCiudad.withColumn(\"State\", trim(split(split(col(\"OrderAddress\"), \",\")[2], \" \")[1]))\n",
    "ventasEstado.show()"
   ]
  },
  {
   "cell_type": "code",
   "execution_count": 61,
   "id": "ffed38d3",
   "metadata": {},
   "outputs": [
    {
     "name": "stdout",
     "output_type": "stream",
     "text": [
      "+-------+--------------------+--------+------+-------------------+--------------------+-------------+-----+\n",
      "|OrderID|             Product|Quantity| Price|          OrderDate|        OrderAddress|         City|State|\n",
      "+-------+--------------------+--------+------+-------------------+--------------------+-------------+-----+\n",
      "| 295665|  Macbook Pro Laptop|       1|1700.0|2019-12-30 00:01:00|136 Church St, Ne...|New York City|   NY|\n",
      "| 295666|  LG Washing Machine|       1| 600.0|2019-12-29 07:03:00|562 2nd St, New Y...|New York City|   NY|\n",
      "| 295667|USB-C Charging Cable|       1| 11.95|2019-12-12 18:21:00|277 Main St, New ...|New York City|   NY|\n",
      "| 295668|    27in FHD Monitor|       1|149.99|2019-12-22 15:13:00|410 6th St, San F...|San Francisco|   CA|\n",
      "| 295669|USB-C Charging Cable|       1| 11.95|2019-12-18 12:38:00|43 Hill St, Atlan...|      Atlanta|   GA|\n",
      "| 295670|AA Batteries (4-p...|       1|  3.84|2019-12-31 22:58:00|200 Jefferson St,...|New York City|   NY|\n",
      "| 295671|USB-C Charging Cable|       1| 11.95|2019-12-16 15:10:00|928 12th St, Port...|     Portland|   OR|\n",
      "| 295672|USB-C Charging Cable|       2| 11.95|2019-12-13 09:29:00|813 Hickory St, D...|       Dallas|   TX|\n",
      "| 295673|Bose SoundSport H...|       1| 99.99|2019-12-15 23:26:00|718 Wilson St, Da...|       Dallas|   TX|\n",
      "| 295674|AAA Batteries (4-...|       4|  2.99|2019-12-28 11:51:00|77 7th St, Dallas...|       Dallas|   TX|\n",
      "| 295675|USB-C Charging Cable|       2| 11.95|2019-12-13 13:52:00|594 1st St, San F...|San Francisco|   CA|\n",
      "| 295676|     ThinkPad Laptop|       1|999.99|2019-12-28 17:19:00|410 Lincoln St, L...|  Los Angeles|   CA|\n",
      "| 295677|AA Batteries (4-p...|       2|  3.84|2019-12-20 19:19:00|866 Pine St, Bost...|       Boston|   MA|\n",
      "| 295678|AAA Batteries (4-...|       2|  2.99|2019-12-06 09:38:00|187 Lincoln St, D...|       Dallas|   TX|\n",
      "| 295679|USB-C Charging Cable|       1| 11.95|2019-12-25 09:39:00|902 2nd St, Dalla...|       Dallas|   TX|\n",
      "| 295680|Lightning Chargin...|       1| 14.95|2019-12-01 14:30:00|338 Main St, Aust...|       Austin|   TX|\n",
      "| 295681|        Google Phone|       1| 600.0|2019-12-25 12:37:00|79 Elm St, Boston...|       Boston|   MA|\n",
      "| 295681|USB-C Charging Cable|       1| 11.95|2019-12-25 12:37:00|79 Elm St, Boston...|       Boston|   MA|\n",
      "| 295681|Bose SoundSport H...|       1| 99.99|2019-12-25 12:37:00|79 Elm St, Boston...|       Boston|   MA|\n",
      "| 295681|    Wired Headphones|       1| 11.99|2019-12-25 12:37:00|79 Elm St, Boston...|       Boston|   MA|\n",
      "+-------+--------------------+--------+------+-------------------+--------------------+-------------+-----+\n",
      "only showing top 20 rows\n",
      "\n"
     ]
    }
   ],
   "source": [
    "# Cambiamos el campo fecha\n",
    "from pyspark.sql.functions import to_timestamp\n",
    "ventas = ventasEstado.withColumn(\"OrderDate\", to_timestamp(ventasEstado.OrderDate, \"MM/dd/yy HH:mm\"))\n",
    "ventas.show()"
   ]
  },
  {
   "cell_type": "code",
   "execution_count": 63,
   "id": "fa97679e",
   "metadata": {},
   "outputs": [
    {
     "name": "stdout",
     "output_type": "stream",
     "text": [
      "+-------+--------------------+--------+------+-------------------+--------------------+-------------+-----+----+-----+\n",
      "|OrderID|             Product|Quantity| Price|          OrderDate|        OrderAddress|         City|State|Year|Month|\n",
      "+-------+--------------------+--------+------+-------------------+--------------------+-------------+-----+----+-----+\n",
      "| 295665|  Macbook Pro Laptop|       1|1700.0|2019-12-30 00:01:00|136 Church St, Ne...|New York City|   NY|2019|   12|\n",
      "| 295666|  LG Washing Machine|       1| 600.0|2019-12-29 07:03:00|562 2nd St, New Y...|New York City|   NY|2019|   12|\n",
      "| 295667|USB-C Charging Cable|       1| 11.95|2019-12-12 18:21:00|277 Main St, New ...|New York City|   NY|2019|   12|\n",
      "| 295668|    27in FHD Monitor|       1|149.99|2019-12-22 15:13:00|410 6th St, San F...|San Francisco|   CA|2019|   12|\n",
      "| 295669|USB-C Charging Cable|       1| 11.95|2019-12-18 12:38:00|43 Hill St, Atlan...|      Atlanta|   GA|2019|   12|\n",
      "| 295670|AA Batteries (4-p...|       1|  3.84|2019-12-31 22:58:00|200 Jefferson St,...|New York City|   NY|2019|   12|\n",
      "| 295671|USB-C Charging Cable|       1| 11.95|2019-12-16 15:10:00|928 12th St, Port...|     Portland|   OR|2019|   12|\n",
      "| 295672|USB-C Charging Cable|       2| 11.95|2019-12-13 09:29:00|813 Hickory St, D...|       Dallas|   TX|2019|   12|\n",
      "| 295673|Bose SoundSport H...|       1| 99.99|2019-12-15 23:26:00|718 Wilson St, Da...|       Dallas|   TX|2019|   12|\n",
      "| 295674|AAA Batteries (4-...|       4|  2.99|2019-12-28 11:51:00|77 7th St, Dallas...|       Dallas|   TX|2019|   12|\n",
      "| 295675|USB-C Charging Cable|       2| 11.95|2019-12-13 13:52:00|594 1st St, San F...|San Francisco|   CA|2019|   12|\n",
      "| 295676|     ThinkPad Laptop|       1|999.99|2019-12-28 17:19:00|410 Lincoln St, L...|  Los Angeles|   CA|2019|   12|\n",
      "| 295677|AA Batteries (4-p...|       2|  3.84|2019-12-20 19:19:00|866 Pine St, Bost...|       Boston|   MA|2019|   12|\n",
      "| 295678|AAA Batteries (4-...|       2|  2.99|2019-12-06 09:38:00|187 Lincoln St, D...|       Dallas|   TX|2019|   12|\n",
      "| 295679|USB-C Charging Cable|       1| 11.95|2019-12-25 09:39:00|902 2nd St, Dalla...|       Dallas|   TX|2019|   12|\n",
      "| 295680|Lightning Chargin...|       1| 14.95|2019-12-01 14:30:00|338 Main St, Aust...|       Austin|   TX|2019|   12|\n",
      "| 295681|        Google Phone|       1| 600.0|2019-12-25 12:37:00|79 Elm St, Boston...|       Boston|   MA|2019|   12|\n",
      "| 295681|USB-C Charging Cable|       1| 11.95|2019-12-25 12:37:00|79 Elm St, Boston...|       Boston|   MA|2019|   12|\n",
      "| 295681|Bose SoundSport H...|       1| 99.99|2019-12-25 12:37:00|79 Elm St, Boston...|       Boston|   MA|2019|   12|\n",
      "| 295681|    Wired Headphones|       1| 11.99|2019-12-25 12:37:00|79 Elm St, Boston...|       Boston|   MA|2019|   12|\n",
      "+-------+--------------------+--------+------+-------------------+--------------------+-------------+-----+----+-----+\n",
      "only showing top 20 rows\n",
      "\n"
     ]
    }
   ],
   "source": [
    "# Añadimos columnas Year y Month\n",
    "from pyspark.sql.functions import year, month\n",
    "ventas = ventas.withColumn(\"Year\", year(\"OrderDate\")).withColumn(\"Month\", month(\"OrderDate\"))\n",
    "ventas.show()"
   ]
  },
  {
   "cell_type": "code",
   "execution_count": 64,
   "id": "74d97576",
   "metadata": {},
   "outputs": [
    {
     "name": "stderr",
     "output_type": "stream",
     "text": [
      "                                                                                \r"
     ]
    }
   ],
   "source": [
    "# Escribir en parquet con los datos particionados\n",
    "ventas.write.mode(\"overwrite\").partitionBy(\"Year\", \"Month\").parquet(\"./salesdataoutput/\")"
   ]
  },
  {
   "cell_type": "code",
   "execution_count": 3,
   "id": "bed16fdd",
   "metadata": {},
   "outputs": [
    {
     "name": "stdout",
     "output_type": "stream",
     "text": [
      "root\n",
      " |-- OrderID: integer (nullable = true)\n",
      " |-- Product: string (nullable = true)\n",
      " |-- Quantity: integer (nullable = true)\n",
      " |-- Price: double (nullable = true)\n",
      " |-- OrderDate: timestamp (nullable = true)\n",
      " |-- OrderAddress: string (nullable = true)\n",
      " |-- City: string (nullable = true)\n",
      " |-- State: string (nullable = true)\n",
      " |-- Month: integer (nullable = true)\n",
      "\n"
     ]
    }
   ],
   "source": [
    "# Leemos solo los datos de 2019. Notad que no ha leído el campo Year\n",
    "ventas2019 = spark.read.parquet(\"./salesdataoutput/Year=2019\")\n",
    "ventas2019.printSchema()"
   ]
  },
  {
   "cell_type": "markdown",
   "id": "be93edf6-88bd-47ab-84b6-66281caf3041",
   "metadata": {},
   "source": [
    "### Mejor mes en ventas"
   ]
  },
  {
   "cell_type": "code",
   "execution_count": 6,
   "id": "4d0a8836",
   "metadata": {},
   "outputs": [],
   "source": [
    "from pyspark.sql.functions import round, sum, expr\n",
    "import pandas as pd\n",
    "import matplotlib.pyplot as plt\n",
    "import seaborn as sns"
   ]
  },
  {
   "cell_type": "code",
   "execution_count": 11,
   "id": "d18c2fdd-c2c0-4cc4-bc05-3c7096ef369e",
   "metadata": {},
   "outputs": [
    {
     "name": "stdout",
     "output_type": "stream",
     "text": [
      "+-------+-----+------+--------+------+\n",
      "|OrderID|Month| Price|Quantity|Ventas|\n",
      "+-------+-----+------+--------+------+\n",
      "| 295665|   12|1700.0|       1|1700.0|\n",
      "| 295666|   12| 600.0|       1| 600.0|\n",
      "| 295667|   12| 11.95|       1| 11.95|\n",
      "| 295668|   12|149.99|       1|149.99|\n",
      "| 295669|   12| 11.95|       1| 11.95|\n",
      "| 295670|   12|  3.84|       1|  3.84|\n",
      "| 295671|   12| 11.95|       1| 11.95|\n",
      "| 295672|   12| 11.95|       2|  23.9|\n",
      "| 295673|   12| 99.99|       1| 99.99|\n",
      "| 295674|   12|  2.99|       4| 11.96|\n",
      "+-------+-----+------+--------+------+\n",
      "only showing top 10 rows\n",
      "\n"
     ]
    }
   ],
   "source": [
    "ventas2019df = ventas2019.select(\"OrderID\", \"Month\", \"Price\", \"Quantity\", expr(\"Price * Quantity\").alias(\"Ventas\"))\n",
    "ventas2019df.show(10)"
   ]
  },
  {
   "cell_type": "code",
   "execution_count": 13,
   "id": "ede109a4-269b-4554-bfca-8f1deca31fa2",
   "metadata": {},
   "outputs": [
    {
     "name": "stdout",
     "output_type": "stream",
     "text": [
      "+-----+-----------+\n",
      "|Month|TotalVentas|\n",
      "+-----+-----------+\n",
      "|   12| 4613443.34|\n",
      "|   10| 3736726.88|\n",
      "|    4| 3390670.24|\n",
      "|   11|  3199603.2|\n",
      "|    5| 3152606.75|\n",
      "|    3| 2807100.38|\n",
      "|    7| 2647775.76|\n",
      "|    6| 2577802.26|\n",
      "|    8| 2244467.88|\n",
      "|    2| 2202022.42|\n",
      "|    9| 2097560.13|\n",
      "|    1| 1813586.44|\n",
      "+-----+-----------+\n",
      "\n"
     ]
    }
   ],
   "source": [
    "ventasMes = ventas2019df.groupBy(\"Month\").agg(round(sum(\"Ventas\"), 2).alias(\"TotalVentas\")).orderBy(\"TotalVentas\", ascending=False)\n",
    "ventasMes.show()"
   ]
  },
  {
   "cell_type": "code",
   "execution_count": 14,
   "id": "2a6bea46-062c-4ffb-abb5-38cf432a5a5c",
   "metadata": {},
   "outputs": [
    {
     "data": {
      "text/html": [
       "<div>\n",
       "<style scoped>\n",
       "    .dataframe tbody tr th:only-of-type {\n",
       "        vertical-align: middle;\n",
       "    }\n",
       "\n",
       "    .dataframe tbody tr th {\n",
       "        vertical-align: top;\n",
       "    }\n",
       "\n",
       "    .dataframe thead th {\n",
       "        text-align: right;\n",
       "    }\n",
       "</style>\n",
       "<table border=\"1\" class=\"dataframe\">\n",
       "  <thead>\n",
       "    <tr style=\"text-align: right;\">\n",
       "      <th></th>\n",
       "      <th>Month</th>\n",
       "      <th>TotalVentas</th>\n",
       "    </tr>\n",
       "  </thead>\n",
       "  <tbody>\n",
       "    <tr>\n",
       "      <th>0</th>\n",
       "      <td>1</td>\n",
       "      <td>1813586.44</td>\n",
       "    </tr>\n",
       "    <tr>\n",
       "      <th>1</th>\n",
       "      <td>2</td>\n",
       "      <td>2202022.42</td>\n",
       "    </tr>\n",
       "    <tr>\n",
       "      <th>2</th>\n",
       "      <td>3</td>\n",
       "      <td>2807100.38</td>\n",
       "    </tr>\n",
       "    <tr>\n",
       "      <th>3</th>\n",
       "      <td>4</td>\n",
       "      <td>3390670.24</td>\n",
       "    </tr>\n",
       "    <tr>\n",
       "      <th>4</th>\n",
       "      <td>5</td>\n",
       "      <td>3152606.75</td>\n",
       "    </tr>\n",
       "    <tr>\n",
       "      <th>5</th>\n",
       "      <td>6</td>\n",
       "      <td>2577802.26</td>\n",
       "    </tr>\n",
       "    <tr>\n",
       "      <th>6</th>\n",
       "      <td>7</td>\n",
       "      <td>2647775.76</td>\n",
       "    </tr>\n",
       "    <tr>\n",
       "      <th>7</th>\n",
       "      <td>8</td>\n",
       "      <td>2244467.88</td>\n",
       "    </tr>\n",
       "    <tr>\n",
       "      <th>8</th>\n",
       "      <td>9</td>\n",
       "      <td>2097560.13</td>\n",
       "    </tr>\n",
       "    <tr>\n",
       "      <th>9</th>\n",
       "      <td>10</td>\n",
       "      <td>3736726.88</td>\n",
       "    </tr>\n",
       "    <tr>\n",
       "      <th>10</th>\n",
       "      <td>11</td>\n",
       "      <td>3199603.20</td>\n",
       "    </tr>\n",
       "    <tr>\n",
       "      <th>11</th>\n",
       "      <td>12</td>\n",
       "      <td>4613443.34</td>\n",
       "    </tr>\n",
       "  </tbody>\n",
       "</table>\n",
       "</div>"
      ],
      "text/plain": [
       "    Month  TotalVentas\n",
       "0       1   1813586.44\n",
       "1       2   2202022.42\n",
       "2       3   2807100.38\n",
       "3       4   3390670.24\n",
       "4       5   3152606.75\n",
       "5       6   2577802.26\n",
       "6       7   2647775.76\n",
       "7       8   2244467.88\n",
       "8       9   2097560.13\n",
       "9      10   3736726.88\n",
       "10     11   3199603.20\n",
       "11     12   4613443.34"
      ]
     },
     "execution_count": 14,
     "metadata": {},
     "output_type": "execute_result"
    }
   ],
   "source": [
    "ventasMes_pd = ventasMes.orderBy(\"Month\").toPandas()\n",
    "ventasMes_pd"
   ]
  },
  {
   "cell_type": "code",
   "execution_count": 18,
   "id": "eef4b07a-96c3-4f96-9d58-b284e0e76e32",
   "metadata": {},
   "outputs": [
    {
     "data": {
      "image/png": "[encoded data removed]",
      "text/plain": [
       "<Figure size 720x432 with 1 Axes>"
      ]
     },
     "metadata": {},
     "output_type": "display_data"
    }
   ],
   "source": [
    "plt.figure(figsize=(10,6))\n",
    "plt.ticklabel_format(useOffset=False, style=\"plain\")\n",
    "sns.set_theme(style=\"whitegrid\")\n",
    "sns.barplot(x=\"Month\", y=\"TotalVentas\", data=ventasMes_pd).set_title(\"Ventas totales por mes\")\n",
    "plt.xlabel(\"Mes\")\n",
    "plt.ylabel(\"Ventas Totales\")\n",
    "plt.show()"
   ]
  },
  {
   "cell_type": "markdown",
   "id": "7bc4d63b-9409-4301-b6a0-4c33bdec3eaa",
   "metadata": {},
   "source": [
    "### Ciudad que vendió más productos"
   ]
  },
  {
   "cell_type": "code",
   "execution_count": 22,
   "id": "cf74314d-fd10-4e73-8617-a839617f16f4",
   "metadata": {},
   "outputs": [
    {
     "name": "stdout",
     "output_type": "stream",
     "text": [
      "+-------------+-------+--------+\n",
      "|         City|OrderID|Quantity|\n",
      "+-------------+-------+--------+\n",
      "|New York City| 295665|       1|\n",
      "|New York City| 295666|       1|\n",
      "|New York City| 295667|       1|\n",
      "|San Francisco| 295668|       1|\n",
      "|      Atlanta| 295669|       1|\n",
      "|New York City| 295670|       1|\n",
      "|     Portland| 295671|       1|\n",
      "|       Dallas| 295672|       2|\n",
      "|       Dallas| 295673|       1|\n",
      "|       Dallas| 295674|       4|\n",
      "|San Francisco| 295675|       2|\n",
      "|  Los Angeles| 295676|       1|\n",
      "|       Boston| 295677|       2|\n",
      "|       Dallas| 295678|       2|\n",
      "|       Dallas| 295679|       1|\n",
      "|       Austin| 295680|       1|\n",
      "|       Boston| 295681|       1|\n",
      "|       Boston| 295681|       1|\n",
      "|       Boston| 295681|       1|\n",
      "|       Boston| 295681|       1|\n",
      "+-------------+-------+--------+\n",
      "only showing top 20 rows\n",
      "\n"
     ]
    }
   ],
   "source": [
    "ventas19c = ventas2019.select(\"City\", \"OrderID\", \"Quantity\")\n",
    "ventas19c.show()"
   ]
  },
  {
   "cell_type": "code",
   "execution_count": 27,
   "id": "99cf77db-eac0-4ddc-8036-4dc9849e2553",
   "metadata": {},
   "outputs": [
    {
     "name": "stdout",
     "output_type": "stream",
     "text": [
      "+-------------+-----+\n",
      "|         City|Total|\n",
      "+-------------+-----+\n",
      "|San Francisco|50226|\n",
      "|  Los Angeles|33288|\n",
      "|New York City|27916|\n",
      "|       Boston|22524|\n",
      "|       Dallas|16728|\n",
      "|      Atlanta|16602|\n",
      "|      Seattle|16552|\n",
      "|     Portland|14051|\n",
      "|       Austin|11151|\n",
      "+-------------+-----+\n",
      "\n"
     ]
    }
   ],
   "source": [
    "ventas19ciudad = ventas19c.groupBy(\"City\").agg(sum(\"Quantity\").alias(\"Total\")).orderBy(\"Total\", ascending=False)\n",
    "ventas19ciudad.show()"
   ]
  },
  {
   "cell_type": "code",
   "execution_count": 29,
   "id": "be109f00-61bf-4ac6-9f7d-ecade41412f1",
   "metadata": {},
   "outputs": [
    {
     "data": {
      "text/html": [
       "<div>\n",
       "<style scoped>\n",
       "    .dataframe tbody tr th:only-of-type {\n",
       "        vertical-align: middle;\n",
       "    }\n",
       "\n",
       "    .dataframe tbody tr th {\n",
       "        vertical-align: top;\n",
       "    }\n",
       "\n",
       "    .dataframe thead th {\n",
       "        text-align: right;\n",
       "    }\n",
       "</style>\n",
       "<table border=\"1\" class=\"dataframe\">\n",
       "  <thead>\n",
       "    <tr style=\"text-align: right;\">\n",
       "      <th></th>\n",
       "      <th>City</th>\n",
       "      <th>Total</th>\n",
       "    </tr>\n",
       "  </thead>\n",
       "  <tbody>\n",
       "    <tr>\n",
       "      <th>0</th>\n",
       "      <td>San Francisco</td>\n",
       "      <td>50226</td>\n",
       "    </tr>\n",
       "    <tr>\n",
       "      <th>1</th>\n",
       "      <td>Los Angeles</td>\n",
       "      <td>33288</td>\n",
       "    </tr>\n",
       "    <tr>\n",
       "      <th>2</th>\n",
       "      <td>New York City</td>\n",
       "      <td>27916</td>\n",
       "    </tr>\n",
       "    <tr>\n",
       "      <th>3</th>\n",
       "      <td>Boston</td>\n",
       "      <td>22524</td>\n",
       "    </tr>\n",
       "    <tr>\n",
       "      <th>4</th>\n",
       "      <td>Dallas</td>\n",
       "      <td>16728</td>\n",
       "    </tr>\n",
       "    <tr>\n",
       "      <th>5</th>\n",
       "      <td>Atlanta</td>\n",
       "      <td>16602</td>\n",
       "    </tr>\n",
       "    <tr>\n",
       "      <th>6</th>\n",
       "      <td>Seattle</td>\n",
       "      <td>16552</td>\n",
       "    </tr>\n",
       "    <tr>\n",
       "      <th>7</th>\n",
       "      <td>Portland</td>\n",
       "      <td>14051</td>\n",
       "    </tr>\n",
       "    <tr>\n",
       "      <th>8</th>\n",
       "      <td>Austin</td>\n",
       "      <td>11151</td>\n",
       "    </tr>\n",
       "  </tbody>\n",
       "</table>\n",
       "</div>"
      ],
      "text/plain": [
       "            City  Total\n",
       "0  San Francisco  50226\n",
       "1    Los Angeles  33288\n",
       "2  New York City  27916\n",
       "3         Boston  22524\n",
       "4         Dallas  16728\n",
       "5        Atlanta  16602\n",
       "6        Seattle  16552\n",
       "7       Portland  14051\n",
       "8         Austin  11151"
      ]
     },
     "execution_count": 29,
     "metadata": {},
     "output_type": "execute_result"
    }
   ],
   "source": [
    "ventasCiudad_pd = ventas19ciudad.toPandas()\n",
    "ventasCiudad_pd"
   ]
  },
  {
   "cell_type": "code",
   "execution_count": 32,
   "id": "c9e085b1-d5c5-411c-9fb3-90bc15fabfde",
   "metadata": {},
   "outputs": [
    {
     "data": {
      "image/png": "[encoded data removed]",
      "text/plain": [
       "<Figure size 720x432 with 1 Axes>"
      ]
     },
     "metadata": {},
     "output_type": "display_data"
    }
   ],
   "source": [
    "plt.figure(figsize=(10,6))\n",
    "plt.ticklabel_format(useOffset=False, style=\"plain\")\n",
    "sns.set_theme(style=\"darkgrid\")\n",
    "sns.barplot(x=\"Total\", y=\"City\", data=ventasCiudad_pd).set_title(\"Unidades totales por Ciudad\")\n",
    "plt.xlabel(\"Unidades Vendidas\")\n",
    "plt.ylabel(\"Ciudades\")\n",
    "plt.show()"
   ]
  },
  {
   "cell_type": "markdown",
   "id": "12f0bc35-9ad9-49bd-8e5c-92f296ca92f9",
   "metadata": {
    "tags": []
   },
   "source": [
    "### Pedidos que han comprado más de un producto"
   ]
  },
  {
   "cell_type": "code",
   "execution_count": 35,
   "id": "53761949-82c1-4933-8ce6-76b694fd61ea",
   "metadata": {},
   "outputs": [
    {
     "name": "stdout",
     "output_type": "stream",
     "text": [
      "+-------+-------------------+-----+\n",
      "|OrderID|          OrderDate|count|\n",
      "+-------+-------------------+-----+\n",
      "| 298744|2019-12-26 12:42:00|    2|\n",
      "| 314361|2019-12-11 23:16:00|    2|\n",
      "| 319032|2019-12-05 17:19:00|    2|\n",
      "| 260300|2019-10-28 10:33:00|    2|\n",
      "| 263719|2019-10-28 10:44:00|    3|\n",
      "| 272154|2019-10-01 08:01:00|    2|\n",
      "| 277689|2019-10-29 11:50:00|    3|\n",
      "| 178221|2019-04-21 09:21:00|    2|\n",
      "| 184712|2019-04-20 18:35:00|    2|\n",
      "| 187955|2019-04-03 12:51:00|    2|\n",
      "| 260763|2019-10-01 09:59:00|    2|\n",
      "| 186331|2019-04-09 09:35:00|    2|\n",
      "| 281110|2019-11-29 19:58:00|    2|\n",
      "| 291509|2019-11-09 14:40:00|    2|\n",
      "| 198016|2019-05-13 15:41:00|    2|\n",
      "| 202521|2019-05-03 09:15:00|    2|\n",
      "| 203384|2019-05-24 08:45:00|    2|\n",
      "| 204914|2019-05-25 18:49:00|    2|\n",
      "| 303051|2019-12-25 19:15:00|    2|\n",
      "| 309690|2019-12-17 22:05:00|    2|\n",
      "+-------+-------------------+-----+\n",
      "only showing top 20 rows\n",
      "\n"
     ]
    }
   ],
   "source": [
    "# miramos si los pedido se pueden realizar sobre más de un producto\n",
    "from pyspark.sql.functions import col\n",
    "ventas2019.groupBy(\"OrderID\", \"OrderDate\").count().where(col(\"count\") > 1).show()"
   ]
  },
  {
   "cell_type": "markdown",
   "id": "5ff1c7e6-587d-4f70-886c-85545eb70b14",
   "metadata": {},
   "source": [
    "### Hora en la que se ha comprado más de un producto"
   ]
  },
  {
   "cell_type": "code",
   "execution_count": 45,
   "id": "de9e109d-1a2a-45d1-b2e1-4f345eb3fc9d",
   "metadata": {},
   "outputs": [
    {
     "name": "stdout",
     "output_type": "stream",
     "text": [
      "+----+------------+\n",
      "|Hora|TotalPedidos|\n",
      "+----+------------+\n",
      "|  17|       12149|\n",
      "|  18|       12076|\n",
      "|  10|       12018|\n",
      "|  11|       11776|\n",
      "|   9|       11274|\n",
      "|  12|       11155|\n",
      "|  16|       11064|\n",
      "|  19|       11043|\n",
      "|  15|       10317|\n",
      "|  13|       10019|\n",
      "|  14|        9875|\n",
      "|   8|        9520|\n",
      "|  20|        9379|\n",
      "|   7|        7302|\n",
      "|  21|        6998|\n",
      "|   6|        5154|\n",
      "|  22|        4847|\n",
      "|   5|        3208|\n",
      "|  23|        2864|\n",
      "|   4|        1865|\n",
      "+----+------------+\n",
      "only showing top 20 rows\n",
      "\n"
     ]
    }
   ],
   "source": [
    "from pyspark.sql.functions import date_format, count\n",
    "ventas2019horas = ventas2019.select(\"OrderID\", date_format(\"OrderDate\", \"HH\").cast(\"int\").alias(\"Hora\")).distinct().groupBy(\"Hora\").agg(count(\"Hora\").alias(\"TotalPedidos\")).orderBy(\"TotalPedidos\", ascending=False)\n",
    "ventas2019horas.show()"
   ]
  },
  {
   "cell_type": "code",
   "execution_count": 47,
   "id": "537bf64b-6df3-4b56-b934-42ed629c3797",
   "metadata": {},
   "outputs": [
    {
     "data": {
      "text/html": [
       "<div>\n",
       "<style scoped>\n",
       "    .dataframe tbody tr th:only-of-type {\n",
       "        vertical-align: middle;\n",
       "    }\n",
       "\n",
       "    .dataframe tbody tr th {\n",
       "        vertical-align: top;\n",
       "    }\n",
       "\n",
       "    .dataframe thead th {\n",
       "        text-align: right;\n",
       "    }\n",
       "</style>\n",
       "<table border=\"1\" class=\"dataframe\">\n",
       "  <thead>\n",
       "    <tr style=\"text-align: right;\">\n",
       "      <th></th>\n",
       "      <th>Hora</th>\n",
       "      <th>TotalPedidos</th>\n",
       "    </tr>\n",
       "  </thead>\n",
       "  <tbody>\n",
       "    <tr>\n",
       "      <th>0</th>\n",
       "      <td>0</td>\n",
       "      <td>1652</td>\n",
       "    </tr>\n",
       "    <tr>\n",
       "      <th>1</th>\n",
       "      <td>1</td>\n",
       "      <td>980</td>\n",
       "    </tr>\n",
       "    <tr>\n",
       "      <th>2</th>\n",
       "      <td>2</td>\n",
       "      <td>807</td>\n",
       "    </tr>\n",
       "    <tr>\n",
       "      <th>3</th>\n",
       "      <td>3</td>\n",
       "      <td>1064</td>\n",
       "    </tr>\n",
       "    <tr>\n",
       "      <th>4</th>\n",
       "      <td>4</td>\n",
       "      <td>1865</td>\n",
       "    </tr>\n",
       "    <tr>\n",
       "      <th>5</th>\n",
       "      <td>5</td>\n",
       "      <td>3208</td>\n",
       "    </tr>\n",
       "    <tr>\n",
       "      <th>6</th>\n",
       "      <td>6</td>\n",
       "      <td>5154</td>\n",
       "    </tr>\n",
       "    <tr>\n",
       "      <th>7</th>\n",
       "      <td>7</td>\n",
       "      <td>7302</td>\n",
       "    </tr>\n",
       "    <tr>\n",
       "      <th>8</th>\n",
       "      <td>8</td>\n",
       "      <td>9520</td>\n",
       "    </tr>\n",
       "    <tr>\n",
       "      <th>9</th>\n",
       "      <td>9</td>\n",
       "      <td>11274</td>\n",
       "    </tr>\n",
       "    <tr>\n",
       "      <th>10</th>\n",
       "      <td>10</td>\n",
       "      <td>12018</td>\n",
       "    </tr>\n",
       "    <tr>\n",
       "      <th>11</th>\n",
       "      <td>11</td>\n",
       "      <td>11776</td>\n",
       "    </tr>\n",
       "    <tr>\n",
       "      <th>12</th>\n",
       "      <td>12</td>\n",
       "      <td>11155</td>\n",
       "    </tr>\n",
       "    <tr>\n",
       "      <th>13</th>\n",
       "      <td>13</td>\n",
       "      <td>10019</td>\n",
       "    </tr>\n",
       "    <tr>\n",
       "      <th>14</th>\n",
       "      <td>14</td>\n",
       "      <td>9875</td>\n",
       "    </tr>\n",
       "    <tr>\n",
       "      <th>15</th>\n",
       "      <td>15</td>\n",
       "      <td>10317</td>\n",
       "    </tr>\n",
       "    <tr>\n",
       "      <th>16</th>\n",
       "      <td>16</td>\n",
       "      <td>11064</td>\n",
       "    </tr>\n",
       "    <tr>\n",
       "      <th>17</th>\n",
       "      <td>17</td>\n",
       "      <td>12149</td>\n",
       "    </tr>\n",
       "    <tr>\n",
       "      <th>18</th>\n",
       "      <td>18</td>\n",
       "      <td>12076</td>\n",
       "    </tr>\n",
       "    <tr>\n",
       "      <th>19</th>\n",
       "      <td>19</td>\n",
       "      <td>11043</td>\n",
       "    </tr>\n",
       "    <tr>\n",
       "      <th>20</th>\n",
       "      <td>20</td>\n",
       "      <td>9379</td>\n",
       "    </tr>\n",
       "    <tr>\n",
       "      <th>21</th>\n",
       "      <td>21</td>\n",
       "      <td>6998</td>\n",
       "    </tr>\n",
       "    <tr>\n",
       "      <th>22</th>\n",
       "      <td>22</td>\n",
       "      <td>4847</td>\n",
       "    </tr>\n",
       "    <tr>\n",
       "      <th>23</th>\n",
       "      <td>23</td>\n",
       "      <td>2864</td>\n",
       "    </tr>\n",
       "  </tbody>\n",
       "</table>\n",
       "</div>"
      ],
      "text/plain": [
       "    Hora  TotalPedidos\n",
       "0      0          1652\n",
       "1      1           980\n",
       "2      2           807\n",
       "3      3          1064\n",
       "4      4          1865\n",
       "5      5          3208\n",
       "6      6          5154\n",
       "7      7          7302\n",
       "8      8          9520\n",
       "9      9         11274\n",
       "10    10         12018\n",
       "11    11         11776\n",
       "12    12         11155\n",
       "13    13         10019\n",
       "14    14          9875\n",
       "15    15         10317\n",
       "16    16         11064\n",
       "17    17         12149\n",
       "18    18         12076\n",
       "19    19         11043\n",
       "20    20          9379\n",
       "21    21          6998\n",
       "22    22          4847\n",
       "23    23          2864"
      ]
     },
     "execution_count": 47,
     "metadata": {},
     "output_type": "execute_result"
    }
   ],
   "source": [
    "ventasHoras_pd = ventas2019horas.orderBy(\"Hora\").toPandas()\n",
    "ventasHoras_pd"
   ]
  },
  {
   "cell_type": "code",
   "execution_count": 50,
   "id": "bde37be1-b964-4ff5-b24a-74d99c2c38cd",
   "metadata": {},
   "outputs": [
    {
     "data": {
      "image/png": "[encoded data removed]",
      "text/plain": [
       "<Figure size 720x432 with 1 Axes>"
      ]
     },
     "metadata": {},
     "output_type": "display_data"
    }
   ],
   "source": [
    "plt.figure(figsize=(10,6))\n",
    "plt.ticklabel_format(useOffset=False, style=\"plain\")\n",
    "sns.set_theme(style=\"darkgrid\")\n",
    "sns.lineplot(x=\"Hora\", y=\"TotalPedidos\", data=ventasHoras_pd).set_title(\"Pedidos por Horas\")\n",
    "plt.xlabel(\"Cantidad de pedidos\")\n",
    "plt.ylabel(\"Hora\")\n",
    "plt.show()"
   ]
  },
  {
   "cell_type": "markdown",
   "id": "cd7f95b0-0c22-47fb-a955-aa9ca76feec1",
   "metadata": {},
   "source": [
    "### Productos comprados a la vez en el estado de NY\n"
   ]
  },
  {
   "cell_type": "code",
   "execution_count": 69,
   "id": "23f77148-b9b5-4685-80c4-a4ed57859ac0",
   "metadata": {},
   "outputs": [
    {
     "name": "stdout",
     "output_type": "stream",
     "text": [
      "+-------+-----------------------------------+-----------------+\n",
      "|OrderID|Productos                          |CantidadProductos|\n",
      "+-------+-----------------------------------+-----------------+\n",
      "|141264 |[Apple Airpods Headphones]         |1                |\n",
      "|141268 |[AA Batteries (4-pack)]            |1                |\n",
      "|141272 |[AAA Batteries (4-pack)]           |1                |\n",
      "|141278 |[Lightning Charging Cable]         |1                |\n",
      "|141282 |[Vareebadd Phone]                  |1                |\n",
      "|141301 |[Apple Airpods Headphones]         |1                |\n",
      "|141314 |[Macbook Pro Laptop]               |1                |\n",
      "|141317 |[27in FHD Monitor]                 |1                |\n",
      "|141323 |[USB-C Charging Cable]             |1                |\n",
      "|141343 |[Bose SoundSport Headphones]       |1                |\n",
      "|141349 |[Lightning Charging Cable]         |1                |\n",
      "|141353 |[USB-C Charging Cable]             |1                |\n",
      "|141365 |[Vareebadd Phone, Wired Headphones]|2                |\n",
      "|141386 |[Lightning Charging Cable]         |1                |\n",
      "|141390 |[Wired Headphones]                 |1                |\n",
      "|141391 |[Bose SoundSport Headphones]       |1                |\n",
      "|141397 |[Lightning Charging Cable]         |1                |\n",
      "|141400 |[Lightning Charging Cable]         |1                |\n",
      "|141411 |[Wired Headphones]                 |1                |\n",
      "|141414 |[Google Phone]                     |1                |\n",
      "+-------+-----------------------------------+-----------------+\n",
      "only showing top 20 rows\n",
      "\n"
     ]
    }
   ],
   "source": [
    "from pyspark.sql.functions import collect_list\n",
    "productos_ny = ventas2019.where(\"State = 'NY'\").groupBy(\"OrderID\").agg(collect_list(\"Product\").alias(\"Productos\"), count(\"Product\").alias(\"CantidadProductos\"))\n",
    "productos_ny.show(truncate=False)"
   ]
  },
  {
   "cell_type": "code",
   "execution_count": 71,
   "id": "2da057bd-1a4a-422d-85dd-c4fbab4bc1e1",
   "metadata": {},
   "outputs": [
    {
     "name": "stdout",
     "output_type": "stream",
     "text": [
      "+-------+--------------------------------------------------+-----------------+\n",
      "|OrderID|Productos                                         |CantidadProductos|\n",
      "+-------+--------------------------------------------------+-----------------+\n",
      "|141365 |[Vareebadd Phone, Wired Headphones]               |2                |\n",
      "|141645 |[Lightning Charging Cable, Wired Headphones]      |2                |\n",
      "|141910 |[Vareebadd Phone, Wired Headphones]               |2                |\n",
      "|142039 |[Google Phone, USB-C Charging Cable]              |2                |\n",
      "|142144 |[Vareebadd Phone, USB-C Charging Cable]           |2                |\n",
      "|142320 |[iPhone, Google Phone]                            |2                |\n",
      "|142389 |[iPhone, Lightning Charging Cable]                |2                |\n",
      "|142419 |[Google Phone, Wired Headphones]                  |2                |\n",
      "|142651 |[USB-C Charging Cable, AA Batteries (4-pack)]     |2                |\n",
      "|142730 |[Google Phone, USB-C Charging Cable]              |2                |\n",
      "|142925 |[iPhone, Lightning Charging Cable]                |2                |\n",
      "|142997 |[iPhone, Wired Headphones]                        |2                |\n",
      "|143040 |[iPhone, Lightning Charging Cable]                |2                |\n",
      "|143143 |[LG Dryer, Flatscreen TV]                         |2                |\n",
      "|143146 |[Google Phone, USB-C Charging Cable]              |2                |\n",
      "|143275 |[Google Phone, USB-C Charging Cable]              |2                |\n",
      "|143436 |[Google Phone, USB-C Charging Cable]              |2                |\n",
      "|143694 |[iPhone, Lightning Charging Cable]                |2                |\n",
      "|143696 |[iPhone, Lightning Charging Cable]                |2                |\n",
      "|143857 |[Lightning Charging Cable, AAA Batteries (4-pack)]|2                |\n",
      "+-------+--------------------------------------------------+-----------------+\n",
      "only showing top 20 rows\n",
      "\n"
     ]
    }
   ],
   "source": [
    "# Nos quedamos con los pedidos que tienen dos o más productos\n",
    "productos2 = productos_ny.filter(\"CantidadProductos > 1\")\n",
    "productos2.show(truncate=False)"
   ]
  },
  {
   "cell_type": "code",
   "execution_count": 76,
   "id": "ffc5c3ed-fc3f-4fe8-986e-0f7e856afc76",
   "metadata": {},
   "outputs": [
    {
     "name": "stdout",
     "output_type": "stream",
     "text": [
      "+------------------------------------------------------------+-----+\n",
      "|Productos                                                   |count|\n",
      "+------------------------------------------------------------+-----+\n",
      "|[iPhone, Lightning Charging Cable]                          |126  |\n",
      "|[Google Phone, USB-C Charging Cable]                        |124  |\n",
      "|[Google Phone, Wired Headphones]                            |52   |\n",
      "|[Vareebadd Phone, USB-C Charging Cable]                     |49   |\n",
      "|[iPhone, Wired Headphones]                                  |46   |\n",
      "|[iPhone, Apple Airpods Headphones]                          |43   |\n",
      "|[Google Phone, Bose SoundSport Headphones]                  |23   |\n",
      "|[Vareebadd Phone, Wired Headphones]                         |17   |\n",
      "|[Apple Airpods Headphones, Wired Headphones]                |12   |\n",
      "|[Google Phone, USB-C Charging Cable, Wired Headphones]      |11   |\n",
      "|[AA Batteries (4-pack), Apple Airpods Headphones]           |10   |\n",
      "|[Lightning Charging Cable, AAA Batteries (4-pack)]          |9    |\n",
      "|[AA Batteries (4-pack), AAA Batteries (4-pack)]             |9    |\n",
      "|[iPhone, Lightning Charging Cable, Apple Airpods Headphones]|8    |\n",
      "|[Lightning Charging Cable, AA Batteries (4-pack)]           |8    |\n",
      "|[Wired Headphones, USB-C Charging Cable]                    |8    |\n",
      "|[AA Batteries (4-pack), Lightning Charging Cable]           |8    |\n",
      "|[Lightning Charging Cable, USB-C Charging Cable]            |8    |\n",
      "|[AAA Batteries (4-pack), Lightning Charging Cable]          |7    |\n",
      "|[Bose SoundSport Headphones, AAA Batteries (4-pack)]        |7    |\n",
      "+------------------------------------------------------------+-----+\n",
      "only showing top 20 rows\n",
      "\n"
     ]
    }
   ],
   "source": [
    "# Contamos los productos\n",
    "productos2.groupBy(\"Productos\").count().orderBy(\"count\", ascending=False).show(truncate = False)"
   ]
  },
  {
   "cell_type": "code",
   "execution_count": null,
   "id": "baa247d9-2178-4fca-bd62-a1ca97746415",
   "metadata": {},
   "outputs": [],
   "source": []
  }
 ],
 "metadata": {
  "kernelspec": {
   "display_name": "Python 3 (ipykernel)",
   "language": "python",
   "name": "python3"
  },
  "language_info": {
   "codemirror_mode": {
    "name": "ipython",
    "version": 3
   },
   "file_extension": ".py",
   "mimetype": "text/x-python",
   "name": "python",
   "nbconvert_exporter": "python",
   "pygments_lexer": "ipython3",
   "version": "3.9.12"
  }
 },
 "nbformat": 4,
 "nbformat_minor": 5
}
