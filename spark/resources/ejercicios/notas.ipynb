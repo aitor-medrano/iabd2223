{
 "cells": [
  {
   "cell_type": "code",
   "execution_count": 6,
   "id": "d5963e1c-0044-49bd-b9bd-cf42788df8ac",
   "metadata": {},
   "outputs": [],
   "source": [
    "from pyspark.sql import SparkSession\n",
    "\n",
    "spark = SparkSession.builder.getOrCreate()\n",
    "sc = spark.sparkContext"
   ]
  },
  {
   "cell_type": "markdown",
   "id": "005db6a6-6304-4b9e-92af-ba17adbee768",
   "metadata": {},
   "source": [
    "Trabajamos en un colegio y tenemos las notas de Matemáticas, Inglés y Física de los alumnos del colegio en 3 documentos txt"
   ]
  },
  {
   "cell_type": "markdown",
   "id": "6b0093c2-5c48-4c00-9449-6c7f8eda3e57",
   "metadata": {},
   "source": [
    "1. Crea 3 RDD de pares, uno para cada asignatura, con los alumnos y sus notas"
   ]
  },
  {
   "cell_type": "code",
   "execution_count": 11,
   "id": "6cfb5172-0cbd-4258-b462-f248abbf2156",
   "metadata": {},
   "outputs": [],
   "source": [
    "notasMat = sc.textFile('ejercicios/notas_mates.txt').map(lambda x:x.split(\",\"))\n",
    "notasFis = sc.textFile('ejercicios/notas_fisica.txt').map(lambda x:x.split(\",\"))\n",
    "notasIng = sc.textFile('ejercicios/notas_ingles.txt').map(lambda x:x.split(\",\"))"
   ]
  },
  {
   "cell_type": "markdown",
   "id": "7430ad5e-8ea0-4474-b812-5c63cd99b0a3",
   "metadata": {},
   "source": [
    "2. Crea un solo RDD con todas las notas"
   ]
  },
  {
   "cell_type": "code",
   "execution_count": 12,
   "id": "733a6799-f987-48a5-ba36-f76e958ba58b",
   "metadata": {},
   "outputs": [],
   "source": [
    "notas = notasMat.union(notasFis).union(notasIng)"
   ]
  },
  {
   "cell_type": "markdown",
   "id": "4205abfb-f187-41af-9c68-ffca40474370",
   "metadata": {},
   "source": [
    "3. ¿Cuál es la nota más baja que ha tenido cada alumno?"
   ]
  },
  {
   "cell_type": "code",
   "execution_count": 44,
   "id": "75fc8e27-b1d6-4dfc-b724-b03972b2feb9",
   "metadata": {},
   "outputs": [
    {
     "data": {
      "text/plain": [
       "[('Angel', '4'),\n",
       " ('Carlos', '4'),\n",
       " ('Anabel', '2'),\n",
       " ('Jorge', '10'),\n",
       " ('Susana', '2'),\n",
       " ('Andres', '4'),\n",
       " ('Jose Juan', '3'),\n",
       " ('Rocio', '4'),\n",
       " ('Fernando', '5'),\n",
       " ('Oscar', '3'),\n",
       " ('Isabel', '7'),\n",
       " ('Alejandro', '3'),\n",
       " ('Ramon', '4.5'),\n",
       " ('Pedro', '2'),\n",
       " ('Leonardo', '1'),\n",
       " ('Nicolas', '2'),\n",
       " ('Maria', '2'),\n",
       " ('Triana', '3'),\n",
       " ('Rosa', '6')]"
      ]
     },
     "execution_count": 44,
     "metadata": {},
     "output_type": "execute_result"
    }
   ],
   "source": [
    "notasMinAlumnos = notas.reduceByKey(min)\n",
    "notasMinAlumnos.collect()"
   ]
  },
  {
   "cell_type": "markdown",
   "id": "4d17e9f3-422b-4fd1-8b2b-a4e11725f295",
   "metadata": {},
   "source": [
    "4. ¿Cuál es la nota media de cada alumno?"
   ]
  },
  {
   "cell_type": "code",
   "execution_count": 18,
   "id": "cefe00c9-9741-46ce-a5e2-193f095b539e",
   "metadata": {},
   "outputs": [
    {
     "data": {
      "text/plain": [
       "[('Angel', 6.333333333333333),\n",
       " ('Carlos', 5.333333333333333),\n",
       " ('Anabel', 5.666666666666667),\n",
       " ('Jorge', 6.666666666666667),\n",
       " ('Susana', 6.666666666666667),\n",
       " ('Andres', 4.666666666666667),\n",
       " ('Jose Juan', 3.6666666666666665),\n",
       " ('Rocio', 5.5),\n",
       " ('Fernando', 7.0),\n",
       " ('Oscar', 5.0),\n",
       " ('Isabel', 7.666666666666667),\n",
       " ('Alejandro', 5.0),\n",
       " ('Ramon', 6.5),\n",
       " ('Pedro', 3.5),\n",
       " ('Leonardo', 3.6666666666666665),\n",
       " ('Nicolas', 4.666666666666667),\n",
       " ('Maria', 3.6666666666666665),\n",
       " ('Triana', 3.3333333333333335),\n",
       " ('Rosa', 7.666666666666667)]"
      ]
     },
     "execution_count": 18,
     "metadata": {},
     "output_type": "execute_result"
    }
   ],
   "source": [
    "alumnoNota1 = notas.mapValues(lambda x: (float(x),1))\n",
    "# Sumamos las notas [0] y contamos las notas [1]\n",
    "alumnoNotaCant = alumnoNota1.reduceByKey(lambda alu1, alu2:(alu1[0]+alu2[0], alu1[1]+alu2[1]))\n",
    "alumnoNotaCant.map(lambda x: (x[0],x[1][0]/x[1][1])).collect()"
   ]
  },
  {
   "cell_type": "markdown",
   "id": "a6ab878f-c21a-478d-89be-eba6e0b0c953",
   "metadata": {},
   "source": [
    "5. ¿Cuantos estudiantes suspende cada asignatura? (`[('Mates', 7), ('Física', 8), ('Inglés', 7)]`)"
   ]
  },
  {
   "cell_type": "code",
   "execution_count": 20,
   "id": "a76c99f4-0bb7-400a-b1e0-3564365bd093",
   "metadata": {},
   "outputs": [
    {
     "data": {
      "text/plain": [
       "[('Mates', ['Angel', '6']),\n",
       " ('Mates', ['Maria', '2']),\n",
       " ('Mates', ['Ramon', '4.5']),\n",
       " ('Mates', ['Jorge', '10']),\n",
       " ('Mates', ['Susana', '9']),\n",
       " ('Mates', ['Anabel', '8']),\n",
       " ('Mates', ['Pedro', '5']),\n",
       " ('Mates', ['Rocio', '6']),\n",
       " ('Mates', ['Carlos', '4']),\n",
       " ('Mates', ['Triana', '3']),\n",
       " ('Mates', ['Andres', '4']),\n",
       " ('Mates', ['Fernando', '5']),\n",
       " ('Mates', ['Leonardo', '1']),\n",
       " ('Mates', ['Oscar', '7']),\n",
       " ('Mates', ['Isabel', '8']),\n",
       " ('Mates', ['Jose Juan', '5']),\n",
       " ('Mates', ['Nicolas', '2']),\n",
       " ('Mates', ['Alejandro', '5']),\n",
       " ('Mates', ['Rosa', '6']),\n",
       " ('Física', ['Angel', '9']),\n",
       " ('Física', ['Maria', '3']),\n",
       " ('Física', ['Ramon', '7']),\n",
       " ('Física', ['Jorge', '5']),\n",
       " ('Física', ['Susana', '9']),\n",
       " ('Física', ['Anabel', '2']),\n",
       " ('Física', ['Pedro', '2']),\n",
       " ('Física', ['Rocio', '5']),\n",
       " ('Física', ['Carlos', '4']),\n",
       " ('Física', ['Rocio', '7']),\n",
       " ('Física', ['Triana', '3']),\n",
       " ('Física', ['Andres', '4']),\n",
       " ('Física', ['Fernando', '9']),\n",
       " ('Física', ['Leonardo', '6']),\n",
       " ('Física', ['Oscar', '5']),\n",
       " ('Física', ['Isabel', '8']),\n",
       " ('Física', ['Jose Juan', '3']),\n",
       " ('Física', ['Nicolas', '7']),\n",
       " ('Física', ['Alejandro', '3']),\n",
       " ('Física', ['Rosa', '8']),\n",
       " ('Inglés', ['Angel', '4']),\n",
       " ('Inglés', ['Maria', '6']),\n",
       " ('Inglés', ['Ramon', '8']),\n",
       " ('Inglés', ['Jorge', '5']),\n",
       " ('Inglés', ['Susana', '2']),\n",
       " ('Inglés', ['Anabel', '7']),\n",
       " ('Inglés', ['Rocio', '4']),\n",
       " ('Inglés', ['Carlos', '8']),\n",
       " ('Inglés', ['Triana', '4']),\n",
       " ('Inglés', ['Andres', '6']),\n",
       " ('Inglés', ['Fernando', '7']),\n",
       " ('Inglés', ['Leonardo', '4']),\n",
       " ('Inglés', ['Oscar', '3']),\n",
       " ('Inglés', ['Isabel', '7']),\n",
       " ('Inglés', ['Jose Juan', '3']),\n",
       " ('Inglés', ['Nicolas', '5']),\n",
       " ('Inglés', ['Alejandro', '7']),\n",
       " ('Inglés', ['Rosa', '9'])]"
      ]
     },
     "execution_count": 20,
     "metadata": {},
     "output_type": "execute_result"
    }
   ],
   "source": [
    "notasAsig = notasMat.map(lambda x: (\"Mates\", x)).union(notasFis.map(lambda x: (\"Física\", x))).union(notasIng.map(lambda x: (\"Inglés\", x)))\n",
    "notasAsig.collect()"
   ]
  },
  {
   "cell_type": "code",
   "execution_count": 34,
   "id": "29b5e1bf-3b37-404b-9d9c-f4589e2e6514",
   "metadata": {},
   "outputs": [
    {
     "data": {
      "text/plain": [
       "[('Mates', 7), ('Física', 8), ('Inglés', 7)]"
      ]
     },
     "execution_count": 34,
     "metadata": {},
     "output_type": "execute_result"
    }
   ],
   "source": [
    "asigSusp = notasAsig.filter(lambda x: float(x[1][1])<5)\n",
    "asigSuspCant = asigSusp.map(lambda x: (x[0], 1))\n",
    "asigSusp = asigSuspCant.reduceByKey(lambda a,b: a+b)\n",
    "asigSusp.collect()"
   ]
  },
  {
   "cell_type": "markdown",
   "id": "26a22a29-93a4-453a-a4d2-227953309b49",
   "metadata": {},
   "source": [
    "6. ¿En qué asignatura suspende más gente?"
   ]
  },
  {
   "cell_type": "code",
   "execution_count": 43,
   "id": "5235aace-10c8-44f2-b0e2-ccf72051f38e",
   "metadata": {},
   "outputs": [
    {
     "data": {
      "text/plain": [
       "[('Física', 8)]"
      ]
     },
     "execution_count": 43,
     "metadata": {},
     "output_type": "execute_result"
    }
   ],
   "source": [
    "asigSusp.takeOrdered(1, lambda x: -x[1])"
   ]
  },
  {
   "cell_type": "markdown",
   "id": "db08960f-f65f-49af-8e37-f7322348d3c8",
   "metadata": {},
   "source": [
    "7. Total de notables o sobresalientes por alumno, es decir, cantidad de notas superiores o igual a 7."
   ]
  },
  {
   "cell_type": "code",
   "execution_count": 48,
   "id": "1e2f0093-1411-44f4-90b4-0911212711d7",
   "metadata": {},
   "outputs": [
    {
     "data": {
      "text/plain": [
       "[('Angel', 1),\n",
       " ('Carlos', 1),\n",
       " ('Anabel', 2),\n",
       " ('Jorge', 1),\n",
       " ('Susana', 2),\n",
       " ('Oscar', 1),\n",
       " ('Isabel', 3),\n",
       " ('Rocio', 1),\n",
       " ('Fernando', 2),\n",
       " ('Alejandro', 1),\n",
       " ('Ramon', 2),\n",
       " ('Nicolas', 1),\n",
       " ('Rosa', 2)]"
      ]
     },
     "execution_count": 48,
     "metadata": {},
     "output_type": "execute_result"
    }
   ],
   "source": [
    "notablesRDD = notas.filter(lambda x: float(x[1])>=7)\n",
    "notablesRDD.map(lambda x: (x[0],1)).reduceByKey(lambda a,b: a+b).collect()"
   ]
  },
  {
   "cell_type": "markdown",
   "id": "e0087435-c3f2-43de-9e61-8c42c03f7c99",
   "metadata": {},
   "source": [
    "8. ¿Qué alumno no se ha presentado a inglés?"
   ]
  },
  {
   "cell_type": "code",
   "execution_count": 53,
   "id": "c27a74a3-b444-436b-ab0e-d4e554284de5",
   "metadata": {},
   "outputs": [
    {
     "data": {
      "text/plain": [
       "['Pedro']"
      ]
     },
     "execution_count": 53,
     "metadata": {},
     "output_type": "execute_result"
    }
   ],
   "source": [
    "alumnosNoIngles = notas.keys().distinct().subtract(notasIng.keys())\n",
    "alumnosNoIngles.collect()"
   ]
  },
  {
   "cell_type": "markdown",
   "id": "c3330fe8-6e15-4964-9a00-4f6b376add6b",
   "metadata": {},
   "source": [
    "9. ¿A cuántas asignaturas se ha presentado cada alumno?"
   ]
  },
  {
   "cell_type": "code",
   "execution_count": 66,
   "id": "149dc65c-0bb4-49fd-aee4-7a181326c242",
   "metadata": {},
   "outputs": [
    {
     "data": {
      "text/plain": [
       "['Angel',\n",
       " 'Ramon',\n",
       " 'Jorge',\n",
       " 'Susana',\n",
       " 'Pedro',\n",
       " 'Carlos',\n",
       " 'Andres',\n",
       " 'Leonardo',\n",
       " 'Jose Juan',\n",
       " 'Nicolas',\n",
       " 'Maria',\n",
       " 'Anabel',\n",
       " 'Rocio',\n",
       " 'Triana',\n",
       " 'Fernando',\n",
       " 'Oscar',\n",
       " 'Isabel',\n",
       " 'Alejandro',\n",
       " 'Rosa',\n",
       " 'Angel',\n",
       " 'Ramon',\n",
       " 'Jorge',\n",
       " 'Susana',\n",
       " 'Pedro',\n",
       " 'Carlos',\n",
       " 'Andres',\n",
       " 'Leonardo',\n",
       " 'Jose Juan',\n",
       " 'Nicolas',\n",
       " 'Maria',\n",
       " 'Anabel',\n",
       " 'Rocio',\n",
       " 'Triana',\n",
       " 'Fernando',\n",
       " 'Oscar',\n",
       " 'Isabel',\n",
       " 'Alejandro',\n",
       " 'Rosa',\n",
       " 'Angel',\n",
       " 'Ramon',\n",
       " 'Jorge',\n",
       " 'Susana',\n",
       " 'Carlos',\n",
       " 'Andres',\n",
       " 'Leonardo',\n",
       " 'Jose Juan',\n",
       " 'Nicolas',\n",
       " 'Maria',\n",
       " 'Anabel',\n",
       " 'Rocio',\n",
       " 'Triana',\n",
       " 'Fernando',\n",
       " 'Oscar',\n",
       " 'Isabel',\n",
       " 'Alejandro',\n",
       " 'Rosa']"
      ]
     },
     "execution_count": 66,
     "metadata": {},
     "output_type": "execute_result"
    }
   ],
   "source": [
    "# nos quedamos con los nombres de cada alumno en cada asignatura y quitamos los repetidos. Luego los unimos\n",
    "notasSinRep = notasMat.keys().distinct().union(notasFis.keys().distinct()).union(notasIng.keys().distinct())\n",
    "notasSinRep.collect()"
   ]
  },
  {
   "cell_type": "code",
   "execution_count": 65,
   "id": "c7392e76-9ada-41c8-99eb-8e2d2bc03948",
   "metadata": {},
   "outputs": [
    {
     "data": {
      "text/plain": [
       "[('Angel', 3),\n",
       " ('Carlos', 3),\n",
       " ('Anabel', 3),\n",
       " ('Jorge', 3),\n",
       " ('Susana', 3),\n",
       " ('Andres', 3),\n",
       " ('Jose Juan', 3),\n",
       " ('Rocio', 3),\n",
       " ('Fernando', 3),\n",
       " ('Oscar', 3),\n",
       " ('Isabel', 3),\n",
       " ('Alejandro', 3),\n",
       " ('Ramon', 3),\n",
       " ('Pedro', 2),\n",
       " ('Leonardo', 3),\n",
       " ('Nicolas', 3),\n",
       " ('Maria', 3),\n",
       " ('Triana', 3),\n",
       " ('Rosa', 3)]"
      ]
     },
     "execution_count": 65,
     "metadata": {},
     "output_type": "execute_result"
    }
   ],
   "source": [
    "alumnos = notasSinRep.map(lambda x: (x, 1)).reduceByKey(lambda a,b: a+b)\n",
    "alumnos.collect()"
   ]
  },
  {
   "cell_type": "markdown",
   "id": "690e98e9-f137-4e63-ad91-b2aadec07727",
   "metadata": {},
   "source": [
    "10. Obten un RDD con cada alumno con sus notas"
   ]
  },
  {
   "cell_type": "code",
   "execution_count": 71,
   "id": "d53b5847-434e-4612-99ba-88fa69c84d31",
   "metadata": {},
   "outputs": [
    {
     "data": {
      "text/plain": [
       "[('Angel', ['6', '9', '4']),\n",
       " ('Carlos', ['4', '4', '8']),\n",
       " ('Anabel', ['8', '2', '7']),\n",
       " ('Jorge', ['10', '5', '5']),\n",
       " ('Susana', ['9', '9', '2']),\n",
       " ('Andres', ['4', '4', '6']),\n",
       " ('Jose Juan', ['5', '3', '3']),\n",
       " ('Rocio', ['6', '5', '7', '4']),\n",
       " ('Fernando', ['5', '9', '7']),\n",
       " ('Oscar', ['7', '5', '3']),\n",
       " ('Isabel', ['8', '8', '7']),\n",
       " ('Alejandro', ['5', '3', '7']),\n",
       " ('Ramon', ['4.5', '7', '8']),\n",
       " ('Pedro', ['5', '2']),\n",
       " ('Leonardo', ['1', '6', '4']),\n",
       " ('Nicolas', ['2', '7', '5']),\n",
       " ('Maria', ['2', '3', '6']),\n",
       " ('Triana', ['3', '3', '4']),\n",
       " ('Rosa', ['6', '8', '9'])]"
      ]
     },
     "execution_count": 71,
     "metadata": {},
     "output_type": "execute_result"
    }
   ],
   "source": [
    "notasAlumnos = notas.groupByKey()\n",
    "notasAlumnos = notasAlumnos.map(lambda x: (x[0], list(x[1])))\n",
    "notasAlumnos.collect()"
   ]
  },
  {
   "cell_type": "code",
   "execution_count": null,
   "id": "e68582fe-4607-47de-8153-7a3c93b59b55",
   "metadata": {},
   "outputs": [],
   "source": []
  }
 ],
 "metadata": {
  "kernelspec": {
   "display_name": "Python 3 (ipykernel)",
   "language": "python",
   "name": "python3"
  },
  "language_info": {
   "codemirror_mode": {
    "name": "ipython",
    "version": 3
   },
   "file_extension": ".py",
   "mimetype": "text/x-python",
   "name": "python",
   "nbconvert_exporter": "python",
   "pygments_lexer": "ipython3",
   "version": "3.9.10"
  }
 },
 "nbformat": 4,
 "nbformat_minor": 5
}
