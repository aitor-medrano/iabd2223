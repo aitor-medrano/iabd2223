{
 "cells": [
  {
   "cell_type": "code",
   "execution_count": 1,
   "id": "2ee11927",
   "metadata": {},
   "outputs": [
    {
     "name": "stderr",
     "output_type": "stream",
     "text": [
      "22/03/06 10:28:32 WARN Utils: Your hostname, MacBook-Air-de-Aitor.local resolves to a loopback address: 127.0.0.1; using 172.20.10.2 instead (on interface en0)\n",
      "22/03/06 10:28:32 WARN Utils: Set SPARK_LOCAL_IP if you need to bind to another address\n",
      "22/03/06 10:28:33 WARN NativeCodeLoader: Unable to load native-hadoop library for your platform... using builtin-java classes where applicable\n",
      "Using Spark's default log4j profile: org/apache/spark/log4j-defaults.properties\n",
      "Setting default log level to \"WARN\".\n",
      "To adjust logging level use sc.setLogLevel(newLevel). For SparkR, use setLogLevel(newLevel).\n"
     ]
    }
   ],
   "source": [
    "from pyspark.sql import SparkSession\n",
    "\n",
    "spark = SparkSession.builder.getOrCreate() \n",
    "sc = spark.sparkContext"
   ]
  },
  {
   "cell_type": "code",
   "execution_count": 14,
   "id": "84c3dd7a",
   "metadata": {},
   "outputs": [],
   "source": [
    "logRDD = sc.textFile(\"log.txt\")"
   ]
  },
  {
   "cell_type": "code",
   "execution_count": 15,
   "id": "49b3a096",
   "metadata": {},
   "outputs": [],
   "source": [
    "filtradoRDD = logRDD.filter(lambda x: x.startswith(\"ERROR\"))"
   ]
  },
  {
   "cell_type": "code",
   "execution_count": 17,
   "id": "d8422106",
   "metadata": {},
   "outputs": [
    {
     "data": {
      "text/plain": [
       "['ERROR | 2017-11-13 21:02:58 | [main] example.Log4jExample (Log4jExample.java:13) - Log4jExample: A Sample Error Message',\n",
       " 'ERROR | 2017-11-13 21:02:58 | [main] example.Log4jExample (Log4jExample.java:13) - Log4jExample: A Sample Error Message']"
      ]
     },
     "execution_count": 17,
     "metadata": {},
     "output_type": "execute_result"
    }
   ],
   "source": [
    "filtradoRDD.collect()"
   ]
  },
  {
   "cell_type": "code",
   "execution_count": 18,
   "id": "f29300c6",
   "metadata": {},
   "outputs": [],
   "source": [
    "filtradoRDD.saveAsTextFile(\"logFiltradoError\") # escribe en HDFS con formato DFS"
   ]
  },
  {
   "cell_type": "code",
   "execution_count": null,
   "id": "f17d2d6f",
   "metadata": {},
   "outputs": [],
   "source": []
  }
 ],
 "metadata": {
  "kernelspec": {
   "display_name": "Python 3 (ipykernel)",
   "language": "python",
   "name": "python3"
  },
  "language_info": {
   "codemirror_mode": {
    "name": "ipython",
    "version": 3
   },
   "file_extension": ".py",
   "mimetype": "text/x-python",
   "name": "python",
   "nbconvert_exporter": "python",
   "pygments_lexer": "ipython3",
   "version": "3.9.10"
  }
 },
 "nbformat": 4,
 "nbformat_minor": 5
}
