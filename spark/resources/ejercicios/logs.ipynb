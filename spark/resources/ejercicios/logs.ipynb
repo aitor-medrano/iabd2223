{
 "cells": [
  {
   "cell_type": "code",
   "execution_count": 1,
   "id": "1258f479",
   "metadata": {},
   "outputs": [],
   "source": [
    "from pyspark.sql import SparkSession\n",
    "\n",
    "spark = SparkSession.builder.getOrCreate()\n",
    "sc = spark.sparkContext"
   ]
  },
  {
   "cell_type": "markdown",
   "id": "0e58ae53",
   "metadata": {},
   "source": [
    "Carga los logs de la carpeta weblogs"
   ]
  },
  {
   "cell_type": "code",
   "execution_count": 11,
   "id": "7000f4e4-bfc7-4f44-84c4-6cfd2c4356b2",
   "metadata": {},
   "outputs": [
    {
     "name": "stdout",
     "output_type": "stream",
     "text": [
      "root\n",
      " |-- value: string (nullable = true)\n",
      "\n"
     ]
    }
   ],
   "source": [
    "df = spark.read.text(\"weblogs/2014-01-18.log\")\n",
    "df.printSchema()"
   ]
  },
  {
   "cell_type": "code",
   "execution_count": 2,
   "id": "6997e150-73b4-40ab-8f23-a7007cbb08e6",
   "metadata": {},
   "outputs": [
    {
     "name": "stdout",
     "output_type": "stream",
     "text": [
      "root\n",
      " |-- value: string (nullable = true)\n",
      "\n",
      "+-------+--------------------+\n",
      "|summary|               value|\n",
      "+-------+--------------------+\n",
      "|  count|                6403|\n",
      "|   mean|                null|\n",
      "| stddev|                null|\n",
      "|    min|1.119.102.62 - 83...|\n",
      "|    max|99.73.191.11 - 20...|\n",
      "+-------+--------------------+\n",
      "\n"
     ]
    }
   ],
   "source": [
    "df.describe().show()"
   ]
  },
  {
   "cell_type": "code",
   "execution_count": 12,
   "id": "94132efd",
   "metadata": {},
   "outputs": [
    {
     "data": {
      "text/plain": [
       "['116.180.70.237 - 128 [15/Sep/2013:23:59:53 +0100] \"GET /hive-00031.html HTTP/1.0\" 200 1388 \"http://www.cursoDeFormacionBigData.com\"  \"Opera 3.4\"']"
      ]
     },
     "execution_count": 12,
     "metadata": {},
     "output_type": "execute_result"
    }
   ],
   "source": [
    "logs=sc.textFile(\"weblogs/*.log\")\n",
    "logs.take(1)"
   ]
  },
  {
   "cell_type": "markdown",
   "id": "084d83a5",
   "metadata": {},
   "source": [
    "2. Crea un RDD de pares a partir de estos ficheros con el usuario como clave y un valor 1"
   ]
  },
  {
   "cell_type": "code",
   "execution_count": 4,
   "id": "5f34bb0d",
   "metadata": {},
   "outputs": [
    {
     "data": {
      "text/plain": [
       "[('128', 1), ('128', 1), ('94', 1), ('94', 1), ('131', 1)]"
      ]
     },
     "execution_count": 4,
     "metadata": {},
     "output_type": "execute_result"
    }
   ],
   "source": [
    "usuariosRDD = logs.map(lambda linea: linea.split()).map(lambda words: (words[2].strip(),1))\n",
    "usuariosRDD.take(5)"
   ]
  },
  {
   "cell_type": "markdown",
   "id": "ffe7bdcf",
   "metadata": {},
   "source": [
    "3. Crea un nuevo RDD con la suma de los valores para cada identificador de usuario"
   ]
  },
  {
   "cell_type": "code",
   "execution_count": 5,
   "id": "42fda5d3",
   "metadata": {},
   "outputs": [
    {
     "data": {
      "text/plain": [
       "[('54126', 32), ('54', 498), ('21443', 35), ('74', 516), ('64', 562)]"
      ]
     },
     "execution_count": 5,
     "metadata": {},
     "output_type": "execute_result"
    }
   ],
   "source": [
    "usuariosTotal = usuariosRDD.reduceByKey(lambda a,b: a+b)\n",
    "usuariosTotal.take(5)"
   ]
  },
  {
   "cell_type": "markdown",
   "id": "9bf67518",
   "metadata": {},
   "source": [
    "4. Muestra los 10 usuarios que más peticiones han realizado."
   ]
  },
  {
   "cell_type": "code",
   "execution_count": 7,
   "id": "b9264c12",
   "metadata": {},
   "outputs": [
    {
     "data": {
      "text/plain": [
       "[('193', 667),\n",
       " ('13', 636),\n",
       " ('24', 620),\n",
       " ('147', 610),\n",
       " ('110', 606),\n",
       " ('84', 606),\n",
       " ('111', 604),\n",
       " ('77', 603),\n",
       " ('21', 600),\n",
       " ('126', 600)]"
      ]
     },
     "execution_count": 7,
     "metadata": {},
     "output_type": "execute_result"
    }
   ],
   "source": [
    "usuariosTotal.takeOrdered(10, lambda x: -x[1])"
   ]
  },
  {
   "cell_type": "code",
   "execution_count": 10,
   "id": "f7bb61d7-b7e5-4d48-811f-d631c7e41d3b",
   "metadata": {},
   "outputs": [
    {
     "data": {
      "text/plain": [
       "[('193', 667),\n",
       " ('13', 636),\n",
       " ('24', 620),\n",
       " ('147', 610),\n",
       " ('110', 606),\n",
       " ('84', 606),\n",
       " ('111', 604),\n",
       " ('77', 603),\n",
       " ('21', 600),\n",
       " ('126', 600)]"
      ]
     },
     "execution_count": 10,
     "metadata": {},
     "output_type": "execute_result"
    }
   ],
   "source": [
    "usuariosTotal.sortBy(lambda x: -x[1]).take(10)"
   ]
  },
  {
   "cell_type": "markdown",
   "id": "e7464c00",
   "metadata": {},
   "source": [
    "5. Crea un nuevo RDD de pares donde la clave sea el código del usuario y el valor una lista de IP desde donde se ha conectado el usuario.  "
   ]
  },
  {
   "cell_type": "code",
   "execution_count": 13,
   "id": "d7b80de2",
   "metadata": {},
   "outputs": [],
   "source": [
    "usuariosIP = logs.map(lambda linea: linea.split()).map(lambda words: (words[2].strip(),words[0].strip()))"
   ]
  },
  {
   "cell_type": "code",
   "execution_count": 14,
   "id": "25a6737d-be3c-4c3d-a79a-3bb69178af96",
   "metadata": {},
   "outputs": [
    {
     "data": {
      "text/plain": [
       "[('128', '116.180.70.237'),\n",
       " ('128', '116.180.70.237'),\n",
       " ('94', '218.193.16.244')]"
      ]
     },
     "execution_count": 14,
     "metadata": {},
     "output_type": "execute_result"
    }
   ],
   "source": [
    "usuariosIP.take(3)"
   ]
  },
  {
   "cell_type": "code",
   "execution_count": 18,
   "id": "4ceb56c6-5720-48c4-9e9d-13dd60667df8",
   "metadata": {},
   "outputs": [
    {
     "data": {
      "text/plain": [
       "[('54126',\n",
       "  ['176.80.85.20',\n",
       "   '176.80.85.20',\n",
       "   '216.249.102.215',\n",
       "   '216.249.102.215',\n",
       "   '189.97.51.33',\n",
       "   '189.97.51.33',\n",
       "   '191.88.233.113',\n",
       "   '191.88.233.113',\n",
       "   '191.88.233.113',\n",
       "   '191.88.233.113',\n",
       "   '161.94.252.10',\n",
       "   '161.94.252.10',\n",
       "   '69.103.100.120',\n",
       "   '69.103.100.120',\n",
       "   '31.252.214.103',\n",
       "   '31.252.214.103',\n",
       "   '244.131.187.64',\n",
       "   '244.131.187.64',\n",
       "   '220.61.164.139',\n",
       "   '220.61.164.139',\n",
       "   '17.171.169.4',\n",
       "   '17.171.169.4',\n",
       "   '17.171.169.4',\n",
       "   '17.171.169.4',\n",
       "   '75.13.247.212',\n",
       "   '75.13.247.212',\n",
       "   '104.14.31.172',\n",
       "   '104.14.31.172',\n",
       "   '224.190.37.8',\n",
       "   '224.190.37.8',\n",
       "   '211.209.98.155',\n",
       "   '211.209.98.155'])]"
      ]
     },
     "execution_count": 18,
     "metadata": {},
     "output_type": "execute_result"
    }
   ],
   "source": [
    "usuariosIP.groupByKey().map(lambda x: (x[0], list(x[1]))).take(1)"
   ]
  },
  {
   "cell_type": "code",
   "execution_count": 19,
   "id": "1d32eaea-a5b1-4ffa-9d9a-286e981fac09",
   "metadata": {},
   "outputs": [
    {
     "data": {
      "text/plain": [
       "[('54126',\n",
       "  {'104.14.31.172',\n",
       "   '161.94.252.10',\n",
       "   '17.171.169.4',\n",
       "   '176.80.85.20',\n",
       "   '189.97.51.33',\n",
       "   '191.88.233.113',\n",
       "   '211.209.98.155',\n",
       "   '216.249.102.215',\n",
       "   '220.61.164.139',\n",
       "   '224.190.37.8',\n",
       "   '244.131.187.64',\n",
       "   '31.252.214.103',\n",
       "   '69.103.100.120',\n",
       "   '75.13.247.212'})]"
      ]
     },
     "execution_count": 19,
     "metadata": {},
     "output_type": "execute_result"
    }
   ],
   "source": [
    "# Sin repeticiones\n",
    "usuariosIP.groupByKey().map(lambda x: (x[0], set(x[1]))).take(1)"
   ]
  },
  {
   "cell_type": "markdown",
   "id": "3e99f11d-de74-4932-bcdc-daee8e4dbdd2",
   "metadata": {
    "tags": []
   },
   "source": [
    "## Contando tipos de formatos\n"
   ]
  },
  {
   "cell_type": "code",
   "execution_count": 37,
   "id": "1f188a50-1210-42d7-b1f5-a68651310ca8",
   "metadata": {},
   "outputs": [],
   "source": [
    "# rsplit empieza por la derecha, y le decimos que queremos que solo parta una vez,\n",
    "# de manera que devolverá 2 elementos, y nos quedamos con el 2º, que es lo que está a la derecha del punto\n",
    "formatosRDD = logs.map(lambda linea: linea.split()).map(lambda words: (words[6].rsplit(\".\", 1)[1], 1))"
   ]
  },
  {
   "cell_type": "code",
   "execution_count": 38,
   "id": "a9958219-afdf-42b1-a6f3-ad8deb3b8b9f",
   "metadata": {},
   "outputs": [
    {
     "data": {
      "text/plain": [
       "[('js', 25212),\n",
       " ('html', 173049),\n",
       " ('png', 4357),\n",
       " ('jpg', 24743),\n",
       " ('txt', 6096),\n",
       " ('css', 180632)]"
      ]
     },
     "execution_count": 38,
     "metadata": {},
     "output_type": "execute_result"
    }
   ],
   "source": [
    "formatosRDD.reduceByKey(lambda x,y: x+y).collect()"
   ]
  },
  {
   "cell_type": "code",
   "execution_count": null,
   "id": "dfc00601-e6a8-4f12-ba2a-e4b98c8eddce",
   "metadata": {},
   "outputs": [],
   "source": []
  }
 ],
 "metadata": {
  "kernelspec": {
   "display_name": "Python 3 (ipykernel)",
   "language": "python",
   "name": "python3"
  },
  "language_info": {
   "codemirror_mode": {
    "name": "ipython",
    "version": 3
   },
   "file_extension": ".py",
   "mimetype": "text/x-python",
   "name": "python",
   "nbconvert_exporter": "python",
   "pygments_lexer": "ipython3",
   "version": "3.9.10"
  }
 },
 "nbformat": 4,
 "nbformat_minor": 5
}
