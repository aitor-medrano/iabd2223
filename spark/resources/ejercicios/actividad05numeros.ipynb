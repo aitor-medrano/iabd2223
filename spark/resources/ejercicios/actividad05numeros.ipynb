{
 "cells": [
  {
   "cell_type": "markdown",
   "id": "9ea48ebc",
   "metadata": {},
   "source": [
    "5. Dada una lista de elementos desordenados y algunos repetidos, devolver una muestra de 5 elementos, que estén en la lista, sin repetir y ordenados descendentemente.\n",
    "\n",
    "``` python\n",
    "lista = 4,6,34,7,9,2,3,4,4,21,4,6,8,9,7,8,5,4,3,22,34,56,98\n",
    "```\n",
    "\n",
    "1. Selecciona el elemento mayor de la lista resultante.\n",
    "2. Muestra los dos elementos menores."
   ]
  },
  {
   "cell_type": "code",
   "execution_count": 1,
   "id": "3cf4eb1c",
   "metadata": {},
   "outputs": [
    {
     "name": "stderr",
     "output_type": "stream",
     "text": [
      "22/03/16 17:39:28 WARN Utils: Your hostname, MacBook-Air-de-Aitor.local resolves to a loopback address: 127.0.0.1; using 192.168.102.138 instead (on interface en0)\n",
      "22/03/16 17:39:28 WARN Utils: Set SPARK_LOCAL_IP if you need to bind to another address\n",
      "22/03/16 17:39:29 WARN NativeCodeLoader: Unable to load native-hadoop library for your platform... using builtin-java classes where applicable\n",
      "Using Spark's default log4j profile: org/apache/spark/log4j-defaults.properties\n",
      "Setting default log level to \"WARN\".\n",
      "To adjust logging level use sc.setLogLevel(newLevel). For SparkR, use setLogLevel(newLevel).\n",
      "22/03/16 17:39:32 WARN Utils: Service 'SparkUI' could not bind on port 4040. Attempting port 4041.\n"
     ]
    }
   ],
   "source": [
    "from pyspark.sql import SparkSession\n",
    "\n",
    "spark = SparkSession.builder.getOrCreate() \n",
    "sc = spark.sparkContext"
   ]
  },
  {
   "cell_type": "code",
   "execution_count": 2,
   "id": "c0749a84",
   "metadata": {},
   "outputs": [],
   "source": [
    "lista = 4,6,34,7,9,2,3,4,4,21,4,6,8,9,7,8,5,4,3,22,34,56,98"
   ]
  },
  {
   "cell_type": "code",
   "execution_count": 42,
   "id": "73b89339",
   "metadata": {},
   "outputs": [
    {
     "data": {
      "text/plain": [
       "(4, 6, 34, 7, 9, 2, 3, 4, 4, 21, 4, 6, 8, 9, 7, 8, 5, 4, 3, 22, 34, 56, 98)"
      ]
     },
     "execution_count": 42,
     "metadata": {},
     "output_type": "execute_result"
    }
   ],
   "source": [
    "lista"
   ]
  },
  {
   "cell_type": "code",
   "execution_count": 58,
   "id": "4f2d195f",
   "metadata": {},
   "outputs": [
    {
     "data": {
      "text/plain": [
       "[98, 34, 9, 7, 6]"
      ]
     },
     "execution_count": 58,
     "metadata": {},
     "output_type": "execute_result"
    }
   ],
   "source": [
    "numeros = sc.parallelize(lista)\n",
    "numeros5 = numeros.distinct().takeSample(False, 5)\n",
    "numeros5.sort(reverse=True)\n",
    "numeros5"
   ]
  },
  {
   "cell_type": "code",
   "execution_count": 63,
   "id": "89faed67",
   "metadata": {},
   "outputs": [
    {
     "data": {
      "text/plain": [
       "[98]"
      ]
     },
     "execution_count": 63,
     "metadata": {},
     "output_type": "execute_result"
    }
   ],
   "source": [
    "# 1 Selecciona el elemento mayor de la lista resultante.\n",
    "numerosRDD = sc.parallelize(numeros5)\n",
    "numerosRDD.top(1)"
   ]
  },
  {
   "cell_type": "code",
   "execution_count": 64,
   "id": "bf7e4fa8",
   "metadata": {},
   "outputs": [
    {
     "data": {
      "text/plain": [
       "[6, 7]"
      ]
     },
     "execution_count": 64,
     "metadata": {},
     "output_type": "execute_result"
    }
   ],
   "source": [
    "# 2 Muestra los dos elementos menores.\n",
    "numerosRDD.takeOrdered(2)"
   ]
  },
  {
   "cell_type": "code",
   "execution_count": null,
   "id": "d89f3e56",
   "metadata": {},
   "outputs": [],
   "source": []
  }
 ],
 "metadata": {
  "kernelspec": {
   "display_name": "Python 3 (ipykernel)",
   "language": "python",
   "name": "python3"
  },
  "language_info": {
   "codemirror_mode": {
    "name": "ipython",
    "version": 3
   },
   "file_extension": ".py",
   "mimetype": "text/x-python",
   "name": "python",
   "nbconvert_exporter": "python",
   "pygments_lexer": "ipython3",
   "version": "3.9.10"
  }
 },
 "nbformat": 4,
 "nbformat_minor": 5
}
