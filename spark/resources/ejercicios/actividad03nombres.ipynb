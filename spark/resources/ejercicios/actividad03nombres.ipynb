{
 "cells": [
  {
   "cell_type": "markdown",
   "id": "997407a0-277f-4426-9e1f-2a1e1735e293",
   "metadata": {},
   "source": [
    "Dada una lista de nombres `Juan, Jimena, Luis, Cristian, Laura, Lorena, Cristina, Jacobo, Jorge`:\n",
    "\n",
    "1. Agrúpalos según su inicial. Por ejemplo de la lista: `Laura, Luis, Juan` el resultado sería:\n",
    "\n",
    "    ``` text\n",
    "    L Laura,Luis\n",
    "    J Juan\n",
    "    ```\n",
    "    \n",
    "2. De la lista original, obtén una muestra de 5 elementos usando `sample` sin repetir valores.\n",
    "3. Devuelve una muestra de datos de aproximadamente la mitad de registros que la lista original con datos que no se repitan."
   ]
  },
  {
   "cell_type": "code",
   "execution_count": 1,
   "id": "aa3de3c0-0803-4e46-9039-71e9f77f1e9f",
   "metadata": {},
   "outputs": [],
   "source": [
    "from pyspark.sql import SparkSession\n",
    "\n",
    "spark = SparkSession.builder.getOrCreate() \n",
    "sc = spark.sparkContext"
   ]
  },
  {
   "cell_type": "code",
   "execution_count": 19,
   "id": "c40b1e2f-1c74-4aeb-8940-b13b80969d33",
   "metadata": {},
   "outputs": [
    {
     "name": "stdout",
     "output_type": "stream",
     "text": [
      "['Juan', 'Jimena', 'Luis', 'Cristian', 'Laura', 'Lorena', 'Luis', 'Cristina', 'Jacobo', 'Jorge']\n"
     ]
    }
   ],
   "source": [
    "lista = \"Juan, Jimena, Luis, Cristian, Laura, Lorena, Luis, Cristina, Jacobo, Jorge\"\n",
    "listaPartida = lista.split(\", \")\n",
    "print(listaPartida)"
   ]
  },
  {
   "cell_type": "code",
   "execution_count": 20,
   "id": "5d80eac4-d8f2-4b9b-8f58-be5bd31bc156",
   "metadata": {},
   "outputs": [
    {
     "data": {
      "text/plain": [
       "[('J', 'Juan'),\n",
       " ('J', 'Jimena'),\n",
       " ('L', 'Luis'),\n",
       " ('C', 'Cristian'),\n",
       " ('L', 'Laura'),\n",
       " ('L', 'Lorena'),\n",
       " ('L', 'Luis'),\n",
       " ('C', 'Cristina'),\n",
       " ('J', 'Jacobo'),\n",
       " ('J', 'Jorge')]"
      ]
     },
     "execution_count": 20,
     "metadata": {},
     "output_type": "execute_result"
    }
   ],
   "source": [
    "rdd = sc.parallelize(listaPartida);\n",
    "iniciales = rdd.map(lambda x: (x[0], x))\n",
    "iniciales.collect()"
   ]
  },
  {
   "cell_type": "code",
   "execution_count": 21,
   "id": "bd8e99dc-e422-49ff-9333-6e6fcfc85e51",
   "metadata": {},
   "outputs": [
    {
     "data": {
      "text/plain": [
       "[('J', <pyspark.resultiterable.ResultIterable at 0x7f4dab793340>),\n",
       " ('L', <pyspark.resultiterable.ResultIterable at 0x7f4dab7b88b0>),\n",
       " ('C', <pyspark.resultiterable.ResultIterable at 0x7f4dab7b82b0>)]"
      ]
     },
     "execution_count": 21,
     "metadata": {},
     "output_type": "execute_result"
    }
   ],
   "source": [
    "inicialNombres = iniciales.groupByKey()\n",
    "inicialNombres.collect()"
   ]
  },
  {
   "cell_type": "code",
   "execution_count": 22,
   "id": "b174d8e3-e52f-443f-aba6-159761c0efb3",
   "metadata": {},
   "outputs": [
    {
     "data": {
      "text/plain": [
       "[('J', ['Juan', 'Jimena', 'Jacobo', 'Jorge']),\n",
       " ('L', ['Luis', 'Laura', 'Lorena', 'Luis']),\n",
       " ('C', ['Cristian', 'Cristina'])]"
      ]
     },
     "execution_count": 22,
     "metadata": {},
     "output_type": "execute_result"
    }
   ],
   "source": [
    "inicialNombresLista = inicialNombres.map(lambda x: (x[0], list(x[1])))\n",
    "inicialNombresLista.collect()"
   ]
  },
  {
   "cell_type": "code",
   "execution_count": 23,
   "id": "adfa074d-c9ae-4be5-bf8b-0a0bbe73d931",
   "metadata": {},
   "outputs": [
    {
     "data": {
      "text/plain": [
       "['Luis', 'Laura', 'Cristina', 'Luis', 'Juan']"
      ]
     },
     "execution_count": 23,
     "metadata": {},
     "output_type": "execute_result"
    }
   ],
   "source": [
    "# 2 De la lista original, obtén una muestra de 5 elementos usando sample sin repetir valores\n",
    "rdd.takeSample(False, 5)"
   ]
  },
  {
   "cell_type": "code",
   "execution_count": 27,
   "id": "af86e42b-d5f8-4f8d-a1d1-22e6e09efd92",
   "metadata": {},
   "outputs": [
    {
     "data": {
      "text/plain": [
       "['Jimena', 'Jimena', 'Jimena', 'Cristian', 'Cristian', 'Lorena']"
      ]
     },
     "execution_count": 27,
     "metadata": {},
     "output_type": "execute_result"
    }
   ],
   "source": [
    "# 3. Devuelve una muestra de datos de aproximadamente la mitad de registros que la lista original con datos que pudieran llegar a repetirse.\n",
    "rdd.sample(True, 0.5).collect()"
   ]
  },
  {
   "cell_type": "code",
   "execution_count": null,
   "id": "e5b6b301-0b4e-401d-abdc-487a241338e2",
   "metadata": {},
   "outputs": [],
   "source": []
  },
  {
   "cell_type": "code",
   "execution_count": null,
   "id": "fb163aaf-b618-47f5-9311-f17f477e0c61",
   "metadata": {},
   "outputs": [],
   "source": []
  }
 ],
 "metadata": {
  "kernelspec": {
   "display_name": "Python 3 (ipykernel)",
   "language": "python",
   "name": "python3"
  },
  "language_info": {
   "codemirror_mode": {
    "name": "ipython",
    "version": 3
   },
   "file_extension": ".py",
   "mimetype": "text/x-python",
   "name": "python",
   "nbconvert_exporter": "python",
   "pygments_lexer": "ipython3",
   "version": "3.9.10"
  }
 },
 "nbformat": 4,
 "nbformat_minor": 5
}
