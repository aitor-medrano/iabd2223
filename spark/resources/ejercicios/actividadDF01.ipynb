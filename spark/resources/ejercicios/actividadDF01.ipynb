{
 "cells": [
  {
   "cell_type": "code",
   "execution_count": 29,
   "id": "d10c4065",
   "metadata": {},
   "outputs": [
    {
     "name": "stdout",
     "output_type": "stream",
     "text": [
      "root\n",
      " |-- Ciudad: string (nullable = true)\n",
      " |-- Edad: long (nullable = true)\n",
      " |-- Nombre: string (nullable = true)\n",
      "\n"
     ]
    }
   ],
   "source": [
    "from pyspark.sql import SparkSession\n",
    "\n",
    "spark = SparkSession.builder.appName(\"s8a-dataframes-actividades\").getOrCreate()\n",
    "\n",
    "# Lectura de CSV con el ; como separador de columnas y con encabezado\n",
    "df = spark.read.option(\"inferSchema\", \"true\").json(\"../nombres.json\")\n",
    "    \n",
    "df.printSchema()"
   ]
  },
  {
   "cell_type": "code",
   "execution_count": 30,
   "id": "98a0bbe7",
   "metadata": {},
   "outputs": [
    {
     "name": "stdout",
     "output_type": "stream",
     "text": [
      "+--------+----+------+\n",
      "|  Ciudad|Edad|Nombre|\n",
      "+--------+----+------+\n",
      "|   Elche|  45| Aitor|\n",
      "|Alicante|  23| Maria|\n",
      "|   Elche|  19| Laura|\n",
      "|    Aspe|  45| Sonia|\n",
      "|   Elche|null| Pedro|\n",
      "+--------+----+------+\n",
      "\n"
     ]
    }
   ],
   "source": [
    "df.show()"
   ]
  },
  {
   "cell_type": "code",
   "execution_count": 31,
   "id": "2d7c2d0d",
   "metadata": {},
   "outputs": [
    {
     "name": "stdout",
     "output_type": "stream",
     "text": [
      "+--------+----+------+-------+\n",
      "|  Ciudad|Edad|Nombre|mayor30|\n",
      "+--------+----+------+-------+\n",
      "|   Elche|  45| Aitor|   true|\n",
      "|Alicante|  23| Maria|  false|\n",
      "|   Elche|  19| Laura|  false|\n",
      "|    Aspe|  45| Sonia|   true|\n",
      "|   Elche|null| Pedro|   null|\n",
      "+--------+----+------+-------+\n",
      "\n"
     ]
    }
   ],
   "source": [
    "df = df.withColumn(\"mayor30\", df.Edad > 30)\n",
    "df.show()"
   ]
  },
  {
   "cell_type": "code",
   "execution_count": 32,
   "id": "4a243bea",
   "metadata": {},
   "outputs": [
    {
     "name": "stdout",
     "output_type": "stream",
     "text": [
      "+--------+----+------+-------+----------------+\n",
      "|  Ciudad|Edad|Nombre|mayor30|FaltanJubilacion|\n",
      "+--------+----+------+-------+----------------+\n",
      "|   Elche|  45| Aitor|   true|              22|\n",
      "|Alicante|  23| Maria|  false|              44|\n",
      "|   Elche|  19| Laura|  false|              48|\n",
      "|    Aspe|  45| Sonia|   true|              22|\n",
      "|   Elche|null| Pedro|   null|            null|\n",
      "+--------+----+------+-------+----------------+\n",
      "\n"
     ]
    }
   ],
   "source": [
    "df = df.withColumn(\"FaltanJubilacion\", 67-df.Edad)\n",
    "df.show()"
   ]
  },
  {
   "cell_type": "code",
   "execution_count": 33,
   "id": "8f099913",
   "metadata": {},
   "outputs": [
    {
     "name": "stdout",
     "output_type": "stream",
     "text": [
      "+--------+----+------+-------+----------------+---------+\n",
      "|  Ciudad|Edad|Nombre|mayor30|FaltanJubilacion|apellidos|\n",
      "+--------+----+------+-------+----------------+---------+\n",
      "|   Elche|  45| Aitor|   true|              22|      XXX|\n",
      "|Alicante|  23| Maria|  false|              44|      XXX|\n",
      "|   Elche|  19| Laura|  false|              48|      XXX|\n",
      "|    Aspe|  45| Sonia|   true|              22|      XXX|\n",
      "|   Elche|null| Pedro|   null|            null|      XXX|\n",
      "+--------+----+------+-------+----------------+---------+\n",
      "\n"
     ]
    }
   ],
   "source": [
    "from pyspark.sql.functions import lit\n",
    "df = df.withColumn(\"apellidos\", lit(\"XXX\"))\n",
    "df.show()"
   ]
  },
  {
   "cell_type": "code",
   "execution_count": 34,
   "id": "45e461b5",
   "metadata": {},
   "outputs": [
    {
     "name": "stdout",
     "output_type": "stream",
     "text": [
      "+--------+----+------+----------------+\n",
      "|  Ciudad|Edad|Nombre|FaltanJubilacion|\n",
      "+--------+----+------+----------------+\n",
      "|   Elche|  45| Aitor|              22|\n",
      "|Alicante|  23| Maria|              44|\n",
      "|   Elche|  19| Laura|              48|\n",
      "|    Aspe|  45| Sonia|              22|\n",
      "|   Elche|null| Pedro|            null|\n",
      "+--------+----+------+----------------+\n",
      "\n"
     ]
    }
   ],
   "source": [
    "df = df.drop(\"mayor30\", \"apellidos\")\n",
    "df.show()"
   ]
  },
  {
   "cell_type": "code",
   "execution_count": 35,
   "id": "79d7d44e",
   "metadata": {},
   "outputs": [
    {
     "name": "stdout",
     "output_type": "stream",
     "text": [
      "+--------+----+------+----------------+-------+\n",
      "|  Ciudad|Edad|Nombre|FaltanJubilacion|AnyoNac|\n",
      "+--------+----+------+----------------+-------+\n",
      "|   Elche|  45| Aitor|              22|   1977|\n",
      "|Alicante|  23| Maria|              44|   1999|\n",
      "|   Elche|  19| Laura|              48|   2003|\n",
      "|    Aspe|  45| Sonia|              22|   1977|\n",
      "|   Elche|null| Pedro|            null|   null|\n",
      "+--------+----+------+----------------+-------+\n",
      "\n"
     ]
    }
   ],
   "source": [
    "from pyspark.sql.functions import year, current_date\n",
    "df = df.withColumn(\"AnyoNac\", year(current_date())-df.Edad)\n",
    "df.show()"
   ]
  },
  {
   "cell_type": "code",
   "execution_count": 36,
   "id": "82b19fc3",
   "metadata": {},
   "outputs": [
    {
     "name": "stdout",
     "output_type": "stream",
     "text": [
      "+--------+----+------+----------------+-------+---+\n",
      "|  Ciudad|Edad|Nombre|FaltanJubilacion|AnyoNac| Id|\n",
      "+--------+----+------+----------------+-------+---+\n",
      "|   Elche|  45| Aitor|              22|   1977|  0|\n",
      "|Alicante|  23| Maria|              44|   1999|  1|\n",
      "|   Elche|  19| Laura|              48|   2003|  2|\n",
      "|    Aspe|  45| Sonia|              22|   1977|  3|\n",
      "|   Elche|null| Pedro|            null|   null|  4|\n",
      "+--------+----+------+----------------+-------+---+\n",
      "\n"
     ]
    }
   ],
   "source": [
    "from pyspark.sql.functions import monotonically_increasing_id\n",
    "df= df.withColumn(\"Id\", monotonically_increasing_id())\n",
    "df.show()"
   ]
  },
  {
   "cell_type": "code",
   "execution_count": 37,
   "id": "f33565e5",
   "metadata": {},
   "outputs": [
    {
     "name": "stdout",
     "output_type": "stream",
     "text": [
      "+---+------+----+-------+----------------+--------+\n",
      "| Id|Nombre|Edad|AnyoNac|FaltanJubilacion|  Ciudad|\n",
      "+---+------+----+-------+----------------+--------+\n",
      "|  0| Aitor|  45|   1977|              22|   Elche|\n",
      "|  1| Maria|  23|   1999|              44|Alicante|\n",
      "|  2| Laura|  19|   2003|              48|   Elche|\n",
      "|  3| Sonia|  45|   1977|              22|    Aspe|\n",
      "|  4| Pedro|null|   null|            null|   Elche|\n",
      "+---+------+----+-------+----------------+--------+\n",
      "\n"
     ]
    }
   ],
   "source": [
    "df = df.select(\"Id\", \"Nombre\", \"Edad\", \"AnyoNac\", \"FaltanJubilacion\", \"Ciudad\")\n",
    "df.show()"
   ]
  },
  {
   "cell_type": "code",
   "execution_count": null,
   "id": "171ae311",
   "metadata": {},
   "outputs": [],
   "source": []
  },
  {
   "cell_type": "code",
   "execution_count": null,
   "id": "6ba540d8",
   "metadata": {},
   "outputs": [],
   "source": []
  }
 ],
 "metadata": {
  "kernelspec": {
   "display_name": "Python 3",
   "language": "python",
   "name": "python3"
  },
  "language_info": {
   "codemirror_mode": {
    "name": "ipython",
    "version": 3
   },
   "file_extension": ".py",
   "mimetype": "text/x-python",
   "name": "python",
   "nbconvert_exporter": "python",
   "pygments_lexer": "ipython3",
   "version": "3.11.1 (main, Dec 23 2022, 09:28:24) [Clang 14.0.0 (clang-1400.0.29.202)]"
  },
  "vscode": {
   "interpreter": {
    "hash": "5c7b89af1651d0b8571dde13640ecdccf7d5a6204171d6ab33e7c296e100e08a"
   }
  }
 },
 "nbformat": 4,
 "nbformat_minor": 5
}
