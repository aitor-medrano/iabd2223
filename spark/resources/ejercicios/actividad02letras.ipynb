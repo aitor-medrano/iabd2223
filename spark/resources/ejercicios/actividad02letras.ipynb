{
 "cells": [
  {
   "cell_type": "markdown",
   "id": "9fab66e9-3f23-4263-b274-1e28924fd8a6",
   "metadata": {},
   "source": [
    " A partir de la lista siguiente `['Alicante','Elche','Valencia','Madrid','Barcelona','Bilbao','Sevilla']`:\n",
    "\n",
    "    1. Almacena sólo las ciudades que tengan la letra `e` en su nombre y muéstralas.\n",
    "    2. Muestra las ciudades que tienen la letra `e` y muestra el número de veces que aparece en cada nombre. Por ejemplo `(Elche, 2)`.\n",
    "    3. Selecciona solo con las ciudades que tengan una única `e`.\n",
    "    4. Nos han enviado una nueva lista pero no han separado bien las ciudades.. Vuelve a colocarlos y cuenta las apariciones de la letra `e` de cada ciudad.\n",
    "    `ciudades_mal = [['Alicante.Elche','Valencia','Madrid.Barcelona','Bilbao.Sevilla'],['Murcia','San Sebastián','Melilla.Aspe']]`"
   ]
  },
  {
   "cell_type": "code",
   "execution_count": 1,
   "id": "89ed0cf5-13ca-4b64-b795-8c57f1662637",
   "metadata": {},
   "outputs": [],
   "source": [
    "from pyspark.sql import SparkSession\n",
    "\n",
    "spark = SparkSession.builder.getOrCreate() \n",
    "sc = spark.sparkContext"
   ]
  },
  {
   "cell_type": "code",
   "execution_count": 14,
   "id": "8fc323b8-6ff8-4299-991b-6c8d65618131",
   "metadata": {},
   "outputs": [],
   "source": [
    "ciudades = ['Alicante','Elche','Valencia','Madrid','Barcelona','Bilbao','Sevilla']\n",
    "rdd = sc.parallelize(ciudades)"
   ]
  },
  {
   "cell_type": "code",
   "execution_count": 16,
   "id": "abb131fe-bb4c-40af-850f-922c8535ebe8",
   "metadata": {},
   "outputs": [
    {
     "data": {
      "text/plain": [
       "['Alicante', 'Elche', 'Valencia', 'Barcelona', 'Sevilla']"
      ]
     },
     "execution_count": 16,
     "metadata": {},
     "output_type": "execute_result"
    }
   ],
   "source": [
    "# 1 Almacena sólo las ciudades que tengan la letra `e` en su nombre y muéstralas\n",
    "rddE = rdd.filter(lambda x: 'e' in x.lower())\n",
    "rddE.collect()"
   ]
  },
  {
   "cell_type": "code",
   "execution_count": 17,
   "id": "b962da20-33f2-4361-9b36-27c5859f2947",
   "metadata": {},
   "outputs": [
    {
     "data": {
      "text/plain": [
       "[('Alicante', 1),\n",
       " ('Elche', 2),\n",
       " ('Valencia', 1),\n",
       " ('Barcelona', 1),\n",
       " ('Sevilla', 1)]"
      ]
     },
     "execution_count": 17,
     "metadata": {},
     "output_type": "execute_result"
    }
   ],
   "source": [
    "# 2 Muestra las ciudades que tienen la letra `e` y muestra el número de veces que aparece en cada nombre. Por ejemplo `(Elche, 2)`.\n",
    "tuplaE = rddE.map(lambda x: (x, x.lower().count('e')))\n",
    "tuplaE.collect()"
   ]
  },
  {
   "cell_type": "code",
   "execution_count": 18,
   "id": "a83b9ad7-6f4b-41ea-ae8c-83f0fb08165f",
   "metadata": {},
   "outputs": [
    {
     "data": {
      "text/plain": [
       "[('Alicante', 1), ('Valencia', 1), ('Barcelona', 1), ('Sevilla', 1)]"
      ]
     },
     "execution_count": 18,
     "metadata": {},
     "output_type": "execute_result"
    }
   ],
   "source": [
    "# 3 Selecciona solo con las ciudades que tengan una única `e`.\n",
    "ciudades1E = tuplaE.filter(lambda x: x[1] == 1)\n",
    "ciudades1E.collect()"
   ]
  },
  {
   "cell_type": "code",
   "execution_count": 22,
   "id": "2c9d1210-128d-464b-a77e-b534369ea8a1",
   "metadata": {},
   "outputs": [],
   "source": [
    "# 4 Nos han enviado una nueva lista pero no han separado bien las ciudades.. \n",
    "# Vuelve a colocarlos y cuenta las apariciones de la letra `e` de cada ciudad.\n",
    "ciudades_mal = [['Alicante.Elche','Valencia','Madrid.Barcelona','Bilbao.Sevilla'],['Murcia','San Sebastián','Melilla.Aspe']]"
   ]
  },
  {
   "cell_type": "code",
   "execution_count": 31,
   "id": "8b8573ad-a535-4b6d-892b-2c41dd44f394",
   "metadata": {},
   "outputs": [
    {
     "data": {
      "text/plain": [
       "[('Alicante', 1),\n",
       " ('Elche', 2),\n",
       " ('Valencia', 1),\n",
       " ('Madrid', 0),\n",
       " ('Barcelona', 1),\n",
       " ('Bilbao', 0),\n",
       " ('Sevilla', 1),\n",
       " ('Murcia', 0),\n",
       " ('San Sebastián', 1),\n",
       " ('Melilla', 1),\n",
       " ('Aspe', 1)]"
      ]
     },
     "execution_count": 31,
     "metadata": {},
     "output_type": "execute_result"
    }
   ],
   "source": [
    "rddMal = sc.parallelize(ciudades_mal)\n",
    "rddMalBien = rddMal.flatMap(lambda x: x)\n",
    "rddMalBienBien = rddMalBien.flatMap(lambda x: x.split(\".\"))\n",
    "rddMalBienBienE = rddMalBienBien.map(lambda x: (x, x.lower().count('e')))\n",
    "rddMalBienBienE.collect()"
   ]
  },
  {
   "cell_type": "code",
   "execution_count": null,
   "id": "3f8371ca-d8c7-4f59-8e6a-ba100d3cd5be",
   "metadata": {},
   "outputs": [],
   "source": []
  }
 ],
 "metadata": {
  "kernelspec": {
   "display_name": "Python 3 (ipykernel)",
   "language": "python",
   "name": "python3"
  },
  "language_info": {
   "codemirror_mode": {
    "name": "ipython",
    "version": 3
   },
   "file_extension": ".py",
   "mimetype": "text/x-python",
   "name": "python",
   "nbconvert_exporter": "python",
   "pygments_lexer": "ipython3",
   "version": "3.9.10"
  }
 },
 "nbformat": 4,
 "nbformat_minor": 5
}
