{
 "cells": [
  {
   "cell_type": "code",
   "execution_count": 7,
   "id": "d10c4065",
   "metadata": {},
   "outputs": [
    {
     "name": "stdout",
     "output_type": "stream",
     "text": [
      "root\n",
      " |-- interprete: string (nullable = true)\n",
      " |-- pelicula: string (nullable = true)\n",
      " |-- anyo: integer (nullable = true)\n",
      "\n"
     ]
    }
   ],
   "source": [
    "from pyspark.sql import SparkSession\n",
    "from pyspark.sql.types import StructType, StructField, StringType, IntegerType, DoubleType\n",
    "\n",
    "spark = SparkSession.builder.appName(\"s8a-dataframes-actividades\").getOrCreate()\n",
    "\n",
    "esquema = StructType([\n",
    "    StructField(\"interprete\", StringType(), False),\n",
    "    StructField(\"pelicula\", StringType(), False),\n",
    "    StructField(\"anyo\", IntegerType(), False)\n",
    "])\n",
    "\n",
    "dfm = spark.read.option(\"sep\", \"\\t\").schema(esquema).csv(\"../movies.tsv\")\n",
    "    \n",
    "dfm.printSchema()\n"
   ]
  },
  {
   "cell_type": "code",
   "execution_count": 8,
   "id": "f15ee069",
   "metadata": {},
   "outputs": [
    {
     "name": "stdout",
     "output_type": "stream",
     "text": [
      "+-----------------+--------------------+----+\n",
      "|       interprete|            pelicula|anyo|\n",
      "+-----------------+--------------------+----+\n",
      "|McClure, Marc (I)|       Freaky Friday|2003|\n",
      "|McClure, Marc (I)|        Coach Carter|2005|\n",
      "|McClure, Marc (I)|         Superman II|1980|\n",
      "|McClure, Marc (I)|           Apollo 13|1995|\n",
      "|McClure, Marc (I)|            Superman|1978|\n",
      "|McClure, Marc (I)|  Back to the Future|1985|\n",
      "|McClure, Marc (I)|Back to the Futur...|1990|\n",
      "|Cooper, Chris (I)|  Me, Myself & Irene|2000|\n",
      "|Cooper, Chris (I)|         October Sky|1999|\n",
      "|Cooper, Chris (I)|              Capote|2005|\n",
      "+-----------------+--------------------+----+\n",
      "only showing top 10 rows\n",
      "\n"
     ]
    }
   ],
   "source": [
    "dfm.show(10)"
   ]
  },
  {
   "cell_type": "code",
   "execution_count": 9,
   "id": "5e25c964",
   "metadata": {},
   "outputs": [
    {
     "name": "stdout",
     "output_type": "stream",
     "text": [
      "root\n",
      " |-- calificacion: double (nullable = true)\n",
      " |-- pelicula: string (nullable = true)\n",
      " |-- anyo: integer (nullable = true)\n",
      "\n"
     ]
    }
   ],
   "source": [
    "esquema = StructType([\n",
    "    StructField(\"calificacion\", DoubleType(), False),\n",
    "    StructField(\"pelicula\", StringType(), False),\n",
    "    StructField(\"anyo\", IntegerType(), False)\n",
    "])\n",
    "\n",
    "dfr = spark.read.option(\"sep\", \"\\t\").schema(esquema).csv(\"../movie-ratings.tsv\")\n",
    "    \n",
    "dfr.printSchema()\n",
    "\n"
   ]
  },
  {
   "cell_type": "code",
   "execution_count": 10,
   "id": "6b1c36cf",
   "metadata": {},
   "outputs": [
    {
     "name": "stdout",
     "output_type": "stream",
     "text": [
      "+------------+--------------------+----+\n",
      "|calificacion|            pelicula|anyo|\n",
      "+------------+--------------------+----+\n",
      "|      1.6339|'Crocodile' Dunde...|1988|\n",
      "|      7.6177|                  10|1979|\n",
      "|      1.2864|10 Things I Hate ...|1999|\n",
      "|      0.3243|           10,000 BC|2008|\n",
      "|      0.3376|      101 Dalmatians|1996|\n",
      "|      0.5218|      102 Dalmatians|2000|\n",
      "|     12.8205|                1066|2012|\n",
      "|      0.6829|                  12|2007|\n",
      "|      7.4061|           12 Rounds|2009|\n",
      "|      2.3677|           127 Hours|2010|\n",
      "+------------+--------------------+----+\n",
      "only showing top 10 rows\n",
      "\n"
     ]
    }
   ],
   "source": [
    "dfr.show(10)"
   ]
  },
  {
   "cell_type": "code",
   "execution_count": 14,
   "id": "171ae311",
   "metadata": {},
   "outputs": [],
   "source": [
    "df = dfm.join(dfr, [\"pelicula\", \"anyo\"])"
   ]
  },
  {
   "cell_type": "code",
   "execution_count": 16,
   "id": "6ba540d8",
   "metadata": {},
   "outputs": [
    {
     "name": "stderr",
     "output_type": "stream",
     "text": [
      "                                                                                \r"
     ]
    },
    {
     "data": {
      "text/plain": [
       "31392"
      ]
     },
     "execution_count": 16,
     "metadata": {},
     "output_type": "execute_result"
    }
   ],
   "source": [
    "df.count()"
   ]
  },
  {
   "cell_type": "code",
   "execution_count": 51,
   "id": "4deebda9",
   "metadata": {},
   "outputs": [
    {
     "name": "stdout",
     "output_type": "stream",
     "text": [
      "+----+------------+------------------------+--------------------+\n",
      "|anyo|calificacion|collect_list(interprete)|            pelicula|\n",
      "+----+------------+------------------------+--------------------+\n",
      "|1961|      0.6726|    [Wickes, Mary, Wr...|One Hundred and O...|\n",
      "|1967|      1.3485|    [Howard, Clint, W...|     The Jungle Book|\n",
      "|1972|      0.5099|    [Brando, Marlon, ...|       The Godfather|\n",
      "|1973|      0.6581|    [Burstyn, Ellen, ...|        The Exorcist|\n",
      "|1975|       0.701|    [Grossman, Ted (I...|                Jaws|\n",
      "|1977|      1.2184|    [Balaban, Bob, Pr...|Saturday Night Fever|\n",
      "|1978|      1.9793|    [McClure, Marc (I...|              Jaws 2|\n",
      "|1979|      1.9906|    [Brando, Marlon, ...|      Apocalypse Now|\n",
      "|1980|      0.8739|    [McClure, Marc (I...|         Superman II|\n",
      "|1981|      2.1052|    [Balaban, Bob, Ra...|   Absence of Malice|\n",
      "|1982|      1.2501|    [Kogan, Milt, Lov...|         First Blood|\n",
      "|1983|      1.4011|    [Johnson, Mike (V...|               Yentl|\n",
      "|1984|       2.061|    [Kogan, Milt, Mil...|      The Terminator|\n",
      "|1985|         2.1|    [McClure, Marc (I...|Kiss of the Spide...|\n",
      "|1986|     14.2122|    [Colin, Margaret,...|    An American Tail|\n",
      "|1987|      1.8974|    [Englund, Robert,...|           Mannequin|\n",
      "|1988|      1.7632|    [Lander, David L....|        Child's Play|\n",
      "|1989|      1.7087|    [Byrne, Michael (...|     Lethal Weapon 2|\n",
      "|1990|      2.0055|    [McClure, Marc (I...|   Presumed Innocent|\n",
      "|1991|      2.0171|    [Englund, Robert,...|                 JFK|\n",
      "+----+------------+------------------------+--------------------+\n",
      "only showing top 20 rows\n",
      "\n"
     ]
    }
   ],
   "source": [
    "# Muestra para cada año, la película con mayor puntuación (año, título de la película, puntuación)\n",
    "from pyspark.sql.functions import max \n",
    "df.groupBy(\"anyo\").agg(max(\"calificacion\").alias(\"calificacion\"), collect_list(\"interprete\")).join(dfr, [\"anyo\", \"calificacion\"]).orderBy(\"anyo\").show()"
   ]
  },
  {
   "cell_type": "code",
   "execution_count": 50,
   "id": "6e5d9e66",
   "metadata": {},
   "outputs": [
    {
     "name": "stdout",
     "output_type": "stream",
     "text": [
      "+----+------------+--------------------+------------------------+\n",
      "|anyo|calificacion|     first(pelicula)|collect_list(interprete)|\n",
      "+----+------------+--------------------+------------------------+\n",
      "|1990|      2.0055|Back to the Futur...|    [McClure, Marc (I...|\n",
      "|1975|       0.701|                Jaws|    [Grossman, Ted (I...|\n",
      "|1977|      1.2184|Close Encounters ...|    [Balaban, Bob, Pr...|\n",
      "|2003|     14.1829|       Freaky Friday|    [McClure, Marc (I...|\n",
      "|2007|      2.0822|             Beowulf|    [Jolie, Angelina,...|\n",
      "|2006|      2.0503|   The Good Shepherd|    [Jolie, Angelina,...|\n",
      "|1978|      1.9793|            Superman|    [McClure, Marc (I...|\n",
      "|1961|      0.6726|One Hundred and O...|    [Wickes, Mary, Wr...|\n",
      "|1997|      2.0878|  As Good as It Gets|    [Knight, Shirley ...|\n",
      "|1988|      1.7632|Who Framed Roger ...|    [Lander, David L....|\n",
      "|1994|      2.0346|D2: The Mighty Ducks|    [Butters, Mike, M...|\n",
      "|1973|      0.6581|        The Exorcist|    [Burstyn, Ellen, ...|\n",
      "|1979|      1.9906|      Apocalypse Now|    [Brando, Marlon, ...|\n",
      "|2004|      2.0447|The Bourne Supremacy|    [Cooper, Chris (I...|\n",
      "|1991|      2.0171|Freddy's Dead: Th...|    [Englund, Robert,...|\n",
      "|1967|      1.3485|     The Jungle Book|    [Howard, Clint, W...|\n",
      "|1982|      1.2501|E.T.: The Extra-T...|    [Kogan, Milt, Lov...|\n",
      "|1996|      1.9401|      A Time to Kill|    [Cooper, Chris (I...|\n",
      "|1989|      1.7087|Indiana Jones and...|    [Byrne, Michael (...|\n",
      "|1998|      2.0531| The Horse Whisperer|    [Cooper, Chris (I...|\n",
      "+----+------------+--------------------+------------------------+\n",
      "only showing top 20 rows\n",
      "\n"
     ]
    }
   ],
   "source": [
    "from pyspark.sql.functions import collect_list, first \n",
    "# first no funciona pq coge la primera película del anyo ... si agrupasemos por anyo y max calificación sí que funcionaría\n",
    "df.groupBy(\"anyo\").agg(max(\"calificacion\").alias(\"calificacion\"), first(\"pelicula\"), collect_list(\"interprete\")).show()"
   ]
  },
  {
   "cell_type": "code",
   "execution_count": 40,
   "id": "032f134a",
   "metadata": {},
   "outputs": [
    {
     "name": "stdout",
     "output_type": "stream",
     "text": [
      "+-----------------+\n",
      "|         pelicula|\n",
      "+-----------------+\n",
      "|Presumed Innocent|\n",
      "+-----------------+\n",
      "\n"
     ]
    }
   ],
   "source": [
    "df.where((df.anyo == 1990) & (df.calificacion == 2.0055)).select(\"pelicula\").distinct().show()"
   ]
  },
  {
   "cell_type": "code",
   "execution_count": 44,
   "id": "cbacd4e3",
   "metadata": {},
   "outputs": [
    {
     "name": "stdout",
     "output_type": "stream",
     "text": [
      "+--------------------+----+--------------------+------------+\n",
      "|            pelicula|anyo|          interprete|calificacion|\n",
      "+--------------------+----+--------------------+------------+\n",
      "|Back to the Futur...|1990|   McClure, Marc (I)|       1.678|\n",
      "|Back to the Futur...|1990|            Flea (I)|       1.678|\n",
      "|Back to the Futur...|1990|   Steenburgen, Mary|       1.678|\n",
      "|Back to the Futur...|1990|  Sperber, Wendie Jo|       1.678|\n",
      "|Back to the Futur...|1990|   Thompson, Lea (I)|       1.678|\n",
      "|Back to the Futur...|1990|   Logan, Ricky Dean|       1.678|\n",
      "|Back to the Futur...|1990|  McKinney, Bill (I)|       1.678|\n",
      "|Back to the Futur...|1990|     Shue, Elisabeth|       1.678|\n",
      "|Back to the Futur...|1990|  Wynne, Christopher|       1.678|\n",
      "|Back to the Futur...|1990| Fox, Michael J. (I)|       1.678|\n",
      "|Back to the Futur...|1990|       Tolkan, James|       1.678|\n",
      "|Back to the Futur...|1990|        Cundey, Dean|       1.678|\n",
      "|Back to the Futur...|1990|         Cohen, J.J.|       1.678|\n",
      "|Back to the Futur...|1990|Lloyd, Christophe...|       1.678|\n",
      "|Back to the Futur...|1990|   Wilson, Thomas F.|       1.678|\n",
      "+--------------------+----+--------------------+------------+\n",
      "\n"
     ]
    }
   ],
   "source": [
    "df.where((df.anyo == 1990) & (df.pelicula == \"Back to the Future Part III\")).show()"
   ]
  },
  {
   "cell_type": "code",
   "execution_count": 92,
   "id": "7a6637a5",
   "metadata": {},
   "outputs": [
    {
     "name": "stderr",
     "output_type": "stream",
     "text": [
      "\r\n",
      "[Stage 210:>                                                        (0 + 1) / 1]\r"
     ]
    },
    {
     "name": "stdout",
     "output_type": "stream",
     "text": [
      "+-----------------+------------------+--------+\n",
      "|      interprete1|       interprete2|cantidad|\n",
      "+-----------------+------------------+--------+\n",
      "| Lynn, Sherry (I)|   McGowan, Mickie|      46|\n",
      "|  Bergen, Bob (I)|  Lynn, Sherry (I)|      38|\n",
      "|  Bergen, Bob (I)|   McGowan, Mickie|      38|\n",
      "|  Angel, Jack (I)|  Lynn, Sherry (I)|      34|\n",
      "|  Angel, Jack (I)|   McGowan, Mickie|      34|\n",
      "| Lynn, Sherry (I)|       Rabson, Jan|      32|\n",
      "|  McGowan, Mickie|       Rabson, Jan|      32|\n",
      "|Darling, Jennifer|   McGowan, Mickie|      30|\n",
      "|Sandler, Adam (I)|Schneider, Rob (I)|      28|\n",
      "|  Bergen, Bob (I)|     Harnell, Jess|      28|\n",
      "|  Bergen, Bob (I)|       Rabson, Jan|      28|\n",
      "|Darling, Jennifer|  Lynn, Sherry (I)|      28|\n",
      "| Farmer, Bill (I)|   McGowan, Mickie|      28|\n",
      "|    Harnell, Jess|   McGowan, Mickie|      28|\n",
      "|  Bergen, Bob (I)|   Bumpass, Rodger|      26|\n",
      "|    Harnell, Jess|  Lynn, Sherry (I)|      26|\n",
      "|  Angel, Jack (I)|   Bergen, Bob (I)|      26|\n",
      "| Farmer, Bill (I)|  Lynn, Sherry (I)|      26|\n",
      "|    Harnell, Jess|       Rabson, Jan|      24|\n",
      "|  Bumpass, Rodger|  Lynn, Sherry (I)|      24|\n",
      "+-----------------+------------------+--------+\n",
      "only showing top 20 rows\n",
      "\n"
     ]
    },
    {
     "name": "stderr",
     "output_type": "stream",
     "text": [
      "\r\n",
      "                                                                                \r"
     ]
    }
   ],
   "source": [
    "# Averigua las tres parejas de intérpretes han trabajado juntos en más ocasiones.\n",
    "# La salida debe tener tres columnas: `interprete1`, `interprete2` y `cantidad`. (necesitas utilizar un *self-join*)\n",
    "\n",
    "\n",
    "from pyspark.sql.functions import col, count, least, greatest\n",
    "\n",
    "# le indicamos alias a los campos para eliminar ambigüedades\n",
    "df4 = (df.alias(\"a\")).join((df.alias(\"b\")), (col(\"a.anyo\") == col(\"b.anyo\")) & (col(\"a.pelicula\") == col(\"b.pelicula\")), \"inner\")\n",
    "df4 = df4.filter(col(\"a.interprete\") != col(\"b.interprete\"))\n",
    "df4 = df4.groupBy(least(col(\"a.interprete\"), col(\"b.interprete\")).alias(\"interprete1\"), greatest(col(\"a.interprete\"), col(\"b.interprete\")).alias(\"interprete2\")).agg(count(\"*\").alias(\"cantidad\")).orderBy(\"cantidad\", ascending=False)\n",
    "df4.show()"
   ]
  },
  {
   "cell_type": "code",
   "execution_count": 96,
   "id": "eb6e6df8",
   "metadata": {},
   "outputs": [
    {
     "name": "stderr",
     "output_type": "stream",
     "text": [
      "\r\n",
      "[Stage 246:>                                                        (0 + 1) / 1]\r"
     ]
    },
    {
     "name": "stdout",
     "output_type": "stream",
     "text": [
      "+------------------+-----------------+--------+\n",
      "|       interprete1|      interprete2|cantidad|\n",
      "+------------------+-----------------+--------+\n",
      "|   McGowan, Mickie| Lynn, Sherry (I)|      23|\n",
      "|  Lynn, Sherry (I)|  McGowan, Mickie|      23|\n",
      "|  Lynn, Sherry (I)|  Bergen, Bob (I)|      19|\n",
      "|   Bergen, Bob (I)| Lynn, Sherry (I)|      19|\n",
      "|   Bergen, Bob (I)|  McGowan, Mickie|      19|\n",
      "|   McGowan, Mickie|  Bergen, Bob (I)|      19|\n",
      "|  Lynn, Sherry (I)|  Angel, Jack (I)|      17|\n",
      "|   Angel, Jack (I)| Lynn, Sherry (I)|      17|\n",
      "|   Angel, Jack (I)|  McGowan, Mickie|      17|\n",
      "|   McGowan, Mickie|  Angel, Jack (I)|      17|\n",
      "|       Rabson, Jan| Lynn, Sherry (I)|      16|\n",
      "|       Rabson, Jan|  McGowan, Mickie|      16|\n",
      "|   McGowan, Mickie|      Rabson, Jan|      16|\n",
      "|  Lynn, Sherry (I)|      Rabson, Jan|      16|\n",
      "| Darling, Jennifer|  McGowan, Mickie|      15|\n",
      "|   McGowan, Mickie|Darling, Jennifer|      15|\n",
      "|Schneider, Rob (I)|Sandler, Adam (I)|      14|\n",
      "|     Harnell, Jess|  Bergen, Bob (I)|      14|\n",
      "|  Farmer, Bill (I)|  McGowan, Mickie|      14|\n",
      "|   Bergen, Bob (I)|    Harnell, Jess|      14|\n",
      "+------------------+-----------------+--------+\n",
      "only showing top 20 rows\n",
      "\n"
     ]
    },
    {
     "name": "stderr",
     "output_type": "stream",
     "text": [
      "\r\n",
      "[Stage 249:>                                                        (0 + 4) / 4]\r\n",
      "\r\n",
      "                                                                                \r"
     ]
    }
   ],
   "source": [
    "# Averigua las tres parejas de intérpretes han trabajado juntos en más ocasiones.\n",
    "# La salida debe tener tres columnas: `interprete1`, `interprete2` y `cantidad`. (necesitas utilizar un *self-join*)\n",
    "\n",
    "\n",
    "from pyspark.sql.functions import col, count, least, greatest\n",
    "\n",
    "# le indicamos alias a los campos para eliminar ambigüedades\n",
    "df4 = (df.alias(\"a\")).join((df.alias(\"b\")), (col(\"a.anyo\") == col(\"b.anyo\")) & (col(\"a.pelicula\") == col(\"b.pelicula\")), \"inner\")\n",
    "df4 = df4.filter(col(\"a.interprete\") != col(\"b.interprete\"))\n",
    "df4 = df4.groupBy(col(\"a.interprete\").alias(\"interprete1\"), col(\"b.interprete\").alias(\"interprete2\")).agg(count(\"*\").alias(\"cantidad\")).orderBy(\"cantidad\", ascending=False)\n",
    "df4.show()"
   ]
  },
  {
   "cell_type": "code",
   "execution_count": null,
   "id": "62d195dc",
   "metadata": {},
   "outputs": [],
   "source": []
  }
 ],
 "metadata": {
  "kernelspec": {
   "display_name": "Python 3",
   "language": "python",
   "name": "python3"
  },
  "language_info": {
   "codemirror_mode": {
    "name": "ipython",
    "version": 3
   },
   "file_extension": ".py",
   "mimetype": "text/x-python",
   "name": "python",
   "nbconvert_exporter": "python",
   "pygments_lexer": "ipython3",
   "version": "3.11.1 (main, Dec 23 2022, 09:28:24) [Clang 14.0.0 (clang-1400.0.29.202)]"
  },
  "vscode": {
   "interpreter": {
    "hash": "5c7b89af1651d0b8571dde13640ecdccf7d5a6204171d6ab33e7c296e100e08a"
   }
  }
 },
 "nbformat": 4,
 "nbformat_minor": 5
}
