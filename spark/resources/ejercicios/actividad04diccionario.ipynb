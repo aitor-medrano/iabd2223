{
 "cells": [
  {
   "cell_type": "markdown",
   "id": "315c4ffb",
   "metadata": {},
   "source": [
    "Dada las siguientes listas:\n",
    "\n",
    "* Inglés: `hello, table, angel, cat, dog, animal, chocolate, dark, doctor, hospital, computer`\n",
    "* Español: `hola, mesa, angel, gato, perro, animal, chocolate, oscuro, doctor, hospital, ordenador`\n",
    "\n",
    "Usando las transformaciones de conjuntos, averigua:\n",
    "\n",
    "1. Palabras que se escriben igual en inglés y en español\n",
    "2. Palabras que en español son distintas que en inglés\n",
    "3. Obtén una única lista con las palabras en ambos idiomas, que son distintas entre ellas\n",
    "4. Haz dos grupos con todas las palabras, uno con las que empiezan por vocal y otro con las que empiecen por consonante."
   ]
  },
  {
   "cell_type": "code",
   "execution_count": 2,
   "id": "56144102",
   "metadata": {},
   "outputs": [
    {
     "name": "stderr",
     "output_type": "stream",
     "text": [
      "22/03/16 17:18:15 WARN Utils: Your hostname, MacBook-Air-de-Aitor.local resolves to a loopback address: 127.0.0.1; using 192.168.102.138 instead (on interface en0)\n",
      "22/03/16 17:18:15 WARN Utils: Set SPARK_LOCAL_IP if you need to bind to another address\n",
      "22/03/16 17:18:16 WARN NativeCodeLoader: Unable to load native-hadoop library for your platform... using builtin-java classes where applicable\n",
      "Using Spark's default log4j profile: org/apache/spark/log4j-defaults.properties\n",
      "Setting default log level to \"WARN\".\n",
      "To adjust logging level use sc.setLogLevel(newLevel). For SparkR, use setLogLevel(newLevel).\n"
     ]
    }
   ],
   "source": [
    "from pyspark.sql import SparkSession\n",
    "\n",
    "spark = SparkSession.builder.getOrCreate() \n",
    "sc = spark.sparkContext"
   ]
  },
  {
   "cell_type": "code",
   "execution_count": 6,
   "id": "6e59a079",
   "metadata": {},
   "outputs": [
    {
     "name": "stderr",
     "output_type": "stream",
     "text": [
      "                                                                                \r"
     ]
    },
    {
     "data": {
      "text/plain": [
       "[('hello', 'hola'),\n",
       " ('table', 'mesa'),\n",
       " ('angel', 'angel'),\n",
       " ('cat', 'gato'),\n",
       " ('dog', 'perro'),\n",
       " ('animal', 'animal'),\n",
       " ('chocolate', 'chocolate'),\n",
       " ('dark', 'oscuro'),\n",
       " ('doctor', 'doctor'),\n",
       " ('hospital', 'hospital'),\n",
       " ('computer', 'ordenador')]"
      ]
     },
     "execution_count": 6,
     "metadata": {},
     "output_type": "execute_result"
    }
   ],
   "source": [
    "ingles = \"hello, table, angel, cat, dog, animal, chocolate, dark, doctor, hospital, computer\"\n",
    "espanol = \"hola, mesa, angel, gato, perro, animal, chocolate, oscuro, doctor, hospital, ordenador\"\n",
    "inglesLista = ingles.split(\", \")\n",
    "espanolLista = espanol.split(\", \")\n",
    "diccionario = zip(inglesLista, espanolLista)\n",
    "rdd = sc.parallelize(diccionario)\n",
    "rdd.collect()"
   ]
  },
  {
   "cell_type": "code",
   "execution_count": 8,
   "id": "6f199d14",
   "metadata": {},
   "outputs": [
    {
     "data": {
      "text/plain": [
       "[('angel', 'angel'),\n",
       " ('animal', 'animal'),\n",
       " ('chocolate', 'chocolate'),\n",
       " ('doctor', 'doctor'),\n",
       " ('hospital', 'hospital')]"
      ]
     },
     "execution_count": 8,
     "metadata": {},
     "output_type": "execute_result"
    }
   ],
   "source": [
    "# 1 Palabras que se escriben igual en inglés y en español\n",
    "rdd.filter(lambda x: x[0] == x[1]).collect()"
   ]
  },
  {
   "cell_type": "code",
   "execution_count": 9,
   "id": "e3fc3516",
   "metadata": {},
   "outputs": [
    {
     "data": {
      "text/plain": [
       "[('hello', 'hola'),\n",
       " ('table', 'mesa'),\n",
       " ('cat', 'gato'),\n",
       " ('dog', 'perro'),\n",
       " ('dark', 'oscuro'),\n",
       " ('computer', 'ordenador')]"
      ]
     },
     "execution_count": 9,
     "metadata": {},
     "output_type": "execute_result"
    }
   ],
   "source": [
    "# 2. Palabras que en español son distintas que en inglés\n",
    "rdd.filter(lambda x: x[0] != x[1]).collect()"
   ]
  },
  {
   "cell_type": "code",
   "execution_count": 13,
   "id": "5ce73143",
   "metadata": {},
   "outputs": [
    {
     "data": {
      "text/plain": [
       "['hello',\n",
       " 'hola',\n",
       " 'table',\n",
       " 'mesa',\n",
       " 'cat',\n",
       " 'gato',\n",
       " 'dog',\n",
       " 'perro',\n",
       " 'dark',\n",
       " 'oscuro',\n",
       " 'computer',\n",
       " 'ordenador']"
      ]
     },
     "execution_count": 13,
     "metadata": {},
     "output_type": "execute_result"
    }
   ],
   "source": [
    "# 3. Obtén una única lista con las palabras en ambos idiomas, que son distintas entre ellas\n",
    "rdd.filter(lambda x: x[0] != x[1]).flatMap(lambda x: x).collect()"
   ]
  },
  {
   "cell_type": "code",
   "execution_count": 15,
   "id": "3ea0bc10",
   "metadata": {},
   "outputs": [
    {
     "data": {
      "text/plain": [
       "['angel', 'angel', 'animal', 'animal', 'oscuro', 'ordenador']"
      ]
     },
     "execution_count": 15,
     "metadata": {},
     "output_type": "execute_result"
    }
   ],
   "source": [
    "# 4. Haz dos grupos con todas las palabras, uno con las que empiezan por vocal y otro con las que empiecen por consonante.\n",
    "vocales = rdd.flatMap(lambda x: x).filter(lambda x:x[0].lower() in \"aeiou\")\n",
    "vocales.collect()"
   ]
  },
  {
   "cell_type": "code",
   "execution_count": 16,
   "id": "c173306b",
   "metadata": {},
   "outputs": [
    {
     "data": {
      "text/plain": [
       "['hello',\n",
       " 'hola',\n",
       " 'table',\n",
       " 'mesa',\n",
       " 'cat',\n",
       " 'gato',\n",
       " 'dog',\n",
       " 'perro',\n",
       " 'chocolate',\n",
       " 'chocolate',\n",
       " 'dark',\n",
       " 'doctor',\n",
       " 'doctor',\n",
       " 'hospital',\n",
       " 'hospital',\n",
       " 'computer']"
      ]
     },
     "execution_count": 16,
     "metadata": {},
     "output_type": "execute_result"
    }
   ],
   "source": [
    "consonantes = rdd.flatMap(lambda x: x).filter(lambda x:x[0].lower() not in \"aeiou\")\n",
    "consonantes.collect()"
   ]
  },
  {
   "cell_type": "code",
   "execution_count": 18,
   "id": "53d6e754",
   "metadata": {},
   "outputs": [
    {
     "name": "stderr",
     "output_type": "stream",
     "text": [
      "                                                                                \r"
     ]
    },
    {
     "data": {
      "text/plain": [
       "['hello',\n",
       " 'perro',\n",
       " 'mesa',\n",
       " 'dog',\n",
       " 'cat',\n",
       " 'hospital',\n",
       " 'hospital',\n",
       " 'table',\n",
       " 'gato',\n",
       " 'hola',\n",
       " 'chocolate',\n",
       " 'chocolate',\n",
       " 'dark',\n",
       " 'doctor',\n",
       " 'doctor',\n",
       " 'computer']"
      ]
     },
     "execution_count": 18,
     "metadata": {},
     "output_type": "execute_result"
    }
   ],
   "source": [
    "consonantes2 = rdd.flatMap(lambda x: x).subtract(vocales)\n",
    "consonantes2.collect()"
   ]
  },
  {
   "cell_type": "code",
   "execution_count": null,
   "id": "b127a335",
   "metadata": {},
   "outputs": [],
   "source": []
  }
 ],
 "metadata": {
  "kernelspec": {
   "display_name": "Python 3 (ipykernel)",
   "language": "python",
   "name": "python3"
  },
  "language_info": {
   "codemirror_mode": {
    "name": "ipython",
    "version": 3
   },
   "file_extension": ".py",
   "mimetype": "text/x-python",
   "name": "python",
   "nbconvert_exporter": "python",
   "pygments_lexer": "ipython3",
   "version": "3.9.10"
  }
 },
 "nbformat": 4,
 "nbformat_minor": 5
}
